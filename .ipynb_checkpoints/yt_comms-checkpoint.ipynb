{
 "cells": [
  {
   "cell_type": "code",
   "execution_count": 61,
   "metadata": {},
   "outputs": [],
   "source": [
    "# For Fetching Comments \n",
    "from googleapiclient.discovery import build \n",
    "# For filtering comments \n",
    "import re \n",
    "# For filtering comments with just emojis \n",
    "import emoji\n",
    "# Analyze the sentiments of the comment\n",
    "#from vaderSentiment.vaderSentiment import SentimentIntensityAnalyzer\n",
    "# For visualization \n",
    "import matplotlib.pyplot as plt\n",
    "import csv\n",
    "from datetime import datetime\n",
    "from dotenv import load_dotenv\n",
    "import os\n",
    "import pandas as pd\n",
    "from bertopic import BERTopic\n",
    "import numpy\n",
    "from nltk.corpus import stopwords\n",
    "from nltk.tokenize import word_tokenize\n",
    "from bs4 import BeautifulSoup\n",
    "import html\n",
    "import nltk"
   ]
  },
  {
   "cell_type": "code",
   "execution_count": 49,
   "metadata": {},
   "outputs": [
    {
     "name": "stdout",
     "output_type": "stream",
     "text": [
      "The dotenv extension is already loaded. To reload it, use:\n",
      "  %reload_ext dotenv\n"
     ]
    }
   ],
   "source": [
    "%load_ext dotenv\n",
    "%dotenv"
   ]
  },
  {
   "cell_type": "code",
   "execution_count": 50,
   "metadata": {},
   "outputs": [],
   "source": [
    "API_KEY = os.getenv('API_KEY') # Put in your API Key\n",
    " \n",
    "youtube = build('youtube', 'v3', developerKey=API_KEY)\n"
   ]
  },
  {
   "cell_type": "code",
   "execution_count": 52,
   "metadata": {},
   "outputs": [
    {
     "name": "stdout",
     "output_type": "stream",
     "text": [
      "Error: No video found with ID Alljw46hEwc\n",
      "Could not fetch details for video ID: Alljw46hEwc\n",
      "Error: No video found with ID U_-TvkO6bwU\n",
      "Could not fetch details for video ID: U_-TvkO6bwU\n",
      "Fetching comments for video: Full Debate: Harris vs. Trump in 2024 ABC News Presidential Debate | WSJ\n",
      "Fetched 100 comments\n",
      "Error: No video found with ID OQgE0ETV81s&t=28s\n",
      "Could not fetch details for video ID: OQgE0ETV81s&t=28s\n",
      "Fetching comments for video: LIVE: Donald Trump speaks after presidential debate in Arizona\n",
      "Fetched 100 comments\n",
      "Fetching comments for video: US Presidential Debate 2024: Top Highlights | Kamala Harris Vs Donald Trump | Best 9 Minutes\n",
      "Fetched 0 comments\n",
      "Fetching comments for video: Harris v Trump: highlights of the US presidential election debate\n",
      "Fetched 100 comments\n",
      "Fetching comments for video: FULL VIDEO | 2024 Presidential Debate from ABC News\n",
      "Fetched 0 comments\n",
      "Fetching comments for video: Donald Trump says no more Kamala Harris debates | BBC News\n",
      "Fetched 100 comments\n",
      "Fetching comments for video: Undecided Arizona voters react to presidential debate\n",
      "Fetched 100 comments\n",
      "Fetching comments for video: BREAKING NEWS: Trump Absolutely Unloads On ABC Over Presidential Debate With Kamala Harris\n",
      "Fetched 100 comments\n",
      "Fetching comments for video: Voters react to presidential debate between Harris, Trump\n",
      "Fetched 100 comments\n",
      "Fetching comments for video: What did voters make of Harris-Trump debate? | US Election 2024\n",
      "Fetched 100 comments\n",
      "Fetching comments for video: Pennsylvania voters react to the Trump and Harris debate\n",
      "Fetched 100 comments\n",
      "Fetching comments for video: Highlights from fiery presidential debate between Harris and Trump\n",
      "Fetched 100 comments\n",
      "Fetching comments for video: Undecided voters grade the presidential debate\n",
      "Fetched 100 comments\n",
      "Fetching comments for video: Trump and Harris clash in pivotal debate: Inflation, immigration, and a fiery exchange\n",
      "Fetched 100 comments\n",
      "Fetching comments for video: Lawmakers react to presidential debate\n",
      "Fetched 100 comments\n",
      "Fetching comments for video: Presidential debate Harris or Trump—who won?\n",
      "Fetched 100 comments\n",
      "Fetching comments for video: Debate analysis: Will undecided voters be swayed for Trump or Harris?\n",
      "Fetched 6 comments\n",
      "Fetching comments for video: Body language expert breaks down presidential debate\n",
      "Fetched 100 comments\n",
      "Fetching comments for video: US election 2024: Harris accepts CNN invite to 2nd debate, Trump says it's “too late”\n",
      "Fetched 100 comments\n",
      "Fetching comments for video: 2024 presidential race: Polls show tight race between Trump, Harris\n",
      "Fetched 100 comments\n",
      "Processed comments for 18 videos. Results saved to files/output_video_comments.csv\n"
     ]
    }
   ],
   "source": [
    "\n",
    "def get_video_details(video_id):\n",
    "    try:\n",
    "        video_response = youtube.videos().list(\n",
    "            part='snippet',\n",
    "            id=video_id\n",
    "        ).execute()\n",
    "        \n",
    "        if 'items' in video_response and video_response['items']:\n",
    "            return video_response['items'][0]['snippet']\n",
    "        else:\n",
    "            print(f\"Error: No video found with ID {video_id}\")\n",
    "            return None\n",
    "    except HttpError as e:\n",
    "        print(f\"An HTTP error occurred for video ID {video_id}: {str(e)}\")\n",
    "        return None\n",
    "\n",
    "def get_video_comments(video_id, max_results=100):\n",
    "    comments = []\n",
    "    try:\n",
    "        request = youtube.commentThreads().list(\n",
    "            part=\"snippet\",\n",
    "            videoId=video_id,\n",
    "            maxResults=max_results\n",
    "        )\n",
    "        response = request.execute()\n",
    "\n",
    "        for item in response['items']:\n",
    "            comment = item['snippet']['topLevelComment']['snippet']\n",
    "            comments.append({\n",
    "                'video_id': video_id,\n",
    "                'text': comment['textDisplay'],\n",
    "                'likeCount': comment['likeCount'],\n",
    "                'publishedAt': comment['publishedAt']\n",
    "            })\n",
    "\n",
    "        return comments\n",
    "    except HttpError as e:\n",
    "        print(f\"An HTTP error occurred for video ID {video_id}: {str(e)}\")\n",
    "        return []\n",
    "\n",
    "def process_videos_from_csv(input_file, output_file):\n",
    "    all_comments = []\n",
    "\n",
    "    with open(input_file, 'r', encoding='utf-8') as csvfile:\n",
    "        reader = csv.DictReader(csvfile)\n",
    "        for row in reader:\n",
    "            video_id = row['video_url'].split('v=')[-1].strip()\n",
    "            video_details = get_video_details(video_id)\n",
    "            \n",
    "            if video_details:\n",
    "                print(f\"Fetching comments for video: {video_details['title']}\")\n",
    "                comments = get_video_comments(video_id)\n",
    "                for comment in comments:\n",
    "                    comment['video_title'] = video_details['title']\n",
    "                all_comments.extend(comments)\n",
    "                print(f\"Fetched {len(comments)} comments\")\n",
    "            else:\n",
    "                print(f\"Could not fetch details for video ID: {video_id}\")\n",
    "\n",
    "    if all_comments:\n",
    "        with open(output_file, 'w', newline='', encoding='utf-8') as csvfile:\n",
    "            fieldnames = ['video_id', 'video_title', 'text', 'likeCount', 'publishedAt']\n",
    "            writer = csv.DictWriter(csvfile, fieldnames=fieldnames)\n",
    "            \n",
    "            writer.writeheader()\n",
    "            for comment in all_comments:\n",
    "                writer.writerow(comment)\n",
    "        \n",
    "        print(f\"Processed comments for {len(set([c['video_id'] for c in all_comments]))} videos. Results saved to {output_file}\")\n",
    "    else:\n",
    "        print(\"No comments were fetched.\")\n",
    "\n",
    "# Usage\n",
    "input_file = 'files/Election 2024 YT Videos - Sheet1.csv'  # Replace with your input CSV file name\n",
    "output_file = 'files/output_video_comments.csv'  # Replace with your desired output file name\n",
    "\n",
    "process_videos_from_csv(input_file, output_file)"
   ]
  },
  {
   "cell_type": "code",
   "execution_count": 53,
   "metadata": {},
   "outputs": [
    {
     "data": {
      "text/html": [
       "<div>\n",
       "<style scoped>\n",
       "    .dataframe tbody tr th:only-of-type {\n",
       "        vertical-align: middle;\n",
       "    }\n",
       "\n",
       "    .dataframe tbody tr th {\n",
       "        vertical-align: top;\n",
       "    }\n",
       "\n",
       "    .dataframe thead th {\n",
       "        text-align: right;\n",
       "    }\n",
       "</style>\n",
       "<table border=\"1\" class=\"dataframe\">\n",
       "  <thead>\n",
       "    <tr style=\"text-align: right;\">\n",
       "      <th></th>\n",
       "      <th>video_id</th>\n",
       "      <th>video_title</th>\n",
       "      <th>text</th>\n",
       "      <th>likeCount</th>\n",
       "      <th>publishedAt</th>\n",
       "    </tr>\n",
       "  </thead>\n",
       "  <tbody>\n",
       "    <tr>\n",
       "      <th>0</th>\n",
       "      <td>VgsC_aBquUE</td>\n",
       "      <td>Full Debate: Harris vs. Trump in 2024 ABC News...</td>\n",
       "      <td>Read analysis from the debate here: &lt;a href=\"h...</td>\n",
       "      <td>1005</td>\n",
       "      <td>2024-09-11T14:03:41Z</td>\n",
       "    </tr>\n",
       "    <tr>\n",
       "      <th>1</th>\n",
       "      <td>VgsC_aBquUE</td>\n",
       "      <td>Full Debate: Harris vs. Trump in 2024 ABC News...</td>\n",
       "      <td>I&amp;#39;m sick of debates where the debaters don...</td>\n",
       "      <td>0</td>\n",
       "      <td>2024-09-27T14:27:03Z</td>\n",
       "    </tr>\n",
       "    <tr>\n",
       "      <th>2</th>\n",
       "      <td>VgsC_aBquUE</td>\n",
       "      <td>Full Debate: Harris vs. Trump in 2024 ABC News...</td>\n",
       "      <td>Trump 2024!</td>\n",
       "      <td>0</td>\n",
       "      <td>2024-09-27T11:50:27Z</td>\n",
       "    </tr>\n",
       "    <tr>\n",
       "      <th>3</th>\n",
       "      <td>VgsC_aBquUE</td>\n",
       "      <td>Full Debate: Harris vs. Trump in 2024 ABC News...</td>\n",
       "      <td>Funny how his biggest fear is that his beloved...</td>\n",
       "      <td>1</td>\n",
       "      <td>2024-09-27T10:49:39Z</td>\n",
       "    </tr>\n",
       "    <tr>\n",
       "      <th>4</th>\n",
       "      <td>VgsC_aBquUE</td>\n",
       "      <td>Full Debate: Harris vs. Trump in 2024 ABC News...</td>\n",
       "      <td>C&amp;#39;mon Donald ... Duck. She has a plan : le...</td>\n",
       "      <td>0</td>\n",
       "      <td>2024-09-27T09:46:57Z</td>\n",
       "    </tr>\n",
       "    <tr>\n",
       "      <th>...</th>\n",
       "      <td>...</td>\n",
       "      <td>...</td>\n",
       "      <td>...</td>\n",
       "      <td>...</td>\n",
       "      <td>...</td>\n",
       "    </tr>\n",
       "    <tr>\n",
       "      <th>1701</th>\n",
       "      <td>wh2txoPfUS4</td>\n",
       "      <td>2024 presidential race: Polls show tight race ...</td>\n",
       "      <td>This is something the whole world is laughing ...</td>\n",
       "      <td>0</td>\n",
       "      <td>2024-09-23T23:38:01Z</td>\n",
       "    </tr>\n",
       "    <tr>\n",
       "      <th>1702</th>\n",
       "      <td>wh2txoPfUS4</td>\n",
       "      <td>2024 presidential race: Polls show tight race ...</td>\n",
       "      <td>SAY NO TO ABORTION! TRUMP FOR PRESIDENT! 🇺🇸</td>\n",
       "      <td>12</td>\n",
       "      <td>2024-09-23T23:09:39Z</td>\n",
       "    </tr>\n",
       "    <tr>\n",
       "      <th>1703</th>\n",
       "      <td>wh2txoPfUS4</td>\n",
       "      <td>2024 presidential race: Polls show tight race ...</td>\n",
       "      <td>Trump 2024</td>\n",
       "      <td>15</td>\n",
       "      <td>2024-09-23T22:54:31Z</td>\n",
       "    </tr>\n",
       "    <tr>\n",
       "      <th>1704</th>\n",
       "      <td>wh2txoPfUS4</td>\n",
       "      <td>2024 presidential race: Polls show tight race ...</td>\n",
       "      <td>Trump 2024</td>\n",
       "      <td>2</td>\n",
       "      <td>2024-09-23T22:44:23Z</td>\n",
       "    </tr>\n",
       "    <tr>\n",
       "      <th>1705</th>\n",
       "      <td>wh2txoPfUS4</td>\n",
       "      <td>2024 presidential race: Polls show tight race ...</td>\n",
       "      <td>Screw policy, vote on looks. Beauty Queen (BQ)...</td>\n",
       "      <td>0</td>\n",
       "      <td>2024-09-23T22:44:12Z</td>\n",
       "    </tr>\n",
       "  </tbody>\n",
       "</table>\n",
       "<p>1706 rows × 5 columns</p>\n",
       "</div>"
      ],
      "text/plain": [
       "         video_id                                        video_title  \\\n",
       "0     VgsC_aBquUE  Full Debate: Harris vs. Trump in 2024 ABC News...   \n",
       "1     VgsC_aBquUE  Full Debate: Harris vs. Trump in 2024 ABC News...   \n",
       "2     VgsC_aBquUE  Full Debate: Harris vs. Trump in 2024 ABC News...   \n",
       "3     VgsC_aBquUE  Full Debate: Harris vs. Trump in 2024 ABC News...   \n",
       "4     VgsC_aBquUE  Full Debate: Harris vs. Trump in 2024 ABC News...   \n",
       "...           ...                                                ...   \n",
       "1701  wh2txoPfUS4  2024 presidential race: Polls show tight race ...   \n",
       "1702  wh2txoPfUS4  2024 presidential race: Polls show tight race ...   \n",
       "1703  wh2txoPfUS4  2024 presidential race: Polls show tight race ...   \n",
       "1704  wh2txoPfUS4  2024 presidential race: Polls show tight race ...   \n",
       "1705  wh2txoPfUS4  2024 presidential race: Polls show tight race ...   \n",
       "\n",
       "                                                   text  likeCount  \\\n",
       "0     Read analysis from the debate here: <a href=\"h...       1005   \n",
       "1     I&#39;m sick of debates where the debaters don...          0   \n",
       "2                                           Trump 2024!          0   \n",
       "3     Funny how his biggest fear is that his beloved...          1   \n",
       "4     C&#39;mon Donald ... Duck. She has a plan : le...          0   \n",
       "...                                                 ...        ...   \n",
       "1701  This is something the whole world is laughing ...          0   \n",
       "1702        SAY NO TO ABORTION! TRUMP FOR PRESIDENT! 🇺🇸         12   \n",
       "1703                                         Trump 2024         15   \n",
       "1704                                         Trump 2024          2   \n",
       "1705  Screw policy, vote on looks. Beauty Queen (BQ)...          0   \n",
       "\n",
       "               publishedAt  \n",
       "0     2024-09-11T14:03:41Z  \n",
       "1     2024-09-27T14:27:03Z  \n",
       "2     2024-09-27T11:50:27Z  \n",
       "3     2024-09-27T10:49:39Z  \n",
       "4     2024-09-27T09:46:57Z  \n",
       "...                    ...  \n",
       "1701  2024-09-23T23:38:01Z  \n",
       "1702  2024-09-23T23:09:39Z  \n",
       "1703  2024-09-23T22:54:31Z  \n",
       "1704  2024-09-23T22:44:23Z  \n",
       "1705  2024-09-23T22:44:12Z  \n",
       "\n",
       "[1706 rows x 5 columns]"
      ]
     },
     "execution_count": 53,
     "metadata": {},
     "output_type": "execute_result"
    }
   ],
   "source": [
    "df = pd.read_csv(output_file)\n",
    "df"
   ]
  },
  {
   "cell_type": "code",
   "execution_count": 54,
   "metadata": {},
   "outputs": [
    {
     "data": {
      "text/plain": [
       "'&#39;Excuse me, excuse me, I have to respond. Another lie&#39; 😂😂😂😂'"
      ]
     },
     "execution_count": 54,
     "metadata": {},
     "output_type": "execute_result"
    }
   ],
   "source": [
    "df['text'][10]"
   ]
  },
  {
   "cell_type": "markdown",
   "metadata": {},
   "source": [
    "Adding the topic model **experiments below:**"
   ]
  },
  {
   "cell_type": "code",
   "execution_count": 70,
   "metadata": {},
   "outputs": [
    {
     "data": {
      "text/plain": [
       "1706"
      ]
     },
     "execution_count": 70,
     "metadata": {},
     "output_type": "execute_result"
    }
   ],
   "source": [
    "comments = df['text']\n",
    "len(comments)"
   ]
  },
  {
   "cell_type": "code",
   "execution_count": 93,
   "metadata": {
    "scrolled": true
   },
   "outputs": [
    {
     "name": "stdout",
     "output_type": "stream",
     "text": [
      "Read analysis from the debate here: http://on.wsj.com/4dXYPe6\n",
      "I'm sick of debates where the debaters don't answer the questions they were supposed to.\n",
      "Trump 2024!\n",
      "Funny how his biggest fear is that his beloved guns get taken away...\n",
      "C'mon Donald ... Duck. She has a plan : let the FED print more money to \"save\" the economy. It will work , look at how GREAT Joe Biden did ! He is such a lovely guy look at how he is around little children , he just loves those 😡🤬!\n",
      "For anyone interested, timestamps of the debate that Josh Johnson talks about in his video \"They’re Eating WHAT? Another Debate Debacle\": 31:35 Kamala on people leaving his rallies early, followed by trump immediately responding to it, followed by... 33:16 \"...they're eating the DAWGS!\" + kamala laughing in his face 1:22:18 \"And THIS ... ... former president...\" (invited the taliban to camp David) 1:30:42 First question about medical plan 1:32:32 Second question about medical plan and subsequent \"I have concepts of a plan.\"\n",
      "Trump!\n",
      "I like how incredibly weak Trump's comment on climate change was, not talking about climate change or how to stop it in any way, instead dissing other countries and biden, like usual. A bit too much emphasis was put on 'improving manufacturing' in both responses, considering that that's one of the big reasons for climate change\n",
      "14:33-14:38 🎉😂 surprise it’s for his company\n",
      "Vote for kamala!!!!\n",
      "'Excuse me, excuse me, I have to respond. Another lie' 😂😂😂😂\n",
      "He hates hel. Lol\n",
      "Has anyone seen spot? He's missing. My neighbors are grilling out, I think ill go ask them if they have seen him. .\n",
      "Lord help us poor folk and this country. It is very sad for me to think that these are our best people we have to pick from.\n",
      "She still has not answered the 1st question she was ask. 🤔🤣Also i can feel this slug out. A few low blows.\n",
      "every time you tell a lies, you will swallow your own spit\n",
      "i’m\n",
      "Vote for Trump!\n",
      "Now I listen to the people that lived in Springfield and they were talking about the people who had 15,000 food stamps when they go to the store those were people that was brought here and food vouchers to purchase housing they were talking about the Haitians that was placed here by the government so when you hear Trump saying they're eating the pets he's not talking the legal Haitians because he never talked about Haitians in the past eating animals so someone trying to put Trump saying is the Haitians but he never said that\n",
      "Ada indikasi zelensky menyelewengkan atau menikmati berbagai bantuan militer bersama-sama dengan biden untuk kepentingan pribadi mereka dengan mengorbankan rakyat dan tentara ukraina. Hal ini dapat dilihat dari banyaknya bantuan militer yang dikerahkan keukraina yang pada akhirnya tidak menghasilkan apapun. Mereka hanya bisa memperlambat tentara rusia, namun tidak pernah ada hasil yang memuaskan bagi ukraina. olehnya itu kita semua patut menduga bahwa bantuan tersebut hanya sebagian yang sampai di Ukraina. Selain itu terlihat pula dari tingginya upaya teror dan penembakan terhadap lawan politiknya. Mungkinkah mereka takut diaudit...???\n",
      "I think Harris has similarities with Biden\n",
      "😮 1:26:02 , 1:26:10 not good but he’s older and wiser\n",
      "This is sooo funny getting high watching this is a pure joy 😹🤣😂\n",
      "politics is a premium clownery... everyone knows you're clown but they still votes\n",
      "1:14:25 🤣🤣\n",
      "If have this kind of behavior infront of national tv im wondring how he behave with off come😂 he maybe worst than thiss tsk tsk i feel bad for his wives tsk tsk\n",
      "The eyes of hatred (on the right)\n",
      "33:19\n",
      "46:03\n",
      "No matter what happend...i came improve my english spoken...\n",
      "Kamala claims Russia would invade Poland. Russia would never invade NATO\n",
      "Its funny how she use her sad voice to make a point.. 👿👿\n",
      "Trump is the powerful weapon.but Harris is the copypost Joe Biden 😂\n",
      "I love jubilee\n",
      "The proof is in the pudding - the country was better when Trump was president\n",
      "Wow she all the questions ,she stands up there and lies. NO FACT CHECKING KAMALA\n",
      "1:00:04\n",
      "How about a debate where each candidate has their own set of questions for the other and they themselves ask the question. The moderators would just be there to be time keepers…allowing the same amount of time back and forth, tell them when time was up and when the next question was, along with a mic silence to stop them from talking over each other. This way the opponents can grill the other and not allow the other to skirt around the question. This also greatly reduces the likelihood of the candidates knowing what questions would be asked of them and would show what topics are important to them. kamala would be destroyed.\n",
      "Pag tarong ug tabi CAMALA oie... HAHAHAHHAHAHHAHAHAHAHAHAHAHAHAHHAHAHAH\n",
      "Perfect....... Idol TRUMP...... LOVE YAHHHH\n",
      "Pag tarong oie HAHAHHAHAHAHHAHA\n",
      "Botbot camala... HHAHAHAHAHAHAHHAHAHAHAHAHAHHAHAHAHAHAHAHA\n",
      "Ambot nimo CAMALA oie...\n",
      "Putin is endorsing Kamala, not Trump.\n",
      "You guys dont have better candidates? For real, just these 2 options? (watching with popcorn as I live in Scandinavia)\n",
      "Have followed American political span and honestly speaking . Trump should never be president that's my view\n",
      "Incredibly entertaining!\n",
      "She sent him off the deep end @ 31:45. He was a wild animal after that.\n",
      "As a Romanian I need to correct Mrs Harris, we’re not happy Trump wasn’t re-elected. The current president is an absolute disaster and we do not trust Harris one bit.\n",
      "Kamala needs to go ALL THE WAY IN ON TRUMP, and compare her views as opposed to his.. stop being nice.. treat this like a battle rap put him to sleep\n",
      "The silence on the right everytime hypocritical and false information was spat out from the left. You can tell it has grown on him. What a colossal failure from the left. No backing up, no truth and no respect. Can't even answer questions 😭 It's terrifying . Almost like everyone is going against Trump as a logical, polite and respectful American. But we know that this is all part of Gods will and plan, that \"For our light and momentary troubles are achieving for us an eternal glory that far outweighs them all.\" 2nd Cor. 4:17 meaning that God is putting us through these hard tims to prove to us that there is something far greater that he opened to us through His suffering on the cross. Believe in Jesus and trust him in all your works. Do not back down for: \"Blessed is the one who perseveres under trial because, having stood the test, that person will receive the crown of life that the Lord has promised to those who love him.\"\n",
      "Trump negotiated a deal with Taliban that stopped our soldiers from getting sniped and she was mad about that, shows you how much she cares about our soldiers\n",
      "trump may be crazy, but he's real funny\n",
      "I can feel the Kamala painful voice during make the lie.\n",
      "Join the Skull\n",
      "42:55 KH does not at all address the border question…\n",
      "37:52 just 1 reason why I trust DJT. this is scary and would get out of control!! 🇺🇸🇺🇸\n",
      "I feel smart whenever Trump opens his mouth\n",
      "What a show 😅😅\n",
      "I saw a comédien between this 2 person who can fonds?😁😁\n",
      "She whooped him…100%. GO KAMALA!! <33\n",
      "At least Trump acknowledges that the US is failing.\n",
      "They eat our pets because they are all in the shelter smh.\n",
      "She hasnt done anything as VP, what more as president.\n",
      "They have said that about the missing animals\n",
      "Y'all really making me choose to get away from the politicians they wanna assassinate Trump and she hasn't done anything nor has Biden\n",
      "wish we could also have this kind of debate between our PM of INDIA and opposition.!!!!!!!!!!!!!!!!!!!!\n",
      "33:15\n",
      "Fact is Trump is getting old😪\n",
      "The Joker show 😂😅\n",
      "Kamala for the win🎉\n",
      "did he mention orban?? that just clears everything up for me as for russian person who is against war and criminal government in my country..\n",
      "Thanks for entertainment Yankees. Love from India🇮🇳\n",
      "55:13 Says the one who thinks for his whole life 2020 was stolen…\n",
      "It is funny that they presented her 'winner' of this debate smirking around to the things democrats did (that they are doing all over the world) and using the political allegations against Trump that they created out of thin air...\n",
      "As someone who’s not from the U.S., I just wanted to learn more about the policies the candidates are offering but instead I ended up watching an hour and a half of bickering 🥲\n",
      "I am Indian\n",
      "Love the way she keeps looking at him to see if she’s getting under his skin and he’s cool as a cucumber\n",
      "Best thing would have been letting Steve Harvey mediate this debate😂😂🤣🤣\n",
      "Congress must pass laws to put a cap on campaign spending and donations. Money can not define a candidates ability to be a Senator, Congress person, President or any Governor or Mayor. Soros is pouring millons of dollars to defeat Ted Cruz. This should be illegal.\n",
      "6:31 \"Vice president Harris, you and president Trump where elected 4 years ago\" ...huh?\n",
      "What does anyone expect from the usual predictable mudslinging on display that does little or nothing to convey anything meaningful about diverging policies and ideas on how to run / govern the US ? It is more like a democratic circus, a show and the people are being fed some selected crumbs to digest and be happy with. No matter what they say , both Republicans and Democrats are beholden to their corporate paymasters and will keep doing their bidding, no one cares about the plight of the blue or white collar American worker whose jobs have been shed like crazy overseas and who may nowadays even hold 3 - 4 jobs just to hold his head above water and keep paying those lovely bills.\n",
      "Let’s get started with the open question. You and president trump were elected 4 years ago.\n",
      "#TRUMP2024THECEOPRESIDENT\n",
      "If Kamala wants to do all this change, WHY hasn't she already under Biden? she supports Biden yet wont do what she says she will IF ELECTED! ALL LIES!\n",
      "Kamala keeps saying to Trump to stop the name calling yet she was the one who started the name calling and bashing of her opponent and continued it throughout, then tries to play the mature one by calling him out on it!\n",
      "Trump was doing well until the rallies. The train went off the rails for him after that. lol\n",
      "King Trump👑❤\n",
      "I didn't know America was a country I thought it was an entertainment channel\n",
      "😢\n",
      "What the fudge, how he claim debunkin charlottesville!!! We live here...he is sad\n",
      "Time to let a woman run the nation.💚\n",
      "Just as the mods introduce the candidates, you hear a woman’s voice say sharply, “Don’t!” off screen. You see the female mod blink a bit in response; she heard it, too. As it is that audible, it must be Kamala, who should be the only woman close enough to the stage and AV stuff to pick up.Why was she saying “Don’t!” ?\n",
      "46:00 😂\n",
      "Sept. 24, 2024 - Day 2 of posting a random fact in a random YouTube comment section.The average penny lasts 25 years.\n",
      "American - what do u do for fun ?foreigner- follow your election\n",
      "\"Make America Great Again!\" Bring back Trump. Watching here from India.\n",
      "Lindsay Davis’ “five head” is too distracting!!! 😳😳😳\n",
      "Are these the best to govern America\n",
      "1:36:43 left off\n",
      "Trump ! Trump ! Trump !\n",
      "Vote for Trump/Vance 2024 America First. 🎉🎉🎉\n",
      "Trump the Top G\n",
      "Lee Scott Clark Eric Perez Richard\n",
      "Harris new name should be the truth. because she doesn't know how to tell it\n",
      "They opened the borders for years and now want our guns yeah right. That's the only way to protect our family's good luck Harris. Good luck.\n",
      "I just want to say that I have never doubted President Trump's msges i have been consistent in my thoughts and will support President Trump 100% in November 5th 2024\n",
      "We have Trudeau the china ccp laundered housing money sellout despises Trump, all I need to know may he stay safe & win.\n",
      "I'm just over here laughing, this guy isn't talking about the people at all, just his numbers and how people view him\n",
      "Does anyone here actually read all the news networks including foreign ones\n",
      "Martinez Brian Thomas Laura Anderson Mark\n",
      "03:45\n",
      "I love this rally people were so enthusiastic at my beloved Nassau Veterans Memorial Coliseum, where I attended many Islander games. And for those who think that Trump is talking through his hat about winning New York, in the last gubernatorial race, Lee Zeldin lost to Kathy Hochul by only five points. He is absolutely an underdog in the state, but it's not inconceivable that he could pull out an upset.\n",
      "Awesome\n",
      "Make America Great again 🙏God Bless USA 🙏✝️🌹❤️\n",
      "❤God Bless President Donald Trump 🙏❤️🌹✝️\n",
      "- - Trump is a deeply unpleasant individual whose absence would be a relief to many. Trump & Jdv, 2 pathological liars continue to weave web of intricate deceits that it becomes their second nature. As a 30 yr vet & a GOP for 5 decades, I WILL VOTE as a democrat for the 1st time & until trump’s cult is gone!\n",
      "Trump is the MAN well, the closest we can get to one as a ruler. Lets hope there are more like him.\n",
      "Only You Mr President, Donald J Trump can save this country!❤\n",
      "39:55 thank me later\n",
      "why is kamala wearing sneakers to an interview? and why isn't she talking to the public daily? and why are her answers not answers?\n",
      "What the actual f did I just watch?\n",
      "The fact that laughing hyena Kamala Harris was vice presidentand now a prospective President of the USA makes me really wonder about current democracy .\n",
      "In Trump's debate with Kamala, she was not able to produce any plans at all for what she would do. KAMALA HARRIS DOES NOT KNOW WHAT TO DO. What was weird was her running up to Trump at the debate. It looked like she was attacking him. What a weirdo.\n",
      "America Automobile industry is best Car bilding My favourite are Mustang JEEP CHEROKEE and DODGE DART THE ONE OF THE BEST IS OLSMOBILE CUTTLAS VARIANT WITH all data computerss ....\n",
      "As a woman, and I've been hearing other women claim that women should support and uplift other women yet I'm not feeling very supported by other women about my freedom of choice and my freedom of speech. Kamala does not speak for me and she definitely does not have my vote. She's a terrible VP, she was a terrible District attorney, she has done absolutely nothing to benefit American and the people living here legally. She was absolutely nominated by Joe Biden as the Border Czar to which she chose to do nothing and let in all those unvetted illegal immigrants. The same illegal immigrants that she claims are not criminals. The same immigrants who are bringing in drugs that are killing our children. The same illegal immigrants who are beating, raping and killing our innocent women and children. I fully stand with Trump to win this next election. Trump 2024 🎉\n",
      "BEST PRESIDENT EVER!!! I love love love President Trump!!\n",
      "He should start off every speech with and no tax on overtime.\n",
      "America? \"I have seen the coming of our LORD he has seen the CORRUPTION FROM THE HOUSE WITH ALL THE whoees the senate and all the pimps Christ gave us all our freedoms that rhe RICH have taken from USA THE STATES WILL SUFFER THERE FATE\n",
      "Karine is an absolute threat as the mouthpiece for these nutjobs, hope nobody hires this nut job after komollah effs off\n",
      "Make Dan Bongino head of Trumps personal secret service ,if you read this MR TRUMP this would be the smartest thing you could do .\n",
      "Reason y Kamala says I never said that is because her earrings tell her what to say and who is telling her earrings what to tell Kamala what to say is the Democrats in the white house . That’s y she can’t recall saying anything ..\n",
      "Please everyone let’s pledge to get ALL invaders out of Springfield Ohio. This would be a great time for President Trump to have a Rally there!!!\n",
      "Please everyone let’s pledge to get ALL invaders out of Springfield Ohio. This would be a great time for President Trump to have a Rally there!!!\n",
      "Please everyone let’s pledge to get ALL invaders out of Springfield Ohio. This would be a great time for President Trump to have a Rally there!!!\n",
      "Please everyone let’s pledge to get ALL invaders out of Springfield Ohio. This would be a great time for President Trump to have a Rally there!!!\n",
      "Please everyone let’s pledge to get ALL invaders out of Springfield Ohio. This would be a great time for President Trump to have a Rally there!!!\n",
      "Please everyone let’s pledge to get ALL invaders out of Springfield Ohio. This would be a great time for President Trump to have a Rally there!!!\n",
      "Please everyone let’s pledge to get ALL invaders out of Springfield Ohio. This would be a great time for President Trump to have a Rally there!!!\n",
      "Please everyone let’s pledge to get ALL invaders out of Springfield Ohio. This would be a great time for President Trump to have a Rally there!!!\n",
      "The only way this lying mainstream media can put on a fair debate is if they picked the moderator last minute and flew them in from Timbuktu.\n",
      "I do at least 50 hours overtime..boy, that would be great.No tax on OT\n",
      "💌\n",
      "Love this guy! Trump 24\n",
      "Loved this. Pray for Trump to win😊\n",
      "Thanx ...i cant wait to see the downfall of the usa unfold....this will be the new brexit. leave it to the usa to make politics the beste comedy ever.\n",
      "Pure Comedy.\n",
      "Come on trump\n",
      "Gonzalez Patricia Young Elizabeth Martinez Scott\n",
      "President Trump is the best thing to happen to America.\n",
      "But someone's changed Alexa and now it says he's alive and well\n",
      "I really don't believe that the people in this country want a former hooker, street walker running this country\n",
      "Trump had eighty nine million people following him on social media and I believe they all voted for him so if the numbers are correct Biden only got seventeen million votes when the powers that be placed him in the white house\n",
      "Trump didn't lose any election and the truth is Biden used the dead and a switch artist who switched the names over the votes think about it Trump had over seventy million votes there was only one hundred and six million voters to start with so that means Biden could have had thirty six million votes unless the dead came back to life\n",
      "Terrific ideaNo Tax on overtime AND No Tax on tips!!!A positive candidate who tells the truth andTruly Trump willMAKE AMERICA GREAT AGAIN!\n",
      "This is the first time we are hearing real numbers on the illegal immigrants who have come through the border all of the others are telling us lies\n",
      "Took ABC off television programming after debate. Let their sponsored of ABC loose and eventually ABC also. Corruption needs removal. Who owns the tv and radio satiation?\n",
      "They want to defund the police because the police will protect and serve the people and not the corrupt\n",
      "This recent shooter was from Ukraine probably part of the azof battalion of nazis working for Biden the big guy who had the prosecutor of Ukraine fired before he could bust hunter for his crimes in barisma\n",
      "Just make real American Great again\n",
      "harris said she get you in November you better careful\n",
      "Trump 2024 🇺🇸🇮🇱\n",
      "Donald Trump is a great Man of God. Donald Trump is bringing God and the Bible back into America. And rid America of evil.Without God we can do nothing. JOHN 15:5.\n",
      "I ask our Lord to see that our president is back in his rightful office by which he was removed by the act of treason. In Jesus name, let it be so. Amen.\n",
      "How can any human being with normal.brain cells not vote for this great man?TRUMP-VANCE 🇺🇸\n",
      "I support Donald Trump ❤😊🙏👍\n",
      "The past election was rigged. I didn't know a soul who voted democrat in my neighborhood\n",
      "Harris needs to get the FO\n",
      "I can't see her debating against putin, or the rest of them\n",
      "ABC SUCKS\n",
      "For the medical field, not taxing on overtime, is heaven\n",
      "NRA BACKED\n",
      "Stock Market UP 7% in 6 months / TRUMP Media Share / Stock DOWN 60 % in 6 months ...all ya need to know . Bankrupt again WAKE UP\n",
      "Trump is like modern day Moses.\n",
      "Do America even have a president where is Joe 🥺🤔🇺🇸\n",
      "I love you Donald Trump🇺🇸🇺🇸🇺🇸🇺🇸🇺🇸🎤speak Lord speak to me in Jesus name amen 🙏🏽👑🌈🇺🇸🎈🌍🌎🎤\n",
      "If you wanna life like anus,Be a fool and vote for harris.Trump is better than whoever,Vote for Trump and be the clever.\n",
      "I hope Trump will win in the president election in 2024\n",
      "😂😂😂😂😂😂😂😂😂😂 this man is sick\n",
      "Hallelujah hallelujah hallelujah and America make again and God bless you America people and president Trump and hallelujah hallelujah\n",
      "I love you my president Trump and hallelujah hallelujah hallelujah\n",
      "God bless you my president Trump and hallelujah hallelujah hallelujah and I love you America 🇺🇸 ❤️\n",
      "Please Mr Trump stop pretending your all not in together because a few of us know things like mass immigration is handled like everything, many years in advance... Come on. We aint all stuck on stupit\n",
      "Linsey Davis and Kamala Harris are sorority sisters. They hazed each other with strap ons!\n",
      "😂❤😂❤😂❤😂\n",
      "Linsey Davis the moderator in the debate is Kamala Harris sorority sister!!!!!!!!!!!!!!!!!!!!!\n",
      "Harris did not deny when trump called her and her father communists in the debate. All you Haitian voters get ready to go to work camps, communists favorite way to make money. The female news anchor in the debate is Kamala’s sorority sister.\n",
      "Comrade Kamala… hahaha love it! Trump 2024\n",
      "The anchor at the debate was Harris sorority sister. Disgusting!\n",
      "god bless.\n",
      "Ok, you want to know what a racist agenda is? If you're watching this and you don't see it you had better open up your eyes. Number one the Haitian immigrants in Springfield \"are not illegal\". Springfield requested them to immigrate 2/3 time because they had a 30,000 Delta population drop since the 90s. There are vacant houses, vacant apartment buildings, and the loss of tax revenue. 15000 Haitians came to Springfield in 2020. They shop at the supermarket, there kids go to the local schools, they go to the local churches, they work in the local industries. You know just like anybody else that moves to a new place. Now here is the racist trope that is the norm throughout American history. He made an unfounded claim about them eating people's pets and look like a complete moron during the debate. Then he turned around and now it went from eating pets to raping and sodomizing your daughters? Those scary immigrant black men deflowering your daughters 🤨 do they do that before or after they eat the family dog 🤔. Sensations are black are they taking black jobs 🤔. Do I believe that somebody in Springfield started that meme about Haitians eating pets? Yes very recently a Haitian man wrecked into the back of a school bus, this caused the injury of 25 kids and the tragic death of one. Springfield is predominantly white it always has been. People moved out and didn't move back so the average age is like 65. There's not really a whole lot there. There's a dollar tree, a wendy's, KFC, a gas station and a tractor supply in a Goodwill. There are a few manufacturing plants... but that's about it. There's only about 60,000 residents plus the 15000 \"legal\" immigrants. Now when the accident happened, the man responsible got 12 years convicted for manslaughter. But then you have racist people in every community and it only takes one. Trump is a piece of s***. What he does is give you a boogie man. He gives you a reason to hate regardless if that's something even exists. Then he points a finger in a group that is not like you. So why does he do that? It is because hate is the strongest emotion that we have. It is also the easiest State of mind to manipulate someone. In 2015 during his campaign it was Mexicans. End of the campaign it was Hillary. Then it was China. Then it was black lives matter protesters. After the debate it was Haitians eating your pets. What I said was by the time we get closer to the election it's going to be cannibal immigrants living in the sewer eating alligators...😳. I was wrong he went right to Jim Crow era racist propaganda and now Haitians are raping and sodomizing your daughters 😳. Every time he points the finger violence ensues. There were a group of proud boys in Springfield today, marching and saying some racist s***. Wish I would have known about it while it was happening. Trump is a piece of s***. Do sloppy, he's slow,, he's dim-witted, he's racist, if you can't see that, that says more about you than anyone else. If you don't see anything wrong with what he says in the path of mental bread crumbs that he is leaving... It's probably because you're the same as him, and that is not a compliment, I can't think of a worse thing to say about someone.Let's be clear, his slogan \"make America great again\"? Let him just be honest for once and is f**** life and call it what it is, \"make America HATE again\".Republicans could have had back anyone and the GOP chose this POS as their candidate 🤦🏻... But it was going to be DeSantis or Trump, same smell, same look, sitting in the same toilet bowl... It would not have made a difference. Sad part is they're actually good Republicans out there that you could have nominated, supported and backed. And you don't want to go with this piece of s***🤬?F Trump. Those scales are going to balance. And I'll let you in on a little secret the GOP doesn't want Trump to be president they want Vance to be president because Vance will do what he's told. Problem is nobody would vote for Vance cuz nobody knew who the hell he was until a few years ago. But you get Trump on the same ticket and something happens to Trump and ..I'm thinking final destination moment. There's already been two strikes. Does it matter what he does from here on out there's going to be more.\n",
      "The bad luck began for Donald Trump when he let his marriage to Ivana Trump hit the skids for a bimbo.Why even after she reappeared he turned to her for advise she had brains that girl! she'd have been a greater asset than the beautiful Spinx he's married to now , rest in peace beautiful ill fated Ivana.\n",
      "I'm keeping an open mind. Would someone steer me to an equivalent public address by Kamala?\n",
      "کامیلا هریس هندی ...هندی ها جهان را فتح می کنند ..سومین هندی که بر یک کشور خارجی حکومت می کند ...هریس هندی 😂\n",
      "کامیلا هریس هندی ...هندی ها جهان را فتح می کنند ..سومین هندی که بر یک کشور خارجی حکومت می کند ...هریس هندی 😂\n",
      "پیشگویی ...ترامپ امریکایی قدرتمند می سازد ...\n",
      "❤❤❤❤❤❤❤\n",
      "Spot on Doc\n",
      "TRUMP for 2024 All the way!!!!!! PERIOD!!!!!!!!!!!\n",
      "PEOPLE OF ARIZONA VOTE FOR TRUMP SAFE AMERICA WITH YOUR SUPPORT RIGHTS PRESDENT\n",
      "‘They’re eating the cats’: Trump rambles falsely about immigrants in debate ► https://www.theguardian.com/us-news/article/2024/sep/10/trump-springfield-pets-false-claimsHarris’s powerful abortion stance and Trump’s fact-checks: key takeaways from the debate ► https://www.theguardian.com/us-news/article/2024/sep/11/harris-trump-debate-takeawaysHarris slams Trump for falsehoods on abortion and immigration in fiery debate ► https://www.theguardian.com/us-news/article/2024/sep/11/trump-harris-presidential-debate\n",
      "Trump!❤\n",
      "No Bigger Liar Than Harris\n",
      "🇺🇲🇺🇲 TRUMP 2024 🇺🇲🇺🇲\n",
      "Vote for Trump to save us from WW3! ❤\n",
      "Vote for Trump to save us from WW3! ❤\n",
      "He’s delusional and what would you expect he’s only 6 years old\n",
      "NOT WORRIED,,MY OWN THRONE ,,,,taking DUMP ,,,RELIEVING all worldly tensions,,Md RAFI MAINE USA-PHD\n",
      "Trump win\n",
      "“If trump was president putin would be in kiev right now” so then tell me why putin waited till trump wasn’t president anymore and attacked Ukraine when you and sleepy joe were in charge 🤔🤣\n",
      "Graham Groves\n",
      "i mean he is orange isnt he\n",
      "This is a disaster. No one truly knows the easts tension. If anyone wants know harris becoming elected is the official start of WW3.\n",
      "I wish Kamala would stop acting like she knows what she’s talking about lol definitely the same party as joe\n",
      "Did he say she puts out hahaha 🤣\n",
      "her mouth noises are tweaking me out\n",
      "Hansen Glen\n",
      "I don t like trump but I would vote for him if I was an American, we still wait for the bullrun here\n",
      "People from Haiti do animal sacrifices.\n",
      "OMGGG HANNIBAL MENTIONS I LOVE HIM BRO😭😭\n",
      "Hahahahaha\n",
      "Remember that Kamal said \"reduce population \".... ;)\n",
      "Wow❤❤\n",
      "Kamala’s reactions are hilarious! She is acting just like how I would! Also bro goes on a tangent every time someone asks a question. He only answered one question. Also, 1:34 DANG, SHE COOKED HIM!\n",
      "“They’re eating the DAWWWGS they’re eating the CATTTTS.” Maybe he was thinking about his pal Hannibal Lecter again??\n",
      "The moment she walked over and introduced herself, she won\n",
      "If this woman won the presidential election, Goodbye america and the world\n",
      "We love you Mr Trump ❤\n",
      "Her earring look like earplug?\n",
      "He got a haircut\n",
      "Does trump know the difference between a president and vice president?\n",
      "they're eating the dogs! they're eating the cats!!\n",
      "it's funny if a country superr having president girlllllll😂😂😂\n",
      "Dear Americans, it is already thought-provoking why putin wants trump to be the president . it does exactly what putin and si want divide America ,America has a bad relationship with its allies or destroys it⚠️⚠️⚠️ This is trump praising the dictators who want to destroy America\n",
      "Jasen Views\n",
      "6411 Mueller Brooks\n",
      "Sipes Pass\n",
      "Love how big brands like the guardian cnn nbc news are on Kamala side saying trump is lying yet hes stating true facts, TRUMP 24\n",
      "Please watch full Debate You cannot understand anything from it\n",
      "Heavily edited in someone’s favour…. Is 3 minutes the most they could be bothered doing? Or is that all there is, out of a debate nearly 2 hours long?\n",
      "Trump is the best\n",
      "What's wrong wih Putin sitting in Kiev? a lot of people would have lived. Putin should sit in Kiev. Zelensky is just Biden's lapdog.\n",
      "Why did she give him her hand? Only a fool would respect Trump.\n",
      "Thats an amendment you cant get rid of that. 0:44\n",
      "Somebody noticed that he never looked at her? He’s so scared\n",
      "Mike is confused which pen cil stand akrebeto nil bank kurrupt\n",
      "I see Joe biden bush and Bernie taking about stealing Clinton and hilarious kids\n",
      "No pal dabba no baby bad lady\n",
      "Trump it's time for you play with grandkids and kamala needs to make a kid by now how old is she\n",
      "The people Joe and onama have to bath in Ganga river\n",
      "The people of plane crash that always survive\n",
      "Trump needs big but kamal is happy with whatever hse has\n",
      "Ambani atthani kharcha room pe aaya\n",
      "The 10 th avenue debate trump jokers and jack 3 Rose kadhai\n",
      "Fifty cent went to the. Ave bought a big black bear and asked a con a condition to let the gorilla free and the beat to fight directly no mew friends\n",
      "The boss ton blokes\n",
      "Grap em by Dr.zeus\n",
      "Chinese bhel or burn dogs trump has kamala only eatin tin tin catz\n",
      "Men for raise cats and man who raises wife's tough competition on abortion laws CHINESE DOG FESTIVAL 20024 Approved\n",
      "Wen for raise cats and man who raises wife's tough competition on abortion laws\n",
      "From pay pal tk gopal Jai pi Yaar Rockz\n",
      "If Lincoln and benjamin Franklin met on Chai pe charcha they will have elon musk and putin lapdance next batch blease\n",
      "Migrant crisis gets presidential in us and in India pum pm papa and beta gama pappu yadu and in us mom's and pops on adoption and abortion issues\n",
      "Uk deported papa and mama nasty fights\n",
      "Bogan Summit\n",
      "so foused on the future youve been in office for four years offering nothing.\n",
      "1:18 the kiffness\n",
      "Briana Avenue\n",
      "In United States we eat dogs too, CORNDOGS, HOTDOGS, BAGELS DOGS , CHILI DOG 😂😂😂😂😂\n",
      "Shout out sa mga Filipinong politiko diyan.no doubt, made in USA nga! pati halalan nila ay walang pinagkaiba sa Pinas. 😂😅\"UNITED STATES OF IDEOTMOCRACY\"\n",
      "He can’t even look at her, even though she’s staring him down. What a scared lil bi!\n",
      "Let's be honest. Both are the worst candidate for president\n",
      "You imagine HIM in control of your nuclear weapons ?! 💥\n",
      "ABC News 👎👎👎👎\n",
      "👇Team Donald Trump\n",
      "A true gentleman and professional man would have walked up to Kamala to shake her hand. He’s an embarrassment to the American people.\n",
      "I love how Kamala Harris was like 🤝 hey man. The she’s like IS THIS WHAT THEY NEED\n",
      "Robinson Jeffrey Martin James Perez Donna\n",
      "I hate her but she is cute 🥰\n",
      "C-N-N made sure that 5'2 looked taller than 6'3.\n",
      "They went from with biden from bad to worse with Harris.\n",
      "The only reason I consider Kamala Harris at this point is because its better to have a woman to lead who is calmer. Noone wants to have a man raging on speeches holding a nuke suitcase all the time at this point in united states thats all. As a world citizen everyone is concerned.😰 World needs peace 🙏\n",
      "Young Sandra Jackson Steven Williams Larry\n",
      "\"They're eating the dogs! They're eating the cats!\"... That's the highlight of the debate... 😂😂😂\n",
      "Donald trump this donald trump that. Wat yall done last 4 years\n",
      "Transmit and translate,reward,eat bread with knowledge,this word,word only,,\n",
      "Her voice makes me so annoyed\n",
      "YES! The United States is my country!🥰🇺🇸\n",
      "❤ Yes Kamala ,,No Trump\n",
      "So, what are the solutions? I am not following either of you babbling cry babies!\n",
      "SHE SHOULD NOT BE IN A ROOM NEXT TO THIS NUT CASE.😮???? IS HE TALKING ABOUT THZT WALL HE DENT BUILDED. LORD PLEASE HELP YOUR 🙏 PEOPLE RESCUE US FROM HIM & HIS FOLLOWERS. FROM DOING ANY HARM TO YOUR PEOPLE ..\n",
      "IF Kamala Harris becomes the president, goodbye taiwan and goodbye Japan and Goodbye philippines, China is not scared and just going run over a woman president😢 We need to vote, trump!!\n",
      "TRUMP GOT HIS 🫏 KICKED.😂\n",
      "We’re cooked USA LOL\n",
      "Tf is this? A roast session?\n",
      "Where the Simpsons live.\n",
      "Gilbert Shore\n",
      "What an unprofessional person Kamala is… she acts like an argumentative teen child who just keeps backtalk because they have to have the last word… clearly her parents did a terrible job, teaching her proper decorum\n",
      "Trump makes my head hurt with all his rambling....\n",
      "♥️ KAMALA HARRIS ♥️\n",
      "🐔🐔🐔🐔🐔🐔🐔🐔 then, trump doesnt need another 🐓 up\n",
      "I hope the Haition law suit sticks! It would be hilarious if Vance and Trump had to share a jail cell!! 😂😂\n",
      "He know's there is no point to being shown again as a candidate that doesn't care about the states or the people that live here! 🙁\n",
      "Chicken shit\n",
      "The problem is that she gets to choose who (abc news) will host the debate , not Trump , and we all know , how the last one went. She don't deserve to get a debate when she gets all the questions in advance and they only fact check Trump ! They will use every means to throw out Trump even if they have to shoot him !\n",
      "“Theyre eating the dogs, they’re eating the cats, they’re eating the pets of the people who live here.” -Donald Trump\n",
      "No need for a second debate. We the people of the united states saw and heard her and moderators coddling Harris so why do we need another one to watch it again. Ive decided. The silent majority will dpeak in numbers on November 5th. Youll see.\n",
      "Chicken!\n",
      "First Chump said he won the debate, and then he claimed her and abc cheated? This guy is a weirdo loser!!!\n",
      "Chicken shit Chump!\n",
      "Chicken sh!t\n",
      "Coward!!!!!\n",
      "2nd debate? Trump has my vote, even if he were to show baby ducklings being dropped from helicopters on his website.\n",
      "Baaach baaach baaach baaaach baaach baaach basaach (Cue Chicken noise 😂\n",
      "BAWK bawk bawk 🐔🐔 he's too Ollld & stupid to debate anymore 😂\n",
      "Schedule it and let it become another rally for Harris since he does not have the testicles for it. She should show up solo and campaign during the broadcast. Her team should advocate for this event\n",
      "Beat by the Girl. And now, after all the mouthing off, fumbling the ball, and trying to cover failing? CS, NO MAS. WIN OR GO HOME\n",
      "They had my dog - Donald Trump\n",
      "What for when it will be rigged against him !!! Maybe on Fox at lest it would be unbiased!\n",
      "After Kamala opened up a can of whoop-ass on him,you can see why he doesn't want to go there with her again.\n",
      "Let's see: Two biased ABC shills against one candidate plus another with an earpiece, makes for an honest debate? At what point has KH actually talked policy or shown she has more than two brain cells? And the Democrats have always cheated as they are now.\n",
      "LẮNG NGHE: TÚ BÀ KAMALAZOO. TÚ BÀ MẶT NGỰA CHÂN GÀ, CỬA SAU, CỬA TRƯỚC, ĐƯA BÀ ĐÓN ÔNG. NĂM NAY MỤ ĐƯỢC LÊN ĐỒNG, ĐẢNG LỪA PHÁ CỬA CHẠY RÔNG KIẾM MỒI.TÚ ÔNG BỊ CƯỚP MIẾNG MỒI, TỨ BÀ MẶT NGỰA, ĐANG NGỒI CHỜ ĂN..! The question is: Do the American people truly understand what has happened over the past three years under Biden and Harris (the ‘Kalamazoo copycat’)? They have damaged American society, dismantled its foundations, and contributed to global chaos, empowering terrorist organizations and creating turmoil. In the first debate with Trump last week, the ‘Kalamazoo copycat’ delivered only empty rhetoric, flip-flopping on her positions, while continuing the same lies and corruption that defined her time in California.I also agree with former President Donald Trump—there’s no point in wasting time with the Kalamazoo copycat in a second-round debate, orchestrated by the mainstream media’s fake news outlets like ABC, NBC, CBS, and CNN. These liberal media channels are anti-Trump and are working to sabotage your 2024 presidential campaign. In fact, the liberal mainstream media has fueled more chaos, violence, hatred, and division in American society than ever before, especially since the Obama years, 2016, and beyond. That’s why I oppose a second debate with the Kalamazoo copycat on ABC or any other mainstream media platform!\n",
      "Because you suck, though many fascists disagree\n",
      "Gonzalez Michelle Smith Ruth Davis Susan\n",
      "To quote Clint Eastwood, a man's got to know his limitations.\n",
      "Muslims Islam unite join forces together...\n",
      "NOTHING IS AS IT SEEMS. THE WHOLE WORLD IS A STAGE. THE IRONY OF IT ALL IS THAT THE PERSON THAT YOU ALL IN THE MEDIA KEEP GLEEFULLY DEMONIZING IS THE ONE WHO HAS THE BEST INTERESTS OF AMERICA AND THE WORLD. YOU HAVE NO IDEA WHAT BATTLES THIS MAN HAS FOUGHT BEHIND THE SCENES FOR THE COUNTRY AND THE CHILDREN OF THE WORLD. YOU ALL HAVE BEEN CALLING GOOD BAD AND EVIL GOOD. TRUST ME, YOU HAVE IT BACKWARDS. YOU HAVE IT ALL TWISTED FOR THE WRONG SIDE. GOD ALMIGHTY HIMSELF WILL PROVE IT ALL SOONER RATHER THAN LATER. ONCE THE TRUTH UNFOLDS, I GUARANTEE YOU ALL WILL BE SADDENED BY THE DEPLORABLE WAY YOU HAVE TREATED THIS MAN, HIS FAMILY, HIS WIFE AND AMERICANS WHO REALLY LOVE THIS COUNTRY AND ONLY WANT THE VERY BEST FOR ALL AMERICANS. YOU PREFER TO HANG ON THE EMPTY PROMISES AND WORDS OF A FAILED ADMINISTRATION. THE DAY WILL SOON COME WHEN EVERYONE YOU WORSHIP AT THE ALTER OF WILL FINALLY UNMASK THEMSELVES TO THE WORLD AND YOU WILL REMEMBER, I TOLD YOU SO. YOUR WORDS AND ACTIONS HAVE LITERALLY BEEN ANABOMINATION TO GOD HIMSELF BECAUSE HE KNOWS THE TRUTH OF ALL THAT YOU DO NOT YET REALIZE OR MAYBE YOU DO, BUT KEEP PUSHING THE FALSEHOODS TO KEEP MISLEADING THE ENTIRE COUNTRY AND WORLD. TRUMP IS NOT THE MONSTER YOU ALL HAVE MADE HIM OUT TO BE FOR THE PAST 8 YEARS. ANYWAY, IT IS TO BE EXPECTED BECAUSE HE IS AN OUTSIDER LIKE CHRIST WAS WHEN HE WALKED THE EARTH. EVEN HE WAS CALLED DEVIL AND WORSE AND ALL HE DID WAS GOOD FOR THE PEOPLE AND CAME INTO THE WORLD TO SAVE EVERYONE. EVEN THE PHARISEES DID NOT RECOGNIZE THAT HE WAS THE MESSIAH AND ONLY SON OF GOD. THEY LIKE TODAY'S MEDIA, MADE THE PEOPLE TURN AGAINST HIM AND CRUCIFY HIM, JUST LIKE YOU ALL ARE DOING TO PRESIDENT TRUMP. MEDIA, I AM KINDLY ASKING YOU ALL TO CHECK YOURSELVES BEFORE YOU WRECK YOURSELVES. CAN YOU EVER START WALKING IN TRUTH AND INTEGRITY?????? OR ARE YOU ALL LIKE HOLLYWOOD SO CLEARLY SHOWED US IN PLAIN SIGHT IN THE MOVIE \"THE NETWORK.\"\n",
      "No need any debate with her, she is not fit for the President post. Mr. Donald Trump is eligible for he loves his country, he cares for his people, he want to protect his people from drug and so on. If you want America to be a drug filled country and abortions, and same sex people and so on , then vote for Kamala Harris.\n",
      "NO MORE DEBATE !!! NO MORE LIES AND AND HUMILATION . JUST MAKE AMERICA GREAT AGAIN 💯🇺🇸❤️\n",
      "It was such a WASTE OF TIME, he has BETTER things to do than listen to her garble!!\n",
      "The debate will be rigged in her favor, anyway\n",
      "Good don’t waste time with her! She’s a loser! Liar as well! You know Joe was sharp as a tax!\n",
      "It is important to engage in respectful and constructive discourse during debates, avoiding the use of hateful or abusive language. The media also plays a significant role in shaping public opinion, and it is crucial for them to maintain objectivity and accuracy in their reporting.\n",
      "Because nbc is bias and hates trump, so he has every right. Again hate talk that starts all of this discrimination against Trump\n",
      "I believe Donsld Trump paid the second gunman in west palm Beach so it could boost his ratings in the polls. That's how despicable he is.\n",
      "Hes not chickening out moron. He actually didnt do a bad job considering Harris most likely was given the questions beforehand AND it was three against one! No he did a good job and I dont blame him for standing up for hisself against the bully moderators and decling anymore debates. TRUMP 2024!!!!!!\n",
      "People forget that there was a debate Kamala DODGED but instead Trump was asked by the very same woman who's a moderator here.\n",
      "He was set up 3 against 1 and was not a legitamate debate….abc propaganda debate…BBC equally corrupted as is ABC in this report\n",
      "I'm a republican but I'm not voting for trump again. He is a disgrace to the Republicans. Also those false lies that he and jd Vance spread about immigrants eating cats and dogs. What a racist dogs these two are. No for trump and Vance. I can't imagine how the white house going to be like, if trump gets in again.\n",
      "When Trump said they are eating the dogs and cats he was misinformed. It is actually about blood animal sacrifices. You people are like innocent, nieve children who laugh at everything.\n",
      "Trump needs z type security we are praying for him\n",
      "second debate???? the man is busy dodging bullets you lil waste of sperm!!! fuck you bbc!\n",
      "It will be a landslide,Trump is done by republicans , chickening out by a black woman ?!!\n",
      "For first time ever he used his brain 😂\n",
      "\"KUM-SWALLOWA: THERE ARE NO U.S. TROOPS IN COMBAT ZONES!!!\" FACT-CHECK... LIAR!!!\n",
      "Chump is chicken after slurping cats' and dogs' diarreah.\n",
      "That coward. How can we expect him to defend us on a worldwide level when he can't hold his own against his candidate?\n",
      "^ Trump is a person whose actions have caused significant harm, and whose presence is detrimental to society. This is probably why Trump’s cult followers are emerging from his stronghold and are out to get him!\n",
      "PRESIDENT TRUMP has too much class to be debating a trashy corrupt woman like Kamala!! She won’t debate him on FOX network, the only network that is good!!!\n",
      "Trump said he was satisfied with the debate. Saying that Kamala wants a rematch cause she lost\n",
      "A Hindu religious doctor in Bangladesh🇧🇩 of Shere Bangla Medical Barisal told that he would not treat poor Muslim women patients at all. The common people said that these Hindus should be removed from all places in bangladesh. In Bangladesh, Hindu religious peoples have been persecuting Muslims like this.Video linkhttps://youtube.com/shorts/wqG7NJSlHkE?si=zDD21XGtha2YZfzD\n",
      "She’s gonna lose. Nobody wants and woman president.\n",
      "She doesn’t deserve a second debate. Trump 2024 Everything she says is a lieI will never Frack ? Now she’s for fracking.No, Social Security tax “ trumps initiative”Secure the borders?? Why didn’t you do it in the last 3.5 years? But you are doing is illegal and you and Biden should be arrested. It’s a travesty what you’ve done to this countryTrump 2024\n",
      "Kamala was given the questions before hand, had an “hear “ piece feeding answers and was Not Fact Checked.CIC PRESIDENT TRUMP Was Fact Checked on everything.The 2 moderators are connected to Kamala.It was like having 2 referees on Kamala’s side, and hearing advice from her ear rings.\n",
      "Typically bias and misinformed BBC. He wanted 3 debates and well you know it! The Dems didn't but after much manipulation we got that 1 debate. I am appalled at this bias it's pushing the majority away from TV onto internet only. Harris ignored questions and was 4 times found to be fibbing but silence from BBC??? And I'm not a fan of either but I refuse to be waffled to?\n",
      "❗️Catastrophic: Since when do moderators have the task of commenting on Trump's \"facts\"?! This has never happened before. A totally manupulative campaign in favor of K. Harris... Unbearable! .....\n",
      "Trump is scare of Harris she broke him down especially what she said about his rallies. He realized Harris is not like those weak ass no spine Republicans women.\n",
      "The egocentric leaders of our world are all being exposed\n",
      "Brown Kenneth Smith Robert Perez Robert\n",
      "Don’t disrespect poultry! 😮\n",
      "Trumps right. Never fight with a pig because you both get dirty but the pig likes it. The ABC debate was hea iky rigged against Trump and why fight the enemy on their terms?\n",
      "Sarah Wilkinson\n",
      "i hope the BBC in UK is not anything like THE FAKE MSM in the USA. it has become obvious to the entire world that the MSM IN USA IS A POLITICAL ARM OF THE DEMOCRATIC PARTY. NOTHING ABOUT THEM IS TRANSPARENT.\n",
      "Trump 2024.\n",
      "New World ordar Rasiya China Iran Turkey and North Korea Arab countries\n",
      "Now B BC became a extremely left medias! Also broadcast fake news and info!\n",
      "Why don’t you report it was a rigged debate\n",
      "Apart from the fact that it is the convicted criminal Trump, who is so violent himself, I am sure that this news is Maga manufactured nonsense. He has zero morals and is desperate to avoid prison. Enjoy your golf whilst you still can DonOld\n",
      "Lol..... Cowards will be cowards... Bone spurs general fart mouth, easy trigger snow ❄️😂😂😂😂\n",
      "Nbc is democratic network , it will stupid for him to go back to back to dem dominated debates 😂\n",
      "Lies\n",
      "Clown 🤡\n",
      "The truth now we are experiencing in our daily life that who will we vote not in Debate all Promises in the Air ( God will guide as who Love and Respect America right not the people who grabs our currency and take advantage health benefits.\n",
      "Past Donald Trump Jail Time\n",
      "There’s no need for a second debate Kamala Harris doesn’t know what the hell she’s talking about, and all her questions and answers are scripted. When Kamala Harris is interviewed on the spot off the cuff she mumbles and stumbles all over the place just like Joe Brandon, they’re both idiots. Have no business running our country into the ground\n",
      "CHICKEN Trump!\n",
      "She doesn't need it herself cos she will embarrassed him again like a spoilt child\n",
      "Why I'm not surprised\n",
      "Wy do demercats not wot I'd to vote !!?????? Ass holes\n",
      "Trump is his own worst enemy. He can't stay disciplined, and his campaign team probably thinks that if he's as bad next time, it's better not to.\n",
      "Trump CLUCK,CLUCK,CLUCK.\n",
      "anyone who doesnt see the clear communist behavior by the left needs to get their head checked out\n",
      "Wy is the BBC not calling them out yous being payed!!!!!!💸💰💸💰💸💰💸\n",
      "Wy do the American demercats not wot I'd for voteing we do it here in n, Ireland 🇬🇧 wy is it the won't the vote from iligels\n",
      "Dont vote for Kamala shes a bad president just because shes a women doesnt mean she should be president vote for president Trump hes smart and knows how to lead the country 🇺🇸\n",
      "You can vote here for Donald Trump. 🇺🇸 Donald Trump …0 is weird. 0 is perverted. 0 is corrupt. 0 is a Russian agent. 0 is creepy. 0 is incompetent.0 is a criminal. 0 is an election fraudster.0 should be locked up 0 is the worst president ever [Multiple choices possible] !!!\n",
      "BBC news guy laughs, sniggers and chuckles his way through this biased nonsense. Why are all you fooled by the mainstream media? Just watch GB news and Fox news or even Sky news Australia for a complete unbiased view. Absolutely embarrassing that people dont do their homework on all the issues that we are facing in the UK and the rest of the world. Harris along with Starmer will be the end of days.\n",
      "HE IS A COWARD AN HE DIDIN'T WIN KAMALA DID AN ALWAYS WILL WIN...\n",
      "Debating Kamala IS NONSENSE🤣🤣🤣🤣🤣🤣\n",
      "Ha ha he really hasn't got a way to slate her yet has he ,she's not old,she's of colour and she's bloody smart, he hasn't found an insult yet .\n",
      "Trump was 1 angainst 3\n",
      "BBC puppet media\n",
      "Donald DuckWhy do you still believe in the crook\n",
      "US Presidential Debate is a WASTE TIME. Make no difference whoever win. Not beneficial for any countries that not getting along with US...\n",
      "He knows he flooped\n",
      "Can't democrats count? You cant win anymore after 2-0 down.\n",
      "Stop biased and interfere in the American election, not British like\n",
      "She made him look like a small child 😊\n",
      "He lost big time that’s why he won’t debate again a winner would be. Only happy to debate again he’s running scared\n",
      "Gonzalez Jeffrey Hall Donna Gonzalez Brenda\n",
      "Hitchens was right, religion poisons everything.Trump is the undisputed leader of the MAGA movement. MAGA is deeply and openly based on Christian nationalism. Christian nationalism is an highly dangerous and extremely toxic neo-fascist ideology. It is a fundamentalist far-right ideology, based on a strategic alliance between the far right and the fundamentalist Religious Right, aiming at establishing a US theocracy. It advocates for a society in which minority rule by white, conservative Christians is enshrined, democracy be damned.\n",
      "POC voting for a far-right repeatedly proven racist like Trump are perfect examples of the general lack of political education in the US.\n",
      "Undecided? No no no~ They decided to be assbags that are hated by both the left & right. Cater to this 1% a-hole, f that.\n",
      "They al know nothing\n",
      "Dear Arizona citizens, if you don't want the draft ( women too) 18-24 year olds, then please vote for Trump in a hurry - Also, Im in California, right next to the floodgates ( the busiest border in the world) .... Pleeaase vote republican-- just this time.Thank you so much. God Bless...\n",
      "They are not getting more benefits, and migrant crime is lower than native-born\n",
      "Massive tariffs and mass deportations would kill our economy\n",
      "Undecided voters! Really! If you’re an undecided voter you got to be a f—king idiot!🤦‍♂️Trump is the only one you need to vote for if you want this country to survive!\n",
      "Thrump saids he will deport gang members and secure borders who wouldnt want that\n",
      "Geez these ppl are stupid\n",
      "This is the second debate.\n",
      "I liked the one guy reading his talking points off his hand.\n",
      "These ppl are fools Harris is going after Americans wake up\n",
      "Wow a room full of paid democrats. Crazy. You still couldnt get them to sound like smart normal people though.\n",
      "9 days later are we still pretending Kamala hasn’t read off the same script she wrote when she was growing up middle class and enjoying her lawn??😂😂\n",
      "Trump wants to leave abortion up to each state to decide. If you look at policy, it must be Trump. Kamala is unclear because she won't say. She avoids the questions. Thats a warning to me. Your gonna get higher taxes. Much higher than we have already.\n",
      "When the \"show of hands\" moments came, one of them did not understand the assignment.\n",
      "Anyone who is undecided is frankly just not too bright or just lijes the attention.\n",
      "That guy on film is literally shocked with his hand on his mouth until he realizes the cameras on him. 😂\n",
      "Red shirt curly hair guy saying he was an illegal and is against pathways to citizenship is crazy\n",
      "It is so sad to see people voting for Democrats after what they have done to this country in the past four years.\n",
      "Who would like to see a real unbiased debate should be the question.\n",
      "Harry sucks, our country is bad already, and she’s going to bury it, please don’t vote for her, our country is going down imagine if she wins, she is going to kill this country big time, trump 2024 he’s the only one can save the nature🙏 Harris is a liar. this Harris 🤮🤮🤮\n",
      "No way Trump should have debated those three women in that debate.\n",
      "Omg. Trump was fact checked because he tells lies. That rubbish about eating pets beggars belief. The truly terrifying thing is that most if not all of his unhinged followers will believe all his lies and it could again lead to violence.\n",
      "2:00 I bet that guy feels stupid after Aiden Clark's father spoke out about not only the inaccuracy of the story, but to plead for his son's death to stop being weaponized\n",
      "Here's my question what \" more\" do they need to see, she addressed the border( they came up with a bill to tighten border and Trump vetoed it so that he could do exactlythis, have people saying she didn'tdo anything), she stated what she would do regarding high food prices and much more.She spoke about women's rights. It sounds like an excuse. I really don't get it..this man opened his mouth and said they're eating the cats and dogs and people are Still! On the fence..wow\n",
      "“Who won this debate….” Silence from Denise… then says “Trump clearly lost.” Cmon Denise, if you think Trump “clearly lost”, then again, who else then clearly won? You can do it Denise… or do you need another hint?\n",
      "there are no independent voters in america thats an extreme oxymoronan independent would never vote in americas rigged one party system with two colorstwo colors one partythe color of their flag is greennot red white and bluean independent would never involve them self in this one party two color rigged systemindependent do not cast a vote to surrender their power to some wayward politicianthats a las vegas style political party gamblethats why trump kamala look like a horse raceit is a horse race its purely a gambleits not really place your votesits more like place your betswill it be trump or kamalastep right upjoin the circusenjoy the showso then it appears independent thinkers are the least represented group in americaindependent thinkers have no representation in congresscongress like trump is going to do what congress is going to dovotes mean nothingthe voting part is merely a side show a distraction from realitythe voter is participating in his own illusiontheir thinking is delusionalthey have giving themselves a voice that is silent in washingtonthe voter is never heard they are never part of the power structurethey are only part parcel and party to an illusionits the making of an entertaining twilight zone episode and nothing morethe titlehow the dark dressed politicians dupped america with their black magicso the independent thinkers are silenced as well confucious saywashington truley marches to its own drum beatso now it appears the only independent thinkers are the washington eliteand so as it goes independent thinkers do not rely on votes to push the agenda thru they rely only on independent thinkingthink of it like thisthe average american does not get to vote on should this be a clear sunny day or should it rain cats and dogsi know lets cast a votevoting for an initiative is one thingits more cut and dryvoting for a party candidate is fools erranda fools errandhey wait one minutemaybe thats the title of the next twilight zone episodeits a fools errand\n",
      "What were you watching. Trump 2024\n",
      "Juan Carlos is so annoying 😭 maybe trump was right when he said they aren’t sending their best\n",
      "Well. It's been proven that harris was spoon fed by abc\n",
      "Don't give that lunatic the nuclear codes\n",
      "If there was 3 against one. Of Course He would. It was clearly One sided\n",
      "Wake up people please Blue Blue Blue Blue tired of lies and evil trump\n",
      "Person talking about the boy who was killed by a Haitian, it was a car accident, it was like he pulled out a gun and shot the little boy. And his father has said multiple times he's wish people would stop using his son for political gain. There are millions of Americans that shoot and kill, but since is a black immigrant it's a problem\n",
      "I vote for Trump 💪❤️🇺🇸🕊️🕊️\n",
      "Is this undecided panel really that dumb or a plant? Cnn had two panels and found radical maga republicans were on the panel being told what to say. Misinformation to help the dangerous demented orange 🤡\n",
      "Tuberville is old and GOP are radical authoritarian CT & CN infiltrated into the fabric of our Democracy. Tuberville, Trump, Vance, MTG, Jim Jordan, Mike Johnson, Alito and others are pushing Christian Nationalist cult ideology where their beliefs & laws are forced on all of us. God did not create the gov’t to be a ‘Christian nation’. That’s crazy talk. Stay out of the rights of women’s bodies, stop threatening arrest, threatening doctors while women die, making up disgusting CT about babies born are executed, that a embryo is a human before a heartbeat that’s science, monitoring girls periods and controlling people’s lives. These dangerous draconian laws & bills Will NOT win you votes. All the Republican Senators running for re election just voted against your right to IVF. They talk about family values, but want in your bedroom & doctor’s offices to monitor and voted NO on your healthcare. Rick Scott, FL but he had a false Ad supporting IVF. Marsha Blackburn, TNJosh Hawley, MOKevin Cramer, NDTed Cruz, TX lied he supported IVFDeb Fischer, NBPete Ricketts, NBRoger Wicker, MSJohn Barrasso, WYJD Vance did not Vote as usual. That was expected. He didn’t vote on Child tax Credit either. Vance has ruined his OH state spewing his conspiracy theory in Springfield. He admitted the CT was to get attention. It caused fear, a lockdown and ruined the city. Vance is Arrogant, inept, misogynist, all in with Project 2025, inexperienced, unfavorable -6% VP in our history. And Vance can someday be president/ dictator when Donnie is Amend 25. 🤔Kamala won the debate hands down 63/37. Trump was a disaster. He had no policies and lame plans bcuz his plans are Project 2025 similar to his Agenda 47. All he did was get hostile and spew insults and crazy Conspiracy theories. Lied 33+ times. If the people are undecided they are a plant or baked in.\n",
      "At this point, there's no such thing as 'undecided voters', just lazy voters.\n",
      "Im done watching this , bunch of Ignorants!\n",
      "Harris grew up in an affluent neighborhood in Montreal, Canada, far from the modest life she suggested she knew. Kamala is a leftist and a straight-up liar\n",
      "The father of that 11 year old would be pissed for that one person mentioning his name.\n",
      "Cant believe a black guy supports trump 😂 turkey voting for thanksgiving\n",
      "oh Carlos, they will stop you and ask for your papers\n",
      "Young Thomas Lopez Cynthia Lee Barbara\n",
      "Kamala Harris said NOTHING about her policies or what she would do. Delusional people! She attacked Trump with lie after lie, while tag-teaming him together with both moderators (who are friends with her). Trump was already president, outlined all the Biden Administration's problems, and rightfully described her shortcomings. I can't believe that voters believe a woman this vacuous, can be good for any leadership role. If she gets elected, our country is DONE.\n",
      "People are allowed to be undecided, there’s time to learn before November. Just do research people! 💙\n",
      "It’s amazing that the immagrents that are in the US are more hateful towards the immigrants that are trying to enter the US\n",
      "Karmala is a lisr she is not black.\n",
      "These Harris supporters did they see the same debate as the rest of us? Trump gave out hate??? Please …Harris did nothing but bash Trump and the moderates did the same thing. These are not undecided voters, they know who they’re voting for.\n",
      "Keep away from the Hete poison men\n",
      "Carlos & Romeo...you can't get more cognitive dissonance then this\n",
      "These ppl are dense AF 😂🤣 with the exception of the immigrant.\n",
      "I’m voting for Trump. It’s about policies, not personalities.\n",
      "It was Trump against her and the moderator he was and is the champ POTUS 2024 the eazy way... Trump\n",
      "It’s. VERY CLEAR YOU EITHER WANT THE COUNTRY TO STAY IN THE STATE THAT IT IS HIGH GAS HIGH GROCERY PRICES MULTIPLE WARS ON THE INTERNATIONAL STAGE. Or strong in the national stage no more wars use our own own oil low gas prices low grocery prices. It’s a no-brainer.\n",
      "Trump is trying to save the country. He doesn’t need this job. He’s rich and powerful and would love to play golf all day. He’s selfless trying to save our country, wake up people.\n",
      "Trump is trying to save the country. He doesn’t need this job. He’s rich and powerful and would love to play golf all day. He’s selfless trying to save our country, wake up people.\n",
      "The guy in the red shirt is so hypocritical, no wonder he supports trump , that’s the one thing all trumpers have in common . Hypocrisy\n",
      "Good job bring in more democrats\n",
      "Those people need a medical check up 😂 Something is wrong with their brains 😂\n",
      "Trump 2024. Vote for safety and Economy\n",
      "I lost IQ points listening to these people.\n",
      "It is like a football game in away\n",
      "Bro, this news station needs to do its homework and get people that are actually independent. That guy Carlos that pulled out his phone, you know he was wearing a NEW red shirt for a reason. Definitely voting repub! Notice he didnt say anything about Trump and people eating pets.\n",
      "These are not a diverse group of voters. They are like most people I come across in AZ. Uninformed and ignorant as hell!\n",
      "Hey lady. What world you in. Harris hasn’t showed us anything other than she don’t have a clue on anything.\n",
      "Do us all a favor and stay home on Election Day. This would be ridiculous if it wasn't terrifying.\n",
      "Are THESE people THAT Stupid? Don't they GET that IF that thoroughly Unqualified Socialist Political Hack Extraordinaire is Selected; er; Elected; our Constitutional Republic is Gone. FOREVER. These individuals make me sick.\n",
      "Words are meaningless when there is no action behind them. Donald took action in his time as president, kamala has been in office for more then 3 years and ignored the most important thing, \" protecting the people \" ( immigrants taking jobs and flooding our country with more problems then it has ever seen!) It's not like they are letting in educated rich people who can raise our economy!! Help!\n",
      "The undecided people are waiting for an \"ok\" to vote for Trump. It's simple. You're voting for democracy or autocracy. Freedom or oppression.\n",
      "Kamala didn't talk about anything she avoided and attacked trump and was clearly a 3 on 1 debate\n",
      "Who picked these people?\n",
      "You know...its AMAZING to me that Arizona...being a border state, and it seems theyre OKAY with all these ILLEGALS coming into their state and our country!!!! I dont understand that!\n",
      "1. Immigration* - Continue building the U.S.-Mexico border wall. - Reinstate stricter deportation policies and possibly end birthright citizenship.2. Economy - Push \"America First\" trade policies, with tariffs on countries like China. - Seek more tax cuts for businesses and reduce regulations.3. Foreign Policy - Take a tough stance on China, aim for better relations with Russia. - Withdraw from international agreements he doesn’t like, such as climate deals.-End the war in Russia and Ukraine. 4. Healthcare - Try again to repeal or replace Obamacare. - Lower prescription drug prices.5. Energy and Climate - Focus on boosting oil, gas, and coal production. - Downplay climate change policies.6. Social Issues - Support further restrictions on abortion. - Defend gun rights and oppose stricter gun control laws. 7. Judiciary - Appoint more conservative judges to federal courts.8. Law and Order - Continue tough-on-crime policies and increase support for police.9. Elections - Push for stricter voter ID laws and limit mail-in voting.10. Pandemic Response - Focus on fewer government mandates and more personal freedom regarding public health issues like COVID-19.Trump’s policies would continue his American First approach with a focus on strong borders, economic nationalism, fewer regulations, and conservative social policies. I was Democrat but over the past 3.5 years year watching our nation go straight to hell. I use to dislike Trump but then I really started to research him and what he has done that mainstream media doesn't tell us. Trump was a strong leader when he was president and that is what the United States desperately needs right now.\n",
      "Trump has made his policy’s very freaking clear! We have to have him this economy is killing me\n",
      "These people done lost their minds\n",
      "Vote for Trump if you wish to save your country, America!\n",
      "These people could make up a JURY on a Murder trial...that's scary...\n",
      "Undecided is the new word for MORON ..\n",
      "I love the poorly educated- Donald Trump.\n",
      "A vote for Harris is a vote for more of the same bullcrap. A vote for Trump is a vote for a closed Borders, a better economy, lower taxes\n",
      "Trump was Excellent.\n",
      "Time For a BIG CHANGE Get Kamala OUTCheaters. She knew the Questions a head of time\n",
      "Most of these undecided voters have got to be narcissists looking for attention.\n",
      "Harris cheated during the hold debate. She had all the questions and answers given her by ABC .\n",
      "Local news made no comments on biased fact checking\n",
      "Harris did not answer any questions in that Debate.\n",
      "If you think trump won you are an idiot\n",
      "After the eating the dog remark,If you still on the fence its not a fence its a mental block.\n",
      "I voted for Hillary Clinton in 2016I was extremely happy to do so, because of the quality of her ability to lead this country, but mostly because she had supervision to go along with that. There was no way I was going to vote for Biden, and now I'm absolutely positive I am not voting for Harris. She is far from being presidential material.😊\n",
      "Wow! She did nit saying anything on her policies and most of these people are so clueless\n",
      "TRUMP WAS SPEWING HATE?? ALL HE DID WAS DEFENDING ALL THE DEMONcRATS LIES.. 😂🎉. ALL KAMLA DID WAS SPEW HATE FOR TRUMP.. AND PROBABLY HAD AN EARBUD TELLING HER WHAT TO SAY... 😂\n",
      "Terrible camera man\n",
      "It's what I expect from a bunch of morons.\n",
      "That naturalized citizen must be a paid agent show up with notes for talking points? Saying another immigrant (who is also a legal immigrant) took the life of a little boy, it was an auto accident.\n",
      "Red shirt guy was a Trump supporting plant, not an undecided voter. I wish the journalist would’ve asked the guy supporting Trump in the front row a follow up question like what he doesn’t like about the country now and how it’s impacted him, what Trump policy he thinks will improve that. There would’ve been crickets or some weak rhetoric from the same playbook.\n",
      "Come on is this dude on drugs 000 come on I think wake him up\n",
      "Meanwhile in Ohio all the people are missing their pet white ducks there kitty cats it’s true just because the news told you it’s not true you have to believe what’s really happening ask the people who live there or not the governor not the mayor ask the people who owns these animals\n",
      "You are a true leader. 👏🏻👏🏻👏🏻👏🏻👏🏻👏🏻👏🏻👏🏻👏🏻👏🏻👏🏻👏🏻👏🏻👏🏻👏🏻👏🏻👏🏻👏🏻\n",
      "We love you Mr. President. Please, Don't let our enemies steal the White House from you.God bless you and América. Trump! Trump! Trump\n",
      "Kamala does not support fracking but she was told Pennsylvania is essential to winning the election so now she believes in fracking.Politicians lie or at least most politicians lie. Donald Trump is rare he pretty much tells it like it is. Donald Trump is pure OG. He don't care if you like it or not he says it like it is.\n",
      "ABC come from. PLANET. HELL\n",
      "Philly, PA here for Trump 2024. I'm done being in the silent minority. Why do we have to hide who we support? Why do we fear being judged or cancelled? Why can''t I own one of those red MAGA hats?\n",
      "The parallels of Trump and the biblicalAntichrist are high.\n",
      "Indy for Trump\n",
      "We bind principalities, and powers. Rulers of darkness over nations affecting the atmosphere, . And interfereing with America in Jesus Name\n",
      "Allow me to be vice president, i could change my life in my new decision to save America from a fall, to be honest i could be president from where im standing, all these issues your Republicans/ Democrats, presidential white race being shot at,!Its not a race thing, but having a black that didnt happen!!!!!. Its because people respect them, now being a blue blood of a new American way of thinking! :we put god first in all things we do thank you in jesus christIts time to get right with GOD\n",
      "Vote red I know a lot of peoples hate this man !! DJ trump But I still think DJ Trump still one of Gods children !! 😘❤️❤️😘😘😘😘😘😘😘❤️❤️❤️❤️❤️😘😘😘😘😘😘😘❤️❤️❤️❤️❤️😘😘😘❤️❤️❤️❤️❤️😘😘😘😘❤️❤️❤️\n",
      "I'm voting for Trump 2024!\n",
      "LIAR\n",
      "It's about time they fact checked Teflon Don\n",
      "Voting for Trump!!\n",
      "We will tell Harris to movie to Paris!\n",
      "I'm in England I wish I could vote for him\n",
      "We need a man like trump to run British government\n",
      "Yes he will do it make America great again love him\n",
      "He will be the best president in history when he is counted\n",
      "❤❤❤❤❤president ❤❤❤❤i am an Asian\n",
      "I’m proud to be an American 🇺🇸 where at least I know I’m free!\n",
      "Kamala Harris, You Fired ! You are not the mother\n",
      "Women eggs with blood in it don't carry babies: It's the male sperms that carried the baby & inserts it into the bloody egg\n",
      "Trump 2024🇺🇲🇺🇸🇺🇲🇺🇸\n",
      "I'm Danish, and even I believe, that this man would be much better for the U.S. than the alternative...\n",
      "He’s just such a fucking G\n",
      "😂😂 looks like ole T-money still got his ear .. 😮😮..\n",
      "Trump 2024+❤❤❤❤\n",
      "Fact check can be seen from Skynews AU Australia in YouTube: Leftist losing it. Australia is our five-eye alliance. It is not only a US election, as a leader of the free world, many policies could be affected the rest of the world and to out allies. Our friends from Australia are helping us to make wise choices and to debunk these lies.\n",
      "Trump 2024\n",
      "Bendito JHEOVA ELOHIM Proteje al President Trump en El Bendito Nombre de Nuestro Senor JESUCRISTO AMEN 🙏\n",
      "Mexicanos x President Trump GOD BLESS America 🇺🇸 🙏\n",
      "Black man here. hows it going? 🙋‍♂️ im voting for Donald Trump 2024 lets making america great again.\n",
      "That lady in CBS is kamala college buddy\n",
      "Voting for president Trump 2024\n",
      "Trump❤❤❤❤\n",
      "They should be charged with Election Interference ,they conspired with Karmela,she know the questions ahead of time,she was never fact checked ounce when they knew what she was saying where lies While Trump was fact checked several times.Tell me that isn't Election Interference. TRUMP24❤❤❤\n",
      "How bad media is right now, I’m watching a trump campaign video whilst every ad was “vote for Kamala.” we know damn well trump dumping just as much if not more into ad campaigns, but the media won’t show it.\n",
      "Trump said Kamala is kind of nice name.Im from Finland 🇫🇮, and in finnish language is word 'kamala', and translated in english, it means 'terrible, awful'. 🤣I really think Kamala is truely terrible!If i'd be american, i'd most definetely vote mr.Trump for Americas president 👍.🇺🇸💯TRUMP 2024🇺🇸💯!!\n",
      "The world's ONLY chance ...- it sure ain't harris ...\n",
      "Kamala laughs and smiles like a celebrity .Not a serious face Of a president .I like the way Donald Trumps speaks and the importance he gives for the nation\n",
      "Slopadopalus 😂😂\n",
      "I’m voting for you Trump and praying for you\n",
      "Donny, you are so funny 😁. ❤\n",
      "She took advantage of biden health to decide to pop in .nobody voted for her how she decided to run like nothing else. We all voting 🗳 for Donald Trump that's all.\n",
      "MAGA\n",
      "I lost all my guns\n",
      "She is a total liar about Frac. I know first hand\n",
      "There 22 million people homeless because can not afford rent and mortgage my girlfriend works In hotel and half the people in it don't have a place to live and can't find a place to live or afford so they go to hotels to live been that way for last few years .they have good jobs but no pace to move to that's affordable\n",
      "We love ya Trump. And we are with you. USA. Victory\n",
      "Yes they need fired\n",
      "You did not lose you won\n",
      "And what a pity,people are supporting his and his family's megalomania!\n",
      "Why can't this me galomaniac old man take rest in his remaining old age instead of competing with younger generation to satisfy his megalomania .\n",
      "It will be a Blessing not to hear or see Harris ever again. President Trump is a PROVEN President.\n",
      "Trump , you are not the Sovereign God .Israel will stand as the stars and moon.😊\n",
      "Trump for president. He tells the truth\n",
      "American patriots love Trump!!! Trump is the only commander-in-chief who can make America great again.Trump will be the only presidential candidate!!!🎉🎉🎉🎉🎉🎉🎉🎉🎉🎉🎉🎉🎉🎉🎉🎉🎉🎉\n",
      "Thank you Donald Trump for standing up against the very corrupt democrats. Open Border to make the illegal migrants to vote but they know that American elections is a privilege given to American Citizens. Fight back America. Vote TRUMP to make America Great Again.\n",
      "We need more news outlets showing candidates just talk. Show it all. Media has been a problem in swaying opinions. Where are the real journalists anymore?\n",
      "He is in Arizona everybody has a gun.\n",
      "He is in Arizona everybody has a gun.\n",
      "He is in Arizona everybody has a gun.\n",
      "He is in Arizona everybody has a gun.\n",
      "He is in Arizona everybody has a gun.\n",
      "He is in Arizona everybody has a gun.\n",
      "🫶🏾🫶🏾\n",
      "I wish Trump bashed less and talked more about how he will unite the difference of our country.\n",
      "Trump can walk hand in hand with Lincoln. Both great men. Both superb Presidents.\n",
      "realistically, Americans should be able to have the same types of weapons as the military.. What we're allowed, are muzzle loaders comparatively.\n",
      "that's scary that everybody has a gun wow\n",
      "Thank you, 😊\n",
      "Boycott woke universities\n",
      "FLIP EVERY STATE RED. SAVE AMERICA. GET OUT AND VOTE.\n",
      "Harris stinking lying commi.\n",
      "Per ABC staffer: I have worked for ABC news for over 10 years in various technical and administrative positions. Since the acquisition of ABC news in 1996, I have observed significant transformations in the nature of news reporting at the organization. These changes suggest a shift from unbiased reporting to a model influenced by external factors. For the record, I do not endorse Donald Trump in his capacity as candidate for President of the United States. The intent of this affidavit is to address concerns regarding percieved biases within news reporting within my employer’s debate that will be hosted on September 10, 2024. The Harris campaign received particular accommodations, including, but not limited to, the providing of a podium significantly smaller than that used by Donald Trump, and assurances regarding split-screen television views that would favorably impact Kamala Harris’s appearance relative to Donald Trump. It was agreed that Donald Trump would be subjected to fact-checking during the debate, while Kamala Harris would not face comparable scrutiny. This was widely known throughout the company that Donald Trump would be fact checked. In fact, various people were assigned to fact check observations it was perceived candidate Trump would make during the debate. In fact, Harris campaign required assurances that Donald Trump would be fact checked. This was done via multiple communications with the Harris campaign whereas the Trump campaign was not included in the negotiations. To my understanding, any rules negotiations and conversations pertaining to the debate should have both the Trump and Harris campaign involved, the Harris campaign had numerous more calls regarding the debate rules without the Trump campaign aware or on the call. The Harris campaign was provided with sample questions that, while not the exact questions, covered similar topics that would appear during the debate. Furthermore, the Harris campaign-imposed restrictions on the scope of questioning, including: No questions regarding the perceived health of President Joe Biden. No inquiries related to her tenure as Attorney General of San Francisco. No questions concerning her brother-in-law, Tony West, who faces allegations of embezzling billions of dollars in taxpayer funds and who may be involved in her administration if elected. Internal Organizational Climate: I have observed a pronounced bias against Donald Trump within ABC news. Employees expressing favorable views towards him experience significant concerns about potential retribution. Purpose and Documentation of Affidavit: This affidavit is executed to document and provide transparency regarding the issues of fairness and impartiality in the debate process and broader concerns about journalistic integrity at ABC News. Additionally, for further investigation, I have secretly recorded several conversations that will prove that the Harris Campaign insisted upon not only the Fact Checking of Donald Trump, but also insisted on what questions were not to be asked under any circumstances or else the Harris campaign would decline to participate in the debate. I have sent a certified letter to Speaker Mike Johnson, dated Sept 9th, 2024, to establish a record that the correspondence was sent before the debate commenced.\n",
      "Go trump am from Arizona but live Houston\n",
      "Vote Kamala for President of VICE!!!\n",
      "TRUMP 2024 🇺🇸🇺🇸🇺🇸!!\n",
      "I PLEDGE ALLEGIANCE TO THE FLAG OF THE UNITED STATES OF AMERICA AND TO THE REPUBLIC FOR WHICH IT STANDS ONE NATION UNDER GOD INDIVISIBLE WITH LIBERTY AND JUSTICE FOR ALL. AMEN!\n",
      "God Bless America Amen! God Bless President Donald J Trump Vice president JD Vance Amen!\n",
      "Love you President Trumps!!!! Sound the Trumpet! Trump for President! I’m sure you have some South African blood in you, you are the best😅😂\n",
      "Like those in lyin queen\n",
      "💤💤💤💤\n",
      "Trump's running on sound policy and America first, Commiela's running on Trump.\n",
      "PRESIDENT DONALD TRUMP LOVES AMERICAN FAMILIESPRESIDENT DONALD TRUMP LOVES AMERICAN FAMILIESPRESIDENT DONALD TRUMP LOVES AMERICAN FAMILIESPRESIDENT DONALD TRUMP LOVES AMERICAN FAMILIESGOD BLESS AMERICA GOD BLESS AMERICA!!!\n",
      "“KAGALA “HARRYS YOU ARE FIRED!!!!😂😂😂\n",
      "TRUMP WILL HAVE ONE RALLY IN MADISON SQUARE IN NEW YORK AND FLIP NEW YORK STATE RED.\n",
      "Haa I thought he's running for Leader of the USA... Not the WorlD.!??\n",
      "New York, Minnesota, Michigan and Wisconsin will all flip red for President Donald Trump\n",
      "MAKES AMERICA GREAT AGAIN !,,, THE BEST SOLUTION REGIME CHANGE IN IRAN , !,, LONG LIVE SHAHANSHAHY IRAN !,,, KING REZA PAHLAVI ,,,KING REZA PAHLAVI\n",
      "Anyone that votes for Harris obviously don't care about American\n",
      "The only man in the world who can do the job me and my family or praying for you and praying you will win\n",
      "We would have Ukraine Russia problem okay donal what would you have done to the only nation on this planet that can destroy your continent in one hour you're living in lunacy Donald !\n",
      "Trump for life. God bless him. He will bring this country back to greatness\n",
      "Trump 2024 🙏🇺🇸💯❤\n",
      "He looks strong and ready to lead a country\n",
      "He loves America !!\n",
      "3:24 😂😂😂😂😂😂😂😂😂\n",
      "From Argentina! Trump WILL BE PRESIDENT!!!\n",
      "Interviewing about the results only in Naperville is rediculousIt’s like asking people in the Vatican what there religious preference is\n",
      "They never fact check Kamala, she lied about no soldiers deployed in war zone when there is…. Donald Trump may exaggerate but he never lied specially about that dogs and cats, it should be address before it gone out of control\n",
      "It wasn’t good when he was in office no jobs then yeah thing were cheaper but no jobs\n",
      "NBC is part of the corrupt media\n",
      "I need Harris on my vote.\n",
      "I won’t take any chances with la burra Kamala.\n",
      "Karmala is a liar .\n",
      "She spanked him like the whiney little lying brat he is. Make America SMART again. He can’t handle another intelligent beatdown. Vote Harris. 💙\n",
      "All these racist low life gutter living flunkies\n",
      "These racist bigiot j suck boy j f Vance and chucky suck boy Gatez these kkks rotten monster boot 6:25 licker for looser dump Donny boy the walking devil in a blue stinky soiled to do do suit\n",
      "She was coached, given the questions in advance and lied all through the debate!!! 👺👺👺👺👺👺\n",
      "How come all of a sudden vice president was able to speak correctly last night for the first time out of everything she has said including the ads on TV. How could anybody say meaning vice president was in the lead I thought Trump did fantastic\n",
      "ABSOLUTE LIES! TRUMP WANTED THREE DEBATES BUT THE MARXIST BITCH REFUSED! TRUMP HAS INTERVIEWS ALMOST DAILY HOW MANY HAS THE MARXIST BITCH HAD TOTAL SO FAR?\n",
      "Of course Harris destroyed Trump look at the experience Harris has over 30 years of government service she was a DA, AG, Senator and current VP and Trump is a failed one term president\n",
      "Listen NBC Chicago and you Chicago people I was born in Chicago I am a black woman mother grandmother and grandmother I saw the scam debate those corrupt idiot people who did the moderate never asked Harris how bad the Boarders are under her being in charge inflations crimes when Trump was in office people had jobs and their wasn’t more wars. How couldn’t a normal person set Watch that debate when Harris said Trump left the worst economic when the economy was already bad when Obama took in early 2003 when Bush started 2 wars Chicago people like mostly middle class low income people across America lost their houses because all their jobs went to China Thanks to Corrupt Bill Clinton who pass NAFT\n",
      "Prepared????? How ???not one policy she is good nothing...3 vs 1 her game plan was LYING, LYING, LYING!!\n",
      "You won't hire a convicted felon, rapist, racist, fraudster, insurrectionist and someone who bankrupt most of his business. So how is he qualified to be a president?\n",
      "a question for trump supporters, what has he said policy wise (and for this election) to fix the economy?\n",
      "Kamala didn’t have a debate she instead gave a speech, she after all was given the questions in advance. As for trump he had to argue with three people, who has already placed judgement on him. Mainstream media used to have so much integrity and are neutral, but now it is filled with people who just push their own agenda, and push misinformation left and right.😢😢😢\n",
      "If Harris wins the election, the world is going to be ruled by China\n",
      "Both are an abomination 🔥. Transformers and Decepticons.\n",
      "Why hasn’t she done it 😂\n",
      "Kamala is a psychopath, don't trust her, she will do anything to get her way. The way she laughs, the gestures she makes, the way she looks, she is a maniac.😢😢😢\n",
      "Trump 2025 🇺🇸 will go down as the greatest president of all time 💯\n",
      "Worst economy since the depression?? Has there ever been a bigger lie?\n",
      "https://youtu.be/kSqaTh00HnA?si=kFhUjWPG8oo9NZPKKamalla lies exposed\n",
      "https://youtu.be/gR-8ik1b7Lc?si=DEkaOWN2dEFuEztaPets migrants? sanctuary cities mayors will lie\n",
      "Kamala Harris came better prepared? Or she came already knowing the questions and was told that she was not going to get fact checked! Why did they not confront her on her lies? They lie and try to make it look like Trump was not telling the truth? https://youtu.be/7G0yUP9v-t4?si=UMP0WyfVG8VPwusm Kamala Harris absolutely will band fracking. How do I know? As before the end of the debate she brought up the fake climate change topic again. Her comments about the abortion issue we're also full of crap! Supreme Court sent the issue down to the state level because it was a state's rights issue. Not be taken back up to a federal issue because there is now presidents that it's a stage rights issue. She also talked about the woman's right to her own body! I do believe everyone believes that a woman has the right to her own body. No issue at hand is not her body it's the body that's growing inside of her! DNA test and let's follow the science! DNA of that child will not match the DNA of that mother. But Democrats don't follow science they only follow the lives of their father Satan\n",
      "https://www.youtube.com/watch?v=kj_NAIooHw0\n",
      "Well we've seen both in office already so that makes it easier\n",
      "She’s. CrazyGod help us all if she’s elected\n",
      "I haven't really known of a VP who has had much to say or be recognized for their role. Maybe Dick Cheney who I thought was more of our president than Bush at the time for his forceful and known voice. As for Kamala, she has always been in the shadows. But now she is not. Call me whatever you want but I am hopeful and I can't trust Trump for what I have seen but I haven't seen anything yet for Kamala. I am willing to give her a chance. I am voting for her. May the best man win.\n",
      "Harris never answered any questions! Especially the first question! Her rehearsed word salad answer does not relate to the question!Trump won! You have to be brain dead and stupid if you think you can promote this unqualified and failed vice president to President! No way are we the smart people allow another 4 more years of a disastrous administration! Demented President and clueless lazy Vice President! Stunad 😮\n",
      "Liar kamala...no policy\n",
      "TRUMP DEFF.NEEDED ,HARRIS IS A JOKE ,HER ANSWERS ARE INSULTS OR LIES ABOUT TRUMP ,ANY EXSCUSE OR STORY TO AVOID ANSWERS DONT THINK SHES CAPABALE OF THOUGHT\n",
      "This article is hogwashTrump 2024 God doesn’t want a Baby Killer!\n",
      "Lmao better prepared, GTFO she's a fkn liar as is your FK FKN NEWS\n",
      "U are also bias, did she said how she’s going to lower the so “”called gouged “” food , how about fix the this lousy economy that she created . Have you thought about haw she’s going to use my hard tax money to pay for transgender inmate , and how is she’s going to fix the border crisis . And also , why can’t she answer if she was better off 4 years ago under Trump . Common morons , you answer for her because she is so stupid , she won’t answer. She want you puppets , to answer for her\n",
      "Bullshit\n",
      "Harris/Walz 💙🇺🇸💙🇺🇸\n",
      "It was obviously that it was stacked. Why do you think she was no where to be found for months. She was being told what to say and the moderators practiced with her. It was blatantly clear the Dems cheated. Hopefully America is smart enough to know the truth. She isn’t smart enough to be a vice president let alone president!\n",
      "All we got to see was the great acting skills of kamelatoe harris Fake crying on tv while she’s talking about MORE TAX BREAKS!! Where do these idiots think where going to get this invisible money? Tax increases you dummy’s? And what about people without children? And why are we so caught up on abortion? What about cost of living? Inflation? Cost of food? Rent caps? What about implementing more affordable housing for veterans and elderly? Come the hell on? Who can buy a home or start a business when mental health and drug addiction is the real pandemic in America next to illegal immigration- but let’s give $6000 child tax credits? GTFOH!!!TRUMP2024 and forever! Fix America and vote Trump if you love your country!\n",
      "Unfortunately, social media is unreliable. I believe the only true debate is the elite 1% fighting to buy our next president.\n",
      "Re: Abortion in the 8 th month + .There were 7 but as of a few weeks ago, there are NOW 8 states that allow it because Tim Walz signed it into law for his state. It is legal and it is happening. The moderators should have been fact checked and Kamala lied. Fact!\n",
      "Trump2024. 2016-2020 were good years for America. A good economy, good health care and low taxes. I could go grocery shopping and not spend $300+ and gas was less than $3/gallon\n",
      "Hillary should have won years ago , Trump is a sneaky racist rich criminal, go Harris and Blue 🔵\n",
      "TRUMP ❣️\n",
      "Trump 2024🇺🇸\n",
      "She sucked\n",
      "Prepared for what? She was prepared for selling her like ability not any real plans for the country that would be reassuring that she would make a good president. It was all about pushing Trump’s buttons. Such deception. We still know nothing about her policies (that really matter) We just heard rhetoric. Also, her facial expressions were so obviously rehearsed.\n",
      "The didnt hold Trumps hand he need to only go to fox news or stay in the basement\n",
      "It was horrible the host favored Harris she didn't answer questions she wants illegals in this country 2:13\n",
      "Covid was a psyop to sabotage trump….. change my mind\n",
      "🖕🏻🖕🏻🖕🏻🖕🏻NBC SUCKS!!! Yall are so biased it’s disgusting. KAMALA IS A COMMUNIST!\n",
      "Nobody gonna fact check all commie las lies? Still lying about project 2025, still lying about Jan 6, still lying about Russia, still lying about Charlottesville…. Still lying about guns, still lying about flip flopping policies… The list goes on..\n",
      "Why wouldn't she answer questions that's what alot of pple wants to know.i wouldn't give her the satisfaction for another debate. And Trump didn't have to say things was better 4 years ago cause we allknow it was. Besides demoncrats\n",
      "You mean Donald John Trump came better prepared and Kamala Harris anybody who is paying attention he was three against one the news media and Kamala Harris against Donald Trump\n",
      "Not one comment about all of the lies that Kamala Harris said\n",
      "This election is Trump for capitalism, tax cuts and the free world or Harris for communism, massively higher taxes and even more expensive goods. Under Trump EVERYONE will be better off financially, under Harris EVERYONE will be poorer. Unfortunately most under 40’s now think capitalism is bad and that it’s the reason for the disparity in wealth when in fact it’s the exact opposite. Communism causes the huge disparity in wealth. The middle classes are eliminated with a communist government, everyone has exactly the same, just slightly more than nothing while only a select few are very wealthy. Capitalism provides a ladder for people to climb, with communism there is no ladder, you’re either massively wealthy or poor. Why do you think all the wealthy celebrities are ok with endorsing communism? Because they’ve already made their fortunes and won’t be affected. PLEASE SEE SENSE AND VOTE TRUMP TO SAVE CAPITALISM AND YOUR CHANCE TO CLIMB THE LADDER IN LIFE.\n",
      "Hello wake up!! Pay attention! Less we repeat the same horror policies! Ideologies! Goals, Plans, PROMISES FROM OBAMA!! Remember, he hates America, he hates our military! Our religious freedom and rights! Our fairness in Government rules, protections of ALL! He hates ALL forms of MORALITY! He hates Life! Marriage sanctity, and A slew of other things that Make America Great All These years! HE SAID THAT HE WAS going to Fundamentally Change AMERICA!! BIDEN Was Put In office and Obama!! Was His DICTATOR! Biden with Dementia yet continued 44’s! Plans! Destroy America and Turn us over To Foreign Dictatorship’s!! Now!! Here Comes Number THREE!! The EXACT Same Thing!! Open Borders!! Usher in Millions who HATE!! So they can freely Kill! Steal! Destroy! With Immunity!! Obama’s!! Goals! Plans!! Right IN Your FACE!!\n",
      "Like Trump? Hate Trump? This Is NOT POLITICAL!! THIS IS A MORAL FIGHT FOR OUR COUNTRY!! THIS Is FOR YOU!! 30!! MILLION PROFESSING CHrISTIANS!! VOTE THE BIBLE!! Vote For MORALITY!! WHO Has Made Promises!! And Kept Them ALL?? TRUMP!! Harris Is A Lying Her Head OFF!! Look At Her PAST!! LOOK AT THE Past FOUR YEARS!! She Has Done Nothing!! But Laugh Inappropriately!! Like A SCIZO! MANIC! Off the Charts! Untrustworthy!! ABORTIONS ALL NINE MONTHS!! THIS IS NOT HEALTHCARE!! ITS MURDER!!\n",
      "She did very well cheating with having and rehearsing the questions. No real answers to the question, fail for her\n",
      "This was nothing but A SET UP JUST LIKE 2016!! Donna, Gave Clinton the questions before the Debate!! Same Thing We Saw, Sept, 10! 2024! Debate! All These Weeks HARRIS has Not Been able to put two words together!! Four Years AND She Has Been MIA!! Border Czar! Failure!! She proved to The American People! She Doesn’t care what Happens To Your Family!! Friends!! SAFETY AND SECURITY!! NOW!! VOTE FOR HER?? AND SHE WILL Make OUR LIVES BETTER?? OR is She ADMITTING SHE WILL MAKE LIVES OF Illegals! Who Invaded Our Country And Broke Every Single Law!! AND She Will Reward Them! By Stripping AWAY From The AMERICAN Citizens EveryThing!! SHE CAN!!\n",
      "That wasn’t a debate it was an attack. 3 on 1\n",
      "TRUMP! 2024 debate did not change my mind. she didn't answer any questioms. the message we were better under trump is already on our minds. she is incompetent.\n",
      "You are voting for The Pathological Liar? WOW, YOU MUST BE SMOKING SOMETHING GOOD\n",
      "You are voting for The Pathological Liar? WOW, YOU MUST BE SMOKING SOMETHING GOOD\n",
      "My housekeeper is trying to get in touch with The PATHOLOGICAL LIAR Donald Trump for getting his recipe for cooking DOGS and having CATS as an appetizer\n",
      "My housekeeper is trying to get in touch with The PATHOLOGICAL LIAR Donald Trump for getting his recipe for cooking DOGS and having CATS as an appetizer\n",
      "The Criminal Felon is SCARED TO DEATH TO BE SKINNED ALIVE AGAIN AT A DEBATE AGAINST A WOMAN, AND MORE SCARED THAT SHE IS BLACK 😮\n",
      "The Ministry of Propaganda msm is losing control of the 🐑\n",
      "ABC blows\n",
      "This debate is the platform they will use to rig the elections...\n",
      "Johnson Deborah Anderson Elizabeth Clark Kenneth\n",
      "Trump 2024🎉\n",
      "What a joke she is. I can't believe the complete lack of substance that is in her imagination.\n",
      "😅\n",
      "Trump 2024!!! 🇺🇸🇺🇸🦅🦅\n",
      "Let’s just fuck ourselves for four more years & everybody vote for Harris 🤦🏽‍♂️🤦🏽‍♂️🤦🏽‍♂️🤦🏽‍♂️.. Harris becomes president let’s get ready for war fuck it\n",
      "It’s common sense what has Joe Biden & Harris done in the four years 🤷🏽‍♂️🤷🏽‍♂️🤷🏽‍♂️🤷🏽‍♂️..\n",
      "This whole thing is straight clickbait. The title was very misleading and only gave the opinion NBC. YOU SHOULD DO BETTER\n",
      "Yes there was 4 against 1 with Obama in her ear! Plus she practiced all the questions ahead of time! Cheaters!!! Kamala is a major liar! I will never vote for her.\n",
      "They all are together all the evilness together to try to pound Trump. It doesn’t matter if Trump gets every voter in United States vote for him he’ll still lose cause of Democrats cheat. It’s just the way it\n",
      "I can tell how Kamala is full of crap by smiling and laughing.\n",
      "To me it's nothing new when it comes to trump same oh same oh all none sense\n",
      "Trump won\n",
      "Anyone else getting the idea the media is pitching the same BS. they did with Hillary Clinton Rederick.\n",
      "Did he end up sleeping on the couch lol\n",
      "Kamala debate with ear pieces, every people knows\n",
      "I'm voting for Harris, SHE WON THE DEBATE HANDS DOWN!!!!! Trump didn't answer any questions at all but with his usual sound bytes tooting his horn about how great he is and what he's done is the best in the world, he definitely was flustered n shook cause she was killing him in the debate, n he didn't do absolutely nothing with that great wall he was supposed to build, he didn't do shit, friends with Russia, North Korea etc, Trump will throw America under the bus n all who voted for him will be left empty handed llooking10 karat stupid cause he didn't do anything he said, remember he's a billionaire he might be for the white but green is first so if you not in that class you can forget it\n",
      "Trump don’t want no more all he does is talk about himself and not us the American people. He’s a loser.\n",
      "They're definitely pushing votes for Trump and don't even realize it\n",
      "Wow another hit list of bullshit she didn't answer 1 fucking question total ignorance shameful bullshit more time he was constantly interrupted what a joke and for your information if you look you'll see he was 💯💯💯 correct with everything he said bar nothing and if you don't look you get what you deserve.\n",
      "What is this woman an idiot or what? Why would she walk up all the way to donald trumps Podium and introduce herself as if he Doesn't already No.Her stinch! And seriously what is with her dance moves, Her shoulders bouncing up and down her hands moving Around like a robot her head bobbling up and down and all around like a bobble head! Began lied she did not come from a middle class family and her mother didn't her inner sister by herself.That's a lie. If her lips are moving she's lying. She made the whole thing about her.She said nothing about how she's gonna fix the deficit.She said nothing about closing the borders.She said nothing about removing all of these immigrants but She does want to have our taxpayer dollars.Pay for transgender surgeries for those who are in prison.Nobody told them to change their sex.God gave it to them for a reason not to change it. So why should we pay for their change?Nobody told them to do what they did to break.The law and end up in prison. Yet she was all for keeping prisoners.Who should have been released years ago?Kept them in prison longer for cheap laborshe ought to be ashamed of herself.And this is who you want for president , not me. We want the The best man for the job. I'm a woman but I don't believe in having a female president ever. Especially one that never goes to other countries to meet up with presidents.Or anything else to talk about any issues that are going on.We don't need somebody who's scared and unstable as she is.Now, I don't know if she's a mother or not, but I wouldn't want any female in charge of that red button and start a war.Hell NO, He'll NO! I'm a female who does a man's job to and I was a captain. But I did my job. The smart made sure, I looked at all angles of every corner of the box and then looked outside of the box to see other options and what was around me and what I can do to make the best decision for everyone's sake because life's dependent on my decision. And I wanted to make sure everybody got home to their family. This woman, dad.Such power could not and would not and will not make that decisionshe can't even make her own choicesshe has to rely on her puppet tears.As joe biden did. 😂😂😂😂 So am I offer a female president? Hell, No! 😂😂😂😂😂\n",
      "America is considering a convict for president, let that sink in .\n",
      "Fake News Boooooo\n",
      "Bs Trump 24\n",
      "Harris cheater cheater..dick eater...God bless America and God bless Trump ❤❤❤❤💯💯🇺🇸🇺🇸🇺🇸\n",
      "People should vote on Merit not on skin color or gender.\n",
      "Since the mods didnt do it I fact-checked both:Harris stated she wasn't trying to take our firearms Fact-check 1: Kamala Harris expressed support for a mandatory gun buyback program in 2019 Trump believes in better control of who is purchasing. Harris stated there was no agenda for late term abortion Fact-check 2: Multiple states have no restrictions on it, a woman can find out late that her child has mental or physical defects and terminate the day of in some states i.e. the Virginia governor in 2019 proposed and advocated for late term and in his own words \"have a discussion with the mother on what to do with the 'child' after it is born\" verbatim. Tim Walz also removed reporting requirements for children who were \"botched abortions\" and left to die. Trump believes in the exceptions such as gr*pe but in early term. Harris stated Trump praised white-supremacist calling them fine people Fact-check 3: the rest of that sentence from Trump (you can look it up) was as follows \"I’m not talking about the neo-Nazis and the white nationalists because they should be condemned totally.\" Trump was speaking on the people protesting the removal of national monuments who were both for and against it. Harris stated Trump organized J6 Fact-check 4: He didn't organize it, he wasn't even there. He was asked to make a statement and he urged them to be lawful and respectful as it is their right to protest (you can still find these tweets) and no one was armed. It went sideways when the ges ta po began beating the protestors which there is video evidence of. Police did die later and of completely unrelated reasons. Kamala however was there and there's recording of Pelosi saying nah to national guard when it got out of hand. Weird... Also note: She said J6 was the worst moment in American history since the CW the eve of the anniversary of 9/11. Extra weird... Harris blamed Trump for the border issues Fact-check 5: Brandon appointed her in control of the border because of the \"surge of people they needed to move\" knowing their was an influx of \"visitors\". There is also video of this. Trump didnt turn down the border law, Republicans refused it because it came with \"deviled details\" that instructed anyone who DOES cross cannot be detained so in essence they were trying to be sneaky and the Center of Immigration reported Bidens deal would do nothing if not make it worse. Trump tried to build a wall, Harris stated it wouldn't do anything to help, now she wants to build the wall all of a sudden. Strange. Bonus: Harris stated all the corrupt politicians that worked for Trump whom he fired now support her. This is true. And Walz family, Harris own father, and a good chunk of the Democrat and Independent party now support Trump creating the Unity Party.\n",
      "Enough. “They are eating your dogs!!” was the worst piece of propagandist drivel ever uttered by an American presidential candidate. Mr Trump screamed it on National TV while losing a debate. That was it for me. Voting blue for Country and decency.🇺🇸💙\n",
      "It's a darn shame but it seems like the US is definitely on a downward spiral. What in the world makes Kamala Harris qualified as commander in chief? Why don't we have strong male leadership that can take on this country make it better for all. Protect the women to keep them safe out of harms way. Reference Romans Chapter 1 verse 25. And the song...Lola (girls will be boys and boys girls) this world in headed in the wrong direction.\n",
      "Only trump\n",
      "Trump 2024 baby\n",
      "WHO is the winner\n",
      "All these people are quoting and saying the exact same words they were fed.\n",
      "Funny these people believe the crooked corporate media..they quote the media word for word.\n",
      "Martinez Kenneth Lewis Lisa White Robert\n",
      "TRUMP2024!! 🇺🇸 🇺🇲 🇺🇸 🇺🇲 🇺🇸 🇺🇲\n",
      "Regardless of how good either candidate can debate, here is the Last 4 years economic summary : ( pls vote Republican)In its new Quarterly Banking Profile report, the FDIC , US banks reported $21.3 billion in net charge-offs in the second quarter of the year, due largely to credit card delinquencies and sour commercial real estate loans.That’s the Highest quarterly net charge-off rate since the second quarter of 2013 and 20 basis points higher than the same period last year as customers continue to battle higher interest rates and inflation. /The Daily Hodl/ Digital economy.\n",
      "He is a LUNATIC😂\n",
      "People are stupid.\n",
      "UK Fox seems heaps more civilised than in Australia or the US.\n",
      "EVERYTHING TRUMP SAID WAS TRUE! I have seen videos on X concerning these issues! TRUMP 2024! As far as what the man said about abortion...Pres Trump said that in certain cases such as rape, and complicated pregnancies to save the life of the mother, he agrees a abortion is necessary! Y'all are another biased news only giving one side...SMH\n",
      "The silly American is angry with their politicians, AND rightfully so.AND the CONMAN saw the opportunity to play the ANTI-Politician? Making Promises, Deflecting Truth and blaming THOSE OTHER GUYS. Everything the American People WANTED to hear WAS EXAGGERATION. A BILLIONAIRE who convinced those poor SOPS he was one of them. THATS ALOT of IGNORANT ACCEPTANCE.\n",
      "Reminds me of The Andy Griffith Show characters talking about Ernest T. Bass. \"He's a nut!\"\n",
      "he’s a great businessman lost money on a casino sold chump steak sold water out of the local pond flew round decrepit airplanes spent £2 billion pounds on a worthless tower in Chicago the list goes on\n",
      "Historicaly, ever since the Civil War, the Economy of this Country is better when Democrats are running it, even Trump, before he \"switched Parties,\" agreed with it\n",
      "Trump is crazy\n",
      "He couldn’t run a raffle without everyone’s help\n",
      "How was this reporting allowed on sky news Australia, I really thought that would be against there policy\n",
      "Harris won\n",
      "U say voters entrenched then u imply debate night is decisiveU can’t have both be true\n",
      "Every breath Trump takes is stolen oxygen.\n",
      "Democrats STEAL ELECTIONS\n",
      "Communist China is supporting Harris, Democrats will vote for trump\n",
      "Accept a \"looser\" is the american version of Brexit.\n",
      "Like in many countries, both sides of politics are shockingly terrible, but for different reasons. Where are the true Libertarians?\n",
      "Trump will win. Now that Harris is still being fact checked. They tried to make him look bad and his haters fell for it. Harris has absolutely nothing to offer to help improve this country. That’s a fact too\n",
      "Vote Harris 👍🇺🇸💙💙💙💙💙🔵🔵🔵\n",
      "Wow Sky news is posting negative opinions about trump? Man that’s good to to see. Now if news max would do the same! Then fox! This country would be heaven on earth without all of the corporations combined lies they put out there threw these corporate self interest “news channels” that gets people to vote for these maga republicans who work solely for them!\n",
      "\"Yesterday, we discussed the Presidential debates. I think my perspective is not entirely objective, since I'm a Trump supporter.Kamala Harris didn't answer clearly about inflation, which might be used against her. On the other hand, Trump used controversial examples to emphasize the immigration issue, which might attract undecided voters.As a foreign observer and Trump supporter, I believe his promise to end the war is an important factor. Americans must decide who will be their leader.\"\n",
      "Only boomers are voting for trump.Anyone under 50 will vote Harris.\n",
      "He is our only option.\n",
      "Beautiful intelligent women\n",
      "This crazy man Trump is about to increase our tax by 20% but he can’t see that , which outta tell ya that he’s really not wise when it comes to the economy he just doesn’t see where he’ll start a tariff war with china again. Vote Kamala Walz\n",
      "tRump in leg irons 2024!\n",
      "Anyone who still supports Trump needs help 😮\n",
      "He can do a much better job than Kamla can I’m voting Trump all red ticket\n",
      "A good businessman? With six bankruptcies, lawsuits for fraud, tax cheating, numerous failed business, 4,000 business related lawsuits in 4 decades of doing business? WTH?Not including ajudicated rapist, convicted felon on 34 counts, stealing classified documents, twice impeached traitor and insurrectionist. Some people have mush for brains.\n",
      "Vote blue!!!🔵 🔵 🔵 🔵\n",
      "NEXT PRESIDENT OF THE UNITED STATES. HARRIS NEXT LOSER.\n",
      "The. Man. Filed. For. Bankruptcy. 9. Times\n",
      "Trump. Is. Losing. His. Mind\n",
      "Kamala Harris and Tim Waltz for the White House 🏡. Please NO FELANS allowed in the White House 😊\n",
      "Trump totally sucks.\n",
      "I say as Trump: Save a tree eat a beaver!😂😂😂😂\n",
      "How ignorant are people? How can someone have their head so deep in the sand? How can people not believe that there are Haitians eating cats, dogs, ducks?? How do they not know that babies are killed at nine months? Do people not read anymore? Did they just sit glued to a stupid TV set? The ignorance and idiocy in this country is blowing my mind!\n",
      "Why do people think Trump is a good businessman he has went bankrupt to avoid paying people their job money I think that makes him a bad business man never vote for him never will\n",
      "Why is he there in the race for President??? He is a convicted felon!!!!!\n",
      "No one in America seems to vote on the actual issues, the problems in the United States that , if left to fester, will develop into major, society crushing crisis. No. They prefer to vote on social issues like abortion, transgender rights, race.. etc, or \"how they feel\" about a candidate. Right now Americans are doing the equivalent of rearranging deck chairs on the Titanic.\n",
      "I urge everyone to track down the footage online of Trump holding the crypto-currency conference the other day, and trying to answer questions on crypto-currency. He knows nothing of the subject but that doesn't stop him from answering all the questions. It is an absolute train-wreck of comical proportions.\n",
      "TRUMP 2024. MAGA 47\n",
      "That guy who thinks he’s Good business man? Please xplain\n",
      "God Bless . . Texas , Florida , Arizona , Alabama and Taylor Swift . . 💙 🇺🇸 . . 💙 🇺🇸 . . 💙 🇺🇸\n",
      "So the first guy says trump is a lunatic but will still vote for him. What does that make him ??😊\n",
      "It is amazing that ANYONE, in their right mind, would even consider voting for Trump!!!\n",
      "0:08 poor old Rupert was screwed over as well over 600 mill they paid out One the next case is estimated to be 1.4 bill just got to love america\n",
      "A good businessman with how many bankruptcies . Still his big one to come making America bankrupt.\n",
      "I lost it when....They eat the Dogs, they Eat the Cats.Trump 100% OUT.\n",
      "He’s nuts\n",
      "Trump is finished! His political career is over! He is sinking fast!\n",
      "Fraud is being prepared in the november 5 USA elections - 2030 agenda\n",
      "A \"SUCKER\" is someone who supported him in 2016.A \"LOSER\" is someone who still does.Trump - the Elmer Fudd of politics..\n",
      "We have to win my state Pennsylvania we have to have it. We can’t let a convicted felon rapist with 60 open cases and more to come win my state\n",
      "What the hell is wrong with people 🤦🏻‍♀️🤦🏻‍♀️ trump is very dangerous for your country 🤦🏻‍♀️\n",
      "Yes, he is a lhnatic.\n",
      "Who has declared 6 times bankrupted, meat, liquor, college , air lines all down the tube. Sure hurt the little people.\n",
      "Say it Ain't so Joe a repeat of 2016 Donald Trump elected President.\n",
      "Listen to the hidden message sky news spreading - even if Donald Trump is Lunatic still vote for him. Is not that INSANITY ???\n",
      "Trump is not even a legitimate candidate,he incited a insurrection on the US Capital,he is a felon and should be in jail.\n",
      "About time sky news added some truth to its news…congratulations!\n",
      "TRUMP 2024\n",
      "Harris crushed trump\n",
      "He's a terrible businessman, but even if he was any good it doesn't make him a good politician\n",
      "tRump will be locked up soon. It may give us a well needed break.Who are the nit wits who still think tRump is a good businessman?\n",
      "It is so nice to hear the uplifting speach of Kamala Harris. That Criminal Dude is sooo annoying.\n",
      "Kamala one-nil.\n",
      "Mar a Lago announces its new head Chef, Anatole from Haiti, recently arrived on a work visa.An innovative menu is presented:Mongrel steak cutlets in heart-shaped scallops in hand made fragrant Béarnaise sauce dressed with strands of waving tail sugar strands.\n",
      "Donald Trump has never been a successful businessman. He is an excellent con man and gotten away with it his entire life. But now he is going down. We will elect Kamala and Tim and end this madness.\n",
      "Trump is so desperate to avoid prison - he'll say ANYTHING. DonOLD is done. Finished. A FAILURE.\n",
      "☝️🇱🇷 THIS KAMALA HARRIS ONLY SERVES TO LOSE THE WARS IN WHICH THE USA IS INVOLVED🇱🇷 TRUMP IS A TRUE AMERICAN🇱🇷👍\n",
      "He doesn’t understand how tariffs work 😳. Goldman Sachs says Harris would be better for the economy.\n",
      "General John Kelly…Trumps chief of staff and secretary of Homeland Security…said this about Trump: “ The depths of his dishonesty is just astounding to me. He is the most flawed person I have ever met in my life.” Wow...what a great choice for president!!!!!\n",
      "How can a guy who has gone bankrupt at least five times...be called a 'good businessman'...????\n",
      "VOTE BLUE KAMALA HARRIS AND TIM WALZ NOVEMBER 5TH It time to keep our freedom and democracy and that means NO more BULLYING no more TRUMP\n",
      "Trump and Vance are very dangerous and I can’t wait for the day when I hear about them no more. Vote BLUE 2024 and get rid of this madness.\n",
      "That guy needs his head checked. Trump is unfit to hold office. Harris for President. Please Americans vote 💙💙💙💙💙 come November\n",
      "Say it Ain't so Joe a repeat of 2016 Donald Trump elected President\n",
      "Harris for President\n",
      "“They’re EATING THEIR ….PETS!”????????\n",
      "After two assassination attempts, it seems like the left are the lunatics\n",
      "Trump isn't a good businessman. That was just an excuse the man was using to cover up his real reason for voting for Trump.\n",
      "Can I declare bankruptcy 6 timesCan somebody give me 400 million dollars on a platter?\n",
      "Folks listen to psychologists dr. Bandy Lee recommendation to the court about Trump Eractic behaviour and threats to democracy.\n",
      "I'm a HALEY VOTER for HARRIS 🇺🇸💙\n",
      "The sinking of trump is at hand\n",
      "The sinking of trump is at hand\n",
      "So stupid for people to think Harris is going to fix the problem she has created!!!\n",
      "I saw Donald get humiliated in the debate. The side by side comparison of Donald and Kamala showed that Donalds intelligence was extremely lacking and that he is in no shape to run a country let alone a hot dog stand\n",
      "PA Latinos for Harris/Walz!\n",
      "Trump has policies, and Kamaka has salad!\n",
      "A lot of people need to educate themselves on what the role of a vice president is.\n",
      "No, she didn’t\n",
      "Trump 2024. Trump 2024 to make America great again, for to things cheaper, to lower taxes, to lower housing costs, to reduce inflation, to close the border and fix immigration. Trump 2024.\n",
      "Pennsylvanians wake up, look at the last 3 1/2 years of this administration. The illegals are here and the funds are being spent on them. Not Americans.\n",
      "W trumppp\n",
      "Trump said that the audience went crazy over what he was saying at the debate. Let me know if you can hear an audience, because, THERE WASN'T AN AUDIENCE. So, this is the guy you want to lead our country? Do you care so little about the USA that you'd feel OK with this old man, who is losing his mind, to be in charge, to be commander in chief of our military?\n",
      "It was the first time the American people saw a clown get crushed so badly!! 😂\n",
      "All voters smart now\n",
      "Trump 2024\n",
      "Harris is clueless. She lost the debate. She grew up privilege, private schools.... lies about everything. If you don't believe me. Fact check it.\n",
      "Harris is a disaster. Name anything she has done as a senator or as vice president that supports her being president.\n",
      "Moronic to say Haitians are eating pets? GET SOME INFORMATION. Look at what the people of Springfield are saying.\n",
      "Brown Jeffrey Jones Cynthia Jackson Margaret\n",
      "How will the world you look at you and thinn on US. U. sis a super Power. But never and ever Now an Indian woman not even a man run for a president and all the American are like a dog barking even she was vice president and she did not do any thing and now she said if iam elected i will do all US have faith in that.\n",
      "anthony scaramuci predicts harris victory over Trump\n",
      "Interviewer - “What is your plan for the economy?”Kamala - “in west Philadelphia born and raised, on the play ground is where I spent most of my days”\n",
      "Of course, she sounded better than usual. She had the questions ahead of time as well as audio earrings. The moderators were each paid a million from Harris, and they did not fact-check her.\n",
      "Trump 2024!\n",
      "If you don’t know what you want and don’t know or find what you’re looking for DONT VOTE this election it will pay off for you in the end\n",
      "Republicans control Congress and wouldn’t pass anything Harris wants to do anyway. The White House isn’t running by a king they have to get things passed.\n",
      "I am disturbed by the ignorance in this country. Thank a teacher.\n",
      "It’s September 2024. If you do not know who you’re voting for by now you are an effing idiot.\n",
      "Shes vice president, only so much she can do\n",
      "KAMALA HARRIS 👍💙💙💙\n",
      "Kamala is in office now! And she’s not doing anything she said she would or she would be doing now! Wake up sheeple, this is a capitalist country only thing we want to hear is the sound of money!!!! It’s way too expensive out here!!!\n",
      "Did they cherry-pick the dumbest pa voters here?\n",
      "I wonder if this liberal leaning rag had to look very hard to find democrats to interview …lol!\n",
      "It is up to people to do your own research on both candidates!! Because It took TRUMP saying they are eating the pets for people to realize we have a mass imigration problem!! These people are so delusional!! I hope they realize All the things Kamala Harris suddenly believes in she hasent her whole career she is a liar!! If she somehow gets elected cause these idiots America is finished!! Just look at all her crazy left policies she has been trying to accomplish her whole career no fracking, mandatory gun buy backs, defunding the police, abolish ICE, open boarders for all, giving iilligal imigrants tax payer funded trans gender surgery, taking peoples patients if they invent something i mean the list is endless!!! And Walz supports 3rd trimester abortions! Dont believe me look it up 8 states condone it!!\n",
      "Criticising Harris for doing nothing as Vice president but wait, did you all forget that Trump was President for 4 years?\n",
      "Vote blue 💙 for Democracy!\n",
      "How can anyone with a brain actually believe that Kamala won when all she did was talk down on trump and spew lies.. not to mention she’s all about women’s rights when there’s a total difference between miscarriages, abortions and eptopic pregnancies. If a woman is dying from birth they will remove the baby!!!!! That’s not an abortion 😂😂😂 I also didn’t hear one question be answered by her.. does she have any policies ?\n",
      "I think the majority of the Public have NO idea how govt actually works. The ignorance is quite shocking in this day and age.\n",
      "She cheated everybody seen it. Trump 2024\n",
      "im back said TRUMP. 😊😊\n",
      "That first lady contradicted herself\n",
      "Kamala didn’t even answer the first question in the debate. Kamala’s policy is based on hope. So why has it not worked for 3.5 years? Do you really want to risk the nation on her incompetence?\n",
      "the thoghts of anyone watching that 3 against one debate and some how crownning kamalla the winner ? she never said what her policies where (but we kno already from the last 3.5 years , flood the boarder , start wars , give trillions to other countries and leave us in debt and inflation , the world is dumping our dollar and they still wanna blame trump??? shesh\n",
      "Bartoletti Station\n",
      "“Carmella” are u serious. Can’t even say her name right and yet voting for her. This country is over.\n",
      "welfare crowd does not care how government works....aa long as them CHARITY CHECKS keep rollin in. Democrats are the charity case of America\n",
      "AP news pushing the Democrats propaganda as usual.\n",
      "Have you all learned of the Horrible Cheating by ABC and the Narrators, Shameful!!!!! when you win by cheating, you really can't take the credit!!\n",
      "Trump dominated on the actual issues and policies. Kamala lied and answered nothing. That 3 on 1 debate was a joke and PA voters saw it.\n",
      "American people don't have any experience living under socialism.\n",
      "Hate to tell you but it happens.\n",
      "Harris kamala is lying to everyone I can see ot on her eyes\n",
      "Team trump 2024 👇👇\n",
      "Harris is a scarecrow like Biden, there is no difference between these two people, Obama and the 40 thieves of the Democratic Party are the puppeteers of this game. Believe me, every day they stay in power in the United States is war and political and economic turmoil, chaos and chaos at the borders, and the seizure of power by supporters of terrorists and groups like Hamas. The situation of gatherings You have seen these in American universities and on the streets. There has never been a precedent in American history for burning the flag of the Congress building.\n",
      "She has NO plans ! Allshe knows how to do is lie to try and shift the blame to trump ! She and hillery are in the same sinking boat\n",
      "Harris had earrings that were microphones\n",
      "I'll answer for kamala. Free enterprise and corporate greed are behind the increases in the cost of living. Covid gave them the opportunity to start gouging the buying public, whether it's fuel, food, or the cost of homes rent you name it. It has little to do with who was president at the time. As long as the private industry can inflate prices and make packaging smaller, we the buying public will continue to be gouged . My suggestion to whoever takes over the White House is to find a solution to stopping corporations from their greedy habits.\n",
      "Honey, Kamala never answered a question directly. She does word salad\n",
      "What policies?\n",
      "You will walk us right into communism with Harris\n",
      "Not a citizen then you have NO right to vote. Voting is a privilege to US citizens, not illegals!\n",
      "Wow you couldn't have put together a bigger bunch of clowns.trump 2024\n",
      "We were energy independent under Trump. The Petro $ was weakened by the reversal of Trumps energy policy by Biden/Harris. This policy also drove up fertilizer prices and transportation costs. This also happened under Obama 2007- 2008. While at the same time increasing the money supply and expanding the deficit by trillions. I have not heard Kamala speak about this issue. Food inflation will get worse if they don't stop the destruction of Ukraine. Grain and natural gas will be taken off the Global market. And up goes the prices.\n",
      "Karmela?\n",
      "The guy said he was happy with her policy plan? I didn’t hear any policy plans.\n",
      "Also, Harris lied about everything. Trump was right on point didn’t beat around the bush and came straight at you. That’s what I like about President Trump. And I will be voting for Trump.\n",
      "To the last guy that spoke about the animals being eaten. I never knew that. I’m glad President Trump brought it up now I know. Sick sick minds.\n",
      "Watching from Ireland. Please Please vote blue. We are appauled by Trump.\n",
      "The woman who said Harris was in office for four years and did nothing obviously doesn’t have the slightest clue what the role of a vice president is. People with such a low knowledge of our country’s government really aren’t equipped to vote. I’m serious. It’s sad she can even vote. She should be taking a civics class prior to voting.\n",
      "Kamala Harris on the \"cloud\" , \"It's on your laptop, and it's then therefore up here in this cloud, that exists above us, right? It's no longer in a physical place\". Kamala's grasp of geopolitical events , \"Ukraine is a country in Europe. It exists next to another country called Russia. Russia is a bigger country. Russia is a powerful country. Russia decided to invade a smaller country called Ukraine. So basically that's wrong.\" Wow ......just wow !!!!! You can either vote for the first Black/Indian Woman President or Someone that can lead this country !\n",
      "He had 4 yrs in office to fix the border problem yet left it for the next administration\n",
      "Trickle Down Economic is a failed Policy LADIES. TRUMP vision is more Trickle Down Approach. Harris plan appear to be give back to Working Class Americans and let them build up the Economy. Her plan is to let the Wealth trickle up from the American People's than just given LARGE TAX CUTS THAT'S ONLY benefitting the top 5%. Republicans Trickle Down Economics hasn't benefitted the working class..\n",
      "this first interviewer is dumb. Trashing Trump doesn't answer the questions. Harris didn't answer the questions as she is an economic illiterate. As for eating other people pets people came on tv and actually said that this was happening. So as for the one who thought it was moronic he needs to listen more carefully as it was in direct correlation to illegal migrants invading a community and doing bad things.\n",
      "Everyone needs to be viewing More Perfect Union Podcast clips. View each segment of Gas / Oil, Food and Housing / Rental price fitting. Greed, Collusion and Price Gouging. DOJ IS NOW INVESTIGATING THIS CORRUPTION / DISHONEST BEHAVIOR. These people's received Billions in GOP Tax Cuts and Stimulus Funding.\n",
      "Trump spoke extemporaneously from his brain, whereas Kamala has no brain, apparently, and did nothing but rehearse a script 2024.\n",
      "Do people know how the government works?\n",
      "Kamala Harris is a liar on every level ! Fact.\n",
      "Trump proved himself 2016 she didnt not one question dumb man\n",
      "Kamala is a puppet on a string for obama this is the reason she doesnt answer questions she is told not to because she is a puppet only that\n",
      "These people that vote blue are the stupidist people in the world\n",
      "All true about people eating pets\n",
      "U want something new u will if shes elected u will have communisum\n",
      "Kamala is a communist\n",
      "Maybe that woman can explain what Kamala is going to do for her. A rock has more brain substance.\n",
      "What about Trump's policies?\n",
      "Mrs. Kamala Harris is a free-spirited, decisive, and first-class leader.\n",
      "The first woman was redicoulus. Saying that a VP can make a difference in policies is redicoulus and ignorant. These people seemed to have forgotten what economy the orange clown left during Covid whilst people dieing.\n",
      "Karmala still has done nothing she has not been to the boarder. She is a liar.\n",
      "Kamala lost the debat\n",
      "Trump has found the bottom of the DUMB Barrel as voters.\n",
      "I vote for saving our Democracy. President makes the decisions. Saving our Democracy is crucial.\n",
      "😂😂😂😂😂😂\n",
      "Just ignore those people😮\n",
      "Anyone voting for Kamala has an IQ of 80 or less\n",
      "Lol. \"She could have been doing all these things for the last four.... Or however long...\" The average American voter thinks a VP can just do whatever they want to and I guess Congress is meaningless? Absolute morons. We should need an IQ test to vote. What an embarrassment.\n",
      "Do some research! They are eating pets!\n",
      "these people are living bots in society\n",
      "VOTE HARRIS. VOTE COMMUNISM. THEN YOU VOTE FOR CHINA\n",
      "Kamala is a puppet of military complex and it's puppets biden adm and democratic party and all warmongers Stop all wars vote Trump\n",
      "White liberals are idiots\n",
      "What did trump ever do for us?\n",
      "Kamala Yes or NoLife is just Not that simple Kamala\n",
      "She won because she \"Trashed Trump\". Pennsylvania is full of morons. Now I understand why the race is close in this state.\n",
      "To the people that think vice president can do things, Your wrong she has a boss! That'll be the president\n",
      "Hard to find this debate lol\n",
      "I never thought of this before when I watched LPS! I like the idea you brought up at the end too about the spin off series\n",
      "Thompson Barbara Lopez Scott Johnson Larry\n",
      "Wilson Carol Moore Jose Martin Jason\n",
      "ABC is part of the problem. Go woke go broke. Boycott!\n",
      "Garcia Jennifer Davis Shirley Taylor Anthony\n",
      "Kamala is a fuckin drag\n",
      "Um I'm sorry, and I don't want to get attacked, but didn't immigrants literally build this country? Like the Europeans in the 1700s and all the immigrants that came in during the Gilded Age literally built these big cities. The physically built this country and now he's saying they are ruining it? Sorry not how that works Trump.\n",
      "I felt that the whole debate was controlled and Trump was cut off several times when we was speaking.\n",
      "I’m wondering if liberals genuinely believe they’re not a bunch of stupid shit eaters\n",
      "She sounds like an Obama mistake., Why hasn't VP Kamala done anything in 3 1/2 years as VP. Also, only crazy people makes the faces she makes, i.e. nut cases. She did nothing in 3 1/2 years plain scumbag.\n",
      ".Why hasn't VP Kamala done anything in 3 1/2 years as VP. Also, only crazy people makes the faces she makes, i.e. nut cases.\n",
      "Adults don’t care about Taylor Swift. Also, the fact that Trump is even considered a nominee for president in the first place, is just a disgrace to our country. Then considering he actually won speaks to how few Americans value our democracy and their votes.. I want our country to focus on EDUCATION. It would eliminate most republicans (we all know they’re dumb) and improve every single issue greatly. The more people are aware and informed the quicker we can implement the necessary changes our country DESPERATELY needs. Like universal healthcare, livable wages, gun control, environmental protection, and so so many more that are of the most important!! These issues cannot be pushed to the back burner any longer. They affect every one of us on a daily basis and they need to be addressed, NOW!\n",
      "Trump, your a total idiot .... You have NO EDUCATION, NO MILITARY EXPERIENCE, NO GOVERNMENT POLICIESYou FAIL BADLY\n",
      "IT'S CALLED FREEDOM OF SPEECH .\n",
      "I HAVE A LICENSE TO CARRY MY DAUGHTER WORKS THE FEDERAL GOVERMMET . MY SON WAS A BOROUGH COMMANDER FOR THE NEW YORK POLICE DEPARTR . IS NOW RETIRED . THANK GOD.\n",
      "YOU DO WHATEVER YOU CAN DO TO PROTECT YOUR HOME AND YOUR FAMILY.\n",
      "A CHILD IS LIKE A LOCOMOTIVE ON A TRACK WITH NO ENGINEER . IF THEY CAN'T FIND IT AT HOME THEY'LL FIND IT ON THE STREET THEN IT BECOMES A PROBLEM FOR THE POLICE DEPARTMENT .\n",
      "YOU HAVE TO LEARN TO TAKE RESPONEIBIILTY . IF YOU COME FROM A GOOD FAMILY YOU SHOULD KNOW THAT AUTOMATICALLY . TALK TO YOUR MOTHER AND FATHER ABOUT THIS COMMUNICATION BETWEEN THE MOTHER AND DOUGHTER IS FALLING APART . YEARS AGO A DAUGHTER COULD ALWAYS DEPEND ON HER MOTHER . WE'RE MOVING THE TIME OF SODOM AND GOMORRAH\n",
      "IF YOU'ER GOING TO HAVE A BABY TODAY WHY NOT DONATE IT TO A HOSPITAL. SOME WOMAN WILLING TO ABOPT THAT BABY SHE MAY NOT BE ABLE TO HAVE BABIES , RATHER THEN DESTROY A HUMAN LIFE. I DON'T BELIEVE TI'S THE GOVEMMENT'S RESPONSILITY IF YOU GET PREGNEN .\n",
      "IN MY DAYS WOMAN DID NOT GET PREGNENT IF YOU CAME FROM A GOOD HOME IT WAS VERY RARY . YOU WOULD CONSUMMATE THE MARRIAGE ON YOUR HONEYMOON . THAT MEANS YOU WOULD BE MARRYING A VIRIN. IF YOU LOVE THE YONG LADY YOU WOULD RESPECT HER WISHES .\n",
      "THEY 'RE TOO YOUNG TO REMEMBER HIROSHIMA AND NAGASAKI\n",
      "GO TO CHURCH AND PRAY THAT DONALD TRUMP BECOMES PRESIDENT AGAIN . GOOD LUCK\n",
      "You can see Kamala getting frustrated. It's like she's trying to have an intelligent debate against a spilt child. Its very hard to win an argument against a clever person, its nearly impossible to win against a moron!\n",
      "Jason Momoa for president!\n",
      "Wtf have politics become. I’m not talking about the debate, I’m talking about the comments 😭\n",
      "Who gives af what Taylor Swift thinks 😂\n",
      "Nobody voted for Harris, she's an eligitimate candidate, Demacrats crapped on Democracy and slapped 14,000 voters across the face!! Wake up!!\n",
      "It’s mind boggling how she can sit up there and make these “promises” yet has done nothing this entire time she’s been in office!!! The taxes are sky high, interest rates, gas etc.. she ain’t changing shit or she already would’ve with Biden!! Wake up!!\n",
      "i like her compassion\n",
      "Look at she is posing like an actress. She is proving she is like a baby\n",
      "Love how I watched this and the next recommend video is gayshlat moments part 3.\n",
      "She was handed the questions. Never has she shown any articulation without a weird answer and a cackle. Are we supposed to believe she is now a completely different person? No\n",
      "The biggest mistake is to host the debate and moderated by liberals from ABC but then Trump get handle all this.\n",
      "It's already been exposed. Kamala was wired.\n",
      "Yall cant even equalize the audio?\n",
      "She did not rat him for lunch. All she did was show that she is just like Biden. DO people not see how life is today. I'm the poorest I've ever been.\n",
      "The fact that these two are main candidates, super sad. I’m voting third party.\n",
      "And we the people don't want to hear any more Harris's lies\n",
      "Zaddy Trump 2024\n",
      "Can’t even admit he lost in 2020. Conservatives your candidate represents you! Is this who you want representing you?\n",
      "The only accomplishment Kamala has made is in getting ahead by giving it.\n",
      "Trump just needs to get in office and keep his racist remarks to himself. We all seen it not long ago, the man had the country in a good place, life was affordable he will do it again. Yall just don't like him because he made some sounds with his mouth that you didn't agree with and chose to let it effect the way you feel. Harris is only going to get votes because she's \"black\" and because she's a woman. Those are her strongest attributes and that's it.\n",
      "What's historic about a handshake? They literally always shake hands at literally every debate.And Harris wouldn't have any more power to do anything that she doesnt already have the power to do with Biden. Vote Harris if happy with the way things are now and Trump if you don't like how things are going.\n",
      "If you vote for Kamala (a current sitting vice president) expecting to see all these changes she’s talking about. You’re a special kind of stupid.\n",
      "I don't understand how people can vote for Trump after hearing him waffle on every answer.\n",
      "Trump all the way if no one knows Kamala Harris is running everything we hear im Trump all the way\n",
      "Puppet Soap Opera\n",
      "TRUMP HAS MY VOTE AGAIN\n",
      "SMH the people explaining the story making it one sided it's cool just wait and see\n",
      "what the fuck is happening 😭\n",
      "Harris is full of shit sad part is a lot of y’all are eating it up\n",
      "America is so wild. Its rapidly becoming a GTA server. like why was Taylor Swift mentioned 😭\n",
      "THIS IS THE KIND OF BIAS REPORTING OUR NEWSPAPER DOES. TRUE JOURNALISM DIED ABOUT 40 years ago. WHERE ARE THE WALTER CRONKHITE AND DAVID BRINKLEY’S OF THIS WORLD. This “journalist“ must have watched a different debate than I did. Trump won hands down while Karmela avoided answering the question with many salad words. Please, dear Lord, not her for President.Harris the prosecutor takes on classic Trump in debateSusan PageUSA TODAYIt was Classic Trump versus Prosecutor Harris.Despite all the advice former President Donald Trump got beforehand − that he should attack Vice President Kamala Harris on policy and avoid getting personal − the debater who showed up in Philadelphia on Tuesday night was the familiar Trump.He hurled insults, shouted and used more oxygen defending his record than questioning his opponent’s proposals.Harris stayed on offense through almost all the debate, hosted by ABC News, displaying her experience as a prosecutor in California.She managed to make many of the exchanges not about her flip-flops on policy or the record of the Biden administration but about Trump and his history.Again and again, Trump took the bait when she needled him about the size of his rallies, his criminal conviction on felony charges, his handling of the COVID- 19 pandemic and his reputation among world leaders.“You were fired by 81 million people,” she told him.She said his failure to acknowledge that he lost the 2020 election could indicate he didn’t have “the temperament or the ability to not be confused about fact,” which she called “deeply.\"EDIT: Should any members of this group still subscribe to your local newspaper, I strongly urge all of you to consider doing the following:1. Write to the editor your concerns the lies written in this article expressing your disgust and concerns. Keep in mind, do not be disrespectful in any manner, but instead choose courtesy and respect.2. Cancel your subscription. The best way to let them know you mean business is by doing something as simple as that and hitting them where it truly hurts.3. Pass this along to others in your various communities and groups.\n",
      "Why am i even here,i'm zambian and have an exam tomorrow.AHHH!!!\n",
      "They will have us arguing.. every debate is like dejavu... this is embarassing\n",
      "Fiery? Comrade Harris had a earpiece in so her handlers could keep her on track,she doesn't even know where Ukraine is but she is going to fix our broken country and system,her and her boss Joe are responsible for the mess that we are in anyway,or should I say Obama and team\n",
      "🇲🇽Latina for Trump 🇺🇸\n",
      "I well vote for someone who well help this country\n",
      "Harris all she does is solve a problem that creates four more problems\n",
      "Save American womenFire trump\n",
      "What the HELL IS A RUN SPOT RUN .!!!!!!!! HES A JOKE .!!!!!!!!!! 😂\n",
      "Highlights or lowlights that American politicians have stoop so low and run by oligarchs and lobbyists. Nothing but lies, incompetence, ignorance, lack of leadership,corruption and deceit.\n",
      "There's NOTHING to debate. He KNOWS she doesn't ❤\n",
      "Run Spot Run, 4 sentences 🙄 ok, got it! smh\n",
      "Big day for Autistic Hyenas !!!!!\n",
      "Thay need to cheat an make sure thay not getting help from some body with a ear pic\n",
      "Regardless of who won the debate, there is still uncertainty about who will take swift action to ensure their promises come to fruition.\n",
      "Kamala is an effin joke!!! So are all of you who support her\n",
      "Ok so ABC news is more worried about Taylor Swift. Let's stop watching these garbage news outlets!!!\n",
      "She lies alll day\n",
      "She has an earpiece\n",
      "Imagination has always been here. That is the truth.\n",
      "400 million, bankrupt 6 times 😬\n",
      "We are suffering , and they are laughing ! America wake up. Kamala never talked about her policy . She avoided that question , she used her laughing tricks to distract vulnerable Americans . It’s going to be worse with Kamala, go check her policy . Medias are not telling America the truth . Go find the truth yourself, don’t be deceived by the deceptive laughing .\n",
      "Now, It is within the realm of possibility that somebody somewhere had been eating something they shouldn’t be eating. I won’t blame them because inflation is high under Biden/Kamala. People be eating wildlife for thousands of years. God said himself we shall have dominion over all the animals of the earth from sea, land, and air. And who cares about Taylor swift she’s a millionaire. I never liked her music anyways\n",
      "So glad I'm not American. Its a real clown show over there.\n",
      "Swift endorsing Harris will be as helpful as Britney Spears endorsing Hillary Clinton in 2016.\n",
      "Trump trying to pin immigration on Harris? Who do they think was along with Biden in opening the borders? Lol she calls him a liar, but forgot to look in the mirror\n",
      "Vote for Harris!!! At least she is educated, mature and doesn’t lie to peoples’ faces!🔵 🔵 🔵 🔵 🇺🇸 🇺🇸 🇺🇸 🇺🇸 ☮️ ☮️ ☮️ ☮️\n",
      "They don't care neither of them for the American middle class people hard working Americans . They are all about them and that 1%.\n",
      "If we get a woman in office we are doomed.\n",
      "Well that wasn’t a biased clip, no not at all.\n",
      "Who tf care about Taylor swiftAbsolutely no one\n",
      "Only thing Kamala is good for is for \"servicing\" Trump's huge mushroom 🍄 with her 👄\n",
      "Building oppotunities sounds like a dream. The reality is you should decrease the importance of buildings. The more important property is, the less relevant the people are.For me, Trump is peace, Harris is war.\n",
      "Harris was wearing Nova bluetooth ear Bud earrings in the debate, She cheated!!\n",
      "The female moderator looked evil 😈\n",
      "Oh...well if THE Taylor Swift is voting Harris I guess we should all put on our little girl tights and run to the polls to vote for her too.🙄🤦‍♀️Ya, I'm sold 😮‍💨, right\n",
      "Really you had to add who Taylor swift if voting for. Very non biased reporting lol\n",
      "My children are now banned from listening to any taylor swift related content.\n",
      "No matter where they immigrate from. Don't forget that they are People. Help them get those Papers 📜\n",
      "The only reason I’m now going with trump is because TALOR SWIFTLY JUMPED IN.\n",
      "HARRIS THE TRAP SETTER OR TRUMP FOR BETTER ECONOMY\n",
      "Omg Taylor is endorsing Harris, now I gotta do like her because im such a sissy brainwashed monkey uwu\n",
      "I can see all the trump riders in comments be real with y’all selfs trump lost this debate bad I mean bad\n",
      "Called out for supporting dictators, Trump's defence is \"well Viktor Orban thinks I'm terrific\" 😂\n",
      "Democrats gaslighting the american public by saying \"we always wanted the border secure, not trump\" is goddamn hilarious.The audacity of these motherfuckers.\n",
      "Its laughing Hyena Harris\n",
      "Its laughing Hyena Harris.\n",
      "Kamala is deceiving people on abortion. The law is with states now and the people are voting. Vote Trump for great economy and strong border.\n",
      "How can you be undecided after seeing 4yrs of Trump and 3.5yrs of Harris? Trump all the way\n",
      "There is no such thing as a undecided voter. They lie\n",
      "Performance❤ djt\n",
      "These women are idiots im sorry I had to say it smh\n",
      "Harris winning the debate only keeps her competitive in the race, nothing more and nothing less. Vote 💙.\n",
      "I think a lot of these people really wanna vote for Trump they just don’t want to say it so they kinda do it in a roundabout way but I know it didn’t change my mind. I didn’t really learn anything new. He’s fucking insane. How can you not figure that out from that debate.\n",
      "This election is a global election because the actions of the US Deep state dramatically affects the rest of the world. If you are an 'Undecided', then when you visit the ballot box on election day, please think of the rest of us who cannot vote, and vote for Donald Trump on our behalf.\n",
      "Most of these people who are undecided are just stupid\n",
      "Abc gave her the questions ahead of time.\n",
      "Fake kamala, Liar kamalaFools stupids with her words & actingWillie Brown Puppiet\n",
      "Harris thinks she's winning. The fact that there are a lot of undecided voters potentially not voting for either one will harm Harris more than Trump, whose base has survived a rather unfair debate. If I were Harris, I'd be very restless. And in some of the swing states, despite the debate, Trump is still leading, however small his lead is. Not good... Trump 2024\n",
      "Do these people not understand what will happen to that country if that lunatic is re-elected? Too many lazy low IQ voters.\n",
      "these peopoles dont eveny care about themshelf. they only got themshelf in the circle........they should leave the country asap\n",
      "The US Judicial and Executive systems are powerless against a dangerous criminal like Donald Trump. A person who committed treason by supporting and inciting the Jan 6 riots has trampled badly on the US Constitution. The American people are unfortunate to have an immoral leader like Donald Trump. It is impossible to elect a man who is too dangerous to democracy and immoral to become a leader of a great power like the United States of America.\n",
      "Donald Trump, an immoral person, the world's most lying leader, the most shameful former US President in US history.\n",
      "Those who do not know who to vote for have not seen the current reality that our country is living in a state of economic recession, crimes, illegal immigrants in the US enjoy many health insurance and social benefits while the American people have been abandoned. I hope all those who have not decided to vote will look at where the radical democrats are taking this country.\n",
      "Actually Kamala Harris does have a plan. It’s just not a white peopleplan. White people you are not the only race of people in this country. Technically you should be the minorities because of how your forefathers took advantage of the Native Americans. And then took there land and there property, productive rights and there children away. Because you didn’t want Native American children to be who they were born to be. (Fact check it). So how darn you think that you know what you are talking about.\n",
      "That woman with the hat is really stupid.\n",
      "There are no undecided voters\n",
      "It's best to avoid watching ABC, CNN, MSNBC, New York Times, Washington Post, and USA Today, which are all left-wing news outlets.\n",
      "Most of these are dumb white Americans\n",
      "Trump you go back to prosperity. Remember???\n",
      "Read trumps website. He’s got polices layed out in words.\n",
      "undecided = I just want attention and to feel important\n",
      "I’m sorry but any person who has through 3.5 yrs of Biden & Harris and is reportedly undecided needs very serious mental help. I can’t fathom such a problem. Makes you wonder how long such a person would need to remove their hands from a fire??\n",
      "undecided want money from the pol. Parties 🤣 in our homeland - India, people who can't decide but accompany their friends, vote for \"NOTA\" last down button (not allotted) it beep peeeet! Done! ... that will serve the undecided folks at the last voting seconds.\n",
      "Great value Johnny Bravo\n",
      "Why would you show someone someone else’s answers with all that paper….? This report and the reporter are ignorant to say the least 😂, and then he only asked 2 ppl. Bye girl\n",
      "I don't think the moderators were fair.. Kamala never answered the economy question, yet they didn't ask her to answer it again... They did that to Trump several times . They also didn't fact-check her on lies, or push her on abortion in the 9th month..upto the moment of birth. Which is allowed is Tim Walz state. Look it up. Trump is for IVF.. she claimed he wasn't. It was a 3 on 1 debate. I'd like to see another.. without her Nova earrings.\n",
      "She never answered anything\n",
      "US democrats manage to paint the brush it is male versus female on topic of abortion, disgusting, it is not right if it is for convenience. The communists control how many babies you have, never trust Kamala she is a two face snake flip flop every day\n",
      "it wasnt fair she cheated people\n",
      "Please stop wasting your precious time and resources on chasing so called undecided voters. They are just attention seeks who need therapy.\n",
      "It is amazing how stubbornly resilient some of these Trump leaning Republicans are. He completely mismanaged Covid and tried to overturn an election and they still retain these romantic views of the Trump economy. Harris needs to break through to these people otherwise she could be in trouble.\n",
      "You the media are so corrupt yes ABC NBC CBS ALL SO CORRUPT\n",
      "Low information voter\n",
      "Americans are educated enough to rationalize everything at high levels.. ❤❤😢😢\n",
      "A man with no.plan..\n",
      "I guess they didnt see the peat eating comment,\n",
      "Totally no indecision, z Trump for present! Harris would ensue the US becomes a third world country!!\n",
      "I don't understand \"undecided voters\". If policy is of no use, nor morality these people vote ONLY on one factor alone. Feelings. Base desires and primal urges. These people are Trilabites.\n",
      "yeah undecided means they are harris voters cause they are scared to say who they are voting for. 🤣\n",
      "Shanahan Light\n",
      "Few things sh*t me more than the deranged pro-abortion talking point that males are not allowed to have an opinion.\n",
      "Scares me that this election will come down to the low info voter\n",
      "Miller Jose Lopez Richard Thompson Maria\n",
      "Trump for president\n",
      "Vote Trump & Vance 2024🇺🇸🇺🇸\n",
      "She is a maga moron\n",
      "they want free money at your expences free homes you get gangs crime and lots of new taxes vote for democrats this what you get\n",
      "Abortion is child sacrifice\n",
      "God has already decided who is next president.😊\n",
      "The voters lost with this horrible conducted debate.\n",
      "Bi you are a lying racist so ab you stupid\n",
      "She gave mental health for Trump and Kamala a C? she is for Trump she is lying\n",
      "Most will drink the Kool aid for the Orange 🍊 God King! People don't seem to exhibit critical thinking skills Keep in mind this is similar to how to how a certain Dictator in Germany came to power! Vote Blue 💙🔵 Through and through!\n",
      "Nonsense\n",
      "Nobody voted for Harris to be there\n",
      "WTH is wrong with these people.. how much info do you need\n",
      "Trump brought abortion back to the States to decide. He doesnt have a say in it anymore\n",
      "Brando Springs\n",
      "Head to head on issues... I don't think so. They didn't talk about many issues\n",
      "Why is undecided voter number two so concerned about abortion? She's never going to need one.\n",
      "Those fucking whitetrashes \"Mr. Trump2024 haters... such as & included the stupidest person in the world Taylor Swift lol\" rather supporting the one (Kamala Harris... She & the puppet Biden fucked Americans totheir teeth for the last four years!!!) who pushed their country to the shithole than supporting the one who is an honest man & care for America (MAGA MAN AND THE CHOSEN ONE \"MR. TRUMP2024\"). No wonder why their parents before them took the USA to the shithole and lost the Vietnam war lol. Also, because those fucking whitetrashes so fucking STUPID, that's why the Chinese have out performed them in everything lol\n",
      "\"I really believe that men should stay out of women's bodies.\" 😮-say what now??\n",
      "Huh. Thats ....fair from the first woman. Yeah.....yeah. I can see why Kamala wants another debate so soon. Its going or be a 50/50 toss up. She has a lot of big donors that dont wanna hear that and are spending a lot for a 50/50.\n",
      "Maybe we're better off with not so bright people skipping the vote~\n",
      "Clark Shirley Taylor Edward Martin Maria\n",
      "No one is undecided at this point. If you lean a certain direction nothing is going to change that. I mean if you are for open borders and want abortion until the birth of the child. Then you likely vote Kamala. If you want controlled borders and reduced illegal immigration, end wars and want the people in each state to decide on abortion, you vote Trump.I mean they are quite polar opposite candidates and policies. If you want WW3, extreme inflation, socialism, abortion and triple the amount of illegals coming in. Vote Kamala.\n",
      "interviewing 2 stupid undecided people\n",
      "HTH do you guys function on a daily bases with brain like that? The world is laughing at you.\n",
      "I hate when people don’t listen he stood strong on foreign policy on economy Biden Obamah fundedIran which funded hamas how can she say he can’t stop war there shouldn’t be 2 wars 13 marines shouldn’t have died listen people pay attention abortion should not be birth control that’s bs take birth control be responsible\n",
      "Trump is out there every day telling his plan those monitors didn’t give him a chance she lied about everything he does not he doesn’t have to his record is great\n",
      "President Trump won the debate despite the negativity and everyone heard Kamala's lies, people know. Kamala Harris stated on national televised debate that \"we're not going back\" to lower priced groceries and gasoline.Foreclosures, bankruptcies, all-time high credit card debt, border safety issues, homelessness, inflation, war and worse is what voters will get more of with Kamala Harris.Friend & I recently drove by some our city's homeless who were baiting birds with small pieces of bread, throwing rocks at the birds & cooking them to eat. President Trump was courageous for addressing the cats/dog report. Homelessness has doubled under Harris. People gotta eat and poverty is not some joke.\n",
      "He had great economy\n",
      "Trump had great border when he was in\n",
      "The entire country will be like Springfield Ohio under Harris. She will let tens of millions more illegals in. That's a minimum.\n",
      "Trump Vance 2024\n",
      "If you are Undecided at this point, leave the vote for President box blank on your ballot.\n",
      "they are just scared to go on record thats all\n",
      "How can someone with normal sense Vote for Kamala with zero leadership policy only lie, propaganda and sentiment. With kamala America will collapse economically, national and international. Kamala has zero leadership upstairs her head. America wake up save your country and yourself Vote Trump 2024\n",
      "Only one has a plan. Hopefully that will reach voters like these. The debate is more a show of character which one was clearly the winner.\n",
      "WTH is even thinking about voting for a rapist, fraud, felon, top secret documents thief and traitor who ran the deficit up 8 trillion dollars, to say the very least. Any woman, veteran or minority who would vote for Trump, (the stupidest President who can’t even complete a sentence, wears diapers is in cognitive decline and plans to dismantle our government), is out of their minds or totally ignorant on what’s really going on. Go read Project 2025.\n",
      "I WAS BETTER OFF WITH TRUMP HIS RECORD SPEAKS FOR ITSELF LIKE HIM OR HATE HIM HE DOES WHAT HE SAYS HARRIS DIDN'T ANSWER ANY QUESTIONS TRUMP ROCK IT TRUMP 2024 CALIFORNIA BABY 😂😂\n",
      "The Country wants another Debate!!!\n",
      "I’m still convinced the American voter are complete morons and have adhd when it comes to issues at hand. They need to stop eating junk food and allow their bodies to detoxify before they make irrational choices for the future. A letter grade of a “C” to someone responsible for the border that hasn’t done anything to prevent this country from being invaded is irrational and dangerous.\n",
      "Oh lawd. Anyone who doesn’t know at this point, they need help. And anyone who votes Harris needs help. Because we’re in TROUBLE here, and the ONLY one to get us out of it is TRUMP. He did it before and he can do it again, and he WILL do it again. And just because he didn’t share his plan on stopping wars, doesn’t mean he doesn’t have one. If he shared that with the people, it would be all over the world. That would just be STUPID. He’s not a stupid man.\n",
      "I love the statement that men should stay out of a womans body. LOL If that were to happen then you wouldn't be needing to get an abortion. How about women and men get back to not having sex and that way women wouldn't need to make a judgement that she might regret later in life. GOD gave us the ability to create and set one of the commandments Thou shalt not murder. So today IMHO it seems women are choosing to break that commandment rather then to create. I guess having sex is something people don't really think about what the end results of a short bit of pleasure can or might turn into. IMHO\n",
      "Trump❤❤❤❤❤❤\n",
      "Men should not stay out of women’s bodies.\n",
      "She is not undecided\n",
      "Assult wepons dont exist. It is a thing. Kane killed Able with an Assult rock. Assult is an addictive, not a noun.\n",
      "They must’ve searched far and wide for the two DUMBEST people in Michigan. 🤦🏻‍♂️\n",
      "Men out of womens body? But men are in the body to make the baby..\n",
      "Very skeptical of anyone who says they are undecided at this point. For the less than 1% who might actually be undecided, legal and constitutional scholars say that it's better to not vote. Just vote down ballot if you are familiar with the candidates and issues. Skip any that you aren't sure about.\n",
      "I was disappointed neither was more specific in many answers, and dodged some entirely, but I wonder how much the time limits they had played into that? 1 minute isn't enough time to explain the whole, \"defund the police,\" thing, e.g. SO MUCH goes into that....I dunno. I also think Kamala has been a candidate for like a month, while Trump has had 3.5 years to carve out specific positions, so I take that into account as well........\n",
      "That's it, non-sense!\n",
      "I don’t blame Trump one bit for not wanting to give away the details of how he would put an end to the wars. The last thing you would want to do in that situation is to give your enemy a heads up on your plans for war or to end war or anything related to it. I would hope everyone from either side would understand this\n",
      "It’s quite clear that most undecided voters are utterly confused and misinformed.\n",
      "They said that there’s no evidence that pets are being eaten but the people that actually live in Springfield have seen their lost pets hung in yards like deer, That sounds like pretty good evidence to me.\n",
      "If her lips are moving, she is lying.\n",
      "Is it just me or is anybody else tired of these illegal filthy violent immigrants ruining my country? Please there has to be someone out there\n",
      "عاشق کالاهاما شدم ❤\n",
      "Hot dogs 🐕😮😛\n",
      "Trump ran into Harris traps! You thank that wasn't intentional? Thanks!\n",
      "What is Kamala plan? Does anyone know 🤔. Because she doesn't.\n",
      "If you vote for Kamala (a current sitting vice president) expecting to see all these changes she’s talking about. You’re a special kind of stupid.\n",
      "There are many YouTubers going to Ohio and interviewing people about these cats & dogs being eaten, I just watched a news video of a woman covered in blood after killing and eating a cat being arrested\n",
      "Kamala dangerous for America ,only Trump nationalist america\n",
      "Why my dog and cat go kissing then huh?\n",
      "P\n",
      "why did the so called press keep \"fact check\" Trump but not kamela? You guys are a bunch of one sided idiots who will help elect a person who is not qualitied like you did when biden was elected. No wonder the press is hated !\n",
      "President Trump, we want you back, we are an Iranian, Minuseh Kamala Harris was nothing\n",
      "Trump 💯 JESUS CHRIST HELP US BLESS THE USAPSS IF YOU'RE LYING WE KNOW JESUS 💯 KNOWS THE KINGDOM OF GOD KNOWS IN THE MIGHTY NAME OF JESUS WHO TOOK AWAY THE SINS OF THE WORLD DYING ON THE CROSS ✝️ OF CALVARY JESUS IS THE WAY THE TRUTH AND THE LIFE THE LIGHT OF THIS WORLD THE LIGHT SCARES DARKNESS CHRISTIAN'S WHO ARE SAVED FROM SPIRITUAL DEATHFILLED WITH THE HOLY SPIRIT IS ALWAYS WITH US 💯 AMEN 🙏 ❤🎉❤🎉\n",
      "I hope and pray that Kamala Harris will be next USA Presidend\n",
      "Evil j o o station\n",
      "If she becomes president it's over for sure for America.\n",
      "erery things easy goiig pass\n",
      "Any sane person who watched that debate knows Harris Lost. The moderators had her back the entire time! Trump 2024!\n",
      "Tramp✌️\n",
      "I love tramp\n",
      "No one is buying this ... I lovvvveee it😂❤🎉\n",
      "Trump!\n",
      "Is she seeiously laughing? She's just a joke all around\n",
      "Trump looked like a fool nd as usual avoided answering all the questions. He admitted he has no plan. Yet there are fools who watched this nd will still vote 4 him.\n",
      "The fact that Trump is leading in the polls shows just how ignorant, racist, and sexist the majority of US citizens are. It’s eye opening\n",
      "Trump 2025.\n",
      "A drunk hooker for a candidate😂😂😂. Better than a dementia riddled pedo I guess.\n",
      "Trump walked into a 3 against 1 ambush, and lost his way trying to free himself from the clutches of the Dirty Dem controlled Army of evil:\n",
      "Even Biden & Harris faild to run this country properly! Lot of illegal immigrant entered this country ! Open border like Cuba ! They don’t care about everything is so costly\n",
      "Any one that thinks \"building a wall\" stops illegals from coming are idiots. Wasted billions already . Do some research on how much money 💰 was wasted on this useless project. Not to mention, it's useless and needs maintenance. Just enforce current immigration laws instead of all the Republican owned factories hiring illegals.\n",
      "Um I literally watched the video of the police arresting the Haitian woman eating the neighbors cat in fron of their house. She killed two of them.\n",
      "Black Lives Matter\n",
      "R.I.P. Babylon\n",
      "Harris is kind of spitting facts.😂\n",
      "Hello 🎉🎉 Myomyomon Yangon\n",
      "Hello 🎉🎉 Myomyomon Yangon\n",
      "Wheres the proof and facts about springfield eating pets? Also we need abortions because we cant even take care of the kids we have now, like orphans. You wouldnt want to bring a kid in the world if no one could take care of it. If it was actaully banned in all states, imagine how many babies were be secretly murdered when theyre born. Abortion is safer and used before the baby is even fully developed. Dont force people to be parents when they know they cant be parents.\n",
      "Hello 🎉🎉 Myomyomon Yangon\n",
      "That was as one side has debates go.\n",
      "Don't you mean ABC attempts another Trump assassination?\n",
      "Kamala Harris is not black, she is a Hindu portraying herself as a black woman to deceive the people.. if she'll lie about her nationality she'll lie about everything else... Biden and Kamala Harris have destroyed America. Why would you allow these people to continue to destroy America unless you want to be enslaved..\n",
      "I love her! I can’t imagine why any smart person would vote for trump! He is paranoid and seems to be in the throws of dementia!\n",
      "Wow ...the comment section is unhinged 😳 Scary\n",
      "What the cat n dog has to do with it. That could be good there 1000s of dogs sacrifice for not been adopted. Other countries eat them\n",
      "Even if they're not eating pets there has been plenty of pictures and videos that show them eating Street rats in the cities 🙄\n",
      "Anyone who has common sense once trump left office everything went down 👎\n",
      "Donald Trump is my pick for President Of The U.S.A & WORLD. 🙏 😊🎉\n",
      "We the people hate Kamala harris and will not be voting for her.\n",
      "We are suffering , and they are laughing ! America wake up. Kamala never talked about her policy . She avoided that question , she used her laughing tricks to distract vulnerable Americans . It’s going to be worse with Kamala, go check her policy . Medias are not telling America the truth . Go find the truth yourself, don’t be deceived by the deceptive laughing .\n",
      "Two different toilets 😃 same shid tho\n",
      "Trump 🇺🇸 2024\n",
      "It's all fn rigged against us common folk they claim to do this but they do that callgirl Harris has blown her way to the top .. trump thinks he's gonna make everyone rich. Economy was better under trump tho. Just saying\n",
      "Trump is almost as demented as Biden was when they were competing. Yet all of his supporters will blindly follow him no matter what he says or does\n",
      "This video is so bad you can’t even get 10% likes on this video. I wonder what your dislikes are because it’s so bad.\n",
      "Harris absolutely 👍 💯\n",
      "Kamala said Jan 6 was a bigger threat to democracy than 9/11. Then her and joe left the 9/11 ceremonies early, couldn’t even stay to hear the families speak. Whoever supports this current administration is sick!!!Springfield Ohio yes the haitans are eating pets. There is police body cam footage showing the arrest of a woman eating a cat!!!! 🐈\n",
      "Trump is so mad. His racist personality will break this country.\n",
      "It was 1 vs 3😂. Love American fair play. Pathetic\n",
      "Heck yes trump!\n",
      "How about Mrs. Harris starting to work right now as vice-president?\n",
      "And they stole the election Trump won\n",
      "I don't know one single person is going to vote for that woman. She is horrible she is appalling. And that is also true what Trump said about the immigrants in Ohio. It's a disgrace\n",
      "All politicians lie. All news channels show bias in some way.\n",
      "3 on 1, and Harris still said nothing\n",
      "Eating dogs and cats............That's Koreatown.\n",
      "Brain rought in the comments just showing how successful government is on dividing people and making them believe either of these political parties are actually for the people.\n",
      "She wins America's done\n",
      "I absolutely CANNOT STAND her facial expressions\n",
      "There is more regarding Kamala than she is willing to disclose… and if many of those who support her understood what she is really about… you would be sick to your stomach!A New World Order agenda that will destroy our country… with a new governing system, which will cause more homelessness and allow immigrants to take advantage over our lives and country- it will allow criminals to do what ever they want without consequences… and you will have no right to complain… or you will be arrested and jailed!\n",
      "Donald Trump faced the laughing hyena who is the Democratic Party or should we say the Democratic communist party has put forward for their candidacy for the presidency of the United States of America? If this isn’t a pathetic joke they just put Saturday Night Live to shame. The big propaganda machine is trying to portray this person who is masquerading as a vice president of the most powerful nation in the world is this what we’ve come to with the intellectual greatness of this nation we’ve got Minnie mouse as vice president of the most corrupt Democratic Party that’s ever existed in this nation and I’m not making fun of her because she knows herself her qualifications And why do you think she laughs in the face of all of her supporters? I think she’s beginning to realize the power of the big propaganda machine of the people who are addicted to the mindset of this machine if it wasn’t for her pixie dust that Disneyland associates make available to her, instead of laughing, she would be crying if it’s stupidity of the average American voter anyone who would stand with this so-called Democratic Party has deep emotional and mental issues and the rest of the world sees it is this the example that this republic is setting for the world and the big propaganda machine Called it a debate for all the realism. They could’ve held it in the outhouse Porta John, or whatever you might wanna call it Minnie mouse laugh, set her supporters while the rest of the world laughs at all of us like I’ve said before the average American is so addicted to the big propaganda machine that it’s actually mind-boggling the Democratic party has come to this is this Minnie mouse woman and her pixie dust the best candidate that they can put forward for the office of the presidency of the United States of America is a joke in itself. I’ve said it many times. God save this nation.\n",
      "People..Harris and the dems are concentrating more on climate change then fixing this broke economy. Dont vote with your feelings this time and vote like your life savings depends on it. Im living in my car now cause i wanna save towards retiring. I wasnt do that 5 years ago..just sayin...Look at her up there laughing even if she thinks what trump is sayin is crazy. Shows where her head is at\n",
      "Reporting you for spam and misleading\n",
      "What are you talking about just Google national festive celebration for those people they literally have to eat cats it's like turkey on Thanksgiving Haitian people eat cats for a holiday Google it. They don't eat cats because they're poor it's their culture Google it\n",
      "Kamala control the conversation by never saying what her policies were she should have a trump 2024 hat on her\n",
      "We're screwed either way it goes!!! I just don't get how a FELON can run for president AFTER BEING FIRED BY THE PEOPLE BEFORE and how can she just step in a take over from where sleepy Joe left off? Idk but I'll pass on any voting thus time around\n",
      "Who are we kidding? Inflation and the economy was barely the subject of debate. Purposely\n",
      "TRUMP❤ ALWAYS TRUMP❤100% TRUMP. TRUMP!\n",
      "Female hayena hé hé hé hé four more dum year😢😢😢😢\n",
      "If she wins she will put us in debt like biden has done. Higher gas higher food prices if she wins. Worse than it is now.\n",
      "Y'all just as biased as any other left leaning garbage fake news agency.\n",
      "I believe they are eating cats and dogs. They do it in mexico. Win Trump❤ Doesnt the bible mention a woman president and The end of the world. Please no woman\n",
      "Harris looks and acts like a laughing hyhena. She forgets the people didn t vote for her all that she dropped out. She s a loser!\n",
      "Both candidates have served in the White House. Voters should consider whether their lives have improved over the past 3.5 years under the Biden/Harris administration or whether they were better off during Trump’s administration.If this assessment isn’t sufficient for making an informed voting decision, consider engaging with both Democratic and Republican viewpoints. Remember, social media algorithms tend to reinforce our existing beliefs by only showing content we're likely to click on, creating an echo chamber. By exposing yourself to diverse perspectives, including international viewpoints, you gain a broader understanding of the issues which will empower you to make that informed voting decisions.\n",
      "Lol\n",
      "Give me a break. Do you people STILL believe you elect the prez? No. There is an agenda by the elite, and whoever will further the agenda AT THE TIME, is who will win. Period. Do you really believe Trump acting like an idiot, and Biden all of a sudden having \"dementia\" are coincidences? Wise up people.\n",
      "The truth is, under Trump the US didn’t start any war and the economy didn’t stumble. Under Bidee, the US paying for the Israeli war and for the war in Ukraine with the tax payers hard earned money. Which could be spent to help those millions of homeless families. If Carmela follows Bidee ways, than the days of the US empire are counting to lunch, but not up, in fact like a fast moving train is hard to stop.\n",
      "0:28😂\n",
      "god, at least obama didn't SOUND like a toxic manipulator. at least he had the charisma to hide it.\n",
      "Kamala has a NERVOUS LAUGH.\n",
      "CORRECTION kamala you and biden never have 81, 000, 000 people. You are such a big LIAR!. PRESIDENT TRUMP WON THE ELECTION 2020 WITH 81, 000, 000 PEOPLE.\n",
      "Why was Koala Harris lying sooo bad on stage. She was so cringe 😬 Btw, there was evidence on the pets being takin. They lied saying it wasn’t true.Btw those a Kamala Harris’s Haitian migrants doing all of that. What a failure at life she is, so glad to be alive to see such brutal corruption get taken out by a simple fact check\n",
      "All trump had to say to Kamala, when she says \"Immigration, blah blah, you killed the bill.\" Trump then asked, \"If you know what I'm saying is lies about imagration you surely talked to these folks. Have you even been to the border?\"when talking about border and Why are people at the border who have lived there for 25 years saying they used to see drug runners on their properties once a year, but as of January 2021, they started seeing paramilitary-looking drug runners with huge bags coming through in groups on a weekly basis? As of February 2021, this trend has continued. sHe continued, \"I gave a plan for inflation.\" Trump responded, \"Well, you're in office now. Why has it gotten worse? On average, the policies of previous presidents affect, at most, the first 150 days to a year of another president’s term. So why is it getting worse? You said you had a great plan last time. Is this your great plan?\"Regarding Roe v. Wade, Trump asked, \"Why haven’t you fixed it now? You're in office now. Fix it, like all that student loan debt that you messed up, yoh giys screwed around with the debt ruduction part its causing delays and negatively impacting the grades of many students with fafsa. Trump, you talk about all this stuff yet you actually increased my tarraffs and i thiught that is bad and you saybyoubwill fix inflation, well youve been sayimg that 5 months now so you lirerally beeen talking about fixing inflation next te and you will have had at least a year since yoi started rumning to do something if we just magically wash away the 3 of the lady 4 yearrs you have had to fix it. So wjat was your\n",
      "Why are there so many chickens in the Democratic party,what I mean is everything has to be set up there way,open mikes,notes, earpiece, teleprompter, Democratic news stations for debates only,this is the one that gets me,I always thought it was for all networks equal time for each party but because Harris knows she won't get spoon feed set up questions that her staff has answered for her and she has to use her mind by herself she won't debate on a Republican network, that's not how the world or government works\n",
      "Fake news....😅😅😅😅😅\n",
      "Family of 4 $3250.00 for just food and Rent add water electric & we are at $3600.00 for a duplex 3bdr 1.5 bath 8 miles out of salem oregon in a town of 2500 because its cheaper. 1050.00 spent on food and for 4, and ones a 7 year old girl, and 100lb mother and we run out on tbe 25th of our budget and have to use credit and rent 2200.00 rent as water amd electric and garbage were at $3600 for food, water, electric rent and that is it\n",
      "You want peace, stop serving Lucifer the devil Satan the anti-CHRIST\n",
      "Kamila Harris is the worst\n",
      "BULLSHIT, BULLSHIT BULLSHIT\n",
      "Y'know SNL's is gonna have a field day with this debate.\n",
      "Trump will Win the presidential seat for 2024 according to what God says.\n",
      "Perez Margaret Hernandez Mary Thompson Jeffrey\n",
      "White Jose Anderson Richard Gonzalez Melissa\n",
      "Yeral pique 50 por siento fulbol enpresa seguro espre bimenca leoneli 500\n",
      "Young Richard Walker Paul Johnson Frank\n",
      "Lee Angela Lewis George Lee Frank\n",
      "White Lisa Garcia Helen Walker Kimberly\n",
      "Harris William Lewis Margaret Williams Robert\n",
      "Moore Jason Hall Anthony Taylor Michelle\n",
      "Lopez Michael Walker Donna Brown Kevin\n",
      "Williams Karen Young Sarah Smith Paul\n",
      "Robinson Melissa White Paul Jones Laura\n",
      "All opinions aside, one is a literal felon. If felons cant vote, they shouldnt be able to tun for president either\n",
      "Fake kamala, Liar kamalaThis Fake lady Fools stupids with her words & acting\n",
      "The whole world saw it that TRUMP won\n",
      "Biden and...(incompetent horse face Harris) have destroyed America,..Trump should be welcomed back with open arms.\n",
      "Ummm... We watched it! We dont need your \"Interpretation\"... Again! Thanks for lying about 85% of everything you \"report on\". 🤡\n",
      "Lawmakers are the reason we have so many differences 🇺🇲🪖🪓\n",
      "Kathi Salvi is an enabler to a wannabe dictator or is she is delusional\n",
      "Let me tell you a secret, he doesn't like her!!! 😂😂😂\n",
      "My full opinion about this is that she lives in a fantasy zone I don’t think that lady knows anything about reality. She lives in a make-believe world created of her own. This is sick and ridiculous. I can’t even understand why they even elected to go against Donald Trump. It is ridiculous.\n",
      "This was the most BIASED political debate in the history of the United States. ABC should be ashamed. ABC has lost all integrity. The American people are being cheated out of a fair election process and we are all sitting back and allowing it to happen. It doesn't matter which political view you support, this debate was an absolute FARCE and the American people deserve a fair process. This was TRASH ABC! 💩\n",
      "❤4 TRUMP 7❤\n",
      "It was a wonderfully crafted debate. Kudos goes to Kamala Harris' close and personal friend, Dana Walden (CEO of ABC) and the attention to script the ABC \"moderators\" followed from corporate.\n",
      "Supposedly he was shot on his right ear. I paused it and zoomed in. WHERE IS THE SCAR!!!!\n",
      "Supposedly he was shot on his right ear. I paused it and zoomed in. WHERE IS THE SCAR!!!!\n",
      "Actions speak louder than Kamala lies. They both been in office and America is worse under her. The moderators were awful. Let Megan Kelly do the next debate so it will be a real debate.\n",
      "kids react!\n",
      "ABC Moderators to Trump: Why are you bad? ABC Moderators to Kamala: Why is Trump bad?\n",
      "Kamala is Fake and disaster. She talked about Abortion and rights of Rape Victims girls for abortion but she did not spoke about the Security of young American Girls and Women who are easy targets of the Illegal Migrants whose background checks are not done... if there are less Illegal Migrants there will be less rape... We Want Our Country FREE From All Aliens 👽 Our Country is no more our country with Millions of Illegal Aliens\n",
      "She had questions given to her- she’s not smart enough to answer on her own. She is one evil piece of work!! We don’t need a repeat of the last 4 years and even worse. She has no idea his to tell the truth- she has nothing but lies\n",
      "Trump should just quit and beg for a pardon for all the crimes he’s committed!\n",
      "Kamala clearly beat Trump, he has no policies just failed promises from his last hateful campaign ( boring. )A washed up old man peddling lies and grifting his cult followers Pathetic Y’all should be ashamed Republicans are wrong for this nation We the people demand a more perfect union. Not division and isolationist rhetoric KnoWsolution Clear the way\n",
      "Im Trump all the way\n",
      "America! at this Point, I don't think it's a Far Stretch of the Imagination to Understand that when the Whole of the Democrat Party is Prosecuted by the Courts for Treason, the Independent Party will Rise to be the PreDominant Party to Replace Them! The People Deserve it!--77\n",
      "America! at this Point, I don't think it's a Far Stretch of the Imagination to Understand that when the Whole of the Democrat Party is Prosecuted by the Courts for Treason, the Independent Party will Rise to be the PreDominant Party to Replace Them! The People Deserve it!\n",
      "Deluluuuuuuu\n",
      "0 video related to the title. Thx guys i totally didnt want to see lawmakers response to the debate. Great stuff. I love normys online. Only good things come of it. Amazing\n",
      "Donald Trump should avoid doing anymore Presidential debates on all the TV networks EXCEPT Fox News as they are the only network which plays fair,all the others are against him.\n",
      "Harris is a joke !!! Clearly Nuts you can see it in her demeanor Beautiful woman is used to having things and her way all the time because of her looks if she becomes president I will leave america\n",
      "Of course Trump thinks he won. Some more he says he won, the more he knows he didn’t. She kicked his ass and he knows it. I don’t particularly like her, but I was impressed with her performance. No word salad no repeating herself over and over no cliché, she knew what she was doing\n",
      "A complete set up with ABC 3 on one Harris never answered a question con job lies and the whole bunch so corrupt Biden garland all lying crooks and Harris nothing changes same corrupt crew calling shots!\n",
      "Pure Media Scum. They are Elected Representatives. Thank you President Trump 🇺🇸🙏🇺🇸.\n",
      "What do these lawmakers think about inviting a terrorist to camp David?\n",
      "How many middle class families have live-in maids like kamela Harris said her family did???\n",
      "Already Been Chewed ABC fact checked Trump nut not one time did they fact check Kamala Harris.\n",
      "Inflation under Trump: 1.45%Inflation under Biden Harris: 21.5% and is expected to rise if Harris is elected to give more American Taxpayer's money to illegal aliens still invading United States.\n",
      "If Kamala Harris can lie to the faces of millions and get and get-away with it, what does this tell you about the democRats that support her and how dishonest they are?\n",
      "The only Elephant in the room is Male White Supremacist !\n",
      "It’s amazing how some people will vote for Harris because she is liberal, black and a woman. No true experience that will help our economy or protect our families.\n",
      "That wasnt a debate, it was an ambush 3 vs 1 and made very clear how biased and rigged the media is. No one in their right mind will vote for her.\n",
      "Bloomberg only comes around Trump to discuss manipulating the system for some sort of nefarious gain. He must be observed closely and constantly, for he’s the more cunning of the two.\n",
      "Does any one else notice that it look like Trump's wipe his hand right after kamal hand shake lol😂\n",
      "What about all the lies Kamala told!?!? Of course they won't report on those... Smh What a joke!\n",
      "CNN fact checked her and she lied multiple times. Why are you lying for her?\n",
      "Kamala is a joke!!\n",
      "She lost the debate, she didn’t say anything about her policies she was just shouting , talking nonsense , she didn’t answer any questions and they ask her baby questions they were not holding her accountable about her lies, but still Trump as a leader was able to defeat 3 against one . Everything was bias . she knew the questions in advance she is not a smart person , I have seen her talking in conference or the press and she has no knowledge at all. she just talks about herself. So boring I don’t care about her life I care about my country. She has been destroying the country but ignorant people just vote by their emotions they don’t check the policies,\n",
      "As of 9/11 after this Ceremony....Biden is shown wearing a Trump cap 🤣 it's all over YouTube\n",
      "It’s me. The introduction between both candidates handshake is weird.\n",
      "Kamala is a train wreck!!!!\n",
      "Her no way she has not done anything to help the working people in this country the last three and half years\n",
      "She lied\n",
      "The mayor of Chicago is a joke. Who cares what he thinks.\n",
      "I don’t care who says who won the debate, I’m voting for the leader who will make our country strong, prosperous, safe and energy independent- Trump!!!\n",
      "Only two \"lawmakers ” that's not a substantial amount enough to sway me\n",
      "Kamala shined as intelligent, ready with specifics, warm & caring & then sat back & let the old toad self-destruct & he did! Fox tv after said Trump blew it, Sen Graham said \"Trump was a disaster!\"\n",
      "Behold, the death of an empire. On display for all the world to see. Front row seats. You are the laughing stock of the whole world\n",
      "lawmakers are 99.99% of the problem! everything is always about the rich! & the lifestyle of why victims of crime committed against them in America are decided by those individuals that has always felt that women children & the poor doesn’t count or matter. just research those that allow culprits more protection & rights than the victims it’s in black / white the there was a time where women didn’t have any rights by those that has always been in power the attitudes will never change on that subject there will always be that type of mentality egotistical mental disorder of power due to those in particular.\n",
      "they aught to eat Harris leave pet's alone\n",
      "Biggest scripted bs I've ever seen. The communist Kamala using earpieces.\n",
      "I found it it's on YouTube about the Haitians eating cats\n",
      "Donald roasted her and the people rightfully roasted the ABC moderators for their incredible bias. They try to protect her but Kamala's severe lack of intelligence shines through quickly when she speaks. It would be devastating to women if the first one to get elected has the mentality of a child, the brains of a jellyfish and looks like something that I use my bidet every morning to forget about.\n",
      "There was a man at the 9/11 memorial screaming to Trump “Where the hell have you been for the last 24 years? I’ve been here but you haven’t A-hole!”\n",
      "Adios Kamala And Obama ,..!!\n",
      "Harris cornered Trump and took revenge on Biden. She showed a strong personality while Trump talked about how world leaders feared him and that he ate cats and dogs and other nonsense. I believe that AIPAC and the Israeli lobby are the ones who decide who the new president of America is\n",
      "Too many people have been convinced there are threats to our country when there has always been when you are a free nation you can expect more than usual but it can be easily contained without removing free will freedoms the constitution expresses because it has always been contained that's why this is the safest country to live in with the best Financials best health, best prosperity, so why cry for a candidate like Trump that knows this already while he claims scare tactics! What does that tell of his expectations\n",
      "If talking about crowd size sends him off the rails demonstrate his ineffective leadership at home and the world stage! He is a con artist, a good con, but still a con artist!\n",
      "I swear the mental Olympics trump supports do is actually fucking scary and I’m here for it lmao\n",
      "Trump isnt going to do that again. He was smashed.\n",
      "Type in : What poor people eat in Haiti and find out what they eat to survive, then tell me if they wouldn’t eat people’s pets in America or ducks and geese from parks etc. And another thing; it was the Clinton’s that ripped off millions of dollars from these people and they know it!\n",
      "1.2 million American jobs that’s all Americans were hired and 3 million foreign illegals were hired take it all our jobs for less money do you news media is so full of lies. You’re a disgrace to America in the world we’re coming to put you out of business jail and see you, and including the newscasters fly to the American public, which should be against the law. You’re a disgrace, horrible news.\n",
      "“Vote Red before you go to Bed” 🎉\n",
      "Trump won🤣\n",
      "Lawmakers, oh you mean those laws they inforce on there own citizens and not the migrants 😂\n",
      "What did trump do for the people. Absolutely nothing! but destroyed our democracy. He cause for a resurrection on our nation Capitol and never concede the new president. That's a soar loser\n",
      "It's funny how every one can lose a debate---except Trump.\n",
      "She was really in front of a class room for public speaking.\n",
      "David Muir and Lindsey Davis should both be charged with Election Interference, they both told lies against President Trump and the American People.Muir lied about Haitians not eating people's pets and killing state animals ( a felony ) thanks CUMela and David lied and said no states were killing babies after birth. Both should lose their jobs and be arrested\n",
      "If you are considering voting for either one of these 2 GRIFTERS do everyone a favor and don't vote.\n",
      "Trump got fucking destroyed😂😂Looked like a dementia ridden lunatic😂\n",
      "They both claim victory, the difference was Kamala was surrounded by thousands of democrats and republicans, while Trump was alone.\n",
      "Nothing presidential about Kamala!\n",
      "👩🏽‍💼🧽🪣🍊🟰✔️🔵\n",
      "We need you, Trump! Show how many love him. Trump 2024. No to Communism, Kamala. Harris, you're FIRED!\n",
      "Americans vote based on feelings not hard data and results. Not smart voters. Vote for Kamala is NEW?? If you want to destroy the country then F it we will sink the ship and you will regret it when is too late. Kamala is incompetent\n",
      "More political corruption and dishonesty. Biden and team are proven treasonous criminals. This is a total disgrace!\n",
      "If Kamala can make Trump dance on command, you know foreign adversaries have him figured out too. We can't have some that mentally weak running this country.\n",
      "Harris locked away innocent black men’s and refuse to grant them dna test kits to prove their innocence. My vote goes to Donald Trump who literally pardoned black rappers.\n",
      "Of course Trump left with a high amount of unemployment, we were just beginning to get underway for a years long pandemic. Biden didn’t create jobs, they were jobs that were refilling after the pandemic. They both were insufferable to listen to. Each diverting and never actually answering a question.\n",
      "Trump presidente 2024 !!! ❤\n",
      "What does Mr Murdoch think about DT? Am I missing something... Doesn't he support him?Didn't he own Fox and Sky at some point?\n",
      "Nu är klockan 01,00 på natten i Stockholm.//Är lite uppvarvad för min bror har varit på officerarmöte med sina kompisar på hotell Aram.../ Eftersom jag inte kan sova när vi pratat om allt möjligt etc...\"kollar\" jag gulliga Tramp och skönheten Kamala på en sajt..., men nu blir jag sömnig.../L.\n",
      "Harris! Go go go\n",
      "This is a load of BS! This was a three on one confrontation. Harris told lie after lie but wasn't fact checked once.She claimed crime was down when it is actually up 47%. Silence from the 'moderators'. Harris claimed there are no US military personnel in combat situations. Actually US military units in Yemen, Syria, Lebanon have been subject to numerous missile and drone attacks. In addition US ships in the Mediterranean Sea have been attacked numerous times. Silence from the 'moderators.Harris repeatedly tried to link Trump to project 2025, even though he repeatedly said he has nothing to do with it. Another Harris lie. Again, silence from the moderators.Harris claimed that Trump called white supremists and neo-Nazis, fine people in Charlottesville. Yet another Harris lie. When Trump said there are fine people on both sides, he added, \"I'm NOT talking about the white supremists or neo-Nazis because they should be totally condemned.\" No 'fact check from the 'moderators'.Harris claimed she never was against fracking, when there are at least three tapes on youtube that show Harris saying she will eliminate fracking. Where were the fact checkers?She claimed she never promoted ending private health care insurance, when there are tapes on youtube showing her doing that very thing. Where are you 'fact checkers'?That's just a small sample of Harris's numerous lies.The moderators not only didn't call out Harris for her lies, they even promoted lies of their own. They claimed no state allows a baby to die after it is born. Actually there are at least eight states that deny medical care and nourishment to a baby born after a botched abortion. This includes Harris's running mate, Walz, state of Minnesota.The ABC moderators were so obviously 'in the tank' for Harris, even CNN called them out for it.Actually, 74% of those surveyed believe Trump won the debate while only 24% believe Harris won. If Harris had won she wouldn't be begging for a second debate.\n",
      "Nobody won, the election hasn't taken place yet.\n",
      "Breaking news..The Goldman Sachs CEO just humiliated Kamala Harris on live TV and deflated another one of her lies at the debate.\n",
      "For your information it's not that they are eating people's fur babies get your facts together you're just like ABC or worse\n",
      "Trump won...his more truthful and sincere. Kamala did not have correct answers, just polish rehearsed propaganda slogan answers.\n",
      "Since the mods didnt do it I fact-checked both:Harris stated she wasn't trying to take our firearms Fact-check 1: Kamala Harris expressed support for a mandatory gun buyback program in 2019 Trump believes in better control of who is purchasing. Harris stated there was no agenda for late term abortion Fact-check 2: Multiple states have no restrictions on it, a woman can find out late that her child has mental or physical defects and terminate the day of in some states i.e. the Virginia governor in 2019 proposed and advocated for late term and in his own words \"have a discussion with the mother on what to do with the 'child' after it is born\" verbatim. Tim Walz also removed reporting requirements for children who were \"botched abortions\" and left to die. Trump believes in the exceptions such as gr*pe but in early term. Harris stated Trump praised white-supremacist calling them fine people Fact-check 3: the rest of that sentence from Trump (you can look it up) was as follows \"I’m not talking about the neo-Nazis and the white nationalists because they should be condemned totally.\" Trump was speaking on the people protesting the removal of national monuments who were both for and against it. Harris stated Trump organized J6 Fact-check 4: He didn't organize it, he wasn't even there. He was asked to make a statement and he urged them to be lawful and respectful as it is their right to protest (you can still find these tweets) and no one was armed. It went sideways when the ges ta po began beating the protestors which there is video evidence of. Police did die later and of completely unrelated reasons. Kamala however was there and there's recording of Pelosi saying nah to national guard when it got out of hand. Weird... Also note: She said J6 was the worst moment in American history since the CW the eve of the anniversary of 9/11. Extra weird... Harris blamed Trump for the border issues Fact-check 5: Brandon appointed her in control of the border because of the \"surge of people they needed to move\" knowing their was an influx of \"visitors\". There is also video of this. Trump didnt turn down the border law, Republicans refused it because it came with \"deviled details\" that instructed anyone who DOES cross cannot be detained so in essence they were trying to be sneaky and the Center of Immigration reported Bidens deal would do nothing if not make it worse. Trump tried to build a wall, Harris stated it wouldn't do anything to help, now she wants to build the wall all of a sudden. Strange. Bonus: Harris stated all the corrupt politicians that worked for Trump whom he fired now support her. This is true. And Walz family, Harris own father, and a good chunk of the Democrat and Independent party now support Trump creating the Unity Party.\n",
      "“I have concepts of a plan” should be trumps campaign slogan\n",
      "It came off as though ABC and the brains behind Harris had a plan and what buttons to push. She just said what she was told\n",
      "EMPTY PROMISES FROM KAMALA,...PRESIDENT TRUMP KEPT TO FACTS AND WHAT MATTERS,....NO ONE LIKES FACTS. I ESPECIALLY ENJOYED KAMALS HYPOCRISY WHEN SHE STARTED SPEAKING ABOUT UNITY AND TOGETHERNESS, AND THEN CONTINUOUSLY PERSONALLY ATTACKS PRESIDENT TRUMP,.... IN AN ENDLESS TRIAD OF HATE SPEAK.THE VERY DEFINITION OF MISLEADING AND DECEITFUL.\n",
      "He is so delusional\n",
      "💙💙💙💙💙💙\n",
      "A bit bloody obvious! Kamala, hands down!\n",
      "Action speaks louder than words,Trump has action on record and after three years what does Kamahl have ?\n",
      "If you think Trump won you need serious mental help... just as he does.\n",
      "If you watched it, you know who won.\n",
      "These big news outlets are hardly journalists today! It’s a shame..\n",
      "Kamala Harris handled herself with the dignity & grace worthy of the Office of President of the United States. Trump lied & blubbered, & fear mongered like a desperate criminal …\n",
      "Trump won...obviously\n",
      "According to 'Sky' (fox offcast) trump won by a landslide 😂\n",
      "Who won? Probably not the guy too scared to do another.\n",
      "This entire video is a false claim\n",
      "TRUMP WON !\n",
      "I'm so glad people are waking up to the mainstream media, they lie to you to suit thier own beliefs hoping you'll join thier opinions.\n",
      "The USA is on by the decline as a World Power. How fast it happens will depend on the candidate elected as President.\n",
      "they were eating pets tho. why do you say its a flse claim?\n",
      "I was disappointed in Trump\n",
      "CPAC and IPA are Billionaire Fascist clubs.....!\n",
      "Project 25 is a Fascist Manifesto.\n",
      "Killing babies is extreme Harris!!!\n",
      "Time 'The Australian' changed its name. Does not represent Australians in any sense. More garbage from woke elitists.\n",
      "Harris preaching body autonomy after forcing everyone to roll up their sleeves or lose your rights to work travel and participate in society. Zero substance\n",
      "FAKE NEWS. Be journalists and deliver the truth. The debate was a setup - 3 against 1, fact check SPRINGFIELD - its not a false claim.... and disgusting Kamala/Biden both left the 9/11 Ceremony early when the families were speaking. The Biden government are liars and only want POWER in the white house.\n",
      "TRUMP WON, Absolutely!And you are FAKE NEWS 😂\n",
      "Disrespectful Kamala and her lies.She was confident cause the interviewers were on her side . Attacking President Trump.Three to one is an unfair debate.\n",
      "FACT CHECKINGWhen they had the debate with Biden.Everyone complaining that the moderators.Were NOT debunking any lies that ether had brought up in the debate \"AS THEY SAY THEM\"WHY IS THIS IMPORTANT?Because after the debate, all the lies are brought up.Everyone talks about lies then.But the original people that were watching the debate.Need to know if they are \"IN FACT TRUE WHEN THEY WERE BROUGHT UP\"Ether way Moderators can't win. Damned if you Do and Damned if you Don't\n",
      "Trump won by a country mile\n",
      "Trump won hands down because he didnt cheat\n",
      "She would have had Obama in her earpiece nobody picked her up on her mountain of lies get real here\n",
      "2016: They terk r jerbs!2024: They cerk r dergs!\n",
      "The Australian posing as the face for trustworthy journalism. 🤡\n",
      "Definitely not Kamala.\n",
      "'Who won' - is a bloody stupid question. Harris is a fish\n",
      "Trump hands down\n",
      "Trump won. Kamala was all theatrics and no substance.\n",
      "Kamala WON and whooped Trumps crazy behind!!!!!\n",
      "What benefit does it bring “the Australian” to be in the democrats pocket?\n",
      "All wishes for Mr Trump 👍\n",
      "If the question is who won, perhaps your best bet is run spot run?\n",
      "America are screwed if Trump doesn't get in again.\n",
      "ABC LOST FOR SURE!\n",
      "That was 3 against 1. He didn't lose ground in the polls. Get real. Kamala didn't offer any solution.\n",
      "Wow even Murdock isn't claiming he won\n",
      "1:04 THIS IS THE TRUTH\n",
      "Main stream media are useless\n",
      "Harris is best friends with the ABC boss, this is why the moderator constantly interrupted him and let kamala do whatever she wanted.. Also the reason why she refused to do a debate with fox news.\n",
      "Trump, hands down\n",
      "What a useless report. Why bother even putting this together? Failed to inform your viewers about barely anything to do with the actual debate and the immediate fallout. It’s almost like you hadn’t even seen it. Won’t bother with this publication again.\n",
      "Trump\n",
      "trump won. its time to make our nation great again\n",
      "President Trump is good and kimili is always a Liar always a Liar again\n",
      "Kamala Harris is not talented enough to shoulder the responsibility of a powerful country like the United States. Four years with her administration, America is very weak. If her administration lasts for another four years, America will collapse. She cannot become the president, the person who has enough ability and intelligence to lead America, that is President Trump.. Support TRUMP + VANCE\n",
      "Donald won… Kamala just bla bla bla … not answering the questions asked… lot of body language with Kamala Harris. No core in words. Just empty….\n",
      "Respekt fyr Harris ❤❤❤❤❤❤❤❤❤❤❤❤❤❤❤\n",
      "The Australian is fake news.\n",
      "if it is in the Australian media - Harris won\n",
      "Trump\n",
      "Pretty obvious trump won it\n",
      "Kamala had the questions prior, used notes, an earpiece, and lied about every accusation of Trump while avoiding any answers on policy!!!! Trump 2024\n",
      "Who gives a frack...all major decisions are made in Tel Aviv anyhow\n",
      "The Australian is now as woke as the ABC , both the pathetic Australian version and the American variant.I once read the Australian newspaper for 15 years before it started leaning left . Thank god I stopped reading it 12 years ago, as a result, I managed to stop the brain rot that would have ensued if I had kept on reading this trash!\n",
      "CHECK THE CONFESSION BY ABC David Muir - Freudian REVEAL. He admitted that President Trump was elected in 2020, when :- MUIR said to VP Kamala that she and President Trump were elected 4 years ago.!\n",
      "They actually are eating the pets there’s pictures of them taking geese out of the park. These Haitians performing voodoo in Ohio.\n",
      "President Trump wins of coarse shes a gun owner and needs him to protect the 2nd Amendment.\n",
      "USA citizens better hope that trump wins because if he doesn't a type of civil war and social discord will ensue.\n",
      "Trump!\n",
      "Donald Joke😂😂😂😂😂\n",
      "Fake news\n",
      "When a debate is rigged from the start there's no winners only losers. Kamala lied at least four times they didn't fact checked her at all. How on earth was this debate can even be valid when the media sets its interests before the voters. CNN wanted Biden Out of that race that's why they fact checked every single one of his questions. This time Kamala had not been put against the wall and was allowed to lie freely. Sorry but I can't stand media these days. The Australian is just another pile of garbage also.\n",
      "Wait until they see the footage of the aliens eating animals, and the shiela with 3 big city rats cooking on a spit fire in NY city..on the street..its looking very 3rd world now.\n",
      "Trump 2024. Trump 2024. Loser is Haris\n",
      "Harris got this in the bag😊\n",
      "Miller is THRASHING !😂😂😂😂\n",
      "We saw exactly who Trump was. And we saw exactly who Harris was.I'll never vote republican again until they get some better candidates.\n",
      "They are eating the pets . The Dems have voted for infanticide\n",
      "Hey she had an ear piece in Shes a liar no fact checking her lies but they fact checked him 5 times Its the most biased set up debate pro Kamala pro demoncrat 3 against one She lied about everything\n",
      "Don't care - I am Republican and voting Republican. Debates are basically useless!\n",
      "Trump won by a mile in the debate AND at running the US. But I much prefer listening to Kamala when she has an earpiece in and someone telling her what to say.\n",
      "Trump\n",
      "Bro ABC moderators are a disgrace for completely taking her side\n",
      "❤️🇺🇸. TRUMP .🙏💙\n",
      "Theyre eating the pets 😂 America..Vote TRUMP FOR JAIL 2024\n",
      "Three against one. Not really the American way.\n",
      "I don't even like Trump and we all know he won by a landslide lmao, our media in Australia is the biggest joke in an already joke of an industry.\n",
      "No. One. Will. Win.\n",
      "We saw the newspaper reports of immigrants eating a cat and a swan,vwe have the internet\n",
      "Trump will be the one that ends the world as we know it! if re elected god help us all!\n",
      "Fake kamala, Liar kamalaThis fake lady Fools stupids with her words & acting\n",
      "I can see why Kamala campaign wants another debate so soon. The general feeling is that the debate was a tie and didn't move the needle much. And I see more and more videos on this come out, the sentiment of 'eh' appears more and more true. Both sides are going to have to step up their game to beat the 50/50 toss up.\n",
      "LIBERAL MEDIA TRYING TO SWAY WEAK MINDED VOTERS TRUMP CALIFORNIA 2024 BABY LIKE HIM OR HATE HIM HE DOES WHAT HE SAYS\n",
      "OHIO, WAKE UP!!! IT’S TIME TO VOTE BLUE!🔵 🔵 🔵 🔵\n",
      "The Republican-led state of Ohio has the second-highest drug overdose death rate in the United States. Ohio ranks number 10 in the top 10 states with the lowest life expectancy. The U.S. state with the highest drug overdose death rate? The Republican-led state of West Virginia.\n",
      "Trump won...and all she could do was LIE\n",
      "What about her body language when she was asked the very first question are you better off now than you were 4 years ago they never talked or asked about that bias\n",
      "She is a liberal. Of course she thinks she was winner. Really, even though there was 3 on one?\n",
      "Harris expressions were all bad acting ..It wasn't what she actually felt . Remember ,this is a national debate with politicians. Harris didn't show any confusion ,panic , nervousness , or stumbling like she usually does because she new all the softball questions before hand .She also knew she wasn't going to be fact check or challenged.. That makes all the difference in the body language . Her body language was scripted with a bunch of B.S.answers just like this this lady and video. This body language expert .smile at the end is showing that she is thinking about all the money she making for praising Harris ,whom she is going to vote for..while knocking Trump What do you expect from FAKE NEWS.... .\n",
      "Not one sided at all...😂\n",
      "She had all the answers and questions beforehand. Fact check 0 times . ABC should be ashamed of themselves.. I wouldn't vote for her if you gave me a million dollars.. she's a dangerous candidate because she's a puppet\n",
      "The lady in the dress is Thick.\n",
      "Really........this is so dumb.......you can bring another one that would do the same thing with trump and find out he was lying also.......so what's your point here ....beside political gain from one candidate???......would be nice to have someone impartial doing interview or comment's about both of them......\n",
      "Isn't it amazing how more than one person can watch this segment and come up with so many different conclusions? Trump isn't very bright. Please don't confuse wealth with a high IQ. I personally know a lot of wealthly people that aren't very bright. Trump is pretty much an idiot that only cares about himself and lies about virtually everything. I will never be able to make sense of what the average middle-class American who is in the MAGA cult sees in this man. Trump is nothing but a want-to-be bully with the vocabulary of a 5th grader.\n",
      "He does not respect her at all. He is not giving an inch. Trump is hiding his body language to seem in control. Harris is just letting her emotions go, which is smart. The stoacism school is wrong and dangerous. They see no value in being human. It’s a movement that body language experts are blind to. It’s a deliberate attempt to hide body language, by dark tetrad personalities that experts are naive to, and feel uncomfortable calling out. Cowards\n",
      "This is just method acting in reverse 😕\n",
      "What a complete joke of a breakdown...they ARE EATING PEOPLE'S PETS!!! MSM SUCKS!\n",
      "Harris didn’t debate she attacked Trump the whole time!\n",
      "As a self proclaimed analyst of sorts I say Kamala looks like a bully and doesn’t really care about what we care about.\n",
      "He seems to know more inside\n",
      "It’s called underconfident because well he’s new here but he’s doing his best and he did better than we hoped\n",
      "Confidence is a sign of lie sometimes\n",
      "Ummmm am I the only one who saw her initiate the handshake!?!? 🥴\n",
      "People aren't stupid. Donnie put out a lynching call in Springfield and the threats began. What's next? A lie about raping white women?\n",
      "Not only did Harris clearly win the debate, she also showed to be a better president.Vote blue!\n",
      "A lot of Trump cult members on here who support an unprincipled morally bankrupt man\n",
      "Trump2024\n",
      "the debate then democrats should admit that they have caused a tremendous disaster in this country for the past 3 AND a half years AND no one knows who has been running the country since joke biden has forgot even His own name😂.\n",
      "You just make people more hate her.\n",
      "Exaggerating Acting kamala\n",
      "So we know who this \"body language\" expert supports! I could read them better than she does\n",
      "🎉❤❤❤❤\n",
      "This lady is another leftist schill\n",
      "body language does not lie\n",
      "That's not him being unsure, that's him being appalled at what they're allowing people to get away with. That his \"this is so unbelievable\" pause and expression.\n",
      "Body language expert. Lol This was a waste of time.. you know what side she is pushing, non parcial at all. I am no expert but i can see that right off the bat. Harris is a flat out narcissist. Everything about her behavior she was trying to push buttons to get a reaction from trump, him defending himself and then using that reaction against him. That is exactly what was happening.\n",
      "Unbelievably terrible editing. Half of the video the expert says \"he (or she) does like this\" referring to something she's showing and we instead see the candidates.\n",
      "Aww, look at the butthurt Misogynists can't handle the fact that their \"Messiah\" was mauled.\n",
      "Vice President Harris won that debate no matter what... hand open, eyes closed, smiling and etc.\n",
      "This woman's insight was a lot better than the video of a guy I saw trying to interpret their body language.\n",
      "harris was a clown, no real answers\n",
      "TRUMP 24\n",
      "WFAA : T00 much c£ns0r!ng ! Extr££m F£ar 0 the TRUTH ?!? That “ expert “ is a MUD RUCKER, tossing mud onto a wall !\n",
      "This break down is so biased.\n",
      "“ …I’m not so sure about “ 👉🏼 that You THREE gang - uppers are AWARE of what Haitian migrants have been DOING in Springfield, Ohio ! THAT was the anxiety !\n",
      "If you like the Orange baby its a sure sign you are nuts.\n",
      "Absolutely objective and impartial analysis. 🤡\n",
      "kamala is so fake\n",
      "Only a truly stupid person would support criminals.\n",
      "\"i HAVE to say Harris won it\" you HAVE to say. Another Dr on youtube says both.\n",
      "3 vs 1 and Trump still won.\n",
      "She looks like she was wearing No a H1 Audio pearl earrings!!! Look them up!! Cheater always a cheater\n",
      "Biased against Trump ..... Harris will Decimate USA as Starmer is Decimating ours. UK\n",
      "Bruh ... I'm not even a body language expert and when they asked Kamala on the withdrawal its clear that she was deflecting, searching for a good response even when the outcome is bad. I mean watch the beginning of her response and after she deflected to saving money ... the moment she got into the supposed good part, for saving money, her speech picked up and she sounded clearer compared to before when she was searching for good excuse and her speech slowed down and she was looking up and to the right (just google what looking up and to the right is ... let me save you some time \"looking to the right and up indicates that a person is telling untruths\". Like c'mon this is BS to the max and the reporters should have picked up on the clearly biased take of the corrupted body language \"expert\".\n",
      "Trump beat Harris 33-0 in number of lies told. Trump told some whoppers. My entire family has 8 votes ready for Kamala Harris and Tim Walz in North Carolina. 🔵🌊\n",
      "Notable how Trump’s sweatstache suddenly appeared while ranting on about neonatal terminations.\n",
      "I love Trump's obvious tells when he agrees with his opponents but because he's elderly and he's usually surrounded by his sycophants he's forgotten how obvious a tell it is and he thinks if he only nods a little bit that no one will see him agreeing. Given that we know honesty is not his thing, this nodding tell is a clear indicator of senility. I mean, would you want a president who would loose at poker every time to meet foreign leaders?\n",
      "The ABC bias is amazing. This is their response to Dr Phill analysis. He had real experts with over a dozen published books, and who are military level experts on the matter. They dug up the DEI pick, who has no books published.\n",
      "The handshake won the debate. He hunched over and never straightened up, defensively on the run the whole time.\n",
      "this lady missed the fact \"the cackler\" did 0 the entire debate other than try to cover up doing 0 but lie and attempt to deceive using expressions especially in the eyes of \"trying to look innocent\" while doing so. that is, even in modeling, the pros know NOT TO LOOK DIRECTLY INTO THE CAMERA at least most of the time so the focus would be in a model's case where it should be \"on the clothes or item being sold\" NOT themselves ... but \"the cackler\" all night kept looking directly into the camera to keep the focus on her with her pretending to be innocent expressions NOT on the facts of the disasters plus she deliberately plotted in causing especially at our border, afghanistan, inflation, the illegal ch-eye-na connection, crime, causing multiple wars, etc.\n",
      "Scripted harris show includes body language\n",
      "what a biased body expert i watched several of them and she is the only one saying Harris won .\n",
      "I watched the video of a woman being arrested after eating a cat .\n",
      "Just another democrat while ABC says don’t listen to the people in Springfield, listen to us tell you it’s not true while they send thousands of police and $3 million to Springfield 😂😂😂\n",
      "Complete BS.\n",
      "Kamala did a fantastic job last night!!! 💙\n",
      "The expert might need to retire\n",
      "😍😍😍\n",
      "Miller Betty Garcia Sandra Allen Jason\n",
      "Shocked he didn't stalk her the way he did with Hillary. He's a predator.\n",
      "2:21 The word is especially ARGH! There is NO FREAKIN' “X” IN THE WORD “ESPECIALLY!” Stop saying “Expecially!” Seriously .\n",
      "Harris was wearing Nova ear Bud earrings .She cheated\n",
      "TRUMP 2024 ❤🇺🇸\n",
      "🤡Kamala, Biden y Obama llevan 12 años destruyendo el país, estos son los verdaderos coyotes de la frontera, que desastre deberían estar presos. El desastre de la economía actual y las guerras se lo debemos también a Kamala no ha hecho nunca nada...🤬🤬\n",
      "Lazy journalism\n",
      "I would bet my paycheck she is a Harris fan, you can’t get a biased opinion!!\n",
      "VP Harris cleaned trdumps clock\n",
      "Sorry. Biased as typical\n",
      "👍🏼 He got played like a Demented Fiddle! 😂\n",
      "This is not an expert, this is a fanatic😂😂\n",
      "Kamala blink rate through the roof. Indicating possible lying, or maybe struggling to hear both Trump and the earring speaker in her ear at the same time.\n",
      "I like how Trump never looks at the person he’s debating, while they practically stare at him it’s such a power move😂👌 it shows who the dominant and confident personality is\n",
      "Where did you find the America's most biased and stupid Body Language \"Expert\" ⁉️\n",
      "Kamala's endorsement of Cheney and Bush did her in from that point on.\n",
      "ABC the corrupt media\n",
      "fools eating this is truly happens... these fools buying abc fools words\n",
      "Harris is a bar hagg. She's a cartoon poser. She knows how to get what she wants from men.\n",
      "I knew from the first second I saw this lady that she would be for Harris.\n",
      "Wow. Lots of trolls here today!\n",
      "Thank you for fact checking !\n",
      "Nice propaganda\n",
      "Small hand of his LOL,\n",
      "Kamala came off smug and makes actions for she has no answers\n",
      "The expert was wrong.\n",
      "She ate Trump for dinner.\n",
      "Trump is a nut job. She just put that old traitor in his place.\n",
      "Curious that this supposed \"expert\" completely missed the significant nonverbal nervous actions Harris repeatedly displayed.Most obvious:• a large increase in the number of blinks when she repeated her rehearsed and memorized speech to when Trump spoke. Anxiety and stress trigger the nervous system, causing involuntary twitches, aka blinks.• her head movements and positions while Trump spoke about her, such as resting her head on her hand. People who are lying may change their head position, such as tilting it to the side, bowing it down, or jerking it back.• several times, she shook her head left-to-right while she spoke, indicating disbelief in her own words. People subconsciously shake their head \"no\" when they lie. As people lie, their brain knows the words are false, and they shake their head as in \"no.\" When people are telling the truth, they tend to nod up and down as in \"yes\".\n",
      "Great job on VP Harris' body language. She uses being muted to her advantage to convey her reactions when she could not speak.\n",
      "News media is liars im starting to see what trump is saying how bad the media is to him\n",
      "She’s a Kamala voter. Trump planned the hand shake play not Kamala 🤣🤣🤣\n",
      "Good body language analysis... most of them are goofy.\n",
      "Grew up and still live in the metroplex after more than 60 years. This is a great example why I haven’t watched WFAA for decades. Total loss of integrity.\n",
      "Did anyone notice her earrings which look very similar to the NOVA H1 Audio earrings.\n",
      "She walked trump like a dog lmfaoo 😂😂😂\n",
      "That woman is a democrack for sure\n",
      "The hand shake wasn’t odd but stating her name as though he didn’t know who she was\n",
      "Why don't they do a Fox debate? Fox made the offer two months ago.\n",
      "\"👏👏TRUMP USA HOMELAND & OVERSEAS 2024👍\"\n",
      "Because the Democrats internal polling that we don’t get to see has her losing😂 do people not understand this….. oh wait Trump is scared right😂 get a clue.\n",
      "Honesty wouldn’t be surprised if this guy has a stroke the next debate\n",
      "It was rigged the first time why would Trump do another one this media is disgusting bias\n",
      "All the sudden now she wants to do a debate for the American people😂\n",
      "Look behind Trump, people are bored and are massively leaving the rally 😂😂😂😂😂😂😂\n",
      "She didn't want fox...because Trump knows they'll have his back with easy questions....but i hope she debate him again..\n",
      "Hes scared he will loose again\n",
      "Trump already done 2 debates ....I don't think he needs to do it again....kamala wants to debate again because because she knows she did not win the first debate eventhough she received sample questions prior to the debate...Trump's message is loud and clear... The way things are shaking up right now, Trump will win this election...\n",
      "CNN working to install a second marxist leader.\n",
      "This Democrat is voting tr u m p\n",
      "Every debate is done with left wing moderators its time for kamala to debate on fox news\n",
      "Trump already did a cnn debate\n",
      "Why debate when you’re winning? Amer Ghalib, mayor of the Detroit-area suburb Hamtramck, the only Muslim majority city in the US, has endorsed Donald Trump in the 2024 presidential election, Even the Muslim community is turning on her, Kamala’s history.👏🏻👏🏻👏🏻\n",
      "Trump says no debate. To mark the occasion Chinese restaurants all across the nation are changing the dish \"orange chicken\" to number 45 on all menus.\n",
      "Trump refused because he is a coward.\n",
      "Way cnn?Better if her husband and Joe Biden be moderaratos in sleepy joe basement and DOCTOR Jill will served coffee donuts and ice cream for joeIs more save for Kamala\n",
      "She was offered 2nd debate on Fox but declined. She is in no position to declined offers. You want to be commander and chief, and then she needs to demonstrate leadership qualities by going into a hostile environment. Trump already debated on CNN and ABC, both networks lean more left, but he did want leaders do. She is no leader, no backbone, was a DEI picked\n",
      "Trump already did 2 debates on a liberal propaganda channel. He agreed to Fox, but Kamala said no. NOW go tell that!\n",
      "Trump should fake bone spurs and miss another debate.\n",
      "Debate OMG- she repeated slogan lines and laughable sayings . Trump does not need to debate and he would on a respectable network. Not CNN abc etc…\n",
      "Just stop going to these rigged debates. Its even come out that the last one was rigged, why would he do another unless its by someone impartial like Rogan\n",
      "trump 2024\n",
      "Harris is the female version of Trudeau.\n",
      "Why did Harris say no to Fox?\n",
      "2nd Debate MUST BE on FOX News!\n",
      "CNN wouldn’t fact check her either\n",
      "Every time global CTV or CBC post bias news clips report them as misinformation. It actually has consequences . Why would he want another debate when they gave her the questions in the last last one?\n",
      "How about a mediator that isn’t biased and has some credibility.\n",
      "Trump just makes up his own narrative in his own reality & talks about that instead.\n",
      "😂😂😂 he is a mess… he is an actual mess! He just keeps lying.\n",
      "lol... \"debate\" !\n",
      "His entire campaign is predicting that she will lose the election.\n",
      "Gaslighter of the century.He makes Tokyo Rose look like a fact checker. 😂😂\n",
      "For more of her lies!\n",
      "Donald Trump 🇺🇸 🇨🇦 Pierre Poilievre\n",
      "The far-right Trump supporters are COPING MASSIVELY in the comments.\n",
      "🙏🇺🇲SAVE OUR COUNTRY🇺🇲 TRUMP 2024 🇺🇲 ❤️🤍💙\n",
      "ALL CNN DOES IS SPEAK NEGATIVE AND PRAISES HARRIS. WHY WOULD HE DO THAT.\n",
      "FOX FOX FOX NEWS\n",
      "TRUMP & POILIEVRE 2024!!!\n",
      "Fox debate!\n",
      "CNN is a joke. News media at it most bias. All they do is attack Trump. They want a fair debate? Do one on FOX with Hannity or Jesse Watters with muted microphones.\n",
      "I hope Trump says debate with Fox or nothing...he's done 2 debates now with anti trump media..enough. of course Harris said yes, it's with CNN make her do one with Fox...she won't, she's a coward.\n",
      "2nd debate, what a joke. Trump 2024\n",
      "This is practically a walk off for Trump.\n",
      "That's why CNN was fair with Trump VS Biden. It was planned to not headbut Trump because the leftists wanted Joe out of the way.If Trump accepted the debate with Harris on CNN we know darn well it won't be fair this time around.Nice try.\n",
      "That's right she wants a cnn push\n",
      "It should be on his terms this time on Fox\n",
      "We now have an ABC whistleblower with proof, who has stated that the last “debate” was unfair and biased. No 💩 Sherlock! It’s as though they didn’t kill the “rat” in the first trap set out, now they want to set a second trap. Thing is…rat’s maybe pests and nuisances, but they’re very smart. Nice try though Kameltoe!\n",
      "She know nothing worldly historical economical a total O\n",
      "She declined the original schedule. Her campaign is a mess and needs this to have any chance.\n",
      "This guy's afraid of another debate. If you are so smart and said you won the debate then show up and debate her. But you wont because you're losing to her and can't handle it. 😂😂😂😂\n",
      "Nobody cares.\n",
      "Trump reminds me of Roberto Duran in the second Sugar Ray Leonard fight saying \"no mas\"\n",
      "To all people saying Fox asked to run the debate. Fox did indeed ask but Trump doesn't want the people asking the questions. He wanted his partisan loyalist to do it. It just goes to show how scared Trump is to debate Harris again, that he wants a rigged debate to let him take advantage. Even if the debate happened with Fox, he would lose again.\n",
      "The debate for both of them was pathetic.\n",
      "\" Broadcast that second debate from Fox news channel\" 🙂👍\n",
      "HE DOESN’T WANT TO DEBATE BECAUSE HES ALREADY WON THE PEOPLES VOTES!!!!!! TRUMP4CANADA\n",
      "I think that Kamala would be good at doing Laundry Soap Commercial 📺\n",
      "I don’t get what people see he is not president mater😢ial\n",
      "Sure Kamala accepts another rigged appearance with BFFs asking and answering for her while throwing garbage and lies at Trump. What crook wouldn’t.\n",
      "We didn’t get to see her debate in the primary. She’s sneaking in without even running.\n",
      "why won't she debate on FOX TRUMP 2024\n",
      "She turned down fox. Always on her terms or her handlers\n",
      "The fact that she refused Fox shows she is looking for another sand bag,set up biased gang up job like the ABC fiasco. Trump is wise to avoid the CNN obvious trap as his momentum is great and she is faltering badly, especially after the Oprah clown show.\n",
      "Rodriguez Paul Thompson Elizabeth Gonzalez Anthony\n",
      "Trump wears Nomex treated Asbestos Pants pretty much 100% of the Time\n",
      "He is just afraid to debate her again.\n",
      "Hall Helen Jackson Carol Williams Eric\n",
      "The last debate had the host NOT be impartial, the main stream media is bought and paid for by extreme left cuckoos.\n",
      "Trump did ABC, why wouldn't Kamala do Fox?\n",
      "If he debates her again then he's not as smart as i thought. Kamala has stolen Trump policy's and is now running with them. She had almost 4 years to fix a border she helped break.\n",
      "Lee Michael Anderson Betty Wilson Sharon\n",
      "Lee Helen Rodriguez Jennifer Jackson Donna\n",
      "They can just dress up a manequin like Trump and put it on stage . No one would notice.\n",
      "hes a coward.\n",
      "God bless trump\n",
      "All the cats and dogs applaud Trump. Also funny he talked about a fighter saying he wants a rematch when the lose. Seems like I heard this statement from him before.\n",
      "I'm really surprised that global allowed. The comments to be put up too. Seems how they're crazy liberal nobody believes any of your crap anymore. Any of you guys, even the CBC radio mainstream media is so left. It's not even funny and the worst part is is 25 years ago. I would have been considered left. Now I'm considered extreme conservative I'm sure by the liberals /democrats 🙄🙄🙄\n",
      "Whatever we stand trump\n",
      "Looks to me like a lot of you are in for a big shock come November.\n",
      "Go the Fox Not CNN Because CNN is not independent news\n",
      "Suddenly early voting is legit.\n",
      "Kamala will be selected. They need order out of chaos to get there NWO\n",
      "Good do not take the bait with CNN and Kamala. Vote Trump make USA great again.\n",
      "Chicken\n",
      "CNN is a garbage network…why is Global so cosy with them….ummmm\n",
      "if you look at trumps playbook it is taken directly from Sun Tsu-“If your enemy is secure at all points, be prepared for him. If he is in superior strength, evade him. If your opponent is temperamental, seek to irritate him. Pretend to be weak, that he may grow arrogant. If he is taking his ease, give him no rest. If his forces are united, separate them. If sovereign and subject are in accord, put division between them. Attack him where he is unprepared, appear where you are not expected .” The Second line sums up trumps reluctance to engage Harris again. He knows that she is superior in every way, smarter, more clever, better informed, etc. trump wants no part of that so he \"evades' her. he knows that he cannot beat her and his only, and tired, play is to lie. That is trump. trump attacks when his opponent is weak and runs when his opponent is superior. According to his Neice he has always been that way, a bully to weaker kids and running home crying when he is confronted by an equal or better force. In short trump is a classic bully and coward. He tells his minions that 'i got your back' but when asked about his involvement in the capital storming he says, I had nothing to do with that, I just made a speech. He is no hero to the people he runs when challenged instead of showing character. classic trump.\n",
      "Trump isn't a debater, has no plans, knows no factual information. This criminal needs jail time.\n",
      "He offered to do THREE debates. CNN abc and Fox. She ran away and would only do abc, which is run by her good friend that introduced her and her husband. The moderators lied and were bias, she should do one on Fox to even it out. She won't because she can't. This woman didn't win a single primary, her presidential run is an insult to democracy.\n",
      "why not fox news?.... Trump did ABC.......\n",
      "Fox News or no debate!!!\n",
      "Why not do the debate on Fox News ?\n",
      "Time to retire, grandpa. Stop making a fool of yourself in front of your grandchildren.\n",
      "It would be suiside to vote for her! People wake up! Anyone who thinks they need her telling them what to do is a threat .\n",
      "Fox News should get a debate or Newsmax. Not another far left tv station like Global\n",
      "Because nobody will see her if there isn’t a debate, who is she ?\n",
      "Donald says its too late to have a debate. It is way past his jail time.😂😂😂\n",
      "She was did did nothing in the last 4 years, only reck the country, do people have common sense. Trump 2024 ❤\n",
      "TrumpIs ahead\n",
      "It’s not a close race . Trump is ahead\n",
      "Harris is a joke\n",
      "Trump 🇺🇸👍 2024!!!❤\n",
      "AZ is compromised. A video on X showed illegals admitting that a rep showed up to sign them up to vote, filled out the ballots, all for Harris. The left are cheating already.\n",
      "Nah Trump is leading 60 percent while Kamala losing 30 percent.\n",
      "Finally a news station that left personal opinions aside!!! I’m a woman and I’d rather have trump lead so if any men think otherwise I’d think again🤷🏻‍♀️\n",
      "Tight but it won't be for very long 😁\n",
      "Hahahaha Kamala needs a second interview so bad loll..Trump doesn’t need it at all.. no second debate ,same as not second opportunity for her\n",
      "Trump 2024❤❤❤❤\n",
      "I predict 276 for Harris, 262 for Trump\n",
      "Trump wins because under Harris over 8.5 million Illegals have been encountered at the southern border and 3 million got away. \"Source CBP. The cost of illegal immigration at state and federal is 200 BILLION. Gas prices up 38% per AAA, Food up 21% source Axios, Mortgage rates up 148%, Source Bankrate Home insurance up 61% per NAIC, Car insurance up 118% per NACI, Real wages down 2.24% bureau of labor and statistics.\n",
      "If Harris Walz wins there goes future elections. One party will be in power The Democratic Machine. Elitist Globalists party\n",
      "♥️🇺🇸🙏\n",
      "Trump 💪💪❤️🇺🇸\n",
      "YAY AMERICA 🇺🇸 FIRST TRUMP✊TRUMP✊TRUMP✊ ❤❤❤❤❤❤❤❤❤❤❤❤\n",
      "Fake. No way that many people are voting for 4 more years of horrible policies and border horror.\n",
      "Our Open Borders and our Military readiness should be at the top of the list for this election. What does YOUR candidate say about each? Think about it when you vote!! If we don't have a secure border and are we are not able to defend ourselves against other countries properly nothing else really matters!! Every area of our lives are being threatened. Trump/Vance 2024\n",
      "If you believe the Poles, i have a bridge to sell you.\n",
      "Trump 2024\n",
      "Trump 2024! Vote for peace and to prevent WWIII. Now, more than ever, we MUST unite as a nation. There are forces that want to see this country crumble, forcing Americans into suffering and control. Kamala is a puppet in their game, serving the elite's agenda to destabilize this great nation. They want higher taxes, more immigration, fewer job opportunities, and the spread of crime and drugs, threatening the future of our children. The elite want the American Dream to disappear, and Kamala DOESN'T CARE for women’s rights or the values, she's only after EMPTY MINDS. If you truly care about your country and its future, vote for Trump. He may not be perfect, but he stands for a stronger economy and a better America.\n",
      "Trump triumph 2024👍👍🇮🇳🇮🇳🇮🇳\n",
      "💙K💙A💙M💙A💙L💙A💙\n",
      "i'm not voting both suck\n",
      "Fake polls - sorry Refer to the only correct one from the latest teamster poll\n",
      "Republican wimpy… grow a pair\n",
      "As an international observer to US politics the fact that a human being as disgraceful as Trump is anywhere close to being elected President is simply a testament to how unbelievably stupid American people are en mass. Facts.\n",
      "🔝 Trump now go up to 78% won 🎉\n",
      "Hopefully trump wins. I can’t do 4 more years of this.\n",
      "I do not know 1 person voting for her. Not on social media, not in real life. This is NOT true\n",
      "Trump not a good President for Americans\n",
      "All of the Trump supporters are providing great rational reasons for voting him. All of the Harris supporters say they will vote for her because she is a woman and she is Black. (I’m not sure if either of them is true). America! , please wake up, Vote with your brain, not just with your eyes - This is our future. My and my family will vote Trump for sure ♥\n",
      "FAKE NEWSTRUMP WIN 🇺🇸🖕\n",
      "\"It amazes me that someone can go across this country and say that they're going to fix the things that they spent the last three and a half years breaking.\"\n",
      "It doesn’t really matter about the people. The electoral college is who votes. In order to win the state the runner needs to win 51% of the electoral votes of that state.\n",
      "WHO IN THERE RIGHT MIND WOULD VOTE FOR HARRIS TRUMP 2024 CALIFORNIA BABY GOOD AGAINST EVIL..\n",
      "I see corruption\n",
      "I think 70% of Americans are voting for Trump because they are sick of this Woke Economy.\n",
      "America does not need a Racist President an Vice president we’re not going back to hate days\n",
      "Trump / Greedy GOP 2017 $ Tax Cuts for the Rich $ and Tariffs Scr-wed everyone…except billionaires and CEOs Harris/Walz will REPEAL them! JOIN US Reject Trump / Vance / Greedy GOP / Project 2025 plan for Oligarchy and Dictatorship Vote for Freedom not Fascism in the USA Vote Harris/Walz/Blue!\n",
      "Of course she's leading. She is a real human being and he is a liar, con man, r-pist, felon, and wannabe dictator. Why would any normal person vote for him?\n",
      "Trump for 2024\n",
      "DONALD J TRUMP MY PRECIDENTE\n",
      "Democrats going after Robinso. All 9f a sudden he is on Porn? They will do anything to win.\n",
      "Harris is a bad seed. Democrats for Trump!\n",
      "if this poll is correct. 48% of americas voting for the same thing weve had for the past 4 years is scary. its honestly scary to me.\n",
      "Trump is far ahead\n",
      "Note au menbres de la banque signature banque et de tous les autres banques de groupe dites gangs n'oublier pas que vous avez des pays a vous que c vous qui diriger des pays reconnus par toutes les institutions internationaux avec son president et ses ministere ect.. et ses ambassades ect... et son royaumes avec son roi ou sa renne et aussi vos millitaire et poliizr et agents secret et dounier et garde de cote ect... enfin tous se que droit avoir un pays et tous est legalesjiste que c vous qui diriger ses pays la comme le oays crenwcho pres des antilles et les etats unis et les autre dans le monde donc informer vous a se sujet\n",
      "Fok new lies lies lies😂😂😂😂😂\n",
      "Kamala freedom baby win\n",
      "Lies lies lies lies wath joké\n",
      "Chúc các bạn có kỳ bầu cử tốt đẹp 5/11/2024\n",
      "😂😂😂😂😂😂 yea right close. Typical Fox 😂😂😂\n",
      "Not tight at all media are liars Trump is miles ahead of Harris\n",
      "People are actually voting for more of the same life ? More money to ukraine. Unlimited illegals, print more money. Whos setting the trade deals with president Xi? More money laundering into DC pockets. Wtf\n",
      "Tramp has already given his hand away… he said “If I lose there will be a BLOODBATH!” He’s absolutely counting on it, because it will validate his importance and existence in his own mind. If you really listen to the things he says, it’s blatantly obvious that he couldn’t care less about killing an unlimited number of innocent people who have already been born, but he has literally “roped in” the Christian nationalists on a “single issue” with his promise of a national abortion ban! I asked my closest friend how she could stand behind him and her response was that he’s the “only one” that will ban abortions! Well I’ve got news for you… he’s the only one that will take away your freedom and flush democracy down the toilet!\n",
      "Very funny, saw all over the woirld completely other polls, much more advantageous for Madam Vice President Harris. Are you keeping the maga-crowd calm before the storm??\n",
      "Trump is winning ca by double digits\n",
      "Ive NEVER nlbeen polled. Ive never talked to or met anyone who has been polled. Polls are useless.\n",
      "If this is true....if THAT many people actually STILL support the democrat party. This country is truely finished.\n",
      "Listen, I need that no tax on overtime\n",
      "Pennsylvania supports Donald Trump Harris will never win Pennsylvania who stands with Pennsylvania?????\n",
      "We need a candidate that will offer real food. As an American that's traveled and lived all over Skyrim america were all dying from fake food and nasty water. We need a more Nordic landscape with rivers we can drink from and reindeer to eat . Let them walk in the woods and parks . King salmon cam be breed in a pool meant for them . We can easily produce real food globally . Also the right color green green apples are the ones hag build muscle without working out . Those are real apples watered with real raw sun filtered river water . Not dead water from a hose or pipe. Im asking for the people to force both candidates to have a standered up to a level of real food like I just explained . We also need pot trees will make the water tropical and turn sand white everywhere.\n",
      "Trump will win in a landslide like never before seen and democrats party knows it! She has NO plans nottta nothing.\n",
      "If you are a young person considering voting for Harris, consider this and nothing will change. The border will remain open, the illegals will get the money you should be getting, Inflation won’t get better it will only get worse. Please consider these facts before you enter the voting booth … SINCE BIDEN AND HARRIS TOOK OFFICE: Groceries: +21.2% Eating out: +21% Baby food: +29.6% Pet food: +22.7% Rent: +20% Electricity: +28.4% Natural gas: +30% Apparel: +12% Used cars: +20.3% Air fare: +31.4% Public transportation: +20.8% Gasoline: +100% Car Insurance: +40% Real average weekly wages: -4.2% Personal credit card debt over a trillion. Interest rates at 7 percent. Unburden yourself from the past 3 1/2 years - Do not vote for more of the same, don’t vote for Harris or any Democrats. Also the persecution of Christians will only get worse. Pray about it!\n",
      "Hey Hello American 👋? No one else is more deserving than the both of them to be Next President ??? This guy's again ?? Really ??😅\n",
      "These 48% need to get out of my country immediately\n",
      "Vote Donald Trump out Remember , donald trump has project twenty twenty five and it's real , and he will take away your freedom , and that's the truth\n",
      "Donald Trump is not winning.Donald trump is losing just like he lost the debate and just like he lost twenty twenty and he's still telling the big lie\n",
      "I have yet to meet someone who likes Harris. So every other person likes her, huh? Show me.\n",
      "Trump holds 27 states I think and Harris has about 26 or 24 Harris but I only say that because theres battle ground states and trump is leading the battle ground states but Harris has big states and Harris and trump has a tie in the polls but trump is doing little bit better then harris but remember harris has big states I voted for trump i hope you found this helpful love you all❤\n",
      "2%, that has to be wrong? I know there are a lot of total morons out there, who don't know what time of day it is but Trump who is for Americans (you know, the people voting) should be 40 points ahead of Harris (who is not for Americans).\n",
      "Looks like trump is winning\n",
      "Harris took a crap 💩 😂😂😂\n",
      "every time he promises protect ... himself. Don't trust him, he will protect none, selfish guy.\n",
      "Trunp is up in all polls and all states! Trump is an American hero\n",
      "Harris is a freaking joke anyone and there right mind that vote's for her is a loser\n",
      "Kamala, open your mouth and say, \" i am with israel \" you will win.\n",
      "Trump win Ohio\n",
      "LOL. Marginally leading in 3 out of 7 'battleground' states. Lumping them all together as if they are one is pitiful spin-doctoring.\n",
      "Diddy and Obama left the group\n",
      "Im 28, got 6 months left to live due to severe cancer, and even though I won't be around for long once the new president moves into the white house, I hope to see my beautiful country in good hands again before I go. Vote Red Pls ❤❤❤❤\n",
      "I pray for Trump team\n",
      "I cannot fathom the logic of how so many people voted for her. Do people not have a brain? I am so shocked.\n",
      "Blonde Orange continues to throw a fit like a big Baby Huey, he needs to learn to accept defeat and move on with his life. The clown needs to go back to hosting The Apprentice, because that's all he'll ever be good at. Kamala Harris, aka Harley Quinn is always laughing whenever she gives a speech on stage, she can't seem to keep a straight face and sounds like a hyena. For now, let's just kick back and relax, pop open a bag of popcorn and enjoy the comedy show that is Politics. Nobody really wants to see a Blonde Orange vs Harley Quinn Election battle in November, that's just a waste of time and energy. People should be more concerned about the 2028 Election Race, because that is where their votes are really going to make a difference. During the past two years, Drag Strips and Speedways across the country have been getting closed down. We should be out there fighting to keep racetracks alive and stop them from getting destroyed. spend money to help out the Stock Car Racing community. Our country needs a much younger 30-40-year-old president, one who knows what they are doing. A new president who will cut down the cost of housing, rent, food, health care, gas prices, cars/trucks, and our taxes by 100 percent.\n",
      "Fox................ lol..............awful...............paid 800 million dollar fake news fine........ha ha.\n",
      "May God please make TRUMP our president\n",
      "For anyone supporting Harris, you really need to go look at her history. She is a death sentence to our country, to your children!!! What is wrong with you people??\n",
      "Pres.Trump is our next President 2024.\n",
      "Trump is cooked!! It’s over for all that foolishness as soon as the election is over. On to the next.\n",
      "Trump gablecion trump mal president Donaltrump 2o24 ♥️♥️🇩🇴❤🙏🇩🇴🙏❤♥️♥️..trump. trump\n",
      "WE NEED TO ADD TO OUR GOVERNMENT WEBSITE ACCOUNTS WHERE WE CAN CHECK OUR OWN VOTE TO VERIFY OUR INDIVIDUAL VOTES ARE COUNTED AND CORRECT!!\n",
      "You mean racist states\n",
      "DARN IT WHAT HAPPENED KAMALA\n",
      "This is something the whole world is laughing at, almost half of the American population are simple idiots! Kamala should not get more than 2 % if all American people had common sense!\n",
      "SAY NO TO ABORTION! TRUMP FOR PRESIDENT! 🇺🇸\n",
      "Trump 2024\n",
      "Trump 2024\n",
      "Screw policy, vote on looks. Beauty Queen (BQ) vs. Frogface, 2024\n"
     ]
    },
    {
     "name": "stderr",
     "output_type": "stream",
     "text": [
      "<>:2: SyntaxWarning:\n",
      "\n",
      "invalid escape sequence '\\s'\n",
      "\n",
      "<>:2: SyntaxWarning:\n",
      "\n",
      "invalid escape sequence '\\s'\n",
      "\n",
      "/var/folders/bl/73s115b54m12m9z5qnrkg_pm0000gn/T/ipykernel_74169/3059562443.py:2: SyntaxWarning:\n",
      "\n",
      "invalid escape sequence '\\s'\n",
      "\n"
     ]
    }
   ],
   "source": [
    "# Download required NLTK data\n",
    "\"\"\"\n",
    "nltk.download('punkt_tab', quiet=True)\n",
    "nltk.download('stopwords', quiet=True)\n",
    "\n",
    "def clean_comments(comments):\n",
    "    stop_words = set(stopwords.words('english'))\n",
    "\n",
    "    cleaned_comments = []\n",
    "\n",
    "    for comment in comments:\n",
    "        # Remove HTML tags\n",
    "        soup = BeautifulSoup(comment, 'html.parser')\n",
    "        text = soup.get_text()\n",
    "\n",
    "        # Unescape HTML entities\n",
    "        text = html.unescape(text)\n",
    "\n",
    "        # Remove special characters, digits, and extra whitespace\n",
    "        text = re.sub(r'[^a-zA-Z\\s]', '', text)\n",
    "        text = re.sub(r'\\s+', ' ', text).strip()\n",
    "\n",
    "        # Convert to lowercase and tokenize\n",
    "        tokens = word_tokenize(text.lower())\n",
    "\n",
    "        # Remove stopwords\n",
    "        cleaned_tokens = [token for token in tokens if token not in stop_words]\n",
    "\n",
    "        # Join tokens back into a string\n",
    "        cleaned_comment = ' '.join(cleaned_tokens)\n",
    "\n",
    "        cleaned_comments.append(cleaned_comment)\n",
    "\n",
    "    return cleaned_comments\n",
    "\n",
    "# Example usage\n",
    "cleaned_comments = clean_comments(comments)\n",
    "for comment in cleaned_comments:\n",
    "    print(comment)\n",
    "\"\"\"\n",
    "\n",
    "from bs4 import BeautifulSoup\n",
    "import html\n",
    "\n",
    "def clean_comments(comments):\n",
    "    cleaned_comments = []\n",
    "\n",
    "    for comment in comments:\n",
    "        # Remove HTML tags\n",
    "        soup = BeautifulSoup(comment, 'html.parser')\n",
    "        text = soup.get_text()\n",
    "\n",
    "        # Unescape HTML entities\n",
    "        text = html.unescape(text)\n",
    "\n",
    "        # Remove extra whitespace\n",
    "        text = ' '.join(text.split())\n",
    "\n",
    "        cleaned_comments.append(text)\n",
    "\n",
    "    return cleaned_comments\n",
    "\n",
    "cleaned_comments = clean_comments(comments)\n",
    "for comment in cleaned_comments:\n",
    "    print(comment)"
   ]
  },
  {
   "cell_type": "code",
   "execution_count": 94,
   "metadata": {},
   "outputs": [
    {
     "data": {
      "text/plain": [
       "1706"
      ]
     },
     "execution_count": 94,
     "metadata": {},
     "output_type": "execute_result"
    }
   ],
   "source": [
    "len(cleaned_comments)"
   ]
  },
  {
   "cell_type": "code",
   "execution_count": 95,
   "metadata": {},
   "outputs": [],
   "source": [
    "topic_model = BERTopic(embedding_model=\"all-MiniLM-L6-v2\")"
   ]
  },
  {
   "cell_type": "code",
   "execution_count": 99,
   "metadata": {},
   "outputs": [],
   "source": [
    "topics, probs = topic_model.fit_transform(cleaned_comments)"
   ]
  },
  {
   "cell_type": "code",
   "execution_count": 100,
   "metadata": {},
   "outputs": [
    {
     "data": {
      "text/html": [
       "<div>\n",
       "<style scoped>\n",
       "    .dataframe tbody tr th:only-of-type {\n",
       "        vertical-align: middle;\n",
       "    }\n",
       "\n",
       "    .dataframe tbody tr th {\n",
       "        vertical-align: top;\n",
       "    }\n",
       "\n",
       "    .dataframe thead th {\n",
       "        text-align: right;\n",
       "    }\n",
       "</style>\n",
       "<table border=\"1\" class=\"dataframe\">\n",
       "  <thead>\n",
       "    <tr style=\"text-align: right;\">\n",
       "      <th></th>\n",
       "      <th>Topic</th>\n",
       "      <th>Count</th>\n",
       "      <th>Name</th>\n",
       "      <th>Representation</th>\n",
       "      <th>Representative_Docs</th>\n",
       "    </tr>\n",
       "  </thead>\n",
       "  <tbody>\n",
       "    <tr>\n",
       "      <th>0</th>\n",
       "      <td>-1</td>\n",
       "      <td>622</td>\n",
       "      <td>-1_the_and_to_of</td>\n",
       "      <td>[the, and, to, of, is, in, that, trump, this, ...</td>\n",
       "      <td>[Kamala Harris came better prepared? Or she ca...</td>\n",
       "    </tr>\n",
       "    <tr>\n",
       "      <th>1</th>\n",
       "      <td>0</td>\n",
       "      <td>163</td>\n",
       "      <td>0_harris_is_she_and</td>\n",
       "      <td>[harris, is, she, and, for, vote, trump, to, t...</td>\n",
       "      <td>[Harris expressions were all bad acting ..It w...</td>\n",
       "    </tr>\n",
       "    <tr>\n",
       "      <th>2</th>\n",
       "      <td>1</td>\n",
       "      <td>122</td>\n",
       "      <td>1_kamala_she_is_her</td>\n",
       "      <td>[kamala, she, is, her, and, to, the, trump, it...</td>\n",
       "      <td>[Vote for kamala!!!!, KAMALA HARRIS 👍💙💙💙, ♥️ K...</td>\n",
       "    </tr>\n",
       "    <tr>\n",
       "      <th>3</th>\n",
       "      <td>2</td>\n",
       "      <td>59</td>\n",
       "      <td>2_eating_they_pets_cats</td>\n",
       "      <td>[eating, they, pets, cats, eat, dogs, the, it,...</td>\n",
       "      <td>[they're eating the dogs! they're eating the c...</td>\n",
       "    </tr>\n",
       "    <tr>\n",
       "      <th>4</th>\n",
       "      <td>3</td>\n",
       "      <td>48</td>\n",
       "      <td>3_she_her_nothing_to</td>\n",
       "      <td>[she, her, nothing, to, did, about, was, for, ...</td>\n",
       "      <td>[She had questions given to her- she’s not sma...</td>\n",
       "    </tr>\n",
       "    <tr>\n",
       "      <th>5</th>\n",
       "      <td>4</td>\n",
       "      <td>45</td>\n",
       "      <td>4_gonzalez_lee_young_jackson</td>\n",
       "      <td>[gonzalez, lee, young, jackson, jeffrey, ander...</td>\n",
       "      <td>[Lee Scott Clark Eric Perez Richard, White Jos...</td>\n",
       "    </tr>\n",
       "    <tr>\n",
       "      <th>6</th>\n",
       "      <td>5</td>\n",
       "      <td>39</td>\n",
       "      <td>5_undecided_are_voters_vote</td>\n",
       "      <td>[undecided, are, voters, vote, voting, for, ju...</td>\n",
       "      <td>[Very skeptical of anyone who says they are un...</td>\n",
       "    </tr>\n",
       "    <tr>\n",
       "      <th>7</th>\n",
       "      <td>6</td>\n",
       "      <td>38</td>\n",
       "      <td>6_won_run_trump_win</td>\n",
       "      <td>[won, run, trump, win, spot, winning, by, joke...</td>\n",
       "      <td>[If the question is who won, perhaps your best...</td>\n",
       "    </tr>\n",
       "    <tr>\n",
       "      <th>8</th>\n",
       "      <td>7</td>\n",
       "      <td>37</td>\n",
       "      <td>7_policies_you_border_more</td>\n",
       "      <td>[policies, you, border, more, on, and, the, to...</td>\n",
       "      <td>[Hello wake up!! Pay attention! Less we repeat...</td>\n",
       "    </tr>\n",
       "    <tr>\n",
       "      <th>9</th>\n",
       "      <td>8</td>\n",
       "      <td>36</td>\n",
       "      <td>8_god_you_hallelujah_bless</td>\n",
       "      <td>[god, you, hallelujah, bless, the, jesus, love...</td>\n",
       "      <td>[The silence on the right everytime hypocritic...</td>\n",
       "    </tr>\n",
       "    <tr>\n",
       "      <th>10</th>\n",
       "      <td>9</td>\n",
       "      <td>35</td>\n",
       "      <td>9_myomyomon_yangon_hello_show</td>\n",
       "      <td>[myomyomon, yangon, hello, show, joker, asian,...</td>\n",
       "      <td>[Hello 🎉🎉 Myomyomon Yangon, Hello 🎉🎉 Myomyomon...</td>\n",
       "    </tr>\n",
       "    <tr>\n",
       "      <th>11</th>\n",
       "      <td>10</td>\n",
       "      <td>34</td>\n",
       "      <td>10_debate_the_who_audience</td>\n",
       "      <td>[debate, the, who, audience, this, was, debate...</td>\n",
       "      <td>[the debate then democrats should admit that t...</td>\n",
       "    </tr>\n",
       "    <tr>\n",
       "      <th>12</th>\n",
       "      <td>11</td>\n",
       "      <td>33</td>\n",
       "      <td>11_trump_2024_bendito_got</td>\n",
       "      <td>[trump, 2024, bendito, got, donald, im, bless,...</td>\n",
       "      <td>[❤️🇺🇸. TRUMP .🙏💙, ❤4 TRUMP 7❤, TRUMP ❣️]</td>\n",
       "    </tr>\n",
       "    <tr>\n",
       "      <th>13</th>\n",
       "      <td>12</td>\n",
       "      <td>32</td>\n",
       "      <td>12_هندی_می_yang_på</td>\n",
       "      <td>[هندی, می, yang, på, هریس, bangladesh, jag, ba...</td>\n",
       "      <td>[کامیلا هریس هندی ...هندی ها جهان را فتح می کن...</td>\n",
       "    </tr>\n",
       "    <tr>\n",
       "      <th>14</th>\n",
       "      <td>13</td>\n",
       "      <td>30</td>\n",
       "      <td>13_2024_trump_random_lower</td>\n",
       "      <td>[2024, trump, random, lower, president, for, v...</td>\n",
       "      <td>[Trump 2024, Trump 2024, Trump 2024]</td>\n",
       "    </tr>\n",
       "    <tr>\n",
       "      <th>15</th>\n",
       "      <td>14</td>\n",
       "      <td>28</td>\n",
       "      <td>14_businessman_good_bankrupt_business</td>\n",
       "      <td>[businessman, good, bankrupt, business, man, t...</td>\n",
       "      <td>[How can a guy who has gone bankrupt at least ...</td>\n",
       "    </tr>\n",
       "    <tr>\n",
       "      <th>16</th>\n",
       "      <td>15</td>\n",
       "      <td>27</td>\n",
       "      <td>15_he_is_trump_golf</td>\n",
       "      <td>[he, is, trump, golf, convicted, save, trying,...</td>\n",
       "      <td>[Apart from the fact that it is the convicted ...</td>\n",
       "    </tr>\n",
       "    <tr>\n",
       "      <th>17</th>\n",
       "      <td>16</td>\n",
       "      <td>25</td>\n",
       "      <td>16_abortion_it_of_stated</td>\n",
       "      <td>[abortion, it, of, stated, the, and, to, in, f...</td>\n",
       "      <td>[Tramp has already given his hand away… he sai...</td>\n",
       "    </tr>\n",
       "    <tr>\n",
       "      <th>18</th>\n",
       "      <td>17</td>\n",
       "      <td>24</td>\n",
       "      <td>17_trump_hands_heck_momoa</td>\n",
       "      <td>[trump, hands, heck, momoa, talor, indy, preci...</td>\n",
       "      <td>[Trump, Trump, Trump]</td>\n",
       "    </tr>\n",
       "    <tr>\n",
       "      <th>19</th>\n",
       "      <td>18</td>\n",
       "      <td>23</td>\n",
       "      <td>18_fox_debate_she_her</td>\n",
       "      <td>[fox, debate, she, her, cnn, abc, denise, decl...</td>\n",
       "      <td>[I hope Trump says debate with Fox or nothing....</td>\n",
       "    </tr>\n",
       "    <tr>\n",
       "      <th>20</th>\n",
       "      <td>19</td>\n",
       "      <td>22</td>\n",
       "      <td>19_he_hé_camera_him</td>\n",
       "      <td>[he, hé, camera, him, at, on, his, the, she, l...</td>\n",
       "      <td>[Supposedly he was shot on his right ear. I pa...</td>\n",
       "    </tr>\n",
       "    <tr>\n",
       "      <th>21</th>\n",
       "      <td>20</td>\n",
       "      <td>19</td>\n",
       "      <td>20_lies_bullshit_mess_excuse</td>\n",
       "      <td>[lies, bullshit, mess, excuse, word, tell, lie...</td>\n",
       "      <td>[Fok new lies lies lies😂😂😂😂😂, Lies lies lies l...</td>\n",
       "    </tr>\n",
       "    <tr>\n",
       "      <th>22</th>\n",
       "      <td>21</td>\n",
       "      <td>18</td>\n",
       "      <td>21_abc_corrupt_media_boycott</td>\n",
       "      <td>[abc, corrupt, media, boycott, published, book...</td>\n",
       "      <td>[Took ABC off television programming after deb...</td>\n",
       "    </tr>\n",
       "    <tr>\n",
       "      <th>23</th>\n",
       "      <td>22</td>\n",
       "      <td>17</td>\n",
       "      <td>22_she_done_wins_vp</td>\n",
       "      <td>[she, done, wins, vp, woman, redicoulus, presi...</td>\n",
       "      <td>[If she wins she will put us in debt like bide...</td>\n",
       "    </tr>\n",
       "    <tr>\n",
       "      <th>24</th>\n",
       "      <td>23</td>\n",
       "      <td>17</td>\n",
       "      <td>23_14_33_03_04</td>\n",
       "      <td>[14, 33, 03, 04, 46, 55, 26, 00, especially, w...</td>\n",
       "      <td>[😮 1:26:02 , 1:26:10 not good but he’s older a...</td>\n",
       "    </tr>\n",
       "    <tr>\n",
       "      <th>25</th>\n",
       "      <td>24</td>\n",
       "      <td>17</td>\n",
       "      <td>24_arizona_gun_everybody_has</td>\n",
       "      <td>[arizona, gun, everybody, has, my, guns, he, p...</td>\n",
       "      <td>[He is in Arizona everybody has a gun., He is ...</td>\n",
       "    </tr>\n",
       "    <tr>\n",
       "      <th>26</th>\n",
       "      <td>25</td>\n",
       "      <td>17</td>\n",
       "      <td>25_he_cowards_nuts_delusional</td>\n",
       "      <td>[he, cowards, nuts, delusional, hes, orange, s...</td>\n",
       "      <td>[Reminds me of The Andy Griffith Show characte...</td>\n",
       "    </tr>\n",
       "    <tr>\n",
       "      <th>27</th>\n",
       "      <td>26</td>\n",
       "      <td>16</td>\n",
       "      <td>26_2024_trump_greatest_jerbs</td>\n",
       "      <td>[2024, trump, greatest, jerbs, argentina, terk...</td>\n",
       "      <td>[Trump 2024 🇺🇸🇮🇱, Trump 2024+❤❤❤❤, TRUMP 2024 ...</td>\n",
       "    </tr>\n",
       "    <tr>\n",
       "      <th>28</th>\n",
       "      <td>27</td>\n",
       "      <td>14</td>\n",
       "      <td>27_vote_for_save_ww3</td>\n",
       "      <td>[vote, for, save, ww3, saving, trump, is, wish...</td>\n",
       "      <td>[I vote for Trump 💪❤️🇺🇸🕊️🕊️, Vote for Trump!, ...</td>\n",
       "    </tr>\n",
       "    <tr>\n",
       "      <th>29</th>\n",
       "      <td>28</td>\n",
       "      <td>13</td>\n",
       "      <td>28_news_fox_left_cnn</td>\n",
       "      <td>[news, fox, left, cnn, global, considered, opi...</td>\n",
       "      <td>[Fox News should get a debate or Newsmax. Not ...</td>\n",
       "    </tr>\n",
       "    <tr>\n",
       "      <th>30</th>\n",
       "      <td>29</td>\n",
       "      <td>13</td>\n",
       "      <td>29_blue_vote_wy_state</td>\n",
       "      <td>[blue, vote, wy, state, wot, overdose, led, ir...</td>\n",
       "      <td>[The Republican-led state of Ohio has the seco...</td>\n",
       "    </tr>\n",
       "    <tr>\n",
       "      <th>31</th>\n",
       "      <td>30</td>\n",
       "      <td>12</td>\n",
       "      <td>30_biased_news_journalists_msm</td>\n",
       "      <td>[biased, news, journalists, msm, outlets, all,...</td>\n",
       "      <td>[Y'all just as biased as any other left leanin...</td>\n",
       "    </tr>\n",
       "    <tr>\n",
       "      <th>32</th>\n",
       "      <td>31</td>\n",
       "      <td>11</td>\n",
       "      <td>31_springfield_invaders_pledge_ohio</td>\n",
       "      <td>[springfield, invaders, pledge, ohio, rally, e...</td>\n",
       "      <td>[Please everyone let’s pledge to get ALL invad...</td>\n",
       "    </tr>\n",
       "  </tbody>\n",
       "</table>\n",
       "</div>"
      ],
      "text/plain": [
       "    Topic  Count                                   Name  \\\n",
       "0      -1    622                       -1_the_and_to_of   \n",
       "1       0    163                    0_harris_is_she_and   \n",
       "2       1    122                    1_kamala_she_is_her   \n",
       "3       2     59                2_eating_they_pets_cats   \n",
       "4       3     48                   3_she_her_nothing_to   \n",
       "5       4     45           4_gonzalez_lee_young_jackson   \n",
       "6       5     39            5_undecided_are_voters_vote   \n",
       "7       6     38                    6_won_run_trump_win   \n",
       "8       7     37             7_policies_you_border_more   \n",
       "9       8     36             8_god_you_hallelujah_bless   \n",
       "10      9     35          9_myomyomon_yangon_hello_show   \n",
       "11     10     34             10_debate_the_who_audience   \n",
       "12     11     33              11_trump_2024_bendito_got   \n",
       "13     12     32                     12_هندی_می_yang_på   \n",
       "14     13     30             13_2024_trump_random_lower   \n",
       "15     14     28  14_businessman_good_bankrupt_business   \n",
       "16     15     27                    15_he_is_trump_golf   \n",
       "17     16     25               16_abortion_it_of_stated   \n",
       "18     17     24              17_trump_hands_heck_momoa   \n",
       "19     18     23                  18_fox_debate_she_her   \n",
       "20     19     22                    19_he_hé_camera_him   \n",
       "21     20     19           20_lies_bullshit_mess_excuse   \n",
       "22     21     18           21_abc_corrupt_media_boycott   \n",
       "23     22     17                    22_she_done_wins_vp   \n",
       "24     23     17                         23_14_33_03_04   \n",
       "25     24     17           24_arizona_gun_everybody_has   \n",
       "26     25     17          25_he_cowards_nuts_delusional   \n",
       "27     26     16           26_2024_trump_greatest_jerbs   \n",
       "28     27     14                   27_vote_for_save_ww3   \n",
       "29     28     13                   28_news_fox_left_cnn   \n",
       "30     29     13                  29_blue_vote_wy_state   \n",
       "31     30     12         30_biased_news_journalists_msm   \n",
       "32     31     11    31_springfield_invaders_pledge_ohio   \n",
       "\n",
       "                                       Representation  \\\n",
       "0   [the, and, to, of, is, in, that, trump, this, ...   \n",
       "1   [harris, is, she, and, for, vote, trump, to, t...   \n",
       "2   [kamala, she, is, her, and, to, the, trump, it...   \n",
       "3   [eating, they, pets, cats, eat, dogs, the, it,...   \n",
       "4   [she, her, nothing, to, did, about, was, for, ...   \n",
       "5   [gonzalez, lee, young, jackson, jeffrey, ander...   \n",
       "6   [undecided, are, voters, vote, voting, for, ju...   \n",
       "7   [won, run, trump, win, spot, winning, by, joke...   \n",
       "8   [policies, you, border, more, on, and, the, to...   \n",
       "9   [god, you, hallelujah, bless, the, jesus, love...   \n",
       "10  [myomyomon, yangon, hello, show, joker, asian,...   \n",
       "11  [debate, the, who, audience, this, was, debate...   \n",
       "12  [trump, 2024, bendito, got, donald, im, bless,...   \n",
       "13  [هندی, می, yang, på, هریس, bangladesh, jag, ba...   \n",
       "14  [2024, trump, random, lower, president, for, v...   \n",
       "15  [businessman, good, bankrupt, business, man, t...   \n",
       "16  [he, is, trump, golf, convicted, save, trying,...   \n",
       "17  [abortion, it, of, stated, the, and, to, in, f...   \n",
       "18  [trump, hands, heck, momoa, talor, indy, preci...   \n",
       "19  [fox, debate, she, her, cnn, abc, denise, decl...   \n",
       "20  [he, hé, camera, him, at, on, his, the, she, l...   \n",
       "21  [lies, bullshit, mess, excuse, word, tell, lie...   \n",
       "22  [abc, corrupt, media, boycott, published, book...   \n",
       "23  [she, done, wins, vp, woman, redicoulus, presi...   \n",
       "24  [14, 33, 03, 04, 46, 55, 26, 00, especially, w...   \n",
       "25  [arizona, gun, everybody, has, my, guns, he, p...   \n",
       "26  [he, cowards, nuts, delusional, hes, orange, s...   \n",
       "27  [2024, trump, greatest, jerbs, argentina, terk...   \n",
       "28  [vote, for, save, ww3, saving, trump, is, wish...   \n",
       "29  [news, fox, left, cnn, global, considered, opi...   \n",
       "30  [blue, vote, wy, state, wot, overdose, led, ir...   \n",
       "31  [biased, news, journalists, msm, outlets, all,...   \n",
       "32  [springfield, invaders, pledge, ohio, rally, e...   \n",
       "\n",
       "                                  Representative_Docs  \n",
       "0   [Kamala Harris came better prepared? Or she ca...  \n",
       "1   [Harris expressions were all bad acting ..It w...  \n",
       "2   [Vote for kamala!!!!, KAMALA HARRIS 👍💙💙💙, ♥️ K...  \n",
       "3   [they're eating the dogs! they're eating the c...  \n",
       "4   [She had questions given to her- she’s not sma...  \n",
       "5   [Lee Scott Clark Eric Perez Richard, White Jos...  \n",
       "6   [Very skeptical of anyone who says they are un...  \n",
       "7   [If the question is who won, perhaps your best...  \n",
       "8   [Hello wake up!! Pay attention! Less we repeat...  \n",
       "9   [The silence on the right everytime hypocritic...  \n",
       "10  [Hello 🎉🎉 Myomyomon Yangon, Hello 🎉🎉 Myomyomon...  \n",
       "11  [the debate then democrats should admit that t...  \n",
       "12           [❤️🇺🇸. TRUMP .🙏💙, ❤4 TRUMP 7❤, TRUMP ❣️]  \n",
       "13  [کامیلا هریس هندی ...هندی ها جهان را فتح می کن...  \n",
       "14               [Trump 2024, Trump 2024, Trump 2024]  \n",
       "15  [How can a guy who has gone bankrupt at least ...  \n",
       "16  [Apart from the fact that it is the convicted ...  \n",
       "17  [Tramp has already given his hand away… he sai...  \n",
       "18                              [Trump, Trump, Trump]  \n",
       "19  [I hope Trump says debate with Fox or nothing....  \n",
       "20  [Supposedly he was shot on his right ear. I pa...  \n",
       "21  [Fok new lies lies lies😂😂😂😂😂, Lies lies lies l...  \n",
       "22  [Took ABC off television programming after deb...  \n",
       "23  [If she wins she will put us in debt like bide...  \n",
       "24  [😮 1:26:02 , 1:26:10 not good but he’s older a...  \n",
       "25  [He is in Arizona everybody has a gun., He is ...  \n",
       "26  [Reminds me of The Andy Griffith Show characte...  \n",
       "27  [Trump 2024 🇺🇸🇮🇱, Trump 2024+❤❤❤❤, TRUMP 2024 ...  \n",
       "28  [I vote for Trump 💪❤️🇺🇸🕊️🕊️, Vote for Trump!, ...  \n",
       "29  [Fox News should get a debate or Newsmax. Not ...  \n",
       "30  [The Republican-led state of Ohio has the seco...  \n",
       "31  [Y'all just as biased as any other left leanin...  \n",
       "32  [Please everyone let’s pledge to get ALL invad...  "
      ]
     },
     "execution_count": 100,
     "metadata": {},
     "output_type": "execute_result"
    }
   ],
   "source": [
    "topic_model.get_topic_info()"
   ]
  },
  {
   "cell_type": "code",
   "execution_count": 105,
   "metadata": {},
   "outputs": [
    {
     "data": {
      "text/plain": [
       "[('abc', 0.19728322122958772),\n",
       " ('corrupt', 0.06767009133269374),\n",
       " ('media', 0.063520329114958),\n",
       " ('boycott', 0.0492518926195199),\n",
       " ('published', 0.0492518926195199),\n",
       " ('books', 0.0492518926195199),\n",
       " ('process', 0.04613930069097424),\n",
       " ('experts', 0.043932726842268476),\n",
       " ('cheating', 0.04222259789351298),\n",
       " ('woke', 0.04222259789351298)]"
      ]
     },
     "execution_count": 105,
     "metadata": {},
     "output_type": "execute_result"
    }
   ],
   "source": [
    "topic_model.get_topic(21)"
   ]
  },
  {
   "cell_type": "code",
   "execution_count": 102,
   "metadata": {},
   "outputs": [
    {
     "data": {
      "text/html": [
       "<div>\n",
       "<style scoped>\n",
       "    .dataframe tbody tr th:only-of-type {\n",
       "        vertical-align: middle;\n",
       "    }\n",
       "\n",
       "    .dataframe tbody tr th {\n",
       "        vertical-align: top;\n",
       "    }\n",
       "\n",
       "    .dataframe thead th {\n",
       "        text-align: right;\n",
       "    }\n",
       "</style>\n",
       "<table border=\"1\" class=\"dataframe\">\n",
       "  <thead>\n",
       "    <tr style=\"text-align: right;\">\n",
       "      <th></th>\n",
       "      <th>topic</th>\n",
       "      <th>comment</th>\n",
       "    </tr>\n",
       "  </thead>\n",
       "  <tbody>\n",
       "    <tr>\n",
       "      <th>0</th>\n",
       "      <td>10</td>\n",
       "      <td>Read analysis from the debate here: http://on....</td>\n",
       "    </tr>\n",
       "    <tr>\n",
       "      <th>1</th>\n",
       "      <td>10</td>\n",
       "      <td>I'm sick of debates where the debaters don't a...</td>\n",
       "    </tr>\n",
       "    <tr>\n",
       "      <th>2</th>\n",
       "      <td>-1</td>\n",
       "      <td>Trump 2024!</td>\n",
       "    </tr>\n",
       "    <tr>\n",
       "      <th>3</th>\n",
       "      <td>24</td>\n",
       "      <td>Funny how his biggest fear is that his beloved...</td>\n",
       "    </tr>\n",
       "    <tr>\n",
       "      <th>4</th>\n",
       "      <td>-1</td>\n",
       "      <td>C'mon Donald ... Duck. She has a plan : let th...</td>\n",
       "    </tr>\n",
       "    <tr>\n",
       "      <th>...</th>\n",
       "      <td>...</td>\n",
       "      <td>...</td>\n",
       "    </tr>\n",
       "    <tr>\n",
       "      <th>1701</th>\n",
       "      <td>1</td>\n",
       "      <td>This is something the whole world is laughing ...</td>\n",
       "    </tr>\n",
       "    <tr>\n",
       "      <th>1702</th>\n",
       "      <td>16</td>\n",
       "      <td>SAY NO TO ABORTION! TRUMP FOR PRESIDENT! 🇺🇸</td>\n",
       "    </tr>\n",
       "    <tr>\n",
       "      <th>1703</th>\n",
       "      <td>13</td>\n",
       "      <td>Trump 2024</td>\n",
       "    </tr>\n",
       "    <tr>\n",
       "      <th>1704</th>\n",
       "      <td>13</td>\n",
       "      <td>Trump 2024</td>\n",
       "    </tr>\n",
       "    <tr>\n",
       "      <th>1705</th>\n",
       "      <td>-1</td>\n",
       "      <td>Screw policy, vote on looks. Beauty Queen (BQ)...</td>\n",
       "    </tr>\n",
       "  </tbody>\n",
       "</table>\n",
       "<p>1706 rows × 2 columns</p>\n",
       "</div>"
      ],
      "text/plain": [
       "      topic                                            comment\n",
       "0        10  Read analysis from the debate here: http://on....\n",
       "1        10  I'm sick of debates where the debaters don't a...\n",
       "2        -1                                        Trump 2024!\n",
       "3        24  Funny how his biggest fear is that his beloved...\n",
       "4        -1  C'mon Donald ... Duck. She has a plan : let th...\n",
       "...     ...                                                ...\n",
       "1701      1  This is something the whole world is laughing ...\n",
       "1702     16        SAY NO TO ABORTION! TRUMP FOR PRESIDENT! 🇺🇸\n",
       "1703     13                                         Trump 2024\n",
       "1704     13                                         Trump 2024\n",
       "1705     -1  Screw policy, vote on looks. Beauty Queen (BQ)...\n",
       "\n",
       "[1706 rows x 2 columns]"
      ]
     },
     "execution_count": 102,
     "metadata": {},
     "output_type": "execute_result"
    }
   ],
   "source": [
    "dfc = pd.DataFrame({\"topic\": topics, \"comment\": cleaned_comments})\n",
    "dfc"
   ]
  },
  {
   "cell_type": "code",
   "execution_count": 104,
   "metadata": {},
   "outputs": [],
   "source": [
    "dfc.to_csv('files/raw_topic_output.csv')"
   ]
  },
  {
   "cell_type": "code",
   "execution_count": 106,
   "metadata": {},
   "outputs": [
    {
     "data": {
      "application/vnd.plotly.v1+json": {
       "config": {
        "plotlyServerURL": "https://plot.ly"
       },
       "data": [
        {
         "customdata": [
          [
           0,
           "harris | is | she | and | for",
           163
          ],
          [
           1,
           "kamala | she | is | her | and",
           122
          ],
          [
           2,
           "eating | they | pets | cats | eat",
           59
          ],
          [
           3,
           "she | her | nothing | to | did",
           48
          ],
          [
           4,
           "gonzalez | lee | young | jackson | jeffrey",
           45
          ],
          [
           5,
           "undecided | are | voters | vote | voting",
           39
          ],
          [
           6,
           "won | run | trump | win | spot",
           38
          ],
          [
           7,
           "policies | you | border | more | on",
           37
          ],
          [
           8,
           "god | you | hallelujah | bless | the",
           36
          ],
          [
           9,
           "myomyomon | yangon | hello | show | joker",
           35
          ],
          [
           10,
           "debate | the | who | audience | this",
           34
          ],
          [
           11,
           "trump | 2024 | bendito | got | donald",
           33
          ],
          [
           12,
           "هندی | می | yang | på | هریس",
           32
          ],
          [
           13,
           "2024 | trump | random | lower | president",
           30
          ],
          [
           14,
           "businessman | good | bankrupt | business | man",
           28
          ],
          [
           15,
           "he | is | trump | golf | convicted",
           27
          ],
          [
           16,
           "abortion | it | of | stated | the",
           25
          ],
          [
           17,
           "trump | hands | heck | momoa | talor",
           24
          ],
          [
           18,
           "fox | debate | she | her | cnn",
           23
          ],
          [
           19,
           "he | hé | camera | him | at",
           22
          ],
          [
           20,
           "lies | bullshit | mess | excuse | word",
           19
          ],
          [
           21,
           "abc | corrupt | media | boycott | published",
           18
          ],
          [
           22,
           "she | done | wins | vp | woman",
           17
          ],
          [
           23,
           "14 | 33 | 03 | 04 | 46",
           17
          ],
          [
           24,
           "arizona | gun | everybody | has | my",
           17
          ],
          [
           25,
           "he | cowards | nuts | delusional | hes",
           17
          ],
          [
           26,
           "2024 | trump | greatest | jerbs | argentina",
           16
          ],
          [
           27,
           "vote | for | save | ww3 | saving",
           14
          ],
          [
           28,
           "news | fox | left | cnn | global",
           13
          ],
          [
           29,
           "blue | vote | wy | state | wot",
           13
          ],
          [
           30,
           "biased | news | journalists | msm | outlets",
           12
          ],
          [
           31,
           "springfield | invaders | pledge | ohio | rally",
           11
          ]
         ],
         "hovertemplate": "<b>Topic %{customdata[0]}</b><br>%{customdata[1]}<br>Size: %{customdata[2]}",
         "legendgroup": "",
         "marker": {
          "color": "#B0BEC5",
          "line": {
           "color": "DarkSlateGrey",
           "width": 2
          },
          "size": [
           163,
           122,
           59,
           48,
           45,
           39,
           38,
           37,
           36,
           35,
           34,
           33,
           32,
           30,
           28,
           27,
           25,
           24,
           23,
           22,
           19,
           18,
           17,
           17,
           17,
           17,
           16,
           14,
           13,
           13,
           12,
           11
          ],
          "sizemode": "area",
          "sizeref": 0.101875,
          "symbol": "circle"
         },
         "mode": "markers",
         "name": "",
         "orientation": "v",
         "showlegend": false,
         "type": "scatter",
         "x": [
          10.33254337310791,
          9.913154602050781,
          16.974300384521484,
          -2.2506814002990723,
          5.3138298988342285,
          -1.3590309619903564,
          7.155205249786377,
          17.38849639892578,
          7.306163311004639,
          7.787296772003174,
          10.103456497192383,
          7.19682502746582,
          7.84837532043457,
          16.25926971435547,
          16.944902420043945,
          16.74444007873535,
          10.009185791015625,
          7.264575958251953,
          10.17924690246582,
          5.489810943603516,
          5.011321544647217,
          15.901829719543457,
          -2.1908211708068848,
          7.925022125244141,
          16.85624885559082,
          5.298506736755371,
          16.25785255432129,
          -1.0310591459274292,
          16.072938919067383,
          -1.249752402305603,
          16.20110321044922,
          16.861093521118164
         ],
         "xaxis": "x",
         "y": [
          -4.1418070793151855,
          -3.9611895084381104,
          8.401638984680176,
          0.3559814691543579,
          6.990816116333008,
          -2.786329746246338,
          6.439812183380127,
          8.422511100769043,
          5.850675106048584,
          5.45565128326416,
          -3.3691582679748535,
          5.966311931610107,
          5.327838897705078,
          -1.421669363975525,
          8.637253761291504,
          8.269248008728027,
          -4.125250816345215,
          6.3015055656433105,
          -3.6232900619506836,
          7.18753719329834,
          7.528009414672852,
          22.835620880126953,
          0.2968188524246216,
          5.648741245269775,
          7.789454936981201,
          7.375025749206543,
          -1.4204479455947876,
          -3.112931489944458,
          23.006755828857422,
          -2.8956544399261475,
          23.134876251220703,
          7.613498210906982
         ],
         "yaxis": "y"
        }
       ],
       "layout": {
        "annotations": [
         {
          "showarrow": false,
          "text": "D1",
          "x": -2.5882836103439333,
          "y": 10.921014773845672,
          "yshift": 10
         },
         {
          "showarrow": false,
          "text": "D2",
          "x": 8.704243624210358,
          "xshift": 10,
          "y": 26.605107688903807
         }
        ],
        "height": 650,
        "hoverlabel": {
         "bgcolor": "white",
         "font": {
          "family": "Rockwell",
          "size": 16
         }
        },
        "legend": {
         "itemsizing": "constant",
         "tracegroupgap": 0
        },
        "margin": {
         "t": 60
        },
        "shapes": [
         {
          "line": {
           "color": "#CFD8DC",
           "width": 2
          },
          "type": "line",
          "x0": 8.704243624210358,
          "x1": 8.704243624210358,
          "y0": -4.763078141212463,
          "y1": 26.605107688903807
         },
         {
          "line": {
           "color": "#9E9E9E",
           "width": 2
          },
          "type": "line",
          "x0": -2.5882836103439333,
          "x1": 19.99677085876465,
          "y0": 10.921014773845672,
          "y1": 10.921014773845672
         }
        ],
        "sliders": [
         {
          "active": 0,
          "pad": {
           "t": 50
          },
          "steps": [
           {
            "args": [
             {
              "marker.color": [
               [
                "red",
                "#B0BEC5",
                "#B0BEC5",
                "#B0BEC5",
                "#B0BEC5",
                "#B0BEC5",
                "#B0BEC5",
                "#B0BEC5",
                "#B0BEC5",
                "#B0BEC5",
                "#B0BEC5",
                "#B0BEC5",
                "#B0BEC5",
                "#B0BEC5",
                "#B0BEC5",
                "#B0BEC5",
                "#B0BEC5",
                "#B0BEC5",
                "#B0BEC5",
                "#B0BEC5",
                "#B0BEC5",
                "#B0BEC5",
                "#B0BEC5",
                "#B0BEC5",
                "#B0BEC5",
                "#B0BEC5",
                "#B0BEC5",
                "#B0BEC5",
                "#B0BEC5",
                "#B0BEC5",
                "#B0BEC5",
                "#B0BEC5"
               ]
              ]
             }
            ],
            "label": "Topic 0",
            "method": "update"
           },
           {
            "args": [
             {
              "marker.color": [
               [
                "#B0BEC5",
                "red",
                "#B0BEC5",
                "#B0BEC5",
                "#B0BEC5",
                "#B0BEC5",
                "#B0BEC5",
                "#B0BEC5",
                "#B0BEC5",
                "#B0BEC5",
                "#B0BEC5",
                "#B0BEC5",
                "#B0BEC5",
                "#B0BEC5",
                "#B0BEC5",
                "#B0BEC5",
                "#B0BEC5",
                "#B0BEC5",
                "#B0BEC5",
                "#B0BEC5",
                "#B0BEC5",
                "#B0BEC5",
                "#B0BEC5",
                "#B0BEC5",
                "#B0BEC5",
                "#B0BEC5",
                "#B0BEC5",
                "#B0BEC5",
                "#B0BEC5",
                "#B0BEC5",
                "#B0BEC5",
                "#B0BEC5"
               ]
              ]
             }
            ],
            "label": "Topic 1",
            "method": "update"
           },
           {
            "args": [
             {
              "marker.color": [
               [
                "#B0BEC5",
                "#B0BEC5",
                "red",
                "#B0BEC5",
                "#B0BEC5",
                "#B0BEC5",
                "#B0BEC5",
                "#B0BEC5",
                "#B0BEC5",
                "#B0BEC5",
                "#B0BEC5",
                "#B0BEC5",
                "#B0BEC5",
                "#B0BEC5",
                "#B0BEC5",
                "#B0BEC5",
                "#B0BEC5",
                "#B0BEC5",
                "#B0BEC5",
                "#B0BEC5",
                "#B0BEC5",
                "#B0BEC5",
                "#B0BEC5",
                "#B0BEC5",
                "#B0BEC5",
                "#B0BEC5",
                "#B0BEC5",
                "#B0BEC5",
                "#B0BEC5",
                "#B0BEC5",
                "#B0BEC5",
                "#B0BEC5"
               ]
              ]
             }
            ],
            "label": "Topic 2",
            "method": "update"
           },
           {
            "args": [
             {
              "marker.color": [
               [
                "#B0BEC5",
                "#B0BEC5",
                "#B0BEC5",
                "red",
                "#B0BEC5",
                "#B0BEC5",
                "#B0BEC5",
                "#B0BEC5",
                "#B0BEC5",
                "#B0BEC5",
                "#B0BEC5",
                "#B0BEC5",
                "#B0BEC5",
                "#B0BEC5",
                "#B0BEC5",
                "#B0BEC5",
                "#B0BEC5",
                "#B0BEC5",
                "#B0BEC5",
                "#B0BEC5",
                "#B0BEC5",
                "#B0BEC5",
                "#B0BEC5",
                "#B0BEC5",
                "#B0BEC5",
                "#B0BEC5",
                "#B0BEC5",
                "#B0BEC5",
                "#B0BEC5",
                "#B0BEC5",
                "#B0BEC5",
                "#B0BEC5"
               ]
              ]
             }
            ],
            "label": "Topic 3",
            "method": "update"
           },
           {
            "args": [
             {
              "marker.color": [
               [
                "#B0BEC5",
                "#B0BEC5",
                "#B0BEC5",
                "#B0BEC5",
                "red",
                "#B0BEC5",
                "#B0BEC5",
                "#B0BEC5",
                "#B0BEC5",
                "#B0BEC5",
                "#B0BEC5",
                "#B0BEC5",
                "#B0BEC5",
                "#B0BEC5",
                "#B0BEC5",
                "#B0BEC5",
                "#B0BEC5",
                "#B0BEC5",
                "#B0BEC5",
                "#B0BEC5",
                "#B0BEC5",
                "#B0BEC5",
                "#B0BEC5",
                "#B0BEC5",
                "#B0BEC5",
                "#B0BEC5",
                "#B0BEC5",
                "#B0BEC5",
                "#B0BEC5",
                "#B0BEC5",
                "#B0BEC5",
                "#B0BEC5"
               ]
              ]
             }
            ],
            "label": "Topic 4",
            "method": "update"
           },
           {
            "args": [
             {
              "marker.color": [
               [
                "#B0BEC5",
                "#B0BEC5",
                "#B0BEC5",
                "#B0BEC5",
                "#B0BEC5",
                "red",
                "#B0BEC5",
                "#B0BEC5",
                "#B0BEC5",
                "#B0BEC5",
                "#B0BEC5",
                "#B0BEC5",
                "#B0BEC5",
                "#B0BEC5",
                "#B0BEC5",
                "#B0BEC5",
                "#B0BEC5",
                "#B0BEC5",
                "#B0BEC5",
                "#B0BEC5",
                "#B0BEC5",
                "#B0BEC5",
                "#B0BEC5",
                "#B0BEC5",
                "#B0BEC5",
                "#B0BEC5",
                "#B0BEC5",
                "#B0BEC5",
                "#B0BEC5",
                "#B0BEC5",
                "#B0BEC5",
                "#B0BEC5"
               ]
              ]
             }
            ],
            "label": "Topic 5",
            "method": "update"
           },
           {
            "args": [
             {
              "marker.color": [
               [
                "#B0BEC5",
                "#B0BEC5",
                "#B0BEC5",
                "#B0BEC5",
                "#B0BEC5",
                "#B0BEC5",
                "red",
                "#B0BEC5",
                "#B0BEC5",
                "#B0BEC5",
                "#B0BEC5",
                "#B0BEC5",
                "#B0BEC5",
                "#B0BEC5",
                "#B0BEC5",
                "#B0BEC5",
                "#B0BEC5",
                "#B0BEC5",
                "#B0BEC5",
                "#B0BEC5",
                "#B0BEC5",
                "#B0BEC5",
                "#B0BEC5",
                "#B0BEC5",
                "#B0BEC5",
                "#B0BEC5",
                "#B0BEC5",
                "#B0BEC5",
                "#B0BEC5",
                "#B0BEC5",
                "#B0BEC5",
                "#B0BEC5"
               ]
              ]
             }
            ],
            "label": "Topic 6",
            "method": "update"
           },
           {
            "args": [
             {
              "marker.color": [
               [
                "#B0BEC5",
                "#B0BEC5",
                "#B0BEC5",
                "#B0BEC5",
                "#B0BEC5",
                "#B0BEC5",
                "#B0BEC5",
                "red",
                "#B0BEC5",
                "#B0BEC5",
                "#B0BEC5",
                "#B0BEC5",
                "#B0BEC5",
                "#B0BEC5",
                "#B0BEC5",
                "#B0BEC5",
                "#B0BEC5",
                "#B0BEC5",
                "#B0BEC5",
                "#B0BEC5",
                "#B0BEC5",
                "#B0BEC5",
                "#B0BEC5",
                "#B0BEC5",
                "#B0BEC5",
                "#B0BEC5",
                "#B0BEC5",
                "#B0BEC5",
                "#B0BEC5",
                "#B0BEC5",
                "#B0BEC5",
                "#B0BEC5"
               ]
              ]
             }
            ],
            "label": "Topic 7",
            "method": "update"
           },
           {
            "args": [
             {
              "marker.color": [
               [
                "#B0BEC5",
                "#B0BEC5",
                "#B0BEC5",
                "#B0BEC5",
                "#B0BEC5",
                "#B0BEC5",
                "#B0BEC5",
                "#B0BEC5",
                "red",
                "#B0BEC5",
                "#B0BEC5",
                "#B0BEC5",
                "#B0BEC5",
                "#B0BEC5",
                "#B0BEC5",
                "#B0BEC5",
                "#B0BEC5",
                "#B0BEC5",
                "#B0BEC5",
                "#B0BEC5",
                "#B0BEC5",
                "#B0BEC5",
                "#B0BEC5",
                "#B0BEC5",
                "#B0BEC5",
                "#B0BEC5",
                "#B0BEC5",
                "#B0BEC5",
                "#B0BEC5",
                "#B0BEC5",
                "#B0BEC5",
                "#B0BEC5"
               ]
              ]
             }
            ],
            "label": "Topic 8",
            "method": "update"
           },
           {
            "args": [
             {
              "marker.color": [
               [
                "#B0BEC5",
                "#B0BEC5",
                "#B0BEC5",
                "#B0BEC5",
                "#B0BEC5",
                "#B0BEC5",
                "#B0BEC5",
                "#B0BEC5",
                "#B0BEC5",
                "red",
                "#B0BEC5",
                "#B0BEC5",
                "#B0BEC5",
                "#B0BEC5",
                "#B0BEC5",
                "#B0BEC5",
                "#B0BEC5",
                "#B0BEC5",
                "#B0BEC5",
                "#B0BEC5",
                "#B0BEC5",
                "#B0BEC5",
                "#B0BEC5",
                "#B0BEC5",
                "#B0BEC5",
                "#B0BEC5",
                "#B0BEC5",
                "#B0BEC5",
                "#B0BEC5",
                "#B0BEC5",
                "#B0BEC5",
                "#B0BEC5"
               ]
              ]
             }
            ],
            "label": "Topic 9",
            "method": "update"
           },
           {
            "args": [
             {
              "marker.color": [
               [
                "#B0BEC5",
                "#B0BEC5",
                "#B0BEC5",
                "#B0BEC5",
                "#B0BEC5",
                "#B0BEC5",
                "#B0BEC5",
                "#B0BEC5",
                "#B0BEC5",
                "#B0BEC5",
                "red",
                "#B0BEC5",
                "#B0BEC5",
                "#B0BEC5",
                "#B0BEC5",
                "#B0BEC5",
                "#B0BEC5",
                "#B0BEC5",
                "#B0BEC5",
                "#B0BEC5",
                "#B0BEC5",
                "#B0BEC5",
                "#B0BEC5",
                "#B0BEC5",
                "#B0BEC5",
                "#B0BEC5",
                "#B0BEC5",
                "#B0BEC5",
                "#B0BEC5",
                "#B0BEC5",
                "#B0BEC5",
                "#B0BEC5"
               ]
              ]
             }
            ],
            "label": "Topic 10",
            "method": "update"
           },
           {
            "args": [
             {
              "marker.color": [
               [
                "#B0BEC5",
                "#B0BEC5",
                "#B0BEC5",
                "#B0BEC5",
                "#B0BEC5",
                "#B0BEC5",
                "#B0BEC5",
                "#B0BEC5",
                "#B0BEC5",
                "#B0BEC5",
                "#B0BEC5",
                "red",
                "#B0BEC5",
                "#B0BEC5",
                "#B0BEC5",
                "#B0BEC5",
                "#B0BEC5",
                "#B0BEC5",
                "#B0BEC5",
                "#B0BEC5",
                "#B0BEC5",
                "#B0BEC5",
                "#B0BEC5",
                "#B0BEC5",
                "#B0BEC5",
                "#B0BEC5",
                "#B0BEC5",
                "#B0BEC5",
                "#B0BEC5",
                "#B0BEC5",
                "#B0BEC5",
                "#B0BEC5"
               ]
              ]
             }
            ],
            "label": "Topic 11",
            "method": "update"
           },
           {
            "args": [
             {
              "marker.color": [
               [
                "#B0BEC5",
                "#B0BEC5",
                "#B0BEC5",
                "#B0BEC5",
                "#B0BEC5",
                "#B0BEC5",
                "#B0BEC5",
                "#B0BEC5",
                "#B0BEC5",
                "#B0BEC5",
                "#B0BEC5",
                "#B0BEC5",
                "red",
                "#B0BEC5",
                "#B0BEC5",
                "#B0BEC5",
                "#B0BEC5",
                "#B0BEC5",
                "#B0BEC5",
                "#B0BEC5",
                "#B0BEC5",
                "#B0BEC5",
                "#B0BEC5",
                "#B0BEC5",
                "#B0BEC5",
                "#B0BEC5",
                "#B0BEC5",
                "#B0BEC5",
                "#B0BEC5",
                "#B0BEC5",
                "#B0BEC5",
                "#B0BEC5"
               ]
              ]
             }
            ],
            "label": "Topic 12",
            "method": "update"
           },
           {
            "args": [
             {
              "marker.color": [
               [
                "#B0BEC5",
                "#B0BEC5",
                "#B0BEC5",
                "#B0BEC5",
                "#B0BEC5",
                "#B0BEC5",
                "#B0BEC5",
                "#B0BEC5",
                "#B0BEC5",
                "#B0BEC5",
                "#B0BEC5",
                "#B0BEC5",
                "#B0BEC5",
                "red",
                "#B0BEC5",
                "#B0BEC5",
                "#B0BEC5",
                "#B0BEC5",
                "#B0BEC5",
                "#B0BEC5",
                "#B0BEC5",
                "#B0BEC5",
                "#B0BEC5",
                "#B0BEC5",
                "#B0BEC5",
                "#B0BEC5",
                "#B0BEC5",
                "#B0BEC5",
                "#B0BEC5",
                "#B0BEC5",
                "#B0BEC5",
                "#B0BEC5"
               ]
              ]
             }
            ],
            "label": "Topic 13",
            "method": "update"
           },
           {
            "args": [
             {
              "marker.color": [
               [
                "#B0BEC5",
                "#B0BEC5",
                "#B0BEC5",
                "#B0BEC5",
                "#B0BEC5",
                "#B0BEC5",
                "#B0BEC5",
                "#B0BEC5",
                "#B0BEC5",
                "#B0BEC5",
                "#B0BEC5",
                "#B0BEC5",
                "#B0BEC5",
                "#B0BEC5",
                "red",
                "#B0BEC5",
                "#B0BEC5",
                "#B0BEC5",
                "#B0BEC5",
                "#B0BEC5",
                "#B0BEC5",
                "#B0BEC5",
                "#B0BEC5",
                "#B0BEC5",
                "#B0BEC5",
                "#B0BEC5",
                "#B0BEC5",
                "#B0BEC5",
                "#B0BEC5",
                "#B0BEC5",
                "#B0BEC5",
                "#B0BEC5"
               ]
              ]
             }
            ],
            "label": "Topic 14",
            "method": "update"
           },
           {
            "args": [
             {
              "marker.color": [
               [
                "#B0BEC5",
                "#B0BEC5",
                "#B0BEC5",
                "#B0BEC5",
                "#B0BEC5",
                "#B0BEC5",
                "#B0BEC5",
                "#B0BEC5",
                "#B0BEC5",
                "#B0BEC5",
                "#B0BEC5",
                "#B0BEC5",
                "#B0BEC5",
                "#B0BEC5",
                "#B0BEC5",
                "red",
                "#B0BEC5",
                "#B0BEC5",
                "#B0BEC5",
                "#B0BEC5",
                "#B0BEC5",
                "#B0BEC5",
                "#B0BEC5",
                "#B0BEC5",
                "#B0BEC5",
                "#B0BEC5",
                "#B0BEC5",
                "#B0BEC5",
                "#B0BEC5",
                "#B0BEC5",
                "#B0BEC5",
                "#B0BEC5"
               ]
              ]
             }
            ],
            "label": "Topic 15",
            "method": "update"
           },
           {
            "args": [
             {
              "marker.color": [
               [
                "#B0BEC5",
                "#B0BEC5",
                "#B0BEC5",
                "#B0BEC5",
                "#B0BEC5",
                "#B0BEC5",
                "#B0BEC5",
                "#B0BEC5",
                "#B0BEC5",
                "#B0BEC5",
                "#B0BEC5",
                "#B0BEC5",
                "#B0BEC5",
                "#B0BEC5",
                "#B0BEC5",
                "#B0BEC5",
                "red",
                "#B0BEC5",
                "#B0BEC5",
                "#B0BEC5",
                "#B0BEC5",
                "#B0BEC5",
                "#B0BEC5",
                "#B0BEC5",
                "#B0BEC5",
                "#B0BEC5",
                "#B0BEC5",
                "#B0BEC5",
                "#B0BEC5",
                "#B0BEC5",
                "#B0BEC5",
                "#B0BEC5"
               ]
              ]
             }
            ],
            "label": "Topic 16",
            "method": "update"
           },
           {
            "args": [
             {
              "marker.color": [
               [
                "#B0BEC5",
                "#B0BEC5",
                "#B0BEC5",
                "#B0BEC5",
                "#B0BEC5",
                "#B0BEC5",
                "#B0BEC5",
                "#B0BEC5",
                "#B0BEC5",
                "#B0BEC5",
                "#B0BEC5",
                "#B0BEC5",
                "#B0BEC5",
                "#B0BEC5",
                "#B0BEC5",
                "#B0BEC5",
                "#B0BEC5",
                "red",
                "#B0BEC5",
                "#B0BEC5",
                "#B0BEC5",
                "#B0BEC5",
                "#B0BEC5",
                "#B0BEC5",
                "#B0BEC5",
                "#B0BEC5",
                "#B0BEC5",
                "#B0BEC5",
                "#B0BEC5",
                "#B0BEC5",
                "#B0BEC5",
                "#B0BEC5"
               ]
              ]
             }
            ],
            "label": "Topic 17",
            "method": "update"
           },
           {
            "args": [
             {
              "marker.color": [
               [
                "#B0BEC5",
                "#B0BEC5",
                "#B0BEC5",
                "#B0BEC5",
                "#B0BEC5",
                "#B0BEC5",
                "#B0BEC5",
                "#B0BEC5",
                "#B0BEC5",
                "#B0BEC5",
                "#B0BEC5",
                "#B0BEC5",
                "#B0BEC5",
                "#B0BEC5",
                "#B0BEC5",
                "#B0BEC5",
                "#B0BEC5",
                "#B0BEC5",
                "red",
                "#B0BEC5",
                "#B0BEC5",
                "#B0BEC5",
                "#B0BEC5",
                "#B0BEC5",
                "#B0BEC5",
                "#B0BEC5",
                "#B0BEC5",
                "#B0BEC5",
                "#B0BEC5",
                "#B0BEC5",
                "#B0BEC5",
                "#B0BEC5"
               ]
              ]
             }
            ],
            "label": "Topic 18",
            "method": "update"
           },
           {
            "args": [
             {
              "marker.color": [
               [
                "#B0BEC5",
                "#B0BEC5",
                "#B0BEC5",
                "#B0BEC5",
                "#B0BEC5",
                "#B0BEC5",
                "#B0BEC5",
                "#B0BEC5",
                "#B0BEC5",
                "#B0BEC5",
                "#B0BEC5",
                "#B0BEC5",
                "#B0BEC5",
                "#B0BEC5",
                "#B0BEC5",
                "#B0BEC5",
                "#B0BEC5",
                "#B0BEC5",
                "#B0BEC5",
                "red",
                "#B0BEC5",
                "#B0BEC5",
                "#B0BEC5",
                "#B0BEC5",
                "#B0BEC5",
                "#B0BEC5",
                "#B0BEC5",
                "#B0BEC5",
                "#B0BEC5",
                "#B0BEC5",
                "#B0BEC5",
                "#B0BEC5"
               ]
              ]
             }
            ],
            "label": "Topic 19",
            "method": "update"
           },
           {
            "args": [
             {
              "marker.color": [
               [
                "#B0BEC5",
                "#B0BEC5",
                "#B0BEC5",
                "#B0BEC5",
                "#B0BEC5",
                "#B0BEC5",
                "#B0BEC5",
                "#B0BEC5",
                "#B0BEC5",
                "#B0BEC5",
                "#B0BEC5",
                "#B0BEC5",
                "#B0BEC5",
                "#B0BEC5",
                "#B0BEC5",
                "#B0BEC5",
                "#B0BEC5",
                "#B0BEC5",
                "#B0BEC5",
                "#B0BEC5",
                "red",
                "#B0BEC5",
                "#B0BEC5",
                "#B0BEC5",
                "#B0BEC5",
                "#B0BEC5",
                "#B0BEC5",
                "#B0BEC5",
                "#B0BEC5",
                "#B0BEC5",
                "#B0BEC5",
                "#B0BEC5"
               ]
              ]
             }
            ],
            "label": "Topic 20",
            "method": "update"
           },
           {
            "args": [
             {
              "marker.color": [
               [
                "#B0BEC5",
                "#B0BEC5",
                "#B0BEC5",
                "#B0BEC5",
                "#B0BEC5",
                "#B0BEC5",
                "#B0BEC5",
                "#B0BEC5",
                "#B0BEC5",
                "#B0BEC5",
                "#B0BEC5",
                "#B0BEC5",
                "#B0BEC5",
                "#B0BEC5",
                "#B0BEC5",
                "#B0BEC5",
                "#B0BEC5",
                "#B0BEC5",
                "#B0BEC5",
                "#B0BEC5",
                "#B0BEC5",
                "red",
                "#B0BEC5",
                "#B0BEC5",
                "#B0BEC5",
                "#B0BEC5",
                "#B0BEC5",
                "#B0BEC5",
                "#B0BEC5",
                "#B0BEC5",
                "#B0BEC5",
                "#B0BEC5"
               ]
              ]
             }
            ],
            "label": "Topic 21",
            "method": "update"
           },
           {
            "args": [
             {
              "marker.color": [
               [
                "#B0BEC5",
                "#B0BEC5",
                "#B0BEC5",
                "#B0BEC5",
                "#B0BEC5",
                "#B0BEC5",
                "#B0BEC5",
                "#B0BEC5",
                "#B0BEC5",
                "#B0BEC5",
                "#B0BEC5",
                "#B0BEC5",
                "#B0BEC5",
                "#B0BEC5",
                "#B0BEC5",
                "#B0BEC5",
                "#B0BEC5",
                "#B0BEC5",
                "#B0BEC5",
                "#B0BEC5",
                "#B0BEC5",
                "#B0BEC5",
                "red",
                "#B0BEC5",
                "#B0BEC5",
                "#B0BEC5",
                "#B0BEC5",
                "#B0BEC5",
                "#B0BEC5",
                "#B0BEC5",
                "#B0BEC5",
                "#B0BEC5"
               ]
              ]
             }
            ],
            "label": "Topic 22",
            "method": "update"
           },
           {
            "args": [
             {
              "marker.color": [
               [
                "#B0BEC5",
                "#B0BEC5",
                "#B0BEC5",
                "#B0BEC5",
                "#B0BEC5",
                "#B0BEC5",
                "#B0BEC5",
                "#B0BEC5",
                "#B0BEC5",
                "#B0BEC5",
                "#B0BEC5",
                "#B0BEC5",
                "#B0BEC5",
                "#B0BEC5",
                "#B0BEC5",
                "#B0BEC5",
                "#B0BEC5",
                "#B0BEC5",
                "#B0BEC5",
                "#B0BEC5",
                "#B0BEC5",
                "#B0BEC5",
                "#B0BEC5",
                "red",
                "#B0BEC5",
                "#B0BEC5",
                "#B0BEC5",
                "#B0BEC5",
                "#B0BEC5",
                "#B0BEC5",
                "#B0BEC5",
                "#B0BEC5"
               ]
              ]
             }
            ],
            "label": "Topic 23",
            "method": "update"
           },
           {
            "args": [
             {
              "marker.color": [
               [
                "#B0BEC5",
                "#B0BEC5",
                "#B0BEC5",
                "#B0BEC5",
                "#B0BEC5",
                "#B0BEC5",
                "#B0BEC5",
                "#B0BEC5",
                "#B0BEC5",
                "#B0BEC5",
                "#B0BEC5",
                "#B0BEC5",
                "#B0BEC5",
                "#B0BEC5",
                "#B0BEC5",
                "#B0BEC5",
                "#B0BEC5",
                "#B0BEC5",
                "#B0BEC5",
                "#B0BEC5",
                "#B0BEC5",
                "#B0BEC5",
                "#B0BEC5",
                "#B0BEC5",
                "red",
                "#B0BEC5",
                "#B0BEC5",
                "#B0BEC5",
                "#B0BEC5",
                "#B0BEC5",
                "#B0BEC5",
                "#B0BEC5"
               ]
              ]
             }
            ],
            "label": "Topic 24",
            "method": "update"
           },
           {
            "args": [
             {
              "marker.color": [
               [
                "#B0BEC5",
                "#B0BEC5",
                "#B0BEC5",
                "#B0BEC5",
                "#B0BEC5",
                "#B0BEC5",
                "#B0BEC5",
                "#B0BEC5",
                "#B0BEC5",
                "#B0BEC5",
                "#B0BEC5",
                "#B0BEC5",
                "#B0BEC5",
                "#B0BEC5",
                "#B0BEC5",
                "#B0BEC5",
                "#B0BEC5",
                "#B0BEC5",
                "#B0BEC5",
                "#B0BEC5",
                "#B0BEC5",
                "#B0BEC5",
                "#B0BEC5",
                "#B0BEC5",
                "#B0BEC5",
                "red",
                "#B0BEC5",
                "#B0BEC5",
                "#B0BEC5",
                "#B0BEC5",
                "#B0BEC5",
                "#B0BEC5"
               ]
              ]
             }
            ],
            "label": "Topic 25",
            "method": "update"
           },
           {
            "args": [
             {
              "marker.color": [
               [
                "#B0BEC5",
                "#B0BEC5",
                "#B0BEC5",
                "#B0BEC5",
                "#B0BEC5",
                "#B0BEC5",
                "#B0BEC5",
                "#B0BEC5",
                "#B0BEC5",
                "#B0BEC5",
                "#B0BEC5",
                "#B0BEC5",
                "#B0BEC5",
                "#B0BEC5",
                "#B0BEC5",
                "#B0BEC5",
                "#B0BEC5",
                "#B0BEC5",
                "#B0BEC5",
                "#B0BEC5",
                "#B0BEC5",
                "#B0BEC5",
                "#B0BEC5",
                "#B0BEC5",
                "#B0BEC5",
                "#B0BEC5",
                "red",
                "#B0BEC5",
                "#B0BEC5",
                "#B0BEC5",
                "#B0BEC5",
                "#B0BEC5"
               ]
              ]
             }
            ],
            "label": "Topic 26",
            "method": "update"
           },
           {
            "args": [
             {
              "marker.color": [
               [
                "#B0BEC5",
                "#B0BEC5",
                "#B0BEC5",
                "#B0BEC5",
                "#B0BEC5",
                "#B0BEC5",
                "#B0BEC5",
                "#B0BEC5",
                "#B0BEC5",
                "#B0BEC5",
                "#B0BEC5",
                "#B0BEC5",
                "#B0BEC5",
                "#B0BEC5",
                "#B0BEC5",
                "#B0BEC5",
                "#B0BEC5",
                "#B0BEC5",
                "#B0BEC5",
                "#B0BEC5",
                "#B0BEC5",
                "#B0BEC5",
                "#B0BEC5",
                "#B0BEC5",
                "#B0BEC5",
                "#B0BEC5",
                "#B0BEC5",
                "red",
                "#B0BEC5",
                "#B0BEC5",
                "#B0BEC5",
                "#B0BEC5"
               ]
              ]
             }
            ],
            "label": "Topic 27",
            "method": "update"
           },
           {
            "args": [
             {
              "marker.color": [
               [
                "#B0BEC5",
                "#B0BEC5",
                "#B0BEC5",
                "#B0BEC5",
                "#B0BEC5",
                "#B0BEC5",
                "#B0BEC5",
                "#B0BEC5",
                "#B0BEC5",
                "#B0BEC5",
                "#B0BEC5",
                "#B0BEC5",
                "#B0BEC5",
                "#B0BEC5",
                "#B0BEC5",
                "#B0BEC5",
                "#B0BEC5",
                "#B0BEC5",
                "#B0BEC5",
                "#B0BEC5",
                "#B0BEC5",
                "#B0BEC5",
                "#B0BEC5",
                "#B0BEC5",
                "#B0BEC5",
                "#B0BEC5",
                "#B0BEC5",
                "#B0BEC5",
                "red",
                "#B0BEC5",
                "#B0BEC5",
                "#B0BEC5"
               ]
              ]
             }
            ],
            "label": "Topic 28",
            "method": "update"
           },
           {
            "args": [
             {
              "marker.color": [
               [
                "#B0BEC5",
                "#B0BEC5",
                "#B0BEC5",
                "#B0BEC5",
                "#B0BEC5",
                "#B0BEC5",
                "#B0BEC5",
                "#B0BEC5",
                "#B0BEC5",
                "#B0BEC5",
                "#B0BEC5",
                "#B0BEC5",
                "#B0BEC5",
                "#B0BEC5",
                "#B0BEC5",
                "#B0BEC5",
                "#B0BEC5",
                "#B0BEC5",
                "#B0BEC5",
                "#B0BEC5",
                "#B0BEC5",
                "#B0BEC5",
                "#B0BEC5",
                "#B0BEC5",
                "#B0BEC5",
                "#B0BEC5",
                "#B0BEC5",
                "#B0BEC5",
                "#B0BEC5",
                "red",
                "#B0BEC5",
                "#B0BEC5"
               ]
              ]
             }
            ],
            "label": "Topic 29",
            "method": "update"
           },
           {
            "args": [
             {
              "marker.color": [
               [
                "#B0BEC5",
                "#B0BEC5",
                "#B0BEC5",
                "#B0BEC5",
                "#B0BEC5",
                "#B0BEC5",
                "#B0BEC5",
                "#B0BEC5",
                "#B0BEC5",
                "#B0BEC5",
                "#B0BEC5",
                "#B0BEC5",
                "#B0BEC5",
                "#B0BEC5",
                "#B0BEC5",
                "#B0BEC5",
                "#B0BEC5",
                "#B0BEC5",
                "#B0BEC5",
                "#B0BEC5",
                "#B0BEC5",
                "#B0BEC5",
                "#B0BEC5",
                "#B0BEC5",
                "#B0BEC5",
                "#B0BEC5",
                "#B0BEC5",
                "#B0BEC5",
                "#B0BEC5",
                "#B0BEC5",
                "red",
                "#B0BEC5"
               ]
              ]
             }
            ],
            "label": "Topic 30",
            "method": "update"
           },
           {
            "args": [
             {
              "marker.color": [
               [
                "#B0BEC5",
                "#B0BEC5",
                "#B0BEC5",
                "#B0BEC5",
                "#B0BEC5",
                "#B0BEC5",
                "#B0BEC5",
                "#B0BEC5",
                "#B0BEC5",
                "#B0BEC5",
                "#B0BEC5",
                "#B0BEC5",
                "#B0BEC5",
                "#B0BEC5",
                "#B0BEC5",
                "#B0BEC5",
                "#B0BEC5",
                "#B0BEC5",
                "#B0BEC5",
                "#B0BEC5",
                "#B0BEC5",
                "#B0BEC5",
                "#B0BEC5",
                "#B0BEC5",
                "#B0BEC5",
                "#B0BEC5",
                "#B0BEC5",
                "#B0BEC5",
                "#B0BEC5",
                "#B0BEC5",
                "#B0BEC5",
                "red"
               ]
              ]
             }
            ],
            "label": "Topic 31",
            "method": "update"
           }
          ]
         }
        ],
        "template": {
         "data": {
          "bar": [
           {
            "error_x": {
             "color": "rgb(36,36,36)"
            },
            "error_y": {
             "color": "rgb(36,36,36)"
            },
            "marker": {
             "line": {
              "color": "white",
              "width": 0.5
             },
             "pattern": {
              "fillmode": "overlay",
              "size": 10,
              "solidity": 0.2
             }
            },
            "type": "bar"
           }
          ],
          "barpolar": [
           {
            "marker": {
             "line": {
              "color": "white",
              "width": 0.5
             },
             "pattern": {
              "fillmode": "overlay",
              "size": 10,
              "solidity": 0.2
             }
            },
            "type": "barpolar"
           }
          ],
          "carpet": [
           {
            "aaxis": {
             "endlinecolor": "rgb(36,36,36)",
             "gridcolor": "white",
             "linecolor": "white",
             "minorgridcolor": "white",
             "startlinecolor": "rgb(36,36,36)"
            },
            "baxis": {
             "endlinecolor": "rgb(36,36,36)",
             "gridcolor": "white",
             "linecolor": "white",
             "minorgridcolor": "white",
             "startlinecolor": "rgb(36,36,36)"
            },
            "type": "carpet"
           }
          ],
          "choropleth": [
           {
            "colorbar": {
             "outlinewidth": 1,
             "tickcolor": "rgb(36,36,36)",
             "ticks": "outside"
            },
            "type": "choropleth"
           }
          ],
          "contour": [
           {
            "colorbar": {
             "outlinewidth": 1,
             "tickcolor": "rgb(36,36,36)",
             "ticks": "outside"
            },
            "colorscale": [
             [
              0,
              "#440154"
             ],
             [
              0.1111111111111111,
              "#482878"
             ],
             [
              0.2222222222222222,
              "#3e4989"
             ],
             [
              0.3333333333333333,
              "#31688e"
             ],
             [
              0.4444444444444444,
              "#26828e"
             ],
             [
              0.5555555555555556,
              "#1f9e89"
             ],
             [
              0.6666666666666666,
              "#35b779"
             ],
             [
              0.7777777777777778,
              "#6ece58"
             ],
             [
              0.8888888888888888,
              "#b5de2b"
             ],
             [
              1,
              "#fde725"
             ]
            ],
            "type": "contour"
           }
          ],
          "contourcarpet": [
           {
            "colorbar": {
             "outlinewidth": 1,
             "tickcolor": "rgb(36,36,36)",
             "ticks": "outside"
            },
            "type": "contourcarpet"
           }
          ],
          "heatmap": [
           {
            "colorbar": {
             "outlinewidth": 1,
             "tickcolor": "rgb(36,36,36)",
             "ticks": "outside"
            },
            "colorscale": [
             [
              0,
              "#440154"
             ],
             [
              0.1111111111111111,
              "#482878"
             ],
             [
              0.2222222222222222,
              "#3e4989"
             ],
             [
              0.3333333333333333,
              "#31688e"
             ],
             [
              0.4444444444444444,
              "#26828e"
             ],
             [
              0.5555555555555556,
              "#1f9e89"
             ],
             [
              0.6666666666666666,
              "#35b779"
             ],
             [
              0.7777777777777778,
              "#6ece58"
             ],
             [
              0.8888888888888888,
              "#b5de2b"
             ],
             [
              1,
              "#fde725"
             ]
            ],
            "type": "heatmap"
           }
          ],
          "heatmapgl": [
           {
            "colorbar": {
             "outlinewidth": 1,
             "tickcolor": "rgb(36,36,36)",
             "ticks": "outside"
            },
            "colorscale": [
             [
              0,
              "#440154"
             ],
             [
              0.1111111111111111,
              "#482878"
             ],
             [
              0.2222222222222222,
              "#3e4989"
             ],
             [
              0.3333333333333333,
              "#31688e"
             ],
             [
              0.4444444444444444,
              "#26828e"
             ],
             [
              0.5555555555555556,
              "#1f9e89"
             ],
             [
              0.6666666666666666,
              "#35b779"
             ],
             [
              0.7777777777777778,
              "#6ece58"
             ],
             [
              0.8888888888888888,
              "#b5de2b"
             ],
             [
              1,
              "#fde725"
             ]
            ],
            "type": "heatmapgl"
           }
          ],
          "histogram": [
           {
            "marker": {
             "line": {
              "color": "white",
              "width": 0.6
             }
            },
            "type": "histogram"
           }
          ],
          "histogram2d": [
           {
            "colorbar": {
             "outlinewidth": 1,
             "tickcolor": "rgb(36,36,36)",
             "ticks": "outside"
            },
            "colorscale": [
             [
              0,
              "#440154"
             ],
             [
              0.1111111111111111,
              "#482878"
             ],
             [
              0.2222222222222222,
              "#3e4989"
             ],
             [
              0.3333333333333333,
              "#31688e"
             ],
             [
              0.4444444444444444,
              "#26828e"
             ],
             [
              0.5555555555555556,
              "#1f9e89"
             ],
             [
              0.6666666666666666,
              "#35b779"
             ],
             [
              0.7777777777777778,
              "#6ece58"
             ],
             [
              0.8888888888888888,
              "#b5de2b"
             ],
             [
              1,
              "#fde725"
             ]
            ],
            "type": "histogram2d"
           }
          ],
          "histogram2dcontour": [
           {
            "colorbar": {
             "outlinewidth": 1,
             "tickcolor": "rgb(36,36,36)",
             "ticks": "outside"
            },
            "colorscale": [
             [
              0,
              "#440154"
             ],
             [
              0.1111111111111111,
              "#482878"
             ],
             [
              0.2222222222222222,
              "#3e4989"
             ],
             [
              0.3333333333333333,
              "#31688e"
             ],
             [
              0.4444444444444444,
              "#26828e"
             ],
             [
              0.5555555555555556,
              "#1f9e89"
             ],
             [
              0.6666666666666666,
              "#35b779"
             ],
             [
              0.7777777777777778,
              "#6ece58"
             ],
             [
              0.8888888888888888,
              "#b5de2b"
             ],
             [
              1,
              "#fde725"
             ]
            ],
            "type": "histogram2dcontour"
           }
          ],
          "mesh3d": [
           {
            "colorbar": {
             "outlinewidth": 1,
             "tickcolor": "rgb(36,36,36)",
             "ticks": "outside"
            },
            "type": "mesh3d"
           }
          ],
          "parcoords": [
           {
            "line": {
             "colorbar": {
              "outlinewidth": 1,
              "tickcolor": "rgb(36,36,36)",
              "ticks": "outside"
             }
            },
            "type": "parcoords"
           }
          ],
          "pie": [
           {
            "automargin": true,
            "type": "pie"
           }
          ],
          "scatter": [
           {
            "fillpattern": {
             "fillmode": "overlay",
             "size": 10,
             "solidity": 0.2
            },
            "type": "scatter"
           }
          ],
          "scatter3d": [
           {
            "line": {
             "colorbar": {
              "outlinewidth": 1,
              "tickcolor": "rgb(36,36,36)",
              "ticks": "outside"
             }
            },
            "marker": {
             "colorbar": {
              "outlinewidth": 1,
              "tickcolor": "rgb(36,36,36)",
              "ticks": "outside"
             }
            },
            "type": "scatter3d"
           }
          ],
          "scattercarpet": [
           {
            "marker": {
             "colorbar": {
              "outlinewidth": 1,
              "tickcolor": "rgb(36,36,36)",
              "ticks": "outside"
             }
            },
            "type": "scattercarpet"
           }
          ],
          "scattergeo": [
           {
            "marker": {
             "colorbar": {
              "outlinewidth": 1,
              "tickcolor": "rgb(36,36,36)",
              "ticks": "outside"
             }
            },
            "type": "scattergeo"
           }
          ],
          "scattergl": [
           {
            "marker": {
             "colorbar": {
              "outlinewidth": 1,
              "tickcolor": "rgb(36,36,36)",
              "ticks": "outside"
             }
            },
            "type": "scattergl"
           }
          ],
          "scattermapbox": [
           {
            "marker": {
             "colorbar": {
              "outlinewidth": 1,
              "tickcolor": "rgb(36,36,36)",
              "ticks": "outside"
             }
            },
            "type": "scattermapbox"
           }
          ],
          "scatterpolar": [
           {
            "marker": {
             "colorbar": {
              "outlinewidth": 1,
              "tickcolor": "rgb(36,36,36)",
              "ticks": "outside"
             }
            },
            "type": "scatterpolar"
           }
          ],
          "scatterpolargl": [
           {
            "marker": {
             "colorbar": {
              "outlinewidth": 1,
              "tickcolor": "rgb(36,36,36)",
              "ticks": "outside"
             }
            },
            "type": "scatterpolargl"
           }
          ],
          "scatterternary": [
           {
            "marker": {
             "colorbar": {
              "outlinewidth": 1,
              "tickcolor": "rgb(36,36,36)",
              "ticks": "outside"
             }
            },
            "type": "scatterternary"
           }
          ],
          "surface": [
           {
            "colorbar": {
             "outlinewidth": 1,
             "tickcolor": "rgb(36,36,36)",
             "ticks": "outside"
            },
            "colorscale": [
             [
              0,
              "#440154"
             ],
             [
              0.1111111111111111,
              "#482878"
             ],
             [
              0.2222222222222222,
              "#3e4989"
             ],
             [
              0.3333333333333333,
              "#31688e"
             ],
             [
              0.4444444444444444,
              "#26828e"
             ],
             [
              0.5555555555555556,
              "#1f9e89"
             ],
             [
              0.6666666666666666,
              "#35b779"
             ],
             [
              0.7777777777777778,
              "#6ece58"
             ],
             [
              0.8888888888888888,
              "#b5de2b"
             ],
             [
              1,
              "#fde725"
             ]
            ],
            "type": "surface"
           }
          ],
          "table": [
           {
            "cells": {
             "fill": {
              "color": "rgb(237,237,237)"
             },
             "line": {
              "color": "white"
             }
            },
            "header": {
             "fill": {
              "color": "rgb(217,217,217)"
             },
             "line": {
              "color": "white"
             }
            },
            "type": "table"
           }
          ]
         },
         "layout": {
          "annotationdefaults": {
           "arrowhead": 0,
           "arrowwidth": 1
          },
          "autotypenumbers": "strict",
          "coloraxis": {
           "colorbar": {
            "outlinewidth": 1,
            "tickcolor": "rgb(36,36,36)",
            "ticks": "outside"
           }
          },
          "colorscale": {
           "diverging": [
            [
             0,
             "rgb(103,0,31)"
            ],
            [
             0.1,
             "rgb(178,24,43)"
            ],
            [
             0.2,
             "rgb(214,96,77)"
            ],
            [
             0.3,
             "rgb(244,165,130)"
            ],
            [
             0.4,
             "rgb(253,219,199)"
            ],
            [
             0.5,
             "rgb(247,247,247)"
            ],
            [
             0.6,
             "rgb(209,229,240)"
            ],
            [
             0.7,
             "rgb(146,197,222)"
            ],
            [
             0.8,
             "rgb(67,147,195)"
            ],
            [
             0.9,
             "rgb(33,102,172)"
            ],
            [
             1,
             "rgb(5,48,97)"
            ]
           ],
           "sequential": [
            [
             0,
             "#440154"
            ],
            [
             0.1111111111111111,
             "#482878"
            ],
            [
             0.2222222222222222,
             "#3e4989"
            ],
            [
             0.3333333333333333,
             "#31688e"
            ],
            [
             0.4444444444444444,
             "#26828e"
            ],
            [
             0.5555555555555556,
             "#1f9e89"
            ],
            [
             0.6666666666666666,
             "#35b779"
            ],
            [
             0.7777777777777778,
             "#6ece58"
            ],
            [
             0.8888888888888888,
             "#b5de2b"
            ],
            [
             1,
             "#fde725"
            ]
           ],
           "sequentialminus": [
            [
             0,
             "#440154"
            ],
            [
             0.1111111111111111,
             "#482878"
            ],
            [
             0.2222222222222222,
             "#3e4989"
            ],
            [
             0.3333333333333333,
             "#31688e"
            ],
            [
             0.4444444444444444,
             "#26828e"
            ],
            [
             0.5555555555555556,
             "#1f9e89"
            ],
            [
             0.6666666666666666,
             "#35b779"
            ],
            [
             0.7777777777777778,
             "#6ece58"
            ],
            [
             0.8888888888888888,
             "#b5de2b"
            ],
            [
             1,
             "#fde725"
            ]
           ]
          },
          "colorway": [
           "#1F77B4",
           "#FF7F0E",
           "#2CA02C",
           "#D62728",
           "#9467BD",
           "#8C564B",
           "#E377C2",
           "#7F7F7F",
           "#BCBD22",
           "#17BECF"
          ],
          "font": {
           "color": "rgb(36,36,36)"
          },
          "geo": {
           "bgcolor": "white",
           "lakecolor": "white",
           "landcolor": "white",
           "showlakes": true,
           "showland": true,
           "subunitcolor": "white"
          },
          "hoverlabel": {
           "align": "left"
          },
          "hovermode": "closest",
          "mapbox": {
           "style": "light"
          },
          "paper_bgcolor": "white",
          "plot_bgcolor": "white",
          "polar": {
           "angularaxis": {
            "gridcolor": "rgb(232,232,232)",
            "linecolor": "rgb(36,36,36)",
            "showgrid": false,
            "showline": true,
            "ticks": "outside"
           },
           "bgcolor": "white",
           "radialaxis": {
            "gridcolor": "rgb(232,232,232)",
            "linecolor": "rgb(36,36,36)",
            "showgrid": false,
            "showline": true,
            "ticks": "outside"
           }
          },
          "scene": {
           "xaxis": {
            "backgroundcolor": "white",
            "gridcolor": "rgb(232,232,232)",
            "gridwidth": 2,
            "linecolor": "rgb(36,36,36)",
            "showbackground": true,
            "showgrid": false,
            "showline": true,
            "ticks": "outside",
            "zeroline": false,
            "zerolinecolor": "rgb(36,36,36)"
           },
           "yaxis": {
            "backgroundcolor": "white",
            "gridcolor": "rgb(232,232,232)",
            "gridwidth": 2,
            "linecolor": "rgb(36,36,36)",
            "showbackground": true,
            "showgrid": false,
            "showline": true,
            "ticks": "outside",
            "zeroline": false,
            "zerolinecolor": "rgb(36,36,36)"
           },
           "zaxis": {
            "backgroundcolor": "white",
            "gridcolor": "rgb(232,232,232)",
            "gridwidth": 2,
            "linecolor": "rgb(36,36,36)",
            "showbackground": true,
            "showgrid": false,
            "showline": true,
            "ticks": "outside",
            "zeroline": false,
            "zerolinecolor": "rgb(36,36,36)"
           }
          },
          "shapedefaults": {
           "fillcolor": "black",
           "line": {
            "width": 0
           },
           "opacity": 0.3
          },
          "ternary": {
           "aaxis": {
            "gridcolor": "rgb(232,232,232)",
            "linecolor": "rgb(36,36,36)",
            "showgrid": false,
            "showline": true,
            "ticks": "outside"
           },
           "baxis": {
            "gridcolor": "rgb(232,232,232)",
            "linecolor": "rgb(36,36,36)",
            "showgrid": false,
            "showline": true,
            "ticks": "outside"
           },
           "bgcolor": "white",
           "caxis": {
            "gridcolor": "rgb(232,232,232)",
            "linecolor": "rgb(36,36,36)",
            "showgrid": false,
            "showline": true,
            "ticks": "outside"
           }
          },
          "title": {
           "x": 0.05
          },
          "xaxis": {
           "automargin": true,
           "gridcolor": "rgb(232,232,232)",
           "linecolor": "rgb(36,36,36)",
           "showgrid": false,
           "showline": true,
           "ticks": "outside",
           "title": {
            "standoff": 15
           },
           "zeroline": false,
           "zerolinecolor": "rgb(36,36,36)"
          },
          "yaxis": {
           "automargin": true,
           "gridcolor": "rgb(232,232,232)",
           "linecolor": "rgb(36,36,36)",
           "showgrid": false,
           "showline": true,
           "ticks": "outside",
           "title": {
            "standoff": 15
           },
           "zeroline": false,
           "zerolinecolor": "rgb(36,36,36)"
          }
         }
        },
        "title": {
         "font": {
          "color": "Black",
          "size": 22
         },
         "text": "<b>Intertopic Distance Map</b>",
         "x": 0.5,
         "xanchor": "center",
         "y": 0.95,
         "yanchor": "top"
        },
        "width": 650,
        "xaxis": {
         "anchor": "y",
         "domain": [
          0,
          1
         ],
         "range": [
          -2.5882836103439333,
          19.99677085876465
         ],
         "title": {
          "text": ""
         },
         "type": "linear",
         "visible": false
        },
        "yaxis": {
         "anchor": "x",
         "domain": [
          0,
          1
         ],
         "range": [
          -4.763078141212463,
          26.605107688903807
         ],
         "title": {
          "text": ""
         },
         "type": "linear",
         "visible": false
        }
       }
      },
      "image/png": "[encoded data removed]",
      "text/html": [
       "<div>                            <div id=\"14875008-27a6-420d-8304-ce22936262e4\" class=\"plotly-graph-div\" style=\"height:650px; width:650px;\"></div>            <script type=\"text/javascript\">                require([\"plotly\"], function(Plotly) {                    window.PLOTLYENV=window.PLOTLYENV || {};                                    if (document.getElementById(\"14875008-27a6-420d-8304-ce22936262e4\")) {                    Plotly.newPlot(                        \"14875008-27a6-420d-8304-ce22936262e4\",                        [{\"customdata\":[[0,\"harris | is | she | and | for\",163],[1,\"kamala | she | is | her | and\",122],[2,\"eating | they | pets | cats | eat\",59],[3,\"she | her | nothing | to | did\",48],[4,\"gonzalez | lee | young | jackson | jeffrey\",45],[5,\"undecided | are | voters | vote | voting\",39],[6,\"won | run | trump | win | spot\",38],[7,\"policies | you | border | more | on\",37],[8,\"god | you | hallelujah | bless | the\",36],[9,\"myomyomon | yangon | hello | show | joker\",35],[10,\"debate | the | who | audience | this\",34],[11,\"trump | 2024 | bendito | got | donald\",33],[12,\"\\u0647\\u0646\\u062f\\u06cc | \\u0645\\u06cc | yang | p\\u00e5 | \\u0647\\u0631\\u06cc\\u0633\",32],[13,\"2024 | trump | random | lower | president\",30],[14,\"businessman | good | bankrupt | business | man\",28],[15,\"he | is | trump | golf | convicted\",27],[16,\"abortion | it | of | stated | the\",25],[17,\"trump | hands | heck | momoa | talor\",24],[18,\"fox | debate | she | her | cnn\",23],[19,\"he | h\\u00e9 | camera | him | at\",22],[20,\"lies | bullshit | mess | excuse | word\",19],[21,\"abc | corrupt | media | boycott | published\",18],[22,\"she | done | wins | vp | woman\",17],[23,\"14 | 33 | 03 | 04 | 46\",17],[24,\"arizona | gun | everybody | has | my\",17],[25,\"he | cowards | nuts | delusional | hes\",17],[26,\"2024 | trump | greatest | jerbs | argentina\",16],[27,\"vote | for | save | ww3 | saving\",14],[28,\"news | fox | left | cnn | global\",13],[29,\"blue | vote | wy | state | wot\",13],[30,\"biased | news | journalists | msm | outlets\",12],[31,\"springfield | invaders | pledge | ohio | rally\",11]],\"hovertemplate\":\"\\u003cb\\u003eTopic %{customdata[0]}\\u003c\\u002fb\\u003e\\u003cbr\\u003e%{customdata[1]}\\u003cbr\\u003eSize: %{customdata[2]}\",\"legendgroup\":\"\",\"marker\":{\"color\":\"#B0BEC5\",\"size\":[163,122,59,48,45,39,38,37,36,35,34,33,32,30,28,27,25,24,23,22,19,18,17,17,17,17,16,14,13,13,12,11],\"sizemode\":\"area\",\"sizeref\":0.101875,\"symbol\":\"circle\",\"line\":{\"color\":\"DarkSlateGrey\",\"width\":2}},\"mode\":\"markers\",\"name\":\"\",\"orientation\":\"v\",\"showlegend\":false,\"x\":[10.33254337310791,9.913154602050781,16.974300384521484,-2.2506814002990723,5.3138298988342285,-1.3590309619903564,7.155205249786377,17.38849639892578,7.306163311004639,7.787296772003174,10.103456497192383,7.19682502746582,7.84837532043457,16.25926971435547,16.944902420043945,16.74444007873535,10.009185791015625,7.264575958251953,10.17924690246582,5.489810943603516,5.011321544647217,15.901829719543457,-2.1908211708068848,7.925022125244141,16.85624885559082,5.298506736755371,16.25785255432129,-1.0310591459274292,16.072938919067383,-1.249752402305603,16.20110321044922,16.861093521118164],\"xaxis\":\"x\",\"y\":[-4.1418070793151855,-3.9611895084381104,8.401638984680176,0.3559814691543579,6.990816116333008,-2.786329746246338,6.439812183380127,8.422511100769043,5.850675106048584,5.45565128326416,-3.3691582679748535,5.966311931610107,5.327838897705078,-1.421669363975525,8.637253761291504,8.269248008728027,-4.125250816345215,6.3015055656433105,-3.6232900619506836,7.18753719329834,7.528009414672852,22.835620880126953,0.2968188524246216,5.648741245269775,7.789454936981201,7.375025749206543,-1.4204479455947876,-3.112931489944458,23.006755828857422,-2.8956544399261475,23.134876251220703,7.613498210906982],\"yaxis\":\"y\",\"type\":\"scatter\"}],                        {\"template\":{\"data\":{\"barpolar\":[{\"marker\":{\"line\":{\"color\":\"white\",\"width\":0.5},\"pattern\":{\"fillmode\":\"overlay\",\"size\":10,\"solidity\":0.2}},\"type\":\"barpolar\"}],\"bar\":[{\"error_x\":{\"color\":\"rgb(36,36,36)\"},\"error_y\":{\"color\":\"rgb(36,36,36)\"},\"marker\":{\"line\":{\"color\":\"white\",\"width\":0.5},\"pattern\":{\"fillmode\":\"overlay\",\"size\":10,\"solidity\":0.2}},\"type\":\"bar\"}],\"carpet\":[{\"aaxis\":{\"endlinecolor\":\"rgb(36,36,36)\",\"gridcolor\":\"white\",\"linecolor\":\"white\",\"minorgridcolor\":\"white\",\"startlinecolor\":\"rgb(36,36,36)\"},\"baxis\":{\"endlinecolor\":\"rgb(36,36,36)\",\"gridcolor\":\"white\",\"linecolor\":\"white\",\"minorgridcolor\":\"white\",\"startlinecolor\":\"rgb(36,36,36)\"},\"type\":\"carpet\"}],\"choropleth\":[{\"colorbar\":{\"outlinewidth\":1,\"tickcolor\":\"rgb(36,36,36)\",\"ticks\":\"outside\"},\"type\":\"choropleth\"}],\"contourcarpet\":[{\"colorbar\":{\"outlinewidth\":1,\"tickcolor\":\"rgb(36,36,36)\",\"ticks\":\"outside\"},\"type\":\"contourcarpet\"}],\"contour\":[{\"colorbar\":{\"outlinewidth\":1,\"tickcolor\":\"rgb(36,36,36)\",\"ticks\":\"outside\"},\"colorscale\":[[0.0,\"#440154\"],[0.1111111111111111,\"#482878\"],[0.2222222222222222,\"#3e4989\"],[0.3333333333333333,\"#31688e\"],[0.4444444444444444,\"#26828e\"],[0.5555555555555556,\"#1f9e89\"],[0.6666666666666666,\"#35b779\"],[0.7777777777777778,\"#6ece58\"],[0.8888888888888888,\"#b5de2b\"],[1.0,\"#fde725\"]],\"type\":\"contour\"}],\"heatmapgl\":[{\"colorbar\":{\"outlinewidth\":1,\"tickcolor\":\"rgb(36,36,36)\",\"ticks\":\"outside\"},\"colorscale\":[[0.0,\"#440154\"],[0.1111111111111111,\"#482878\"],[0.2222222222222222,\"#3e4989\"],[0.3333333333333333,\"#31688e\"],[0.4444444444444444,\"#26828e\"],[0.5555555555555556,\"#1f9e89\"],[0.6666666666666666,\"#35b779\"],[0.7777777777777778,\"#6ece58\"],[0.8888888888888888,\"#b5de2b\"],[1.0,\"#fde725\"]],\"type\":\"heatmapgl\"}],\"heatmap\":[{\"colorbar\":{\"outlinewidth\":1,\"tickcolor\":\"rgb(36,36,36)\",\"ticks\":\"outside\"},\"colorscale\":[[0.0,\"#440154\"],[0.1111111111111111,\"#482878\"],[0.2222222222222222,\"#3e4989\"],[0.3333333333333333,\"#31688e\"],[0.4444444444444444,\"#26828e\"],[0.5555555555555556,\"#1f9e89\"],[0.6666666666666666,\"#35b779\"],[0.7777777777777778,\"#6ece58\"],[0.8888888888888888,\"#b5de2b\"],[1.0,\"#fde725\"]],\"type\":\"heatmap\"}],\"histogram2dcontour\":[{\"colorbar\":{\"outlinewidth\":1,\"tickcolor\":\"rgb(36,36,36)\",\"ticks\":\"outside\"},\"colorscale\":[[0.0,\"#440154\"],[0.1111111111111111,\"#482878\"],[0.2222222222222222,\"#3e4989\"],[0.3333333333333333,\"#31688e\"],[0.4444444444444444,\"#26828e\"],[0.5555555555555556,\"#1f9e89\"],[0.6666666666666666,\"#35b779\"],[0.7777777777777778,\"#6ece58\"],[0.8888888888888888,\"#b5de2b\"],[1.0,\"#fde725\"]],\"type\":\"histogram2dcontour\"}],\"histogram2d\":[{\"colorbar\":{\"outlinewidth\":1,\"tickcolor\":\"rgb(36,36,36)\",\"ticks\":\"outside\"},\"colorscale\":[[0.0,\"#440154\"],[0.1111111111111111,\"#482878\"],[0.2222222222222222,\"#3e4989\"],[0.3333333333333333,\"#31688e\"],[0.4444444444444444,\"#26828e\"],[0.5555555555555556,\"#1f9e89\"],[0.6666666666666666,\"#35b779\"],[0.7777777777777778,\"#6ece58\"],[0.8888888888888888,\"#b5de2b\"],[1.0,\"#fde725\"]],\"type\":\"histogram2d\"}],\"histogram\":[{\"marker\":{\"line\":{\"color\":\"white\",\"width\":0.6}},\"type\":\"histogram\"}],\"mesh3d\":[{\"colorbar\":{\"outlinewidth\":1,\"tickcolor\":\"rgb(36,36,36)\",\"ticks\":\"outside\"},\"type\":\"mesh3d\"}],\"parcoords\":[{\"line\":{\"colorbar\":{\"outlinewidth\":1,\"tickcolor\":\"rgb(36,36,36)\",\"ticks\":\"outside\"}},\"type\":\"parcoords\"}],\"pie\":[{\"automargin\":true,\"type\":\"pie\"}],\"scatter3d\":[{\"line\":{\"colorbar\":{\"outlinewidth\":1,\"tickcolor\":\"rgb(36,36,36)\",\"ticks\":\"outside\"}},\"marker\":{\"colorbar\":{\"outlinewidth\":1,\"tickcolor\":\"rgb(36,36,36)\",\"ticks\":\"outside\"}},\"type\":\"scatter3d\"}],\"scattercarpet\":[{\"marker\":{\"colorbar\":{\"outlinewidth\":1,\"tickcolor\":\"rgb(36,36,36)\",\"ticks\":\"outside\"}},\"type\":\"scattercarpet\"}],\"scattergeo\":[{\"marker\":{\"colorbar\":{\"outlinewidth\":1,\"tickcolor\":\"rgb(36,36,36)\",\"ticks\":\"outside\"}},\"type\":\"scattergeo\"}],\"scattergl\":[{\"marker\":{\"colorbar\":{\"outlinewidth\":1,\"tickcolor\":\"rgb(36,36,36)\",\"ticks\":\"outside\"}},\"type\":\"scattergl\"}],\"scattermapbox\":[{\"marker\":{\"colorbar\":{\"outlinewidth\":1,\"tickcolor\":\"rgb(36,36,36)\",\"ticks\":\"outside\"}},\"type\":\"scattermapbox\"}],\"scatterpolargl\":[{\"marker\":{\"colorbar\":{\"outlinewidth\":1,\"tickcolor\":\"rgb(36,36,36)\",\"ticks\":\"outside\"}},\"type\":\"scatterpolargl\"}],\"scatterpolar\":[{\"marker\":{\"colorbar\":{\"outlinewidth\":1,\"tickcolor\":\"rgb(36,36,36)\",\"ticks\":\"outside\"}},\"type\":\"scatterpolar\"}],\"scatter\":[{\"fillpattern\":{\"fillmode\":\"overlay\",\"size\":10,\"solidity\":0.2},\"type\":\"scatter\"}],\"scatterternary\":[{\"marker\":{\"colorbar\":{\"outlinewidth\":1,\"tickcolor\":\"rgb(36,36,36)\",\"ticks\":\"outside\"}},\"type\":\"scatterternary\"}],\"surface\":[{\"colorbar\":{\"outlinewidth\":1,\"tickcolor\":\"rgb(36,36,36)\",\"ticks\":\"outside\"},\"colorscale\":[[0.0,\"#440154\"],[0.1111111111111111,\"#482878\"],[0.2222222222222222,\"#3e4989\"],[0.3333333333333333,\"#31688e\"],[0.4444444444444444,\"#26828e\"],[0.5555555555555556,\"#1f9e89\"],[0.6666666666666666,\"#35b779\"],[0.7777777777777778,\"#6ece58\"],[0.8888888888888888,\"#b5de2b\"],[1.0,\"#fde725\"]],\"type\":\"surface\"}],\"table\":[{\"cells\":{\"fill\":{\"color\":\"rgb(237,237,237)\"},\"line\":{\"color\":\"white\"}},\"header\":{\"fill\":{\"color\":\"rgb(217,217,217)\"},\"line\":{\"color\":\"white\"}},\"type\":\"table\"}]},\"layout\":{\"annotationdefaults\":{\"arrowhead\":0,\"arrowwidth\":1},\"autotypenumbers\":\"strict\",\"coloraxis\":{\"colorbar\":{\"outlinewidth\":1,\"tickcolor\":\"rgb(36,36,36)\",\"ticks\":\"outside\"}},\"colorscale\":{\"diverging\":[[0.0,\"rgb(103,0,31)\"],[0.1,\"rgb(178,24,43)\"],[0.2,\"rgb(214,96,77)\"],[0.3,\"rgb(244,165,130)\"],[0.4,\"rgb(253,219,199)\"],[0.5,\"rgb(247,247,247)\"],[0.6,\"rgb(209,229,240)\"],[0.7,\"rgb(146,197,222)\"],[0.8,\"rgb(67,147,195)\"],[0.9,\"rgb(33,102,172)\"],[1.0,\"rgb(5,48,97)\"]],\"sequential\":[[0.0,\"#440154\"],[0.1111111111111111,\"#482878\"],[0.2222222222222222,\"#3e4989\"],[0.3333333333333333,\"#31688e\"],[0.4444444444444444,\"#26828e\"],[0.5555555555555556,\"#1f9e89\"],[0.6666666666666666,\"#35b779\"],[0.7777777777777778,\"#6ece58\"],[0.8888888888888888,\"#b5de2b\"],[1.0,\"#fde725\"]],\"sequentialminus\":[[0.0,\"#440154\"],[0.1111111111111111,\"#482878\"],[0.2222222222222222,\"#3e4989\"],[0.3333333333333333,\"#31688e\"],[0.4444444444444444,\"#26828e\"],[0.5555555555555556,\"#1f9e89\"],[0.6666666666666666,\"#35b779\"],[0.7777777777777778,\"#6ece58\"],[0.8888888888888888,\"#b5de2b\"],[1.0,\"#fde725\"]]},\"colorway\":[\"#1F77B4\",\"#FF7F0E\",\"#2CA02C\",\"#D62728\",\"#9467BD\",\"#8C564B\",\"#E377C2\",\"#7F7F7F\",\"#BCBD22\",\"#17BECF\"],\"font\":{\"color\":\"rgb(36,36,36)\"},\"geo\":{\"bgcolor\":\"white\",\"lakecolor\":\"white\",\"landcolor\":\"white\",\"showlakes\":true,\"showland\":true,\"subunitcolor\":\"white\"},\"hoverlabel\":{\"align\":\"left\"},\"hovermode\":\"closest\",\"mapbox\":{\"style\":\"light\"},\"paper_bgcolor\":\"white\",\"plot_bgcolor\":\"white\",\"polar\":{\"angularaxis\":{\"gridcolor\":\"rgb(232,232,232)\",\"linecolor\":\"rgb(36,36,36)\",\"showgrid\":false,\"showline\":true,\"ticks\":\"outside\"},\"bgcolor\":\"white\",\"radialaxis\":{\"gridcolor\":\"rgb(232,232,232)\",\"linecolor\":\"rgb(36,36,36)\",\"showgrid\":false,\"showline\":true,\"ticks\":\"outside\"}},\"scene\":{\"xaxis\":{\"backgroundcolor\":\"white\",\"gridcolor\":\"rgb(232,232,232)\",\"gridwidth\":2,\"linecolor\":\"rgb(36,36,36)\",\"showbackground\":true,\"showgrid\":false,\"showline\":true,\"ticks\":\"outside\",\"zeroline\":false,\"zerolinecolor\":\"rgb(36,36,36)\"},\"yaxis\":{\"backgroundcolor\":\"white\",\"gridcolor\":\"rgb(232,232,232)\",\"gridwidth\":2,\"linecolor\":\"rgb(36,36,36)\",\"showbackground\":true,\"showgrid\":false,\"showline\":true,\"ticks\":\"outside\",\"zeroline\":false,\"zerolinecolor\":\"rgb(36,36,36)\"},\"zaxis\":{\"backgroundcolor\":\"white\",\"gridcolor\":\"rgb(232,232,232)\",\"gridwidth\":2,\"linecolor\":\"rgb(36,36,36)\",\"showbackground\":true,\"showgrid\":false,\"showline\":true,\"ticks\":\"outside\",\"zeroline\":false,\"zerolinecolor\":\"rgb(36,36,36)\"}},\"shapedefaults\":{\"fillcolor\":\"black\",\"line\":{\"width\":0},\"opacity\":0.3},\"ternary\":{\"aaxis\":{\"gridcolor\":\"rgb(232,232,232)\",\"linecolor\":\"rgb(36,36,36)\",\"showgrid\":false,\"showline\":true,\"ticks\":\"outside\"},\"baxis\":{\"gridcolor\":\"rgb(232,232,232)\",\"linecolor\":\"rgb(36,36,36)\",\"showgrid\":false,\"showline\":true,\"ticks\":\"outside\"},\"bgcolor\":\"white\",\"caxis\":{\"gridcolor\":\"rgb(232,232,232)\",\"linecolor\":\"rgb(36,36,36)\",\"showgrid\":false,\"showline\":true,\"ticks\":\"outside\"}},\"title\":{\"x\":0.05},\"xaxis\":{\"automargin\":true,\"gridcolor\":\"rgb(232,232,232)\",\"linecolor\":\"rgb(36,36,36)\",\"showgrid\":false,\"showline\":true,\"ticks\":\"outside\",\"title\":{\"standoff\":15},\"zeroline\":false,\"zerolinecolor\":\"rgb(36,36,36)\"},\"yaxis\":{\"automargin\":true,\"gridcolor\":\"rgb(232,232,232)\",\"linecolor\":\"rgb(36,36,36)\",\"showgrid\":false,\"showline\":true,\"ticks\":\"outside\",\"title\":{\"standoff\":15},\"zeroline\":false,\"zerolinecolor\":\"rgb(36,36,36)\"}}},\"xaxis\":{\"anchor\":\"y\",\"domain\":[0.0,1.0],\"title\":{\"text\":\"\"},\"visible\":false,\"range\":[-2.5882836103439333,19.99677085876465]},\"yaxis\":{\"anchor\":\"x\",\"domain\":[0.0,1.0],\"title\":{\"text\":\"\"},\"visible\":false,\"range\":[-4.763078141212463,26.605107688903807]},\"legend\":{\"tracegroupgap\":0,\"itemsizing\":\"constant\"},\"margin\":{\"t\":60},\"title\":{\"font\":{\"size\":22,\"color\":\"Black\"},\"text\":\"\\u003cb\\u003eIntertopic Distance Map\\u003c\\u002fb\\u003e\",\"y\":0.95,\"x\":0.5,\"xanchor\":\"center\",\"yanchor\":\"top\"},\"hoverlabel\":{\"font\":{\"size\":16,\"family\":\"Rockwell\"},\"bgcolor\":\"white\"},\"width\":650,\"height\":650,\"sliders\":[{\"active\":0,\"pad\":{\"t\":50},\"steps\":[{\"args\":[{\"marker.color\":[[\"red\",\"#B0BEC5\",\"#B0BEC5\",\"#B0BEC5\",\"#B0BEC5\",\"#B0BEC5\",\"#B0BEC5\",\"#B0BEC5\",\"#B0BEC5\",\"#B0BEC5\",\"#B0BEC5\",\"#B0BEC5\",\"#B0BEC5\",\"#B0BEC5\",\"#B0BEC5\",\"#B0BEC5\",\"#B0BEC5\",\"#B0BEC5\",\"#B0BEC5\",\"#B0BEC5\",\"#B0BEC5\",\"#B0BEC5\",\"#B0BEC5\",\"#B0BEC5\",\"#B0BEC5\",\"#B0BEC5\",\"#B0BEC5\",\"#B0BEC5\",\"#B0BEC5\",\"#B0BEC5\",\"#B0BEC5\",\"#B0BEC5\"]]}],\"label\":\"Topic 0\",\"method\":\"update\"},{\"args\":[{\"marker.color\":[[\"#B0BEC5\",\"red\",\"#B0BEC5\",\"#B0BEC5\",\"#B0BEC5\",\"#B0BEC5\",\"#B0BEC5\",\"#B0BEC5\",\"#B0BEC5\",\"#B0BEC5\",\"#B0BEC5\",\"#B0BEC5\",\"#B0BEC5\",\"#B0BEC5\",\"#B0BEC5\",\"#B0BEC5\",\"#B0BEC5\",\"#B0BEC5\",\"#B0BEC5\",\"#B0BEC5\",\"#B0BEC5\",\"#B0BEC5\",\"#B0BEC5\",\"#B0BEC5\",\"#B0BEC5\",\"#B0BEC5\",\"#B0BEC5\",\"#B0BEC5\",\"#B0BEC5\",\"#B0BEC5\",\"#B0BEC5\",\"#B0BEC5\"]]}],\"label\":\"Topic 1\",\"method\":\"update\"},{\"args\":[{\"marker.color\":[[\"#B0BEC5\",\"#B0BEC5\",\"red\",\"#B0BEC5\",\"#B0BEC5\",\"#B0BEC5\",\"#B0BEC5\",\"#B0BEC5\",\"#B0BEC5\",\"#B0BEC5\",\"#B0BEC5\",\"#B0BEC5\",\"#B0BEC5\",\"#B0BEC5\",\"#B0BEC5\",\"#B0BEC5\",\"#B0BEC5\",\"#B0BEC5\",\"#B0BEC5\",\"#B0BEC5\",\"#B0BEC5\",\"#B0BEC5\",\"#B0BEC5\",\"#B0BEC5\",\"#B0BEC5\",\"#B0BEC5\",\"#B0BEC5\",\"#B0BEC5\",\"#B0BEC5\",\"#B0BEC5\",\"#B0BEC5\",\"#B0BEC5\"]]}],\"label\":\"Topic 2\",\"method\":\"update\"},{\"args\":[{\"marker.color\":[[\"#B0BEC5\",\"#B0BEC5\",\"#B0BEC5\",\"red\",\"#B0BEC5\",\"#B0BEC5\",\"#B0BEC5\",\"#B0BEC5\",\"#B0BEC5\",\"#B0BEC5\",\"#B0BEC5\",\"#B0BEC5\",\"#B0BEC5\",\"#B0BEC5\",\"#B0BEC5\",\"#B0BEC5\",\"#B0BEC5\",\"#B0BEC5\",\"#B0BEC5\",\"#B0BEC5\",\"#B0BEC5\",\"#B0BEC5\",\"#B0BEC5\",\"#B0BEC5\",\"#B0BEC5\",\"#B0BEC5\",\"#B0BEC5\",\"#B0BEC5\",\"#B0BEC5\",\"#B0BEC5\",\"#B0BEC5\",\"#B0BEC5\"]]}],\"label\":\"Topic 3\",\"method\":\"update\"},{\"args\":[{\"marker.color\":[[\"#B0BEC5\",\"#B0BEC5\",\"#B0BEC5\",\"#B0BEC5\",\"red\",\"#B0BEC5\",\"#B0BEC5\",\"#B0BEC5\",\"#B0BEC5\",\"#B0BEC5\",\"#B0BEC5\",\"#B0BEC5\",\"#B0BEC5\",\"#B0BEC5\",\"#B0BEC5\",\"#B0BEC5\",\"#B0BEC5\",\"#B0BEC5\",\"#B0BEC5\",\"#B0BEC5\",\"#B0BEC5\",\"#B0BEC5\",\"#B0BEC5\",\"#B0BEC5\",\"#B0BEC5\",\"#B0BEC5\",\"#B0BEC5\",\"#B0BEC5\",\"#B0BEC5\",\"#B0BEC5\",\"#B0BEC5\",\"#B0BEC5\"]]}],\"label\":\"Topic 4\",\"method\":\"update\"},{\"args\":[{\"marker.color\":[[\"#B0BEC5\",\"#B0BEC5\",\"#B0BEC5\",\"#B0BEC5\",\"#B0BEC5\",\"red\",\"#B0BEC5\",\"#B0BEC5\",\"#B0BEC5\",\"#B0BEC5\",\"#B0BEC5\",\"#B0BEC5\",\"#B0BEC5\",\"#B0BEC5\",\"#B0BEC5\",\"#B0BEC5\",\"#B0BEC5\",\"#B0BEC5\",\"#B0BEC5\",\"#B0BEC5\",\"#B0BEC5\",\"#B0BEC5\",\"#B0BEC5\",\"#B0BEC5\",\"#B0BEC5\",\"#B0BEC5\",\"#B0BEC5\",\"#B0BEC5\",\"#B0BEC5\",\"#B0BEC5\",\"#B0BEC5\",\"#B0BEC5\"]]}],\"label\":\"Topic 5\",\"method\":\"update\"},{\"args\":[{\"marker.color\":[[\"#B0BEC5\",\"#B0BEC5\",\"#B0BEC5\",\"#B0BEC5\",\"#B0BEC5\",\"#B0BEC5\",\"red\",\"#B0BEC5\",\"#B0BEC5\",\"#B0BEC5\",\"#B0BEC5\",\"#B0BEC5\",\"#B0BEC5\",\"#B0BEC5\",\"#B0BEC5\",\"#B0BEC5\",\"#B0BEC5\",\"#B0BEC5\",\"#B0BEC5\",\"#B0BEC5\",\"#B0BEC5\",\"#B0BEC5\",\"#B0BEC5\",\"#B0BEC5\",\"#B0BEC5\",\"#B0BEC5\",\"#B0BEC5\",\"#B0BEC5\",\"#B0BEC5\",\"#B0BEC5\",\"#B0BEC5\",\"#B0BEC5\"]]}],\"label\":\"Topic 6\",\"method\":\"update\"},{\"args\":[{\"marker.color\":[[\"#B0BEC5\",\"#B0BEC5\",\"#B0BEC5\",\"#B0BEC5\",\"#B0BEC5\",\"#B0BEC5\",\"#B0BEC5\",\"red\",\"#B0BEC5\",\"#B0BEC5\",\"#B0BEC5\",\"#B0BEC5\",\"#B0BEC5\",\"#B0BEC5\",\"#B0BEC5\",\"#B0BEC5\",\"#B0BEC5\",\"#B0BEC5\",\"#B0BEC5\",\"#B0BEC5\",\"#B0BEC5\",\"#B0BEC5\",\"#B0BEC5\",\"#B0BEC5\",\"#B0BEC5\",\"#B0BEC5\",\"#B0BEC5\",\"#B0BEC5\",\"#B0BEC5\",\"#B0BEC5\",\"#B0BEC5\",\"#B0BEC5\"]]}],\"label\":\"Topic 7\",\"method\":\"update\"},{\"args\":[{\"marker.color\":[[\"#B0BEC5\",\"#B0BEC5\",\"#B0BEC5\",\"#B0BEC5\",\"#B0BEC5\",\"#B0BEC5\",\"#B0BEC5\",\"#B0BEC5\",\"red\",\"#B0BEC5\",\"#B0BEC5\",\"#B0BEC5\",\"#B0BEC5\",\"#B0BEC5\",\"#B0BEC5\",\"#B0BEC5\",\"#B0BEC5\",\"#B0BEC5\",\"#B0BEC5\",\"#B0BEC5\",\"#B0BEC5\",\"#B0BEC5\",\"#B0BEC5\",\"#B0BEC5\",\"#B0BEC5\",\"#B0BEC5\",\"#B0BEC5\",\"#B0BEC5\",\"#B0BEC5\",\"#B0BEC5\",\"#B0BEC5\",\"#B0BEC5\"]]}],\"label\":\"Topic 8\",\"method\":\"update\"},{\"args\":[{\"marker.color\":[[\"#B0BEC5\",\"#B0BEC5\",\"#B0BEC5\",\"#B0BEC5\",\"#B0BEC5\",\"#B0BEC5\",\"#B0BEC5\",\"#B0BEC5\",\"#B0BEC5\",\"red\",\"#B0BEC5\",\"#B0BEC5\",\"#B0BEC5\",\"#B0BEC5\",\"#B0BEC5\",\"#B0BEC5\",\"#B0BEC5\",\"#B0BEC5\",\"#B0BEC5\",\"#B0BEC5\",\"#B0BEC5\",\"#B0BEC5\",\"#B0BEC5\",\"#B0BEC5\",\"#B0BEC5\",\"#B0BEC5\",\"#B0BEC5\",\"#B0BEC5\",\"#B0BEC5\",\"#B0BEC5\",\"#B0BEC5\",\"#B0BEC5\"]]}],\"label\":\"Topic 9\",\"method\":\"update\"},{\"args\":[{\"marker.color\":[[\"#B0BEC5\",\"#B0BEC5\",\"#B0BEC5\",\"#B0BEC5\",\"#B0BEC5\",\"#B0BEC5\",\"#B0BEC5\",\"#B0BEC5\",\"#B0BEC5\",\"#B0BEC5\",\"red\",\"#B0BEC5\",\"#B0BEC5\",\"#B0BEC5\",\"#B0BEC5\",\"#B0BEC5\",\"#B0BEC5\",\"#B0BEC5\",\"#B0BEC5\",\"#B0BEC5\",\"#B0BEC5\",\"#B0BEC5\",\"#B0BEC5\",\"#B0BEC5\",\"#B0BEC5\",\"#B0BEC5\",\"#B0BEC5\",\"#B0BEC5\",\"#B0BEC5\",\"#B0BEC5\",\"#B0BEC5\",\"#B0BEC5\"]]}],\"label\":\"Topic 10\",\"method\":\"update\"},{\"args\":[{\"marker.color\":[[\"#B0BEC5\",\"#B0BEC5\",\"#B0BEC5\",\"#B0BEC5\",\"#B0BEC5\",\"#B0BEC5\",\"#B0BEC5\",\"#B0BEC5\",\"#B0BEC5\",\"#B0BEC5\",\"#B0BEC5\",\"red\",\"#B0BEC5\",\"#B0BEC5\",\"#B0BEC5\",\"#B0BEC5\",\"#B0BEC5\",\"#B0BEC5\",\"#B0BEC5\",\"#B0BEC5\",\"#B0BEC5\",\"#B0BEC5\",\"#B0BEC5\",\"#B0BEC5\",\"#B0BEC5\",\"#B0BEC5\",\"#B0BEC5\",\"#B0BEC5\",\"#B0BEC5\",\"#B0BEC5\",\"#B0BEC5\",\"#B0BEC5\"]]}],\"label\":\"Topic 11\",\"method\":\"update\"},{\"args\":[{\"marker.color\":[[\"#B0BEC5\",\"#B0BEC5\",\"#B0BEC5\",\"#B0BEC5\",\"#B0BEC5\",\"#B0BEC5\",\"#B0BEC5\",\"#B0BEC5\",\"#B0BEC5\",\"#B0BEC5\",\"#B0BEC5\",\"#B0BEC5\",\"red\",\"#B0BEC5\",\"#B0BEC5\",\"#B0BEC5\",\"#B0BEC5\",\"#B0BEC5\",\"#B0BEC5\",\"#B0BEC5\",\"#B0BEC5\",\"#B0BEC5\",\"#B0BEC5\",\"#B0BEC5\",\"#B0BEC5\",\"#B0BEC5\",\"#B0BEC5\",\"#B0BEC5\",\"#B0BEC5\",\"#B0BEC5\",\"#B0BEC5\",\"#B0BEC5\"]]}],\"label\":\"Topic 12\",\"method\":\"update\"},{\"args\":[{\"marker.color\":[[\"#B0BEC5\",\"#B0BEC5\",\"#B0BEC5\",\"#B0BEC5\",\"#B0BEC5\",\"#B0BEC5\",\"#B0BEC5\",\"#B0BEC5\",\"#B0BEC5\",\"#B0BEC5\",\"#B0BEC5\",\"#B0BEC5\",\"#B0BEC5\",\"red\",\"#B0BEC5\",\"#B0BEC5\",\"#B0BEC5\",\"#B0BEC5\",\"#B0BEC5\",\"#B0BEC5\",\"#B0BEC5\",\"#B0BEC5\",\"#B0BEC5\",\"#B0BEC5\",\"#B0BEC5\",\"#B0BEC5\",\"#B0BEC5\",\"#B0BEC5\",\"#B0BEC5\",\"#B0BEC5\",\"#B0BEC5\",\"#B0BEC5\"]]}],\"label\":\"Topic 13\",\"method\":\"update\"},{\"args\":[{\"marker.color\":[[\"#B0BEC5\",\"#B0BEC5\",\"#B0BEC5\",\"#B0BEC5\",\"#B0BEC5\",\"#B0BEC5\",\"#B0BEC5\",\"#B0BEC5\",\"#B0BEC5\",\"#B0BEC5\",\"#B0BEC5\",\"#B0BEC5\",\"#B0BEC5\",\"#B0BEC5\",\"red\",\"#B0BEC5\",\"#B0BEC5\",\"#B0BEC5\",\"#B0BEC5\",\"#B0BEC5\",\"#B0BEC5\",\"#B0BEC5\",\"#B0BEC5\",\"#B0BEC5\",\"#B0BEC5\",\"#B0BEC5\",\"#B0BEC5\",\"#B0BEC5\",\"#B0BEC5\",\"#B0BEC5\",\"#B0BEC5\",\"#B0BEC5\"]]}],\"label\":\"Topic 14\",\"method\":\"update\"},{\"args\":[{\"marker.color\":[[\"#B0BEC5\",\"#B0BEC5\",\"#B0BEC5\",\"#B0BEC5\",\"#B0BEC5\",\"#B0BEC5\",\"#B0BEC5\",\"#B0BEC5\",\"#B0BEC5\",\"#B0BEC5\",\"#B0BEC5\",\"#B0BEC5\",\"#B0BEC5\",\"#B0BEC5\",\"#B0BEC5\",\"red\",\"#B0BEC5\",\"#B0BEC5\",\"#B0BEC5\",\"#B0BEC5\",\"#B0BEC5\",\"#B0BEC5\",\"#B0BEC5\",\"#B0BEC5\",\"#B0BEC5\",\"#B0BEC5\",\"#B0BEC5\",\"#B0BEC5\",\"#B0BEC5\",\"#B0BEC5\",\"#B0BEC5\",\"#B0BEC5\"]]}],\"label\":\"Topic 15\",\"method\":\"update\"},{\"args\":[{\"marker.color\":[[\"#B0BEC5\",\"#B0BEC5\",\"#B0BEC5\",\"#B0BEC5\",\"#B0BEC5\",\"#B0BEC5\",\"#B0BEC5\",\"#B0BEC5\",\"#B0BEC5\",\"#B0BEC5\",\"#B0BEC5\",\"#B0BEC5\",\"#B0BEC5\",\"#B0BEC5\",\"#B0BEC5\",\"#B0BEC5\",\"red\",\"#B0BEC5\",\"#B0BEC5\",\"#B0BEC5\",\"#B0BEC5\",\"#B0BEC5\",\"#B0BEC5\",\"#B0BEC5\",\"#B0BEC5\",\"#B0BEC5\",\"#B0BEC5\",\"#B0BEC5\",\"#B0BEC5\",\"#B0BEC5\",\"#B0BEC5\",\"#B0BEC5\"]]}],\"label\":\"Topic 16\",\"method\":\"update\"},{\"args\":[{\"marker.color\":[[\"#B0BEC5\",\"#B0BEC5\",\"#B0BEC5\",\"#B0BEC5\",\"#B0BEC5\",\"#B0BEC5\",\"#B0BEC5\",\"#B0BEC5\",\"#B0BEC5\",\"#B0BEC5\",\"#B0BEC5\",\"#B0BEC5\",\"#B0BEC5\",\"#B0BEC5\",\"#B0BEC5\",\"#B0BEC5\",\"#B0BEC5\",\"red\",\"#B0BEC5\",\"#B0BEC5\",\"#B0BEC5\",\"#B0BEC5\",\"#B0BEC5\",\"#B0BEC5\",\"#B0BEC5\",\"#B0BEC5\",\"#B0BEC5\",\"#B0BEC5\",\"#B0BEC5\",\"#B0BEC5\",\"#B0BEC5\",\"#B0BEC5\"]]}],\"label\":\"Topic 17\",\"method\":\"update\"},{\"args\":[{\"marker.color\":[[\"#B0BEC5\",\"#B0BEC5\",\"#B0BEC5\",\"#B0BEC5\",\"#B0BEC5\",\"#B0BEC5\",\"#B0BEC5\",\"#B0BEC5\",\"#B0BEC5\",\"#B0BEC5\",\"#B0BEC5\",\"#B0BEC5\",\"#B0BEC5\",\"#B0BEC5\",\"#B0BEC5\",\"#B0BEC5\",\"#B0BEC5\",\"#B0BEC5\",\"red\",\"#B0BEC5\",\"#B0BEC5\",\"#B0BEC5\",\"#B0BEC5\",\"#B0BEC5\",\"#B0BEC5\",\"#B0BEC5\",\"#B0BEC5\",\"#B0BEC5\",\"#B0BEC5\",\"#B0BEC5\",\"#B0BEC5\",\"#B0BEC5\"]]}],\"label\":\"Topic 18\",\"method\":\"update\"},{\"args\":[{\"marker.color\":[[\"#B0BEC5\",\"#B0BEC5\",\"#B0BEC5\",\"#B0BEC5\",\"#B0BEC5\",\"#B0BEC5\",\"#B0BEC5\",\"#B0BEC5\",\"#B0BEC5\",\"#B0BEC5\",\"#B0BEC5\",\"#B0BEC5\",\"#B0BEC5\",\"#B0BEC5\",\"#B0BEC5\",\"#B0BEC5\",\"#B0BEC5\",\"#B0BEC5\",\"#B0BEC5\",\"red\",\"#B0BEC5\",\"#B0BEC5\",\"#B0BEC5\",\"#B0BEC5\",\"#B0BEC5\",\"#B0BEC5\",\"#B0BEC5\",\"#B0BEC5\",\"#B0BEC5\",\"#B0BEC5\",\"#B0BEC5\",\"#B0BEC5\"]]}],\"label\":\"Topic 19\",\"method\":\"update\"},{\"args\":[{\"marker.color\":[[\"#B0BEC5\",\"#B0BEC5\",\"#B0BEC5\",\"#B0BEC5\",\"#B0BEC5\",\"#B0BEC5\",\"#B0BEC5\",\"#B0BEC5\",\"#B0BEC5\",\"#B0BEC5\",\"#B0BEC5\",\"#B0BEC5\",\"#B0BEC5\",\"#B0BEC5\",\"#B0BEC5\",\"#B0BEC5\",\"#B0BEC5\",\"#B0BEC5\",\"#B0BEC5\",\"#B0BEC5\",\"red\",\"#B0BEC5\",\"#B0BEC5\",\"#B0BEC5\",\"#B0BEC5\",\"#B0BEC5\",\"#B0BEC5\",\"#B0BEC5\",\"#B0BEC5\",\"#B0BEC5\",\"#B0BEC5\",\"#B0BEC5\"]]}],\"label\":\"Topic 20\",\"method\":\"update\"},{\"args\":[{\"marker.color\":[[\"#B0BEC5\",\"#B0BEC5\",\"#B0BEC5\",\"#B0BEC5\",\"#B0BEC5\",\"#B0BEC5\",\"#B0BEC5\",\"#B0BEC5\",\"#B0BEC5\",\"#B0BEC5\",\"#B0BEC5\",\"#B0BEC5\",\"#B0BEC5\",\"#B0BEC5\",\"#B0BEC5\",\"#B0BEC5\",\"#B0BEC5\",\"#B0BEC5\",\"#B0BEC5\",\"#B0BEC5\",\"#B0BEC5\",\"red\",\"#B0BEC5\",\"#B0BEC5\",\"#B0BEC5\",\"#B0BEC5\",\"#B0BEC5\",\"#B0BEC5\",\"#B0BEC5\",\"#B0BEC5\",\"#B0BEC5\",\"#B0BEC5\"]]}],\"label\":\"Topic 21\",\"method\":\"update\"},{\"args\":[{\"marker.color\":[[\"#B0BEC5\",\"#B0BEC5\",\"#B0BEC5\",\"#B0BEC5\",\"#B0BEC5\",\"#B0BEC5\",\"#B0BEC5\",\"#B0BEC5\",\"#B0BEC5\",\"#B0BEC5\",\"#B0BEC5\",\"#B0BEC5\",\"#B0BEC5\",\"#B0BEC5\",\"#B0BEC5\",\"#B0BEC5\",\"#B0BEC5\",\"#B0BEC5\",\"#B0BEC5\",\"#B0BEC5\",\"#B0BEC5\",\"#B0BEC5\",\"red\",\"#B0BEC5\",\"#B0BEC5\",\"#B0BEC5\",\"#B0BEC5\",\"#B0BEC5\",\"#B0BEC5\",\"#B0BEC5\",\"#B0BEC5\",\"#B0BEC5\"]]}],\"label\":\"Topic 22\",\"method\":\"update\"},{\"args\":[{\"marker.color\":[[\"#B0BEC5\",\"#B0BEC5\",\"#B0BEC5\",\"#B0BEC5\",\"#B0BEC5\",\"#B0BEC5\",\"#B0BEC5\",\"#B0BEC5\",\"#B0BEC5\",\"#B0BEC5\",\"#B0BEC5\",\"#B0BEC5\",\"#B0BEC5\",\"#B0BEC5\",\"#B0BEC5\",\"#B0BEC5\",\"#B0BEC5\",\"#B0BEC5\",\"#B0BEC5\",\"#B0BEC5\",\"#B0BEC5\",\"#B0BEC5\",\"#B0BEC5\",\"red\",\"#B0BEC5\",\"#B0BEC5\",\"#B0BEC5\",\"#B0BEC5\",\"#B0BEC5\",\"#B0BEC5\",\"#B0BEC5\",\"#B0BEC5\"]]}],\"label\":\"Topic 23\",\"method\":\"update\"},{\"args\":[{\"marker.color\":[[\"#B0BEC5\",\"#B0BEC5\",\"#B0BEC5\",\"#B0BEC5\",\"#B0BEC5\",\"#B0BEC5\",\"#B0BEC5\",\"#B0BEC5\",\"#B0BEC5\",\"#B0BEC5\",\"#B0BEC5\",\"#B0BEC5\",\"#B0BEC5\",\"#B0BEC5\",\"#B0BEC5\",\"#B0BEC5\",\"#B0BEC5\",\"#B0BEC5\",\"#B0BEC5\",\"#B0BEC5\",\"#B0BEC5\",\"#B0BEC5\",\"#B0BEC5\",\"#B0BEC5\",\"red\",\"#B0BEC5\",\"#B0BEC5\",\"#B0BEC5\",\"#B0BEC5\",\"#B0BEC5\",\"#B0BEC5\",\"#B0BEC5\"]]}],\"label\":\"Topic 24\",\"method\":\"update\"},{\"args\":[{\"marker.color\":[[\"#B0BEC5\",\"#B0BEC5\",\"#B0BEC5\",\"#B0BEC5\",\"#B0BEC5\",\"#B0BEC5\",\"#B0BEC5\",\"#B0BEC5\",\"#B0BEC5\",\"#B0BEC5\",\"#B0BEC5\",\"#B0BEC5\",\"#B0BEC5\",\"#B0BEC5\",\"#B0BEC5\",\"#B0BEC5\",\"#B0BEC5\",\"#B0BEC5\",\"#B0BEC5\",\"#B0BEC5\",\"#B0BEC5\",\"#B0BEC5\",\"#B0BEC5\",\"#B0BEC5\",\"#B0BEC5\",\"red\",\"#B0BEC5\",\"#B0BEC5\",\"#B0BEC5\",\"#B0BEC5\",\"#B0BEC5\",\"#B0BEC5\"]]}],\"label\":\"Topic 25\",\"method\":\"update\"},{\"args\":[{\"marker.color\":[[\"#B0BEC5\",\"#B0BEC5\",\"#B0BEC5\",\"#B0BEC5\",\"#B0BEC5\",\"#B0BEC5\",\"#B0BEC5\",\"#B0BEC5\",\"#B0BEC5\",\"#B0BEC5\",\"#B0BEC5\",\"#B0BEC5\",\"#B0BEC5\",\"#B0BEC5\",\"#B0BEC5\",\"#B0BEC5\",\"#B0BEC5\",\"#B0BEC5\",\"#B0BEC5\",\"#B0BEC5\",\"#B0BEC5\",\"#B0BEC5\",\"#B0BEC5\",\"#B0BEC5\",\"#B0BEC5\",\"#B0BEC5\",\"red\",\"#B0BEC5\",\"#B0BEC5\",\"#B0BEC5\",\"#B0BEC5\",\"#B0BEC5\"]]}],\"label\":\"Topic 26\",\"method\":\"update\"},{\"args\":[{\"marker.color\":[[\"#B0BEC5\",\"#B0BEC5\",\"#B0BEC5\",\"#B0BEC5\",\"#B0BEC5\",\"#B0BEC5\",\"#B0BEC5\",\"#B0BEC5\",\"#B0BEC5\",\"#B0BEC5\",\"#B0BEC5\",\"#B0BEC5\",\"#B0BEC5\",\"#B0BEC5\",\"#B0BEC5\",\"#B0BEC5\",\"#B0BEC5\",\"#B0BEC5\",\"#B0BEC5\",\"#B0BEC5\",\"#B0BEC5\",\"#B0BEC5\",\"#B0BEC5\",\"#B0BEC5\",\"#B0BEC5\",\"#B0BEC5\",\"#B0BEC5\",\"red\",\"#B0BEC5\",\"#B0BEC5\",\"#B0BEC5\",\"#B0BEC5\"]]}],\"label\":\"Topic 27\",\"method\":\"update\"},{\"args\":[{\"marker.color\":[[\"#B0BEC5\",\"#B0BEC5\",\"#B0BEC5\",\"#B0BEC5\",\"#B0BEC5\",\"#B0BEC5\",\"#B0BEC5\",\"#B0BEC5\",\"#B0BEC5\",\"#B0BEC5\",\"#B0BEC5\",\"#B0BEC5\",\"#B0BEC5\",\"#B0BEC5\",\"#B0BEC5\",\"#B0BEC5\",\"#B0BEC5\",\"#B0BEC5\",\"#B0BEC5\",\"#B0BEC5\",\"#B0BEC5\",\"#B0BEC5\",\"#B0BEC5\",\"#B0BEC5\",\"#B0BEC5\",\"#B0BEC5\",\"#B0BEC5\",\"#B0BEC5\",\"red\",\"#B0BEC5\",\"#B0BEC5\",\"#B0BEC5\"]]}],\"label\":\"Topic 28\",\"method\":\"update\"},{\"args\":[{\"marker.color\":[[\"#B0BEC5\",\"#B0BEC5\",\"#B0BEC5\",\"#B0BEC5\",\"#B0BEC5\",\"#B0BEC5\",\"#B0BEC5\",\"#B0BEC5\",\"#B0BEC5\",\"#B0BEC5\",\"#B0BEC5\",\"#B0BEC5\",\"#B0BEC5\",\"#B0BEC5\",\"#B0BEC5\",\"#B0BEC5\",\"#B0BEC5\",\"#B0BEC5\",\"#B0BEC5\",\"#B0BEC5\",\"#B0BEC5\",\"#B0BEC5\",\"#B0BEC5\",\"#B0BEC5\",\"#B0BEC5\",\"#B0BEC5\",\"#B0BEC5\",\"#B0BEC5\",\"#B0BEC5\",\"red\",\"#B0BEC5\",\"#B0BEC5\"]]}],\"label\":\"Topic 29\",\"method\":\"update\"},{\"args\":[{\"marker.color\":[[\"#B0BEC5\",\"#B0BEC5\",\"#B0BEC5\",\"#B0BEC5\",\"#B0BEC5\",\"#B0BEC5\",\"#B0BEC5\",\"#B0BEC5\",\"#B0BEC5\",\"#B0BEC5\",\"#B0BEC5\",\"#B0BEC5\",\"#B0BEC5\",\"#B0BEC5\",\"#B0BEC5\",\"#B0BEC5\",\"#B0BEC5\",\"#B0BEC5\",\"#B0BEC5\",\"#B0BEC5\",\"#B0BEC5\",\"#B0BEC5\",\"#B0BEC5\",\"#B0BEC5\",\"#B0BEC5\",\"#B0BEC5\",\"#B0BEC5\",\"#B0BEC5\",\"#B0BEC5\",\"#B0BEC5\",\"red\",\"#B0BEC5\"]]}],\"label\":\"Topic 30\",\"method\":\"update\"},{\"args\":[{\"marker.color\":[[\"#B0BEC5\",\"#B0BEC5\",\"#B0BEC5\",\"#B0BEC5\",\"#B0BEC5\",\"#B0BEC5\",\"#B0BEC5\",\"#B0BEC5\",\"#B0BEC5\",\"#B0BEC5\",\"#B0BEC5\",\"#B0BEC5\",\"#B0BEC5\",\"#B0BEC5\",\"#B0BEC5\",\"#B0BEC5\",\"#B0BEC5\",\"#B0BEC5\",\"#B0BEC5\",\"#B0BEC5\",\"#B0BEC5\",\"#B0BEC5\",\"#B0BEC5\",\"#B0BEC5\",\"#B0BEC5\",\"#B0BEC5\",\"#B0BEC5\",\"#B0BEC5\",\"#B0BEC5\",\"#B0BEC5\",\"#B0BEC5\",\"red\"]]}],\"label\":\"Topic 31\",\"method\":\"update\"}]}],\"shapes\":[{\"line\":{\"color\":\"#CFD8DC\",\"width\":2},\"type\":\"line\",\"x0\":8.704243624210358,\"x1\":8.704243624210358,\"y0\":-4.763078141212463,\"y1\":26.605107688903807},{\"line\":{\"color\":\"#9E9E9E\",\"width\":2},\"type\":\"line\",\"x0\":-2.5882836103439333,\"x1\":19.99677085876465,\"y0\":10.921014773845672,\"y1\":10.921014773845672}],\"annotations\":[{\"showarrow\":false,\"text\":\"D1\",\"x\":-2.5882836103439333,\"y\":10.921014773845672,\"yshift\":10},{\"showarrow\":false,\"text\":\"D2\",\"x\":8.704243624210358,\"xshift\":10,\"y\":26.605107688903807}]},                        {\"responsive\": true}                    ).then(function(){\n",
       "                            \n",
       "var gd = document.getElementById('14875008-27a6-420d-8304-ce22936262e4');\n",
       "var x = new MutationObserver(function (mutations, observer) {{\n",
       "        var display = window.getComputedStyle(gd).display;\n",
       "        if (!display || display === 'none') {{\n",
       "            console.log([gd, 'removed!']);\n",
       "            Plotly.purge(gd);\n",
       "            observer.disconnect();\n",
       "        }}\n",
       "}});\n",
       "\n",
       "// Listen for the removal of the full notebook cells\n",
       "var notebookContainer = gd.closest('#notebook-container');\n",
       "if (notebookContainer) {{\n",
       "    x.observe(notebookContainer, {childList: true});\n",
       "}}\n",
       "\n",
       "// Listen for the clearing of the current output cell\n",
       "var outputEl = gd.closest('.output');\n",
       "if (outputEl) {{\n",
       "    x.observe(outputEl, {childList: true});\n",
       "}}\n",
       "\n",
       "                        })                };                });            </script>        </div>"
      ]
     },
     "metadata": {},
     "output_type": "display_data"
    }
   ],
   "source": [
    "topic_model.visualize_topics()"
   ]
  },
  {
   "cell_type": "code",
   "execution_count": 85,
   "metadata": {},
   "outputs": [
    {
     "data": {
      "application/vnd.plotly.v1+json": {
       "config": {
        "plotlyServerURL": "https://plot.ly"
       },
       "data": [
        {
         "coloraxis": "coloraxis",
         "hovertemplate": "x: %{x}<br>y: %{y}<br>Similarity Score: %{z}<extra></extra>",
         "name": "0",
         "type": "heatmap",
         "x": [
          "0_trump_harris_kamala",
          "1_trump_donald_president",
          "2_eating_dogs_cats",
          "3_gonzalez_lee_young",
          "4_thank_lovvvveee_hahahahaha"
         ],
         "xaxis": "x",
         "y": [
          "0_trump_harris_kamala",
          "1_trump_donald_president",
          "2_eating_dogs_cats",
          "3_gonzalez_lee_young",
          "4_thank_lovvvveee_hahahahaha"
         ],
         "yaxis": "y",
         "z": [
          [
           1,
           0.6492336988449097,
           0.4931730031967163,
           0.35177379846572876,
           0.3652786612510681
          ],
          [
           0.6492336988449097,
           1.000000238418579,
           0.40588557720184326,
           0.3191291093826294,
           0.36399340629577637
          ],
          [
           0.4931730031967163,
           0.40588557720184326,
           0.9999997019767761,
           0.1992051750421524,
           0.29182761907577515
          ],
          [
           0.35177379846572876,
           0.3191291093826294,
           0.1992051750421524,
           1,
           0.2553386092185974
          ],
          [
           0.3652786612510681,
           0.36399340629577637,
           0.29182761907577515,
           0.2553386092185974,
           0.9999999403953552
          ]
         ]
        }
       ],
       "layout": {
        "coloraxis": {
         "colorbar": {
          "title": {
           "text": "Similarity Score"
          }
         },
         "colorscale": [
          [
           0,
           "rgb(247,252,240)"
          ],
          [
           0.125,
           "rgb(224,243,219)"
          ],
          [
           0.25,
           "rgb(204,235,197)"
          ],
          [
           0.375,
           "rgb(168,221,181)"
          ],
          [
           0.5,
           "rgb(123,204,196)"
          ],
          [
           0.625,
           "rgb(78,179,211)"
          ],
          [
           0.75,
           "rgb(43,140,190)"
          ],
          [
           0.875,
           "rgb(8,104,172)"
          ],
          [
           1,
           "rgb(8,64,129)"
          ]
         ]
        },
        "height": 800,
        "hoverlabel": {
         "bgcolor": "white",
         "font": {
          "family": "Rockwell",
          "size": 16
         }
        },
        "legend": {
         "title": {
          "text": "Trend"
         }
        },
        "margin": {
         "t": 60
        },
        "showlegend": true,
        "template": {
         "data": {
          "bar": [
           {
            "error_x": {
             "color": "#2a3f5f"
            },
            "error_y": {
             "color": "#2a3f5f"
            },
            "marker": {
             "line": {
              "color": "#E5ECF6",
              "width": 0.5
             },
             "pattern": {
              "fillmode": "overlay",
              "size": 10,
              "solidity": 0.2
             }
            },
            "type": "bar"
           }
          ],
          "barpolar": [
           {
            "marker": {
             "line": {
              "color": "#E5ECF6",
              "width": 0.5
             },
             "pattern": {
              "fillmode": "overlay",
              "size": 10,
              "solidity": 0.2
             }
            },
            "type": "barpolar"
           }
          ],
          "carpet": [
           {
            "aaxis": {
             "endlinecolor": "#2a3f5f",
             "gridcolor": "white",
             "linecolor": "white",
             "minorgridcolor": "white",
             "startlinecolor": "#2a3f5f"
            },
            "baxis": {
             "endlinecolor": "#2a3f5f",
             "gridcolor": "white",
             "linecolor": "white",
             "minorgridcolor": "white",
             "startlinecolor": "#2a3f5f"
            },
            "type": "carpet"
           }
          ],
          "choropleth": [
           {
            "colorbar": {
             "outlinewidth": 0,
             "ticks": ""
            },
            "type": "choropleth"
           }
          ],
          "contour": [
           {
            "colorbar": {
             "outlinewidth": 0,
             "ticks": ""
            },
            "colorscale": [
             [
              0,
              "#0d0887"
             ],
             [
              0.1111111111111111,
              "#46039f"
             ],
             [
              0.2222222222222222,
              "#7201a8"
             ],
             [
              0.3333333333333333,
              "#9c179e"
             ],
             [
              0.4444444444444444,
              "#bd3786"
             ],
             [
              0.5555555555555556,
              "#d8576b"
             ],
             [
              0.6666666666666666,
              "#ed7953"
             ],
             [
              0.7777777777777778,
              "#fb9f3a"
             ],
             [
              0.8888888888888888,
              "#fdca26"
             ],
             [
              1,
              "#f0f921"
             ]
            ],
            "type": "contour"
           }
          ],
          "contourcarpet": [
           {
            "colorbar": {
             "outlinewidth": 0,
             "ticks": ""
            },
            "type": "contourcarpet"
           }
          ],
          "heatmap": [
           {
            "colorbar": {
             "outlinewidth": 0,
             "ticks": ""
            },
            "colorscale": [
             [
              0,
              "#0d0887"
             ],
             [
              0.1111111111111111,
              "#46039f"
             ],
             [
              0.2222222222222222,
              "#7201a8"
             ],
             [
              0.3333333333333333,
              "#9c179e"
             ],
             [
              0.4444444444444444,
              "#bd3786"
             ],
             [
              0.5555555555555556,
              "#d8576b"
             ],
             [
              0.6666666666666666,
              "#ed7953"
             ],
             [
              0.7777777777777778,
              "#fb9f3a"
             ],
             [
              0.8888888888888888,
              "#fdca26"
             ],
             [
              1,
              "#f0f921"
             ]
            ],
            "type": "heatmap"
           }
          ],
          "heatmapgl": [
           {
            "colorbar": {
             "outlinewidth": 0,
             "ticks": ""
            },
            "colorscale": [
             [
              0,
              "#0d0887"
             ],
             [
              0.1111111111111111,
              "#46039f"
             ],
             [
              0.2222222222222222,
              "#7201a8"
             ],
             [
              0.3333333333333333,
              "#9c179e"
             ],
             [
              0.4444444444444444,
              "#bd3786"
             ],
             [
              0.5555555555555556,
              "#d8576b"
             ],
             [
              0.6666666666666666,
              "#ed7953"
             ],
             [
              0.7777777777777778,
              "#fb9f3a"
             ],
             [
              0.8888888888888888,
              "#fdca26"
             ],
             [
              1,
              "#f0f921"
             ]
            ],
            "type": "heatmapgl"
           }
          ],
          "histogram": [
           {
            "marker": {
             "pattern": {
              "fillmode": "overlay",
              "size": 10,
              "solidity": 0.2
             }
            },
            "type": "histogram"
           }
          ],
          "histogram2d": [
           {
            "colorbar": {
             "outlinewidth": 0,
             "ticks": ""
            },
            "colorscale": [
             [
              0,
              "#0d0887"
             ],
             [
              0.1111111111111111,
              "#46039f"
             ],
             [
              0.2222222222222222,
              "#7201a8"
             ],
             [
              0.3333333333333333,
              "#9c179e"
             ],
             [
              0.4444444444444444,
              "#bd3786"
             ],
             [
              0.5555555555555556,
              "#d8576b"
             ],
             [
              0.6666666666666666,
              "#ed7953"
             ],
             [
              0.7777777777777778,
              "#fb9f3a"
             ],
             [
              0.8888888888888888,
              "#fdca26"
             ],
             [
              1,
              "#f0f921"
             ]
            ],
            "type": "histogram2d"
           }
          ],
          "histogram2dcontour": [
           {
            "colorbar": {
             "outlinewidth": 0,
             "ticks": ""
            },
            "colorscale": [
             [
              0,
              "#0d0887"
             ],
             [
              0.1111111111111111,
              "#46039f"
             ],
             [
              0.2222222222222222,
              "#7201a8"
             ],
             [
              0.3333333333333333,
              "#9c179e"
             ],
             [
              0.4444444444444444,
              "#bd3786"
             ],
             [
              0.5555555555555556,
              "#d8576b"
             ],
             [
              0.6666666666666666,
              "#ed7953"
             ],
             [
              0.7777777777777778,
              "#fb9f3a"
             ],
             [
              0.8888888888888888,
              "#fdca26"
             ],
             [
              1,
              "#f0f921"
             ]
            ],
            "type": "histogram2dcontour"
           }
          ],
          "mesh3d": [
           {
            "colorbar": {
             "outlinewidth": 0,
             "ticks": ""
            },
            "type": "mesh3d"
           }
          ],
          "parcoords": [
           {
            "line": {
             "colorbar": {
              "outlinewidth": 0,
              "ticks": ""
             }
            },
            "type": "parcoords"
           }
          ],
          "pie": [
           {
            "automargin": true,
            "type": "pie"
           }
          ],
          "scatter": [
           {
            "fillpattern": {
             "fillmode": "overlay",
             "size": 10,
             "solidity": 0.2
            },
            "type": "scatter"
           }
          ],
          "scatter3d": [
           {
            "line": {
             "colorbar": {
              "outlinewidth": 0,
              "ticks": ""
             }
            },
            "marker": {
             "colorbar": {
              "outlinewidth": 0,
              "ticks": ""
             }
            },
            "type": "scatter3d"
           }
          ],
          "scattercarpet": [
           {
            "marker": {
             "colorbar": {
              "outlinewidth": 0,
              "ticks": ""
             }
            },
            "type": "scattercarpet"
           }
          ],
          "scattergeo": [
           {
            "marker": {
             "colorbar": {
              "outlinewidth": 0,
              "ticks": ""
             }
            },
            "type": "scattergeo"
           }
          ],
          "scattergl": [
           {
            "marker": {
             "colorbar": {
              "outlinewidth": 0,
              "ticks": ""
             }
            },
            "type": "scattergl"
           }
          ],
          "scattermapbox": [
           {
            "marker": {
             "colorbar": {
              "outlinewidth": 0,
              "ticks": ""
             }
            },
            "type": "scattermapbox"
           }
          ],
          "scatterpolar": [
           {
            "marker": {
             "colorbar": {
              "outlinewidth": 0,
              "ticks": ""
             }
            },
            "type": "scatterpolar"
           }
          ],
          "scatterpolargl": [
           {
            "marker": {
             "colorbar": {
              "outlinewidth": 0,
              "ticks": ""
             }
            },
            "type": "scatterpolargl"
           }
          ],
          "scatterternary": [
           {
            "marker": {
             "colorbar": {
              "outlinewidth": 0,
              "ticks": ""
             }
            },
            "type": "scatterternary"
           }
          ],
          "surface": [
           {
            "colorbar": {
             "outlinewidth": 0,
             "ticks": ""
            },
            "colorscale": [
             [
              0,
              "#0d0887"
             ],
             [
              0.1111111111111111,
              "#46039f"
             ],
             [
              0.2222222222222222,
              "#7201a8"
             ],
             [
              0.3333333333333333,
              "#9c179e"
             ],
             [
              0.4444444444444444,
              "#bd3786"
             ],
             [
              0.5555555555555556,
              "#d8576b"
             ],
             [
              0.6666666666666666,
              "#ed7953"
             ],
             [
              0.7777777777777778,
              "#fb9f3a"
             ],
             [
              0.8888888888888888,
              "#fdca26"
             ],
             [
              1,
              "#f0f921"
             ]
            ],
            "type": "surface"
           }
          ],
          "table": [
           {
            "cells": {
             "fill": {
              "color": "#EBF0F8"
             },
             "line": {
              "color": "white"
             }
            },
            "header": {
             "fill": {
              "color": "#C8D4E3"
             },
             "line": {
              "color": "white"
             }
            },
            "type": "table"
           }
          ]
         },
         "layout": {
          "annotationdefaults": {
           "arrowcolor": "#2a3f5f",
           "arrowhead": 0,
           "arrowwidth": 1
          },
          "autotypenumbers": "strict",
          "coloraxis": {
           "colorbar": {
            "outlinewidth": 0,
            "ticks": ""
           }
          },
          "colorscale": {
           "diverging": [
            [
             0,
             "#8e0152"
            ],
            [
             0.1,
             "#c51b7d"
            ],
            [
             0.2,
             "#de77ae"
            ],
            [
             0.3,
             "#f1b6da"
            ],
            [
             0.4,
             "#fde0ef"
            ],
            [
             0.5,
             "#f7f7f7"
            ],
            [
             0.6,
             "#e6f5d0"
            ],
            [
             0.7,
             "#b8e186"
            ],
            [
             0.8,
             "#7fbc41"
            ],
            [
             0.9,
             "#4d9221"
            ],
            [
             1,
             "#276419"
            ]
           ],
           "sequential": [
            [
             0,
             "#0d0887"
            ],
            [
             0.1111111111111111,
             "#46039f"
            ],
            [
             0.2222222222222222,
             "#7201a8"
            ],
            [
             0.3333333333333333,
             "#9c179e"
            ],
            [
             0.4444444444444444,
             "#bd3786"
            ],
            [
             0.5555555555555556,
             "#d8576b"
            ],
            [
             0.6666666666666666,
             "#ed7953"
            ],
            [
             0.7777777777777778,
             "#fb9f3a"
            ],
            [
             0.8888888888888888,
             "#fdca26"
            ],
            [
             1,
             "#f0f921"
            ]
           ],
           "sequentialminus": [
            [
             0,
             "#0d0887"
            ],
            [
             0.1111111111111111,
             "#46039f"
            ],
            [
             0.2222222222222222,
             "#7201a8"
            ],
            [
             0.3333333333333333,
             "#9c179e"
            ],
            [
             0.4444444444444444,
             "#bd3786"
            ],
            [
             0.5555555555555556,
             "#d8576b"
            ],
            [
             0.6666666666666666,
             "#ed7953"
            ],
            [
             0.7777777777777778,
             "#fb9f3a"
            ],
            [
             0.8888888888888888,
             "#fdca26"
            ],
            [
             1,
             "#f0f921"
            ]
           ]
          },
          "colorway": [
           "#636efa",
           "#EF553B",
           "#00cc96",
           "#ab63fa",
           "#FFA15A",
           "#19d3f3",
           "#FF6692",
           "#B6E880",
           "#FF97FF",
           "#FECB52"
          ],
          "font": {
           "color": "#2a3f5f"
          },
          "geo": {
           "bgcolor": "white",
           "lakecolor": "white",
           "landcolor": "#E5ECF6",
           "showlakes": true,
           "showland": true,
           "subunitcolor": "white"
          },
          "hoverlabel": {
           "align": "left"
          },
          "hovermode": "closest",
          "mapbox": {
           "style": "light"
          },
          "paper_bgcolor": "white",
          "plot_bgcolor": "#E5ECF6",
          "polar": {
           "angularaxis": {
            "gridcolor": "white",
            "linecolor": "white",
            "ticks": ""
           },
           "bgcolor": "#E5ECF6",
           "radialaxis": {
            "gridcolor": "white",
            "linecolor": "white",
            "ticks": ""
           }
          },
          "scene": {
           "xaxis": {
            "backgroundcolor": "#E5ECF6",
            "gridcolor": "white",
            "gridwidth": 2,
            "linecolor": "white",
            "showbackground": true,
            "ticks": "",
            "zerolinecolor": "white"
           },
           "yaxis": {
            "backgroundcolor": "#E5ECF6",
            "gridcolor": "white",
            "gridwidth": 2,
            "linecolor": "white",
            "showbackground": true,
            "ticks": "",
            "zerolinecolor": "white"
           },
           "zaxis": {
            "backgroundcolor": "#E5ECF6",
            "gridcolor": "white",
            "gridwidth": 2,
            "linecolor": "white",
            "showbackground": true,
            "ticks": "",
            "zerolinecolor": "white"
           }
          },
          "shapedefaults": {
           "line": {
            "color": "#2a3f5f"
           }
          },
          "ternary": {
           "aaxis": {
            "gridcolor": "white",
            "linecolor": "white",
            "ticks": ""
           },
           "baxis": {
            "gridcolor": "white",
            "linecolor": "white",
            "ticks": ""
           },
           "bgcolor": "#E5ECF6",
           "caxis": {
            "gridcolor": "white",
            "linecolor": "white",
            "ticks": ""
           }
          },
          "title": {
           "x": 0.05
          },
          "xaxis": {
           "automargin": true,
           "gridcolor": "white",
           "linecolor": "white",
           "ticks": "",
           "title": {
            "standoff": 15
           },
           "zerolinecolor": "white",
           "zerolinewidth": 2
          },
          "yaxis": {
           "automargin": true,
           "gridcolor": "white",
           "linecolor": "white",
           "ticks": "",
           "title": {
            "standoff": 15
           },
           "zerolinecolor": "white",
           "zerolinewidth": 2
          }
         }
        },
        "title": {
         "font": {
          "color": "Black",
          "size": 22
         },
         "text": "<b>Similarity Matrix</b>",
         "x": 0.55,
         "xanchor": "center",
         "y": 0.95,
         "yanchor": "top"
        },
        "width": 800,
        "xaxis": {
         "anchor": "y",
         "autorange": true,
         "constrain": "domain",
         "domain": [
          0,
          1
         ],
         "range": [
          -0.5,
          4.5
         ],
         "scaleanchor": "y",
         "type": "category"
        },
        "yaxis": {
         "anchor": "x",
         "autorange": true,
         "constrain": "domain",
         "domain": [
          0.16969696969696968,
          0.8303030303030303
         ],
         "range": [
          4.5,
          -0.5
         ],
         "type": "category"
        }
       }
      },
      "image/png": "[encoded data removed]",
      "text/html": [
       "<div>                            <div id=\"2174e599-b6a8-48b4-bd2a-cd05cdbc5ac5\" class=\"plotly-graph-div\" style=\"height:800px; width:800px;\"></div>            <script type=\"text/javascript\">                require([\"plotly\"], function(Plotly) {                    window.PLOTLYENV=window.PLOTLYENV || {};                                    if (document.getElementById(\"2174e599-b6a8-48b4-bd2a-cd05cdbc5ac5\")) {                    Plotly.newPlot(                        \"2174e599-b6a8-48b4-bd2a-cd05cdbc5ac5\",                        [{\"coloraxis\":\"coloraxis\",\"name\":\"0\",\"x\":[\"0_trump_harris_kamala\",\"1_trump_donald_president\",\"2_eating_dogs_cats\",\"3_gonzalez_lee_young\",\"4_thank_lovvvveee_hahahahaha\"],\"y\":[\"0_trump_harris_kamala\",\"1_trump_donald_president\",\"2_eating_dogs_cats\",\"3_gonzalez_lee_young\",\"4_thank_lovvvveee_hahahahaha\"],\"z\":[[1.0,0.6492336988449097,0.4931730031967163,0.35177379846572876,0.3652786612510681],[0.6492336988449097,1.000000238418579,0.40588557720184326,0.3191291093826294,0.36399340629577637],[0.4931730031967163,0.40588557720184326,0.9999997019767761,0.1992051750421524,0.29182761907577515],[0.35177379846572876,0.3191291093826294,0.1992051750421524,1.0,0.2553386092185974],[0.3652786612510681,0.36399340629577637,0.29182761907577515,0.2553386092185974,0.9999999403953552]],\"type\":\"heatmap\",\"xaxis\":\"x\",\"yaxis\":\"y\",\"hovertemplate\":\"x: %{x}\\u003cbr\\u003ey: %{y}\\u003cbr\\u003eSimilarity Score: %{z}\\u003cextra\\u003e\\u003c\\u002fextra\\u003e\"}],                        {\"template\":{\"data\":{\"histogram2dcontour\":[{\"type\":\"histogram2dcontour\",\"colorbar\":{\"outlinewidth\":0,\"ticks\":\"\"},\"colorscale\":[[0.0,\"#0d0887\"],[0.1111111111111111,\"#46039f\"],[0.2222222222222222,\"#7201a8\"],[0.3333333333333333,\"#9c179e\"],[0.4444444444444444,\"#bd3786\"],[0.5555555555555556,\"#d8576b\"],[0.6666666666666666,\"#ed7953\"],[0.7777777777777778,\"#fb9f3a\"],[0.8888888888888888,\"#fdca26\"],[1.0,\"#f0f921\"]]}],\"choropleth\":[{\"type\":\"choropleth\",\"colorbar\":{\"outlinewidth\":0,\"ticks\":\"\"}}],\"histogram2d\":[{\"type\":\"histogram2d\",\"colorbar\":{\"outlinewidth\":0,\"ticks\":\"\"},\"colorscale\":[[0.0,\"#0d0887\"],[0.1111111111111111,\"#46039f\"],[0.2222222222222222,\"#7201a8\"],[0.3333333333333333,\"#9c179e\"],[0.4444444444444444,\"#bd3786\"],[0.5555555555555556,\"#d8576b\"],[0.6666666666666666,\"#ed7953\"],[0.7777777777777778,\"#fb9f3a\"],[0.8888888888888888,\"#fdca26\"],[1.0,\"#f0f921\"]]}],\"heatmap\":[{\"type\":\"heatmap\",\"colorbar\":{\"outlinewidth\":0,\"ticks\":\"\"},\"colorscale\":[[0.0,\"#0d0887\"],[0.1111111111111111,\"#46039f\"],[0.2222222222222222,\"#7201a8\"],[0.3333333333333333,\"#9c179e\"],[0.4444444444444444,\"#bd3786\"],[0.5555555555555556,\"#d8576b\"],[0.6666666666666666,\"#ed7953\"],[0.7777777777777778,\"#fb9f3a\"],[0.8888888888888888,\"#fdca26\"],[1.0,\"#f0f921\"]]}],\"heatmapgl\":[{\"type\":\"heatmapgl\",\"colorbar\":{\"outlinewidth\":0,\"ticks\":\"\"},\"colorscale\":[[0.0,\"#0d0887\"],[0.1111111111111111,\"#46039f\"],[0.2222222222222222,\"#7201a8\"],[0.3333333333333333,\"#9c179e\"],[0.4444444444444444,\"#bd3786\"],[0.5555555555555556,\"#d8576b\"],[0.6666666666666666,\"#ed7953\"],[0.7777777777777778,\"#fb9f3a\"],[0.8888888888888888,\"#fdca26\"],[1.0,\"#f0f921\"]]}],\"contourcarpet\":[{\"type\":\"contourcarpet\",\"colorbar\":{\"outlinewidth\":0,\"ticks\":\"\"}}],\"contour\":[{\"type\":\"contour\",\"colorbar\":{\"outlinewidth\":0,\"ticks\":\"\"},\"colorscale\":[[0.0,\"#0d0887\"],[0.1111111111111111,\"#46039f\"],[0.2222222222222222,\"#7201a8\"],[0.3333333333333333,\"#9c179e\"],[0.4444444444444444,\"#bd3786\"],[0.5555555555555556,\"#d8576b\"],[0.6666666666666666,\"#ed7953\"],[0.7777777777777778,\"#fb9f3a\"],[0.8888888888888888,\"#fdca26\"],[1.0,\"#f0f921\"]]}],\"surface\":[{\"type\":\"surface\",\"colorbar\":{\"outlinewidth\":0,\"ticks\":\"\"},\"colorscale\":[[0.0,\"#0d0887\"],[0.1111111111111111,\"#46039f\"],[0.2222222222222222,\"#7201a8\"],[0.3333333333333333,\"#9c179e\"],[0.4444444444444444,\"#bd3786\"],[0.5555555555555556,\"#d8576b\"],[0.6666666666666666,\"#ed7953\"],[0.7777777777777778,\"#fb9f3a\"],[0.8888888888888888,\"#fdca26\"],[1.0,\"#f0f921\"]]}],\"mesh3d\":[{\"type\":\"mesh3d\",\"colorbar\":{\"outlinewidth\":0,\"ticks\":\"\"}}],\"scatter\":[{\"fillpattern\":{\"fillmode\":\"overlay\",\"size\":10,\"solidity\":0.2},\"type\":\"scatter\"}],\"parcoords\":[{\"type\":\"parcoords\",\"line\":{\"colorbar\":{\"outlinewidth\":0,\"ticks\":\"\"}}}],\"scatterpolargl\":[{\"type\":\"scatterpolargl\",\"marker\":{\"colorbar\":{\"outlinewidth\":0,\"ticks\":\"\"}}}],\"bar\":[{\"error_x\":{\"color\":\"#2a3f5f\"},\"error_y\":{\"color\":\"#2a3f5f\"},\"marker\":{\"line\":{\"color\":\"#E5ECF6\",\"width\":0.5},\"pattern\":{\"fillmode\":\"overlay\",\"size\":10,\"solidity\":0.2}},\"type\":\"bar\"}],\"scattergeo\":[{\"type\":\"scattergeo\",\"marker\":{\"colorbar\":{\"outlinewidth\":0,\"ticks\":\"\"}}}],\"scatterpolar\":[{\"type\":\"scatterpolar\",\"marker\":{\"colorbar\":{\"outlinewidth\":0,\"ticks\":\"\"}}}],\"histogram\":[{\"marker\":{\"pattern\":{\"fillmode\":\"overlay\",\"size\":10,\"solidity\":0.2}},\"type\":\"histogram\"}],\"scattergl\":[{\"type\":\"scattergl\",\"marker\":{\"colorbar\":{\"outlinewidth\":0,\"ticks\":\"\"}}}],\"scatter3d\":[{\"type\":\"scatter3d\",\"line\":{\"colorbar\":{\"outlinewidth\":0,\"ticks\":\"\"}},\"marker\":{\"colorbar\":{\"outlinewidth\":0,\"ticks\":\"\"}}}],\"scattermapbox\":[{\"type\":\"scattermapbox\",\"marker\":{\"colorbar\":{\"outlinewidth\":0,\"ticks\":\"\"}}}],\"scatterternary\":[{\"type\":\"scatterternary\",\"marker\":{\"colorbar\":{\"outlinewidth\":0,\"ticks\":\"\"}}}],\"scattercarpet\":[{\"type\":\"scattercarpet\",\"marker\":{\"colorbar\":{\"outlinewidth\":0,\"ticks\":\"\"}}}],\"carpet\":[{\"aaxis\":{\"endlinecolor\":\"#2a3f5f\",\"gridcolor\":\"white\",\"linecolor\":\"white\",\"minorgridcolor\":\"white\",\"startlinecolor\":\"#2a3f5f\"},\"baxis\":{\"endlinecolor\":\"#2a3f5f\",\"gridcolor\":\"white\",\"linecolor\":\"white\",\"minorgridcolor\":\"white\",\"startlinecolor\":\"#2a3f5f\"},\"type\":\"carpet\"}],\"table\":[{\"cells\":{\"fill\":{\"color\":\"#EBF0F8\"},\"line\":{\"color\":\"white\"}},\"header\":{\"fill\":{\"color\":\"#C8D4E3\"},\"line\":{\"color\":\"white\"}},\"type\":\"table\"}],\"barpolar\":[{\"marker\":{\"line\":{\"color\":\"#E5ECF6\",\"width\":0.5},\"pattern\":{\"fillmode\":\"overlay\",\"size\":10,\"solidity\":0.2}},\"type\":\"barpolar\"}],\"pie\":[{\"automargin\":true,\"type\":\"pie\"}]},\"layout\":{\"autotypenumbers\":\"strict\",\"colorway\":[\"#636efa\",\"#EF553B\",\"#00cc96\",\"#ab63fa\",\"#FFA15A\",\"#19d3f3\",\"#FF6692\",\"#B6E880\",\"#FF97FF\",\"#FECB52\"],\"font\":{\"color\":\"#2a3f5f\"},\"hovermode\":\"closest\",\"hoverlabel\":{\"align\":\"left\"},\"paper_bgcolor\":\"white\",\"plot_bgcolor\":\"#E5ECF6\",\"polar\":{\"bgcolor\":\"#E5ECF6\",\"angularaxis\":{\"gridcolor\":\"white\",\"linecolor\":\"white\",\"ticks\":\"\"},\"radialaxis\":{\"gridcolor\":\"white\",\"linecolor\":\"white\",\"ticks\":\"\"}},\"ternary\":{\"bgcolor\":\"#E5ECF6\",\"aaxis\":{\"gridcolor\":\"white\",\"linecolor\":\"white\",\"ticks\":\"\"},\"baxis\":{\"gridcolor\":\"white\",\"linecolor\":\"white\",\"ticks\":\"\"},\"caxis\":{\"gridcolor\":\"white\",\"linecolor\":\"white\",\"ticks\":\"\"}},\"coloraxis\":{\"colorbar\":{\"outlinewidth\":0,\"ticks\":\"\"}},\"colorscale\":{\"sequential\":[[0.0,\"#0d0887\"],[0.1111111111111111,\"#46039f\"],[0.2222222222222222,\"#7201a8\"],[0.3333333333333333,\"#9c179e\"],[0.4444444444444444,\"#bd3786\"],[0.5555555555555556,\"#d8576b\"],[0.6666666666666666,\"#ed7953\"],[0.7777777777777778,\"#fb9f3a\"],[0.8888888888888888,\"#fdca26\"],[1.0,\"#f0f921\"]],\"sequentialminus\":[[0.0,\"#0d0887\"],[0.1111111111111111,\"#46039f\"],[0.2222222222222222,\"#7201a8\"],[0.3333333333333333,\"#9c179e\"],[0.4444444444444444,\"#bd3786\"],[0.5555555555555556,\"#d8576b\"],[0.6666666666666666,\"#ed7953\"],[0.7777777777777778,\"#fb9f3a\"],[0.8888888888888888,\"#fdca26\"],[1.0,\"#f0f921\"]],\"diverging\":[[0,\"#8e0152\"],[0.1,\"#c51b7d\"],[0.2,\"#de77ae\"],[0.3,\"#f1b6da\"],[0.4,\"#fde0ef\"],[0.5,\"#f7f7f7\"],[0.6,\"#e6f5d0\"],[0.7,\"#b8e186\"],[0.8,\"#7fbc41\"],[0.9,\"#4d9221\"],[1,\"#276419\"]]},\"xaxis\":{\"gridcolor\":\"white\",\"linecolor\":\"white\",\"ticks\":\"\",\"title\":{\"standoff\":15},\"zerolinecolor\":\"white\",\"automargin\":true,\"zerolinewidth\":2},\"yaxis\":{\"gridcolor\":\"white\",\"linecolor\":\"white\",\"ticks\":\"\",\"title\":{\"standoff\":15},\"zerolinecolor\":\"white\",\"automargin\":true,\"zerolinewidth\":2},\"scene\":{\"xaxis\":{\"backgroundcolor\":\"#E5ECF6\",\"gridcolor\":\"white\",\"linecolor\":\"white\",\"showbackground\":true,\"ticks\":\"\",\"zerolinecolor\":\"white\",\"gridwidth\":2},\"yaxis\":{\"backgroundcolor\":\"#E5ECF6\",\"gridcolor\":\"white\",\"linecolor\":\"white\",\"showbackground\":true,\"ticks\":\"\",\"zerolinecolor\":\"white\",\"gridwidth\":2},\"zaxis\":{\"backgroundcolor\":\"#E5ECF6\",\"gridcolor\":\"white\",\"linecolor\":\"white\",\"showbackground\":true,\"ticks\":\"\",\"zerolinecolor\":\"white\",\"gridwidth\":2}},\"shapedefaults\":{\"line\":{\"color\":\"#2a3f5f\"}},\"annotationdefaults\":{\"arrowcolor\":\"#2a3f5f\",\"arrowhead\":0,\"arrowwidth\":1},\"geo\":{\"bgcolor\":\"white\",\"landcolor\":\"#E5ECF6\",\"subunitcolor\":\"white\",\"showland\":true,\"showlakes\":true,\"lakecolor\":\"white\"},\"title\":{\"x\":0.05},\"mapbox\":{\"style\":\"light\"}}},\"xaxis\":{\"anchor\":\"y\",\"domain\":[0.0,1.0],\"scaleanchor\":\"y\",\"constrain\":\"domain\"},\"yaxis\":{\"anchor\":\"x\",\"domain\":[0.0,1.0],\"autorange\":\"reversed\",\"constrain\":\"domain\"},\"coloraxis\":{\"colorbar\":{\"title\":{\"text\":\"Similarity Score\"}},\"colorscale\":[[0.0,\"rgb(247,252,240)\"],[0.125,\"rgb(224,243,219)\"],[0.25,\"rgb(204,235,197)\"],[0.375,\"rgb(168,221,181)\"],[0.5,\"rgb(123,204,196)\"],[0.625,\"rgb(78,179,211)\"],[0.75,\"rgb(43,140,190)\"],[0.875,\"rgb(8,104,172)\"],[1.0,\"rgb(8,64,129)\"]]},\"margin\":{\"t\":60},\"title\":{\"font\":{\"size\":22,\"color\":\"Black\"},\"text\":\"\\u003cb\\u003eSimilarity Matrix\\u003c\\u002fb\\u003e\",\"y\":0.95,\"x\":0.55,\"xanchor\":\"center\",\"yanchor\":\"top\"},\"hoverlabel\":{\"font\":{\"size\":16,\"family\":\"Rockwell\"},\"bgcolor\":\"white\"},\"width\":800,\"height\":800,\"showlegend\":true,\"legend\":{\"title\":{\"text\":\"Trend\"}}},                        {\"responsive\": true}                    ).then(function(){\n",
       "                            \n",
       "var gd = document.getElementById('2174e599-b6a8-48b4-bd2a-cd05cdbc5ac5');\n",
       "var x = new MutationObserver(function (mutations, observer) {{\n",
       "        var display = window.getComputedStyle(gd).display;\n",
       "        if (!display || display === 'none') {{\n",
       "            console.log([gd, 'removed!']);\n",
       "            Plotly.purge(gd);\n",
       "            observer.disconnect();\n",
       "        }}\n",
       "}});\n",
       "\n",
       "// Listen for the removal of the full notebook cells\n",
       "var notebookContainer = gd.closest('#notebook-container');\n",
       "if (notebookContainer) {{\n",
       "    x.observe(notebookContainer, {childList: true});\n",
       "}}\n",
       "\n",
       "// Listen for the clearing of the current output cell\n",
       "var outputEl = gd.closest('.output');\n",
       "if (outputEl) {{\n",
       "    x.observe(outputEl, {childList: true});\n",
       "}}\n",
       "\n",
       "                        })                };                });            </script>        </div>"
      ]
     },
     "metadata": {},
     "output_type": "display_data"
    }
   ],
   "source": [
    "topic_model.visualize_heatmap()"
   ]
  },
  {
   "cell_type": "code",
   "execution_count": 86,
   "metadata": {},
   "outputs": [
    {
     "name": "stderr",
     "output_type": "stream",
     "text": [
      "100%|█████████████████████████████████████████████████████████████████████████████████████████████████████████████████████████████████████████████████████████████| 4/4 [00:00<00:00, 366.80it/s]"
     ]
    },
    {
     "name": "stdout",
     "output_type": "stream",
     "text": [
      ".\n",
      "├─trump_harris_kamala_people_debate\n",
      "│    ├─trump_harris_kamala_people_debate\n",
      "│    │    ├─■──trump_donald_president_joe_poilievre ── Topic: 1\n",
      "│    │    └─■──trump_harris_kamala_people_debate ── Topic: 0\n",
      "│    └─■──eating_dogs_cats_pets_theyre ── Topic: 2\n",
      "└─youtube_watch_gonzalez_lee_young\n",
      "     ├─■──thank_lovvvveee_hahahahaha_deluluuuuuuu_awesome ── Topic: 4\n",
      "     └─■──gonzalez_lee_young_robert_lopez ── Topic: 3\n",
      "\n"
     ]
    },
    {
     "name": "stderr",
     "output_type": "stream",
     "text": [
      "\n"
     ]
    }
   ],
   "source": [
    "hierarchical_topics = topic_model.hierarchical_topics(comments)\n",
    "\n",
    "# Print topic tree\n",
    "tree = topic_model.get_topic_tree(hierarchical_topics)\n",
    "print(tree)"
   ]
  },
  {
   "cell_type": "code",
   "execution_count": 111,
   "metadata": {},
   "outputs": [
    {
     "data": {
      "text/plain": [
       "[\"Harris expressions were all bad acting ..It wasn't what she actually felt . Remember ,this is a national debate with politicians. Harris didn't show any confusion ,panic , nervousness , or stumbling like she usually does because she new all the softball questions before hand .She also knew she wasn't going to be fact check or challenged.. That makes all the difference in the body language . Her body language was scripted with a bunch of B.S.answers just like this this lady and video. This body language expert .smile at the end is showing that she is thinking about all the money she making for praising Harris ,whom she is going to vote for..while knocking Trump What do you expect from FAKE NEWS.... .\",\n",
       " 'Harris for President',\n",
       " 'Vote Harris 👍🇺🇸💙💙💙💙💙🔵🔵🔵']"
      ]
     },
     "execution_count": 111,
     "metadata": {},
     "output_type": "execute_result"
    }
   ],
   "source": [
    "representative_docs = topic_model.get_representative_docs()\n",
    "representative_docs[0]"
   ]
  }
 ],
 "metadata": {
  "kernelspec": {
   "display_name": "Python 3 (ipykernel)",
   "language": "python",
   "name": "python3"
  },
  "language_info": {
   "codemirror_mode": {
    "name": "ipython",
    "version": 3
   },
   "file_extension": ".py",
   "mimetype": "text/x-python",
   "name": "python",
   "nbconvert_exporter": "python",
   "pygments_lexer": "ipython3",
   "version": "3.12.3"
  },
  "vscode": {
   "interpreter": {
    "hash": "b0fa6594d8f4cbf19f97940f81e996739fb7646882a419484c72d19e05852a7e"
   }
  }
 },
 "nbformat": 4,
 "nbformat_minor": 4
}
